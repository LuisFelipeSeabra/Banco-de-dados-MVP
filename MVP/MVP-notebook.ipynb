{
 "cells": [
  {
   "cell_type": "code",
   "execution_count": 0,
   "metadata": {
    "application/vnd.databricks.v1+cell": {
     "cellMetadata": {
      "byteLimit": 2048000,
      "implicitDf": true,
      "rowLimit": 10000
     },
     "inputWidgets": {},
     "nuid": "3a7e5931-1bb7-468b-9eb0-d6b689f38bd0",
     "showTitle": false,
     "title": ""
    }
   },
   "outputs": [
    {
     "output_type": "display_data",
     "data": {
      "text/html": [
       "<style scoped>\n",
       "  .table-result-container {\n",
       "    max-height: 300px;\n",
       "    overflow: auto;\n",
       "  }\n",
       "  table, th, td {\n",
       "    border: 1px solid black;\n",
       "    border-collapse: collapse;\n",
       "  }\n",
       "  th, td {\n",
       "    padding: 5px;\n",
       "  }\n",
       "  th {\n",
       "    text-align: left;\n",
       "  }\n",
       "</style><div class='table-result-container'><table class='table-result'><thead style='background-color: white'><tr></tr></thead><tbody></tbody></table></div>"
      ]
     },
     "metadata": {
      "application/vnd.databricks.v1+output": {
       "addedWidgets": {},
       "aggData": [],
       "aggError": "",
       "aggOverflow": false,
       "aggSchema": [],
       "aggSeriesLimitReached": false,
       "aggType": "",
       "arguments": {},
       "columnCustomDisplayInfos": {},
       "data": [],
       "datasetInfos": [],
       "dbfsResultPath": null,
       "isJsonSchema": true,
       "metadata": {
        "isDbfsCommandResult": false
       },
       "overflow": false,
       "plotOptions": {
        "customPlotOptions": {},
        "displayType": "table",
        "pivotAggregation": null,
        "pivotColumns": null,
        "xColumns": null,
        "yColumns": null
       },
       "removedWidgets": [],
       "schema": [],
       "type": "table"
      }
     },
     "output_type": "display_data"
    }
   ],
   "source": [
    "%sql\n",
    "CREATE DATABASE IF NOT EXISTS MVPTeste;\n"
   ]
  },
  {
   "cell_type": "code",
   "execution_count": 0,
   "metadata": {
    "application/vnd.databricks.v1+cell": {
     "cellMetadata": {
      "byteLimit": 2048000,
      "implicitDf": true,
      "rowLimit": 10000
     },
     "inputWidgets": {},
     "nuid": "a47338bf-2064-4ef8-8fd9-9dea1a31bd1e",
     "showTitle": false,
     "title": ""
    }
   },
   "outputs": [
    {
     "output_type": "display_data",
     "data": {
      "text/html": [
       "<style scoped>\n",
       "  .table-result-container {\n",
       "    max-height: 300px;\n",
       "    overflow: auto;\n",
       "  }\n",
       "  table, th, td {\n",
       "    border: 1px solid black;\n",
       "    border-collapse: collapse;\n",
       "  }\n",
       "  th, td {\n",
       "    padding: 5px;\n",
       "  }\n",
       "  th {\n",
       "    text-align: left;\n",
       "  }\n",
       "</style><div class='table-result-container'><table class='table-result'><thead style='background-color: white'><tr></tr></thead><tbody></tbody></table></div>"
      ]
     },
     "metadata": {
      "application/vnd.databricks.v1+output": {
       "addedWidgets": {},
       "aggData": [],
       "aggError": "",
       "aggOverflow": false,
       "aggSchema": [],
       "aggSeriesLimitReached": false,
       "aggType": "",
       "arguments": {},
       "columnCustomDisplayInfos": {},
       "data": [],
       "datasetInfos": [],
       "dbfsResultPath": null,
       "isJsonSchema": true,
       "metadata": {
        "isDbfsCommandResult": false
       },
       "overflow": false,
       "plotOptions": {
        "customPlotOptions": {},
        "displayType": "table",
        "pivotAggregation": null,
        "pivotColumns": null,
        "xColumns": null,
        "yColumns": null
       },
       "removedWidgets": [],
       "schema": [],
       "type": "table"
      }
     },
     "output_type": "display_data"
    }
   ],
   "source": [
    "%sql\n",
    "use MVPTeste;\n",
    "CREATE TABLE IF NOT EXISTS customers\n",
    "USING csv OPTIONS ('path' '/FileStore/tables/customers.csv','header' 'true','inferSchema' 'true');\n",
    "\n",
    "CREATE TABLE IF NOT EXISTS brands\n",
    "USING csv OPTIONS ('path' '/FileStore/tables/brands.csv','header' 'true','inferSchema' 'true');\n",
    "\n",
    "CREATE TABLE IF NOT EXISTS categories\n",
    "USING csv OPTIONS ('path' '/FileStore/tables/categories.csv','header' 'true','inferSchema' 'true');\n",
    "\n",
    "CREATE TABLE IF NOT EXISTS order_items\n",
    "USING csv OPTIONS ('path' '/FileStore/tables/order_items.csv','header' 'true','inferSchema' 'true');\n",
    "\n",
    "CREATE TABLE IF NOT EXISTS Products\n",
    "USING csv OPTIONS ('path' '/FileStore/tables/products.csv','header' 'true','inferSchema' 'true');\n",
    "\n",
    "CREATE TABLE IF NOT EXISTS orders\n",
    "USING csv OPTIONS ('path' '/FileStore/tables/orders.csv','header' 'true','inferSchema' 'true');\n",
    "\n",
    "CREATE TABLE IF NOT EXISTS staffs\n",
    "USING csv OPTIONS ('path' '/FileStore/tables/staffs.csv','header' 'true','inferSchema' 'true');\n",
    "\n",
    "CREATE TABLE IF NOT EXISTS stocks\n",
    "USING csv OPTIONS ('path' '/FileStore/tables/stocks.csv','header' 'true','inferSchema' 'true');\n",
    "\n",
    "CREATE TABLE IF NOT EXISTS stores\n",
    "USING csv OPTIONS ('path' '/FileStore/tables/stores.csv','header' 'true','inferSchema' 'true');"
   ]
  },
  {
   "cell_type": "code",
   "execution_count": 0,
   "metadata": {
    "application/vnd.databricks.v1+cell": {
     "cellMetadata": {
      "byteLimit": 2048000,
      "rowLimit": 10000
     },
     "inputWidgets": {},
     "nuid": "4be38add-ca2e-4448-b597-39ec1513489c",
     "showTitle": false,
     "title": ""
    }
   },
   "outputs": [
    {
     "output_type": "display_data",
     "data": {
      "text/html": [
       "<style scoped>\n",
       "  .table-result-container {\n",
       "    max-height: 300px;\n",
       "    overflow: auto;\n",
       "  }\n",
       "  table, th, td {\n",
       "    border: 1px solid black;\n",
       "    border-collapse: collapse;\n",
       "  }\n",
       "  th, td {\n",
       "    padding: 5px;\n",
       "  }\n",
       "  th {\n",
       "    text-align: left;\n",
       "  }\n",
       "</style><div class='table-result-container'><table class='table-result'><thead style='background-color: white'><tr><th>database</th><th>tableName</th><th>isTemporary</th></tr></thead><tbody><tr><td>mvpteste</td><td>brands</td><td>false</td></tr><tr><td>mvpteste</td><td>categories</td><td>false</td></tr><tr><td>mvpteste</td><td>customers</td><td>false</td></tr><tr><td>mvpteste</td><td>order_items</td><td>false</td></tr><tr><td>mvpteste</td><td>orders</td><td>false</td></tr><tr><td>mvpteste</td><td>products</td><td>false</td></tr><tr><td>mvpteste</td><td>staffs</td><td>false</td></tr><tr><td>mvpteste</td><td>stocks</td><td>false</td></tr><tr><td>mvpteste</td><td>stores</td><td>false</td></tr></tbody></table></div>"
      ]
     },
     "metadata": {
      "application/vnd.databricks.v1+output": {
       "addedWidgets": {},
       "aggData": [],
       "aggError": "",
       "aggOverflow": false,
       "aggSchema": [],
       "aggSeriesLimitReached": false,
       "aggType": "",
       "arguments": {},
       "columnCustomDisplayInfos": {},
       "data": [
        [
         "mvpteste",
         "brands",
         false
        ],
        [
         "mvpteste",
         "categories",
         false
        ],
        [
         "mvpteste",
         "customers",
         false
        ],
        [
         "mvpteste",
         "order_items",
         false
        ],
        [
         "mvpteste",
         "orders",
         false
        ],
        [
         "mvpteste",
         "products",
         false
        ],
        [
         "mvpteste",
         "staffs",
         false
        ],
        [
         "mvpteste",
         "stocks",
         false
        ],
        [
         "mvpteste",
         "stores",
         false
        ]
       ],
       "datasetInfos": [],
       "dbfsResultPath": null,
       "isJsonSchema": true,
       "metadata": {
        "isDbfsCommandResult": false
       },
       "overflow": false,
       "plotOptions": {
        "customPlotOptions": {},
        "displayType": "table",
        "pivotAggregation": null,
        "pivotColumns": null,
        "xColumns": null,
        "yColumns": null
       },
       "removedWidgets": [],
       "schema": [
        {
         "metadata": "{}",
         "name": "database",
         "type": "\"string\""
        },
        {
         "metadata": "{}",
         "name": "tableName",
         "type": "\"string\""
        },
        {
         "metadata": "{}",
         "name": "isTemporary",
         "type": "\"boolean\""
        }
       ],
       "type": "table"
      }
     },
     "output_type": "display_data"
    }
   ],
   "source": [
    "%sql\n",
    "-- Verificar tabelas do database\n",
    "%sql\n",
    "SHOW TABLES "
   ]
  },
  {
   "cell_type": "code",
   "execution_count": 0,
   "metadata": {
    "application/vnd.databricks.v1+cell": {
     "cellMetadata": {
      "byteLimit": 2048000,
      "rowLimit": 10000
     },
     "inputWidgets": {},
     "nuid": "ba542f86-6212-418b-9d96-bd6efac2456f",
     "showTitle": false,
     "title": ""
    }
   },
   "outputs": [
    {
     "output_type": "display_data",
     "data": {
      "text/html": [
       "<style scoped>\n",
       "  .table-result-container {\n",
       "    max-height: 300px;\n",
       "    overflow: auto;\n",
       "  }\n",
       "  table, th, td {\n",
       "    border: 1px solid black;\n",
       "    border-collapse: collapse;\n",
       "  }\n",
       "  th, td {\n",
       "    padding: 5px;\n",
       "  }\n",
       "  th {\n",
       "    text-align: left;\n",
       "  }\n",
       "</style><div class='table-result-container'><table class='table-result'><thead style='background-color: white'><tr><th>col_name</th><th>data_type</th><th>comment</th></tr></thead><tbody><tr><td>customer_id</td><td>int</td><td>null</td></tr><tr><td>first_name</td><td>string</td><td>null</td></tr><tr><td>last_name</td><td>string</td><td>null</td></tr><tr><td>phone</td><td>string</td><td>null</td></tr><tr><td>email</td><td>string</td><td>null</td></tr><tr><td>street</td><td>string</td><td>null</td></tr><tr><td>city</td><td>string</td><td>null</td></tr><tr><td>state</td><td>string</td><td>null</td></tr><tr><td>zip_code</td><td>int</td><td>null</td></tr></tbody></table></div>"
      ]
     },
     "metadata": {
      "application/vnd.databricks.v1+output": {
       "addedWidgets": {},
       "aggData": [],
       "aggError": "",
       "aggOverflow": false,
       "aggSchema": [],
       "aggSeriesLimitReached": false,
       "aggType": "",
       "arguments": {},
       "columnCustomDisplayInfos": {},
       "data": [
        [
         "customer_id",
         "int",
         null
        ],
        [
         "first_name",
         "string",
         null
        ],
        [
         "last_name",
         "string",
         null
        ],
        [
         "phone",
         "string",
         null
        ],
        [
         "email",
         "string",
         null
        ],
        [
         "street",
         "string",
         null
        ],
        [
         "city",
         "string",
         null
        ],
        [
         "state",
         "string",
         null
        ],
        [
         "zip_code",
         "int",
         null
        ]
       ],
       "datasetInfos": [],
       "dbfsResultPath": null,
       "isJsonSchema": true,
       "metadata": {
        "isDbfsCommandResult": false
       },
       "overflow": false,
       "plotOptions": {
        "customPlotOptions": {},
        "displayType": "table",
        "pivotAggregation": null,
        "pivotColumns": null,
        "xColumns": null,
        "yColumns": null
       },
       "removedWidgets": [],
       "schema": [
        {
         "metadata": "{\"comment\":\"name of the column\"}",
         "name": "col_name",
         "type": "\"string\""
        },
        {
         "metadata": "{\"comment\":\"data type of the column\"}",
         "name": "data_type",
         "type": "\"string\""
        },
        {
         "metadata": "{\"comment\":\"comment of the column\"}",
         "name": "comment",
         "type": "\"string\""
        }
       ],
       "type": "table"
      }
     },
     "output_type": "display_data"
    }
   ],
   "source": [
    "%sql\n",
    "DESCRIBE customers"
   ]
  },
  {
   "cell_type": "code",
   "execution_count": 0,
   "metadata": {
    "application/vnd.databricks.v1+cell": {
     "cellMetadata": {
      "byteLimit": 2048000,
      "rowLimit": 10000
     },
     "inputWidgets": {},
     "nuid": "34073e91-8c74-4b98-97c8-4eb4d72497dc",
     "showTitle": false,
     "title": ""
    }
   },
   "outputs": [
    {
     "output_type": "display_data",
     "data": {
      "text/html": [
       "<style scoped>\n",
       "  .table-result-container {\n",
       "    max-height: 300px;\n",
       "    overflow: auto;\n",
       "  }\n",
       "  table, th, td {\n",
       "    border: 1px solid black;\n",
       "    border-collapse: collapse;\n",
       "  }\n",
       "  th, td {\n",
       "    padding: 5px;\n",
       "  }\n",
       "  th {\n",
       "    text-align: left;\n",
       "  }\n",
       "</style><div class='table-result-container'><table class='table-result'><thead style='background-color: white'><tr><th>col_name</th><th>data_type</th><th>comment</th></tr></thead><tbody><tr><td>brand_id</td><td>int</td><td>null</td></tr><tr><td>brand_name</td><td>string</td><td>null</td></tr></tbody></table></div>"
      ]
     },
     "metadata": {
      "application/vnd.databricks.v1+output": {
       "addedWidgets": {},
       "aggData": [],
       "aggError": "",
       "aggOverflow": false,
       "aggSchema": [],
       "aggSeriesLimitReached": false,
       "aggType": "",
       "arguments": {},
       "columnCustomDisplayInfos": {},
       "data": [
        [
         "brand_id",
         "int",
         null
        ],
        [
         "brand_name",
         "string",
         null
        ]
       ],
       "datasetInfos": [],
       "dbfsResultPath": null,
       "isJsonSchema": true,
       "metadata": {
        "isDbfsCommandResult": false
       },
       "overflow": false,
       "plotOptions": {
        "customPlotOptions": {},
        "displayType": "table",
        "pivotAggregation": null,
        "pivotColumns": null,
        "xColumns": null,
        "yColumns": null
       },
       "removedWidgets": [],
       "schema": [
        {
         "metadata": "{\"comment\":\"name of the column\"}",
         "name": "col_name",
         "type": "\"string\""
        },
        {
         "metadata": "{\"comment\":\"data type of the column\"}",
         "name": "data_type",
         "type": "\"string\""
        },
        {
         "metadata": "{\"comment\":\"comment of the column\"}",
         "name": "comment",
         "type": "\"string\""
        }
       ],
       "type": "table"
      }
     },
     "output_type": "display_data"
    }
   ],
   "source": [
    "%sql\n",
    "DESCRIBE brands"
   ]
  },
  {
   "cell_type": "code",
   "execution_count": 0,
   "metadata": {
    "application/vnd.databricks.v1+cell": {
     "cellMetadata": {
      "byteLimit": 2048000,
      "rowLimit": 10000
     },
     "inputWidgets": {},
     "nuid": "4a120fc0-4c07-4253-b126-528823076987",
     "showTitle": false,
     "title": ""
    }
   },
   "outputs": [
    {
     "output_type": "display_data",
     "data": {
      "text/html": [
       "<style scoped>\n",
       "  .table-result-container {\n",
       "    max-height: 300px;\n",
       "    overflow: auto;\n",
       "  }\n",
       "  table, th, td {\n",
       "    border: 1px solid black;\n",
       "    border-collapse: collapse;\n",
       "  }\n",
       "  th, td {\n",
       "    padding: 5px;\n",
       "  }\n",
       "  th {\n",
       "    text-align: left;\n",
       "  }\n",
       "</style><div class='table-result-container'><table class='table-result'><thead style='background-color: white'><tr><th>col_name</th><th>data_type</th><th>comment</th></tr></thead><tbody><tr><td>category_id</td><td>int</td><td>null</td></tr><tr><td>category_name</td><td>string</td><td>null</td></tr></tbody></table></div>"
      ]
     },
     "metadata": {
      "application/vnd.databricks.v1+output": {
       "addedWidgets": {},
       "aggData": [],
       "aggError": "",
       "aggOverflow": false,
       "aggSchema": [],
       "aggSeriesLimitReached": false,
       "aggType": "",
       "arguments": {},
       "columnCustomDisplayInfos": {},
       "data": [
        [
         "category_id",
         "int",
         null
        ],
        [
         "category_name",
         "string",
         null
        ]
       ],
       "datasetInfos": [],
       "dbfsResultPath": null,
       "isJsonSchema": true,
       "metadata": {
        "isDbfsCommandResult": false
       },
       "overflow": false,
       "plotOptions": {
        "customPlotOptions": {},
        "displayType": "table",
        "pivotAggregation": null,
        "pivotColumns": null,
        "xColumns": null,
        "yColumns": null
       },
       "removedWidgets": [],
       "schema": [
        {
         "metadata": "{\"comment\":\"name of the column\"}",
         "name": "col_name",
         "type": "\"string\""
        },
        {
         "metadata": "{\"comment\":\"data type of the column\"}",
         "name": "data_type",
         "type": "\"string\""
        },
        {
         "metadata": "{\"comment\":\"comment of the column\"}",
         "name": "comment",
         "type": "\"string\""
        }
       ],
       "type": "table"
      }
     },
     "output_type": "display_data"
    }
   ],
   "source": [
    "%sql\n",
    "DESCRIBE categories"
   ]
  },
  {
   "cell_type": "code",
   "execution_count": 0,
   "metadata": {
    "application/vnd.databricks.v1+cell": {
     "cellMetadata": {
      "byteLimit": 2048000,
      "rowLimit": 10000
     },
     "inputWidgets": {},
     "nuid": "27d808cc-088b-430f-8045-07d61e4cc4ab",
     "showTitle": false,
     "title": ""
    }
   },
   "outputs": [
    {
     "output_type": "display_data",
     "data": {
      "text/html": [
       "<style scoped>\n",
       "  .table-result-container {\n",
       "    max-height: 300px;\n",
       "    overflow: auto;\n",
       "  }\n",
       "  table, th, td {\n",
       "    border: 1px solid black;\n",
       "    border-collapse: collapse;\n",
       "  }\n",
       "  th, td {\n",
       "    padding: 5px;\n",
       "  }\n",
       "  th {\n",
       "    text-align: left;\n",
       "  }\n",
       "</style><div class='table-result-container'><table class='table-result'><thead style='background-color: white'><tr><th>col_name</th><th>data_type</th><th>comment</th></tr></thead><tbody><tr><td>order_id</td><td>int</td><td>null</td></tr><tr><td>item_id</td><td>int</td><td>null</td></tr><tr><td>product_id</td><td>int</td><td>null</td></tr><tr><td>quantity</td><td>int</td><td>null</td></tr><tr><td>list_price</td><td>double</td><td>null</td></tr><tr><td>discount</td><td>double</td><td>null</td></tr></tbody></table></div>"
      ]
     },
     "metadata": {
      "application/vnd.databricks.v1+output": {
       "addedWidgets": {},
       "aggData": [],
       "aggError": "",
       "aggOverflow": false,
       "aggSchema": [],
       "aggSeriesLimitReached": false,
       "aggType": "",
       "arguments": {},
       "columnCustomDisplayInfos": {},
       "data": [
        [
         "order_id",
         "int",
         null
        ],
        [
         "item_id",
         "int",
         null
        ],
        [
         "product_id",
         "int",
         null
        ],
        [
         "quantity",
         "int",
         null
        ],
        [
         "list_price",
         "double",
         null
        ],
        [
         "discount",
         "double",
         null
        ]
       ],
       "datasetInfos": [],
       "dbfsResultPath": null,
       "isJsonSchema": true,
       "metadata": {
        "isDbfsCommandResult": false
       },
       "overflow": false,
       "plotOptions": {
        "customPlotOptions": {},
        "displayType": "table",
        "pivotAggregation": null,
        "pivotColumns": null,
        "xColumns": null,
        "yColumns": null
       },
       "removedWidgets": [],
       "schema": [
        {
         "metadata": "{\"comment\":\"name of the column\"}",
         "name": "col_name",
         "type": "\"string\""
        },
        {
         "metadata": "{\"comment\":\"data type of the column\"}",
         "name": "data_type",
         "type": "\"string\""
        },
        {
         "metadata": "{\"comment\":\"comment of the column\"}",
         "name": "comment",
         "type": "\"string\""
        }
       ],
       "type": "table"
      }
     },
     "output_type": "display_data"
    }
   ],
   "source": [
    "%sql\n",
    "DESCRIBE order_items"
   ]
  },
  {
   "cell_type": "code",
   "execution_count": 0,
   "metadata": {
    "application/vnd.databricks.v1+cell": {
     "cellMetadata": {
      "byteLimit": 2048000,
      "rowLimit": 10000
     },
     "inputWidgets": {},
     "nuid": "7d3cd38f-94c4-4d63-be8f-bc9900a21955",
     "showTitle": false,
     "title": ""
    }
   },
   "outputs": [
    {
     "output_type": "display_data",
     "data": {
      "text/html": [
       "<style scoped>\n",
       "  .table-result-container {\n",
       "    max-height: 300px;\n",
       "    overflow: auto;\n",
       "  }\n",
       "  table, th, td {\n",
       "    border: 1px solid black;\n",
       "    border-collapse: collapse;\n",
       "  }\n",
       "  th, td {\n",
       "    padding: 5px;\n",
       "  }\n",
       "  th {\n",
       "    text-align: left;\n",
       "  }\n",
       "</style><div class='table-result-container'><table class='table-result'><thead style='background-color: white'><tr><th>col_name</th><th>data_type</th><th>comment</th></tr></thead><tbody><tr><td>product_id</td><td>int</td><td>null</td></tr><tr><td>product_name</td><td>string</td><td>null</td></tr><tr><td>brand_id</td><td>int</td><td>null</td></tr><tr><td>category_id</td><td>int</td><td>null</td></tr><tr><td>model_year</td><td>int</td><td>null</td></tr><tr><td>list_price</td><td>double</td><td>null</td></tr></tbody></table></div>"
      ]
     },
     "metadata": {
      "application/vnd.databricks.v1+output": {
       "addedWidgets": {},
       "aggData": [],
       "aggError": "",
       "aggOverflow": false,
       "aggSchema": [],
       "aggSeriesLimitReached": false,
       "aggType": "",
       "arguments": {},
       "columnCustomDisplayInfos": {},
       "data": [
        [
         "product_id",
         "int",
         null
        ],
        [
         "product_name",
         "string",
         null
        ],
        [
         "brand_id",
         "int",
         null
        ],
        [
         "category_id",
         "int",
         null
        ],
        [
         "model_year",
         "int",
         null
        ],
        [
         "list_price",
         "double",
         null
        ]
       ],
       "datasetInfos": [],
       "dbfsResultPath": null,
       "isJsonSchema": true,
       "metadata": {
        "isDbfsCommandResult": false
       },
       "overflow": false,
       "plotOptions": {
        "customPlotOptions": {},
        "displayType": "table",
        "pivotAggregation": null,
        "pivotColumns": null,
        "xColumns": null,
        "yColumns": null
       },
       "removedWidgets": [],
       "schema": [
        {
         "metadata": "{\"comment\":\"name of the column\"}",
         "name": "col_name",
         "type": "\"string\""
        },
        {
         "metadata": "{\"comment\":\"data type of the column\"}",
         "name": "data_type",
         "type": "\"string\""
        },
        {
         "metadata": "{\"comment\":\"comment of the column\"}",
         "name": "comment",
         "type": "\"string\""
        }
       ],
       "type": "table"
      }
     },
     "output_type": "display_data"
    }
   ],
   "source": [
    "%sql\n",
    "DESCRIBE Products"
   ]
  },
  {
   "cell_type": "code",
   "execution_count": 0,
   "metadata": {
    "application/vnd.databricks.v1+cell": {
     "cellMetadata": {
      "byteLimit": 2048000,
      "rowLimit": 10000
     },
     "inputWidgets": {},
     "nuid": "b289ff18-8709-4024-aa5f-56a14b65ef85",
     "showTitle": false,
     "title": ""
    }
   },
   "outputs": [
    {
     "output_type": "display_data",
     "data": {
      "text/html": [
       "<style scoped>\n",
       "  .table-result-container {\n",
       "    max-height: 300px;\n",
       "    overflow: auto;\n",
       "  }\n",
       "  table, th, td {\n",
       "    border: 1px solid black;\n",
       "    border-collapse: collapse;\n",
       "  }\n",
       "  th, td {\n",
       "    padding: 5px;\n",
       "  }\n",
       "  th {\n",
       "    text-align: left;\n",
       "  }\n",
       "</style><div class='table-result-container'><table class='table-result'><thead style='background-color: white'><tr><th>col_name</th><th>data_type</th><th>comment</th></tr></thead><tbody><tr><td>order_id</td><td>int</td><td>null</td></tr><tr><td>customer_id</td><td>int</td><td>null</td></tr><tr><td>order_status</td><td>int</td><td>null</td></tr><tr><td>order_date</td><td>date</td><td>null</td></tr><tr><td>required_date</td><td>date</td><td>null</td></tr><tr><td>shipped_date</td><td>string</td><td>null</td></tr><tr><td>store_id</td><td>int</td><td>null</td></tr><tr><td>staff_id</td><td>int</td><td>null</td></tr></tbody></table></div>"
      ]
     },
     "metadata": {
      "application/vnd.databricks.v1+output": {
       "addedWidgets": {},
       "aggData": [],
       "aggError": "",
       "aggOverflow": false,
       "aggSchema": [],
       "aggSeriesLimitReached": false,
       "aggType": "",
       "arguments": {},
       "columnCustomDisplayInfos": {},
       "data": [
        [
         "order_id",
         "int",
         null
        ],
        [
         "customer_id",
         "int",
         null
        ],
        [
         "order_status",
         "int",
         null
        ],
        [
         "order_date",
         "date",
         null
        ],
        [
         "required_date",
         "date",
         null
        ],
        [
         "shipped_date",
         "string",
         null
        ],
        [
         "store_id",
         "int",
         null
        ],
        [
         "staff_id",
         "int",
         null
        ]
       ],
       "datasetInfos": [],
       "dbfsResultPath": null,
       "isJsonSchema": true,
       "metadata": {
        "isDbfsCommandResult": false
       },
       "overflow": false,
       "plotOptions": {
        "customPlotOptions": {},
        "displayType": "table",
        "pivotAggregation": null,
        "pivotColumns": null,
        "xColumns": null,
        "yColumns": null
       },
       "removedWidgets": [],
       "schema": [
        {
         "metadata": "{\"comment\":\"name of the column\"}",
         "name": "col_name",
         "type": "\"string\""
        },
        {
         "metadata": "{\"comment\":\"data type of the column\"}",
         "name": "data_type",
         "type": "\"string\""
        },
        {
         "metadata": "{\"comment\":\"comment of the column\"}",
         "name": "comment",
         "type": "\"string\""
        }
       ],
       "type": "table"
      }
     },
     "output_type": "display_data"
    }
   ],
   "source": [
    "%sql\n",
    "DESCRIBE orders"
   ]
  },
  {
   "cell_type": "code",
   "execution_count": 0,
   "metadata": {
    "application/vnd.databricks.v1+cell": {
     "cellMetadata": {
      "byteLimit": 2048000,
      "rowLimit": 10000
     },
     "inputWidgets": {},
     "nuid": "700e67c7-4662-4ee1-bb39-06bbbeb93277",
     "showTitle": false,
     "title": ""
    }
   },
   "outputs": [
    {
     "output_type": "display_data",
     "data": {
      "text/html": [
       "<style scoped>\n",
       "  .table-result-container {\n",
       "    max-height: 300px;\n",
       "    overflow: auto;\n",
       "  }\n",
       "  table, th, td {\n",
       "    border: 1px solid black;\n",
       "    border-collapse: collapse;\n",
       "  }\n",
       "  th, td {\n",
       "    padding: 5px;\n",
       "  }\n",
       "  th {\n",
       "    text-align: left;\n",
       "  }\n",
       "</style><div class='table-result-container'><table class='table-result'><thead style='background-color: white'><tr><th>col_name</th><th>data_type</th><th>comment</th></tr></thead><tbody><tr><td>staff_id</td><td>int</td><td>null</td></tr><tr><td>first_name</td><td>string</td><td>null</td></tr><tr><td>last_name</td><td>string</td><td>null</td></tr><tr><td>email</td><td>string</td><td>null</td></tr><tr><td>phone</td><td>string</td><td>null</td></tr><tr><td>active</td><td>int</td><td>null</td></tr><tr><td>store_id</td><td>int</td><td>null</td></tr><tr><td>manager_id</td><td>string</td><td>null</td></tr></tbody></table></div>"
      ]
     },
     "metadata": {
      "application/vnd.databricks.v1+output": {
       "addedWidgets": {},
       "aggData": [],
       "aggError": "",
       "aggOverflow": false,
       "aggSchema": [],
       "aggSeriesLimitReached": false,
       "aggType": "",
       "arguments": {},
       "columnCustomDisplayInfos": {},
       "data": [
        [
         "staff_id",
         "int",
         null
        ],
        [
         "first_name",
         "string",
         null
        ],
        [
         "last_name",
         "string",
         null
        ],
        [
         "email",
         "string",
         null
        ],
        [
         "phone",
         "string",
         null
        ],
        [
         "active",
         "int",
         null
        ],
        [
         "store_id",
         "int",
         null
        ],
        [
         "manager_id",
         "string",
         null
        ]
       ],
       "datasetInfos": [],
       "dbfsResultPath": null,
       "isJsonSchema": true,
       "metadata": {
        "isDbfsCommandResult": false
       },
       "overflow": false,
       "plotOptions": {
        "customPlotOptions": {},
        "displayType": "table",
        "pivotAggregation": null,
        "pivotColumns": null,
        "xColumns": null,
        "yColumns": null
       },
       "removedWidgets": [],
       "schema": [
        {
         "metadata": "{\"comment\":\"name of the column\"}",
         "name": "col_name",
         "type": "\"string\""
        },
        {
         "metadata": "{\"comment\":\"data type of the column\"}",
         "name": "data_type",
         "type": "\"string\""
        },
        {
         "metadata": "{\"comment\":\"comment of the column\"}",
         "name": "comment",
         "type": "\"string\""
        }
       ],
       "type": "table"
      }
     },
     "output_type": "display_data"
    }
   ],
   "source": [
    "%sql\n",
    "DESCRIBE staffs"
   ]
  },
  {
   "cell_type": "code",
   "execution_count": 0,
   "metadata": {
    "application/vnd.databricks.v1+cell": {
     "cellMetadata": {
      "byteLimit": 2048000,
      "rowLimit": 10000
     },
     "inputWidgets": {},
     "nuid": "347f0642-bdb4-471e-b068-d634667109a3",
     "showTitle": false,
     "title": ""
    }
   },
   "outputs": [
    {
     "output_type": "display_data",
     "data": {
      "text/html": [
       "<style scoped>\n",
       "  .table-result-container {\n",
       "    max-height: 300px;\n",
       "    overflow: auto;\n",
       "  }\n",
       "  table, th, td {\n",
       "    border: 1px solid black;\n",
       "    border-collapse: collapse;\n",
       "  }\n",
       "  th, td {\n",
       "    padding: 5px;\n",
       "  }\n",
       "  th {\n",
       "    text-align: left;\n",
       "  }\n",
       "</style><div class='table-result-container'><table class='table-result'><thead style='background-color: white'><tr><th>col_name</th><th>data_type</th><th>comment</th></tr></thead><tbody><tr><td>store_id</td><td>int</td><td>null</td></tr><tr><td>product_id</td><td>int</td><td>null</td></tr><tr><td>quantity</td><td>int</td><td>null</td></tr></tbody></table></div>"
      ]
     },
     "metadata": {
      "application/vnd.databricks.v1+output": {
       "addedWidgets": {},
       "aggData": [],
       "aggError": "",
       "aggOverflow": false,
       "aggSchema": [],
       "aggSeriesLimitReached": false,
       "aggType": "",
       "arguments": {},
       "columnCustomDisplayInfos": {},
       "data": [
        [
         "store_id",
         "int",
         null
        ],
        [
         "product_id",
         "int",
         null
        ],
        [
         "quantity",
         "int",
         null
        ]
       ],
       "datasetInfos": [],
       "dbfsResultPath": null,
       "isJsonSchema": true,
       "metadata": {
        "isDbfsCommandResult": false
       },
       "overflow": false,
       "plotOptions": {
        "customPlotOptions": {},
        "displayType": "table",
        "pivotAggregation": null,
        "pivotColumns": null,
        "xColumns": null,
        "yColumns": null
       },
       "removedWidgets": [],
       "schema": [
        {
         "metadata": "{\"comment\":\"name of the column\"}",
         "name": "col_name",
         "type": "\"string\""
        },
        {
         "metadata": "{\"comment\":\"data type of the column\"}",
         "name": "data_type",
         "type": "\"string\""
        },
        {
         "metadata": "{\"comment\":\"comment of the column\"}",
         "name": "comment",
         "type": "\"string\""
        }
       ],
       "type": "table"
      }
     },
     "output_type": "display_data"
    }
   ],
   "source": [
    "%sql\n",
    "DESCRIBE stocks"
   ]
  },
  {
   "cell_type": "code",
   "execution_count": 0,
   "metadata": {
    "application/vnd.databricks.v1+cell": {
     "cellMetadata": {
      "byteLimit": 2048000,
      "rowLimit": 10000
     },
     "inputWidgets": {},
     "nuid": "76aa6a0c-dca5-4770-b683-8ea84ea8b2a6",
     "showTitle": false,
     "title": ""
    }
   },
   "outputs": [
    {
     "output_type": "display_data",
     "data": {
      "text/html": [
       "<style scoped>\n",
       "  .table-result-container {\n",
       "    max-height: 300px;\n",
       "    overflow: auto;\n",
       "  }\n",
       "  table, th, td {\n",
       "    border: 1px solid black;\n",
       "    border-collapse: collapse;\n",
       "  }\n",
       "  th, td {\n",
       "    padding: 5px;\n",
       "  }\n",
       "  th {\n",
       "    text-align: left;\n",
       "  }\n",
       "</style><div class='table-result-container'><table class='table-result'><thead style='background-color: white'><tr><th>col_name</th><th>data_type</th><th>comment</th></tr></thead><tbody><tr><td>store_id</td><td>int</td><td>null</td></tr><tr><td>store_name</td><td>string</td><td>null</td></tr><tr><td>phone</td><td>string</td><td>null</td></tr><tr><td>email</td><td>string</td><td>null</td></tr><tr><td>street</td><td>string</td><td>null</td></tr><tr><td>city</td><td>string</td><td>null</td></tr><tr><td>state</td><td>string</td><td>null</td></tr><tr><td>zip_code</td><td>int</td><td>null</td></tr></tbody></table></div>"
      ]
     },
     "metadata": {
      "application/vnd.databricks.v1+output": {
       "addedWidgets": {},
       "aggData": [],
       "aggError": "",
       "aggOverflow": false,
       "aggSchema": [],
       "aggSeriesLimitReached": false,
       "aggType": "",
       "arguments": {},
       "columnCustomDisplayInfos": {},
       "data": [
        [
         "store_id",
         "int",
         null
        ],
        [
         "store_name",
         "string",
         null
        ],
        [
         "phone",
         "string",
         null
        ],
        [
         "email",
         "string",
         null
        ],
        [
         "street",
         "string",
         null
        ],
        [
         "city",
         "string",
         null
        ],
        [
         "state",
         "string",
         null
        ],
        [
         "zip_code",
         "int",
         null
        ]
       ],
       "datasetInfos": [],
       "dbfsResultPath": null,
       "isJsonSchema": true,
       "metadata": {
        "isDbfsCommandResult": false
       },
       "overflow": false,
       "plotOptions": {
        "customPlotOptions": {},
        "displayType": "table",
        "pivotAggregation": null,
        "pivotColumns": null,
        "xColumns": null,
        "yColumns": null
       },
       "removedWidgets": [],
       "schema": [
        {
         "metadata": "{\"comment\":\"name of the column\"}",
         "name": "col_name",
         "type": "\"string\""
        },
        {
         "metadata": "{\"comment\":\"data type of the column\"}",
         "name": "data_type",
         "type": "\"string\""
        },
        {
         "metadata": "{\"comment\":\"comment of the column\"}",
         "name": "comment",
         "type": "\"string\""
        }
       ],
       "type": "table"
      }
     },
     "output_type": "display_data"
    }
   ],
   "source": [
    "%sql\n",
    "DESCRIBE stores"
   ]
  },
  {
   "cell_type": "code",
   "execution_count": 0,
   "metadata": {
    "application/vnd.databricks.v1+cell": {
     "cellMetadata": {
      "byteLimit": 2048000,
      "rowLimit": 10000
     },
     "inputWidgets": {},
     "nuid": "aea82b35-1c2e-44e2-83d2-110ba126cfd0",
     "showTitle": false,
     "title": ""
    }
   },
   "outputs": [
    {
     "output_type": "display_data",
     "data": {
      "text/html": [
       "<style scoped>\n",
       "  .table-result-container {\n",
       "    max-height: 300px;\n",
       "    overflow: auto;\n",
       "  }\n",
       "  table, th, td {\n",
       "    border: 1px solid black;\n",
       "    border-collapse: collapse;\n",
       "  }\n",
       "  th, td {\n",
       "    padding: 5px;\n",
       "  }\n",
       "  th {\n",
       "    text-align: left;\n",
       "  }\n",
       "</style><div class='table-result-container'><table class='table-result'><thead style='background-color: white'><tr><th>first_name</th><th>total</th><th>null_values</th></tr></thead><tbody><tr><td>Merlene</td><td>1</td><td>0</td></tr><tr><td>Kiana</td><td>1</td><td>0</td></tr><tr><td>Leola</td><td>1</td><td>0</td></tr><tr><td>Eliz</td><td>2</td><td>0</td></tr><tr><td>Laurence</td><td>1</td><td>0</td></tr><tr><td>Julianne</td><td>1</td><td>0</td></tr><tr><td>Angelina</td><td>1</td><td>0</td></tr><tr><td>Myesha</td><td>1</td><td>0</td></tr><tr><td>Rod</td><td>1</td><td>0</td></tr><tr><td>Aubrey</td><td>1</td><td>0</td></tr><tr><td>Emmitt</td><td>1</td><td>0</td></tr><tr><td>Damien</td><td>1</td><td>0</td></tr><tr><td>Laraine</td><td>1</td><td>0</td></tr><tr><td>Jeanett</td><td>1</td><td>0</td></tr><tr><td>Dori</td><td>1</td><td>0</td></tr><tr><td>Porter</td><td>1</td><td>0</td></tr><tr><td>Pandora</td><td>1</td><td>0</td></tr><tr><td>Bong</td><td>1</td><td>0</td></tr><tr><td>Hope</td><td>1</td><td>0</td></tr><tr><td>Mathilda</td><td>1</td><td>0</td></tr><tr><td>Lavonda</td><td>1</td><td>0</td></tr><tr><td>Kristy</td><td>1</td><td>0</td></tr><tr><td>Elvia</td><td>1</td><td>0</td></tr><tr><td>Junita</td><td>1</td><td>0</td></tr><tr><td>Chantell</td><td>1</td><td>0</td></tr><tr><td>Carman</td><td>1</td><td>0</td></tr><tr><td>Lurlene</td><td>2</td><td>0</td></tr><tr><td>Chi</td><td>1</td><td>0</td></tr><tr><td>Shena</td><td>1</td><td>0</td></tr><tr><td>Marni</td><td>1</td><td>0</td></tr><tr><td>Cassondra</td><td>1</td><td>0</td></tr><tr><td>Kaci</td><td>1</td><td>0</td></tr><tr><td>Charleen</td><td>2</td><td>0</td></tr><tr><td>Grace</td><td>1</td><td>0</td></tr><tr><td>Lucas</td><td>1</td><td>0</td></tr><tr><td>Daphine</td><td>1</td><td>0</td></tr><tr><td>Mercy</td><td>1</td><td>0</td></tr><tr><td>Nanette</td><td>2</td><td>0</td></tr><tr><td>Jina</td><td>1</td><td>0</td></tr><tr><td>Nicki</td><td>2</td><td>0</td></tr><tr><td>Lucilla</td><td>1</td><td>0</td></tr><tr><td>Katina</td><td>1</td><td>0</td></tr><tr><td>Almeta</td><td>1</td><td>0</td></tr><tr><td>Bronwyn</td><td>1</td><td>0</td></tr><tr><td>Kate</td><td>1</td><td>0</td></tr><tr><td>Boyd</td><td>1</td><td>0</td></tr><tr><td>Sherita</td><td>1</td><td>0</td></tr><tr><td>Wm</td><td>1</td><td>0</td></tr><tr><td>Frederica</td><td>1</td><td>0</td></tr><tr><td>Elma</td><td>1</td><td>0</td></tr><tr><td>Santos</td><td>1</td><td>0</td></tr><tr><td>Randee</td><td>2</td><td>0</td></tr><tr><td>Steve</td><td>1</td><td>0</td></tr><tr><td>Adena</td><td>1</td><td>0</td></tr><tr><td>Ping</td><td>1</td><td>0</td></tr><tr><td>Wendie</td><td>1</td><td>0</td></tr><tr><td>Josh</td><td>1</td><td>0</td></tr><tr><td>Angie</td><td>1</td><td>0</td></tr><tr><td>Terra</td><td>1</td><td>0</td></tr><tr><td>Letty</td><td>1</td><td>0</td></tr><tr><td>Lanelle</td><td>1</td><td>0</td></tr><tr><td>Patria</td><td>1</td><td>0</td></tr><tr><td>Beatris</td><td>1</td><td>0</td></tr><tr><td>Jerald</td><td>1</td><td>0</td></tr><tr><td>Dane</td><td>1</td><td>0</td></tr><tr><td>Kallie</td><td>1</td><td>0</td></tr><tr><td>Vernetta</td><td>1</td><td>0</td></tr><tr><td>Jaqueline</td><td>1</td><td>0</td></tr><tr><td>Loan</td><td>1</td><td>0</td></tr><tr><td>Mikel</td><td>1</td><td>0</td></tr><tr><td>Zona</td><td>1</td><td>0</td></tr><tr><td>Walton</td><td>1</td><td>0</td></tr><tr><td>Natosha</td><td>1</td><td>0</td></tr><tr><td>Shaunda</td><td>1</td><td>0</td></tr><tr><td>Elouise</td><td>1</td><td>0</td></tr><tr><td>Dannette</td><td>1</td><td>0</td></tr><tr><td>Oliva</td><td>1</td><td>0</td></tr><tr><td>Maira</td><td>1</td><td>0</td></tr><tr><td>Louise</td><td>1</td><td>0</td></tr><tr><td>Cheryll</td><td>1</td><td>0</td></tr><tr><td>Le</td><td>2</td><td>0</td></tr><tr><td>Fransisca</td><td>1</td><td>0</td></tr><tr><td>Mary</td><td>1</td><td>0</td></tr><tr><td>Clarita</td><td>1</td><td>0</td></tr><tr><td>Dorothea</td><td>2</td><td>0</td></tr><tr><td>Corrina</td><td>1</td><td>0</td></tr><tr><td>Everett</td><td>1</td><td>0</td></tr><tr><td>Yvette</td><td>1</td><td>0</td></tr><tr><td>James</td><td>1</td><td>0</td></tr><tr><td>Ocie</td><td>1</td><td>0</td></tr><tr><td>Penny</td><td>1</td><td>0</td></tr><tr><td>Burma</td><td>1</td><td>0</td></tr><tr><td>Ernestina</td><td>1</td><td>0</td></tr><tr><td>Josephine</td><td>1</td><td>0</td></tr><tr><td>Samual</td><td>1</td><td>0</td></tr><tr><td>Marjory</td><td>1</td><td>0</td></tr><tr><td>Bao</td><td>1</td><td>0</td></tr><tr><td>Bea</td><td>1</td><td>0</td></tr><tr><td>Yan</td><td>2</td><td>0</td></tr><tr><td>Erlinda</td><td>3</td><td>0</td></tr><tr><td>Joi</td><td>1</td><td>0</td></tr><tr><td>Norine</td><td>1</td><td>0</td></tr><tr><td>Jenell</td><td>1</td><td>0</td></tr><tr><td>Sanora</td><td>1</td><td>0</td></tr><tr><td>Danielle</td><td>1</td><td>0</td></tr><tr><td>Jennie</td><td>1</td><td>0</td></tr><tr><td>Loni</td><td>2</td><td>0</td></tr><tr><td>Camille</td><td>1</td><td>0</td></tr><tr><td>Roseanne</td><td>1</td><td>0</td></tr><tr><td>Daryl</td><td>1</td><td>0</td></tr><tr><td>Latonya</td><td>1</td><td>0</td></tr><tr><td>Clare</td><td>1</td><td>0</td></tr><tr><td>Leigh</td><td>1</td><td>0</td></tr><tr><td>Luz</td><td>1</td><td>0</td></tr><tr><td>Ami</td><td>1</td><td>0</td></tr><tr><td>Gertrude</td><td>1</td><td>0</td></tr><tr><td>Sebrina</td><td>2</td><td>0</td></tr><tr><td>Lamar</td><td>2</td><td>0</td></tr><tr><td>Davis</td><td>1</td><td>0</td></tr><tr><td>Parthenia</td><td>2</td><td>0</td></tr><tr><td>Mercedez</td><td>1</td><td>0</td></tr><tr><td>Onita</td><td>2</td><td>0</td></tr><tr><td>Ramiro</td><td>1</td><td>0</td></tr><tr><td>Jutta</td><td>1</td><td>0</td></tr><tr><td>Hayden</td><td>1</td><td>0</td></tr><tr><td>Charise</td><td>1</td><td>0</td></tr><tr><td>Laure</td><td>1</td><td>0</td></tr><tr><td>Tad</td><td>1</td><td>0</td></tr><tr><td>Trinidad</td><td>2</td><td>0</td></tr><tr><td>Hugh</td><td>1</td><td>0</td></tr><tr><td>Clementine</td><td>1</td><td>0</td></tr><tr><td>Candelaria</td><td>1</td><td>0</td></tr><tr><td>Melita</td><td>1</td><td>0</td></tr><tr><td>Loreen</td><td>1</td><td>0</td></tr><tr><td>Ricki</td><td>1</td><td>0</td></tr><tr><td>Wynona</td><td>1</td><td>0</td></tr><tr><td>Latosha</td><td>1</td><td>0</td></tr><tr><td>Collen</td><td>2</td><td>0</td></tr><tr><td>Tora</td><td>1</td><td>0</td></tr><tr><td>Linnie</td><td>1</td><td>0</td></tr><tr><td>Nettie</td><td>1</td><td>0</td></tr><tr><td>Rayford</td><td>1</td><td>0</td></tr><tr><td>Leif</td><td>1</td><td>0</td></tr><tr><td>Gayla</td><td>1</td><td>0</td></tr><tr><td>Roy</td><td>1</td><td>0</td></tr><tr><td>Macie</td><td>1</td><td>0</td></tr><tr><td>Monika</td><td>1</td><td>0</td></tr><tr><td>Romana</td><td>1</td><td>0</td></tr><tr><td>Andria</td><td>1</td><td>0</td></tr><tr><td>Alexandria</td><td>1</td><td>0</td></tr><tr><td>Tempie</td><td>1</td><td>0</td></tr><tr><td>Johnathan</td><td>1</td><td>0</td></tr><tr><td>Kandi</td><td>1</td><td>0</td></tr><tr><td>Launa</td><td>1</td><td>0</td></tr><tr><td>Marisol</td><td>1</td><td>0</td></tr><tr><td>Liliana</td><td>1</td><td>0</td></tr><tr><td>Cicely</td><td>1</td><td>0</td></tr><tr><td>Nichelle</td><td>2</td><td>0</td></tr><tr><td>Queenie</td><td>1</td><td>0</td></tr><tr><td>Barry</td><td>2</td><td>0</td></tr><tr><td>Blanca</td><td>1</td><td>0</td></tr><tr><td>Chasidy</td><td>2</td><td>0</td></tr><tr><td>Sandy</td><td>1</td><td>0</td></tr><tr><td>Laurette</td><td>1</td><td>0</td></tr><tr><td>Jaimee</td><td>1</td><td>0</td></tr><tr><td>Dorthea</td><td>1</td><td>0</td></tr><tr><td>Zulema</td><td>2</td><td>0</td></tr><tr><td>Earl</td><td>1</td><td>0</td></tr><tr><td>Verdell</td><td>1</td><td>0</td></tr><tr><td>Phuong</td><td>1</td><td>0</td></tr><tr><td>Vernell</td><td>1</td><td>0</td></tr><tr><td>Phillis</td><td>1</td><td>0</td></tr><tr><td>Karl</td><td>1</td><td>0</td></tr><tr><td>Jenee</td><td>1</td><td>0</td></tr><tr><td>Tiny</td><td>1</td><td>0</td></tr><tr><td>Christoper</td><td>2</td><td>0</td></tr><tr><td>Corinna</td><td>1</td><td>0</td></tr><tr><td>Annis</td><td>1</td><td>0</td></tr><tr><td>Jeanice</td><td>1</td><td>0</td></tr><tr><td>Jamaal</td><td>3</td><td>0</td></tr><tr><td>Herlinda</td><td>1</td><td>0</td></tr><tr><td>Tiana</td><td>1</td><td>0</td></tr><tr><td>Reita</td><td>1</td><td>0</td></tr><tr><td>Emelda</td><td>1</td><td>0</td></tr><tr><td>Tomeka</td><td>1</td><td>0</td></tr><tr><td>Marcy</td><td>1</td><td>0</td></tr><tr><td>Clelia</td><td>1</td><td>0</td></tr><tr><td>Pinkie</td><td>1</td><td>0</td></tr><tr><td>Rosa</td><td>1</td><td>0</td></tr><tr><td>Jenna</td><td>1</td><td>0</td></tr><tr><td>Ashton</td><td>1</td><td>0</td></tr><tr><td>Merlin</td><td>1</td><td>0</td></tr><tr><td>Cris</td><td>1</td><td>0</td></tr><tr><td>Inga</td><td>1</td><td>0</td></tr><tr><td>Rebbecca</td><td>1</td><td>0</td></tr><tr><td>Obdulia</td><td>1</td><td>0</td></tr><tr><td>Christiana</td><td>1</td><td>0</td></tr><tr><td>Dionne</td><td>1</td><td>0</td></tr><tr><td>Catarina</td><td>1</td><td>0</td></tr><tr><td>Gilberte</td><td>1</td><td>0</td></tr><tr><td>Danyell</td><td>1</td><td>0</td></tr><tr><td>Casimira</td><td>1</td><td>0</td></tr><tr><td>Doris</td><td>1</td><td>0</td></tr><tr><td>Carmelina</td><td>1</td><td>0</td></tr><tr><td>Emanuel</td><td>1</td><td>0</td></tr><tr><td>Delma</td><td>1</td><td>0</td></tr><tr><td>Bennett</td><td>1</td><td>0</td></tr><tr><td>Wilda</td><td>1</td><td>0</td></tr><tr><td>Andreas</td><td>2</td><td>0</td></tr><tr><td>Leanna</td><td>1</td><td>0</td></tr><tr><td>Giselle</td><td>1</td><td>0</td></tr><tr><td>Renita</td><td>1</td><td>0</td></tr><tr><td>Shara</td><td>1</td><td>0</td></tr><tr><td>Rodrigo</td><td>1</td><td>0</td></tr><tr><td>Louanne</td><td>1</td><td>0</td></tr><tr><td>Omer</td><td>1</td><td>0</td></tr><tr><td>Kristen</td><td>1</td><td>0</td></tr><tr><td>Holly</td><td>1</td><td>0</td></tr><tr><td>Yu</td><td>1</td><td>0</td></tr><tr><td>Debbra</td><td>1</td><td>0</td></tr><tr><td>Jeffrey</td><td>1</td><td>0</td></tr><tr><td>Minnie</td><td>1</td><td>0</td></tr><tr><td>Joe</td><td>1</td><td>0</td></tr><tr><td>Lizzie</td><td>1</td><td>0</td></tr><tr><td>Addie</td><td>1</td><td>0</td></tr><tr><td>Consuela</td><td>2</td><td>0</td></tr><tr><td>Jeromy</td><td>2</td><td>0</td></tr><tr><td>Morton</td><td>2</td><td>0</td></tr><tr><td>Afton</td><td>1</td><td>0</td></tr><tr><td>Marissa</td><td>1</td><td>0</td></tr><tr><td>Rochell</td><td>1</td><td>0</td></tr><tr><td>Guillermo</td><td>1</td><td>0</td></tr><tr><td>Janie</td><td>1</td><td>0</td></tr><tr><td>Karole</td><td>1</td><td>0</td></tr><tr><td>Shauna</td><td>1</td><td>0</td></tr><tr><td>Clorinda</td><td>1</td><td>0</td></tr><tr><td>Thanh</td><td>1</td><td>0</td></tr><tr><td>Izola</td><td>1</td><td>0</td></tr><tr><td>Julienne</td><td>1</td><td>0</td></tr><tr><td>Cathey</td><td>1</td><td>0</td></tr><tr><td>Stefani</td><td>1</td><td>0</td></tr><tr><td>Inger</td><td>1</td><td>0</td></tr><tr><td>Lena</td><td>1</td><td>0</td></tr><tr><td>Felicidad</td><td>1</td><td>0</td></tr><tr><td>Nathaniel</td><td>2</td><td>0</td></tr><tr><td>Armando</td><td>1</td><td>0</td></tr><tr><td>Dale</td><td>1</td><td>0</td></tr><tr><td>Magdalena</td><td>1</td><td>0</td></tr><tr><td>Lavina</td><td>1</td><td>0</td></tr><tr><td>Lore</td><td>1</td><td>0</td></tr><tr><td>Sharell</td><td>1</td><td>0</td></tr><tr><td>Bonita</td><td>1</td><td>0</td></tr><tr><td>Desiree</td><td>1</td><td>0</td></tr><tr><td>Caleb</td><td>1</td><td>0</td></tr><tr><td>Agustina</td><td>1</td><td>0</td></tr><tr><td>Shanelle</td><td>1</td><td>0</td></tr><tr><td>Ernest</td><td>1</td><td>0</td></tr><tr><td>Gabriela</td><td>1</td><td>0</td></tr><tr><td>Claris</td><td>1</td><td>0</td></tr><tr><td>Melanie</td><td>1</td><td>0</td></tr><tr><td>Janelle</td><td>1</td><td>0</td></tr><tr><td>Rosanne</td><td>1</td><td>0</td></tr><tr><td>Olimpia</td><td>1</td><td>0</td></tr><tr><td>Tonisha</td><td>1</td><td>0</td></tr><tr><td>Penney</td><td>1</td><td>0</td></tr><tr><td>Deloris</td><td>2</td><td>0</td></tr><tr><td>Diana</td><td>3</td><td>0</td></tr><tr><td>Trinity</td><td>1</td><td>0</td></tr><tr><td>Herta</td><td>1</td><td>0</td></tr><tr><td>Vernita</td><td>1</td><td>0</td></tr><tr><td>Florencio</td><td>1</td><td>0</td></tr><tr><td>Ara</td><td>1</td><td>0</td></tr><tr><td>Desire</td><td>1</td><td>0</td></tr><tr><td>Darren</td><td>1</td><td>0</td></tr><tr><td>Homer</td><td>1</td><td>0</td></tr><tr><td>Sheila</td><td>2</td><td>0</td></tr><tr><td>Sharika</td><td>1</td><td>0</td></tr><tr><td>Lynwood</td><td>1</td><td>0</td></tr><tr><td>Jennell</td><td>1</td><td>0</td></tr><tr><td>Weldon</td><td>1</td><td>0</td></tr><tr><td>Augustus</td><td>2</td><td>0</td></tr><tr><td>Brittni</td><td>1</td><td>0</td></tr><tr><td>Reatha</td><td>1</td><td>0</td></tr><tr><td>Twana</td><td>1</td><td>0</td></tr><tr><td>Reyes</td><td>1</td><td>0</td></tr><tr><td>Veronika</td><td>1</td><td>0</td></tr><tr><td>Tenisha</td><td>1</td><td>0</td></tr><tr><td>Teofila</td><td>1</td><td>0</td></tr><tr><td>Thalia</td><td>2</td><td>0</td></tr><tr><td>Elvera</td><td>1</td><td>0</td></tr><tr><td>Rubye</td><td>1</td><td>0</td></tr><tr><td>Ronald</td><td>1</td><td>0</td></tr><tr><td>Katia</td><td>1</td><td>0</td></tr><tr><td>Josie</td><td>1</td><td>0</td></tr><tr><td>Jasmin</td><td>1</td><td>0</td></tr><tr><td>Kaley</td><td>1</td><td>0</td></tr><tr><td>Kathyrn</td><td>1</td><td>0</td></tr><tr><td>Maple</td><td>1</td><td>0</td></tr><tr><td>Theo</td><td>1</td><td>0</td></tr><tr><td>Ashanti</td><td>2</td><td>0</td></tr><tr><td>Verona</td><td>1</td><td>0</td></tr><tr><td>Cecelia</td><td>1</td><td>0</td></tr><tr><td>Catrice</td><td>1</td><td>0</td></tr><tr><td>Mellie</td><td>1</td><td>0</td></tr><tr><td>Hilda</td><td>1</td><td>0</td></tr><tr><td>Myrl</td><td>1</td><td>0</td></tr><tr><td>Stan</td><td>1</td><td>0</td></tr><tr><td>Dewayne</td><td>1</td><td>0</td></tr><tr><td>Kaylee</td><td>1</td><td>0</td></tr><tr><td>Fairy</td><td>1</td><td>0</td></tr><tr><td>Cassandra</td><td>1</td><td>0</td></tr><tr><td>Trena</td><td>2</td><td>0</td></tr><tr><td>Chloe</td><td>1</td><td>0</td></tr><tr><td>Shanda</td><td>1</td><td>0</td></tr><tr><td>Tayna</td><td>1</td><td>0</td></tr><tr><td>Son</td><td>1</td><td>0</td></tr><tr><td>Mozelle</td><td>1</td><td>0</td></tr><tr><td>Titus</td><td>1</td><td>0</td></tr><tr><td>Mazie</td><td>1</td><td>0</td></tr><tr><td>Elanor</td><td>1</td><td>0</td></tr><tr><td>Cyndi</td><td>2</td><td>0</td></tr><tr><td>Fannie</td><td>1</td><td>0</td></tr><tr><td>Alanna</td><td>1</td><td>0</td></tr><tr><td>Raphael</td><td>1</td><td>0</td></tr><tr><td>Arla</td><td>1</td><td>0</td></tr><tr><td>Lorrie</td><td>3</td><td>0</td></tr><tr><td>Arvilla</td><td>2</td><td>0</td></tr><tr><td>Carola</td><td>3</td><td>0</td></tr><tr><td>Berna</td><td>1</td><td>0</td></tr><tr><td>Emmett</td><td>2</td><td>0</td></tr><tr><td>Christopher</td><td>1</td><td>0</td></tr><tr><td>Lise</td><td>2</td><td>0</td></tr><tr><td>Lynn</td><td>1</td><td>0</td></tr><tr><td>Katherin</td><td>1</td><td>0</td></tr><tr><td>Nicola</td><td>1</td><td>0</td></tr><tr><td>Moses</td><td>1</td><td>0</td></tr><tr><td>Lidia</td><td>1</td><td>0</td></tr><tr><td>Kara</td><td>1</td><td>0</td></tr><tr><td>Nenita</td><td>1</td><td>0</td></tr><tr><td>Ophelia</td><td>2</td><td>0</td></tr><tr><td>Nakisha</td><td>1</td><td>0</td></tr><tr><td>Edris</td><td>1</td><td>0</td></tr><tr><td>Sharla</td><td>1</td><td>0</td></tr><tr><td>Vikki</td><td>1</td><td>0</td></tr><tr><td>Vashti</td><td>1</td><td>0</td></tr><tr><td>Corrinne</td><td>1</td><td>0</td></tr><tr><td>Barbra</td><td>1</td><td>0</td></tr><tr><td>Aimee</td><td>1</td><td>0</td></tr><tr><td>Vince</td><td>1</td><td>0</td></tr><tr><td>Serina</td><td>1</td><td>0</td></tr><tr><td>Euna</td><td>1</td><td>0</td></tr><tr><td>Letisha</td><td>1</td><td>0</td></tr><tr><td>Anisha</td><td>1</td><td>0</td></tr><tr><td>Latoya</td><td>1</td><td>0</td></tr><tr><td>Lynda</td><td>1</td><td>0</td></tr><tr><td>Sherril</td><td>1</td><td>0</td></tr><tr><td>Joeann</td><td>1</td><td>0</td></tr><tr><td>Joesph</td><td>1</td><td>0</td></tr><tr><td>Chelsey</td><td>2</td><td>0</td></tr><tr><td>Chere</td><td>3</td><td>0</td></tr><tr><td>Luke</td><td>2</td><td>0</td></tr><tr><td>India</td><td>1</td><td>0</td></tr><tr><td>Krissy</td><td>1</td><td>0</td></tr><tr><td>Janella</td><td>1</td><td>0</td></tr><tr><td>Tajuana</td><td>2</td><td>0</td></tr><tr><td>Rory</td><td>1</td><td>0</td></tr><tr><td>Raymonde</td><td>1</td><td>0</td></tr><tr><td>Jerri</td><td>2</td><td>0</td></tr><tr><td>Ardelia</td><td>1</td><td>0</td></tr><tr><td>Whitney</td><td>2</td><td>0</td></tr><tr><td>Delila</td><td>1</td><td>0</td></tr><tr><td>Jayme</td><td>1</td><td>0</td></tr><tr><td>Collene</td><td>2</td><td>0</td></tr><tr><td>Larraine</td><td>1</td><td>0</td></tr><tr><td>Lecia</td><td>1</td><td>0</td></tr><tr><td>Amina</td><td>1</td><td>0</td></tr><tr><td>Ling</td><td>1</td><td>0</td></tr><tr><td>Kiesha</td><td>1</td><td>0</td></tr><tr><td>Shonta</td><td>2</td><td>0</td></tr><tr><td>Danny</td><td>1</td><td>0</td></tr><tr><td>Lashawna</td><td>1</td><td>0</td></tr><tr><td>Amparo</td><td>1</td><td>0</td></tr><tr><td>Kristofer</td><td>1</td><td>0</td></tr><tr><td>Tania</td><td>1</td><td>0</td></tr><tr><td>Hermila</td><td>1</td><td>0</td></tr><tr><td>Venus</td><td>1</td><td>0</td></tr><tr><td>Lenita</td><td>1</td><td>0</td></tr><tr><td>Merrie</td><td>1</td><td>0</td></tr><tr><td>Monica</td><td>1</td><td>0</td></tr><tr><td>Alejandrina</td><td>1</td><td>0</td></tr><tr><td>Willetta</td><td>1</td><td>0</td></tr><tr><td>Buford</td><td>2</td><td>0</td></tr><tr><td>Alesia</td><td>1</td><td>0</td></tr><tr><td>Bess</td><td>1</td><td>0</td></tr><tr><td>Todd</td><td>1</td><td>0</td></tr><tr><td>Piedad</td><td>1</td><td>0</td></tr><tr><td>Dione</td><td>1</td><td>0</td></tr><tr><td>Cinda</td><td>1</td><td>0</td></tr><tr><td>Nevada</td><td>1</td><td>0</td></tr><tr><td>Delbert</td><td>1</td><td>0</td></tr><tr><td>Mable</td><td>1</td><td>0</td></tr><tr><td>Loise</td><td>1</td><td>0</td></tr><tr><td>Lynne</td><td>1</td><td>0</td></tr><tr><td>Skye</td><td>1</td><td>0</td></tr><tr><td>Genevie</td><td>1</td><td>0</td></tr><tr><td>Starr</td><td>1</td><td>0</td></tr><tr><td>Rona</td><td>1</td><td>0</td></tr><tr><td>Gilma</td><td>1</td><td>0</td></tr><tr><td>Darcie</td><td>1</td><td>0</td></tr><tr><td>Elmo</td><td>2</td><td>0</td></tr><tr><td>Patsy</td><td>1</td><td>0</td></tr><tr><td>Jerome</td><td>1</td><td>0</td></tr><tr><td>Gabriel</td><td>2</td><td>0</td></tr><tr><td>Zenia</td><td>1</td><td>0</td></tr><tr><td>Lillia</td><td>1</td><td>0</td></tr><tr><td>Lekisha</td><td>1</td><td>0</td></tr><tr><td>Dollie</td><td>1</td><td>0</td></tr><tr><td>Boyce</td><td>1</td><td>0</td></tr><tr><td>Zoraida</td><td>1</td><td>0</td></tr><tr><td>Shery</td><td>2</td><td>0</td></tr><tr><td>Jonell</td><td>1</td><td>0</td></tr><tr><td>Lois</td><td>1</td><td>0</td></tr><tr><td>Margaretta</td><td>1</td><td>0</td></tr><tr><td>Brenton</td><td>1</td><td>0</td></tr><tr><td>Cheree</td><td>1</td><td>0</td></tr><tr><td>Farrah</td><td>1</td><td>0</td></tr><tr><td>Miriam</td><td>1</td><td>0</td></tr><tr><td>Lucio</td><td>1</td><td>0</td></tr><tr><td>Thad</td><td>2</td><td>0</td></tr><tr><td>Eric</td><td>1</td><td>0</td></tr><tr><td>Venessa</td><td>1</td><td>0</td></tr><tr><td>Coleman</td><td>1</td><td>0</td></tr><tr><td>Santa</td><td>1</td><td>0</td></tr><tr><td>Sandee</td><td>1</td><td>0</td></tr><tr><td>Marjorie</td><td>1</td><td>0</td></tr><tr><td>Kam</td><td>1</td><td>0</td></tr><tr><td>Harris</td><td>1</td><td>0</td></tr><tr><td>Ginette</td><td>1</td><td>0</td></tr><tr><td>Honey</td><td>1</td><td>0</td></tr><tr><td>Ilona</td><td>1</td><td>0</td></tr><tr><td>Willow</td><td>1</td><td>0</td></tr><tr><td>Tisha</td><td>1</td><td>0</td></tr><tr><td>Ester</td><td>1</td><td>0</td></tr><tr><td>Ulysses</td><td>1</td><td>0</td></tr><tr><td>Heather</td><td>2</td><td>0</td></tr><tr><td>Shemeka</td><td>1</td><td>0</td></tr><tr><td>Conception</td><td>1</td><td>0</td></tr><tr><td>Iola</td><td>1</td><td>0</td></tr><tr><td>Danille</td><td>1</td><td>0</td></tr><tr><td>Sarah</td><td>1</td><td>0</td></tr><tr><td>Demarcus</td><td>1</td><td>0</td></tr><tr><td>Rico</td><td>1</td><td>0</td></tr><tr><td>Carson</td><td>1</td><td>0</td></tr><tr><td>Chauncey</td><td>1</td><td>0</td></tr><tr><td>Bobbi</td><td>1</td><td>0</td></tr><tr><td>Ingeborg</td><td>1</td><td>0</td></tr><tr><td>Lavinia</td><td>1</td><td>0</td></tr><tr><td>Gena</td><td>1</td><td>0</td></tr><tr><td>Abram</td><td>1</td><td>0</td></tr><tr><td>Allie</td><td>1</td><td>0</td></tr><tr><td>Corina</td><td>1</td><td>0</td></tr><tr><td>Lavette</td><td>1</td><td>0</td></tr><tr><td>Anderson</td><td>1</td><td>0</td></tr><tr><td>Garland</td><td>1</td><td>0</td></tr><tr><td>Ashleigh</td><td>2</td><td>0</td></tr><tr><td>Spring</td><td>1</td><td>0</td></tr><tr><td>Gilbert</td><td>1</td><td>0</td></tr><tr><td>Brianna</td><td>1</td><td>0</td></tr><tr><td>Myron</td><td>2</td><td>0</td></tr><tr><td>Donnetta</td><td>1</td><td>0</td></tr><tr><td>Drucilla</td><td>1</td><td>0</td></tr><tr><td>Jackeline</td><td>1</td><td>0</td></tr><tr><td>Ebony</td><td>1</td><td>0</td></tr><tr><td>Vance</td><td>1</td><td>0</td></tr><tr><td>Mia</td><td>1</td><td>0</td></tr><tr><td>Martha</td><td>1</td><td>0</td></tr><tr><td>Ghislaine</td><td>1</td><td>0</td></tr><tr><td>Deandrea</td><td>2</td><td>0</td></tr><tr><td>Tuyet</td><td>1</td><td>0</td></tr><tr><td>Tobie</td><td>1</td><td>0</td></tr><tr><td>Brenda</td><td>1</td><td>0</td></tr><tr><td>Tricia</td><td>1</td><td>0</td></tr><tr><td>Shenna</td><td>2</td><td>0</td></tr><tr><td>Marlen</td><td>1</td><td>0</td></tr><tr><td>Sally</td><td>1</td><td>0</td></tr><tr><td>Ross</td><td>1</td><td>0</td></tr><tr><td>Cristobal</td><td>1</td><td>0</td></tr><tr><td>Bev</td><td>1</td><td>0</td></tr><tr><td>Deanne</td><td>1</td><td>0</td></tr><tr><td>Derrick</td><td>1</td><td>0</td></tr><tr><td>Zelda</td><td>1</td><td>0</td></tr><tr><td>Giovanna</td><td>1</td><td>0</td></tr><tr><td>Donovan</td><td>1</td><td>0</td></tr><tr><td>Lolita</td><td>2</td><td>0</td></tr><tr><td>Toya</td><td>1</td><td>0</td></tr><tr><td>Mireille</td><td>1</td><td>0</td></tr><tr><td>Virgen</td><td>1</td><td>0</td></tr><tr><td>Ann</td><td>1</td><td>0</td></tr><tr><td>Alyse</td><td>1</td><td>0</td></tr><tr><td>Julia</td><td>1</td><td>0</td></tr><tr><td>Brent</td><td>1</td><td>0</td></tr><tr><td>Shantel</td><td>1</td><td>0</td></tr><tr><td>Harold</td><td>1</td><td>0</td></tr><tr><td>Katherina</td><td>1</td><td>0</td></tr><tr><td>Agnes</td><td>1</td><td>0</td></tr><tr><td>Sylvie</td><td>1</td><td>0</td></tr><tr><td>Ollie</td><td>1</td><td>0</td></tr><tr><td>Barbera</td><td>1</td><td>0</td></tr><tr><td>Mandi</td><td>1</td><td>0</td></tr><tr><td>Tomasa</td><td>1</td><td>0</td></tr><tr><td>Maurice</td><td>1</td><td>0</td></tr><tr><td>Laureen</td><td>2</td><td>0</td></tr><tr><td>Rodger</td><td>1</td><td>0</td></tr><tr><td>Justa</td><td>1</td><td>0</td></tr><tr><td>Arcelia</td><td>1</td><td>0</td></tr><tr><td>Henrietta</td><td>1</td><td>0</td></tr><tr><td>Ayanna</td><td>2</td><td>0</td></tr><tr><td>Clementina</td><td>1</td><td>0</td></tr><tr><td>Catherine</td><td>1</td><td>0</td></tr><tr><td>Carmela</td><td>1</td><td>0</td></tr><tr><td>Freddie</td><td>1</td><td>0</td></tr><tr><td>Leonore</td><td>1</td><td>0</td></tr><tr><td>Yvone</td><td>2</td><td>0</td></tr><tr><td>Renato</td><td>1</td><td>0</td></tr><tr><td>Armand</td><td>1</td><td>0</td></tr><tr><td>Kellie</td><td>1</td><td>0</td></tr><tr><td>Katharina</td><td>1</td><td>0</td></tr><tr><td>Kaila</td><td>1</td><td>0</td></tr><tr><td>Pearlie</td><td>1</td><td>0</td></tr><tr><td>Adelaida</td><td>1</td><td>0</td></tr><tr><td>Neil</td><td>1</td><td>0</td></tr><tr><td>Edra</td><td>1</td><td>0</td></tr><tr><td>Ana</td><td>1</td><td>0</td></tr><tr><td>Graig</td><td>2</td><td>0</td></tr><tr><td>Stephanie</td><td>1</td><td>0</td></tr><tr><td>Cleopatra</td><td>1</td><td>0</td></tr><tr><td>Karey</td><td>1</td><td>0</td></tr><tr><td>Wai</td><td>1</td><td>0</td></tr><tr><td>Valery</td><td>1</td><td>0</td></tr><tr><td>Iva</td><td>1</td><td>0</td></tr><tr><td>Jasper</td><td>1</td><td>0</td></tr><tr><td>Corene</td><td>2</td><td>0</td></tr><tr><td>Adriene</td><td>2</td><td>0</td></tr><tr><td>Lewis</td><td>1</td><td>0</td></tr><tr><td>Georgina</td><td>1</td><td>0</td></tr><tr><td>Merideth</td><td>1</td><td>0</td></tr><tr><td>Greta</td><td>1</td><td>0</td></tr><tr><td>Agatha</td><td>2</td><td>0</td></tr><tr><td>Erna</td><td>1</td><td>0</td></tr><tr><td>Thurman</td><td>1</td><td>0</td></tr><tr><td>Rita</td><td>1</td><td>0</td></tr><tr><td>Ira</td><td>2</td><td>0</td></tr><tr><td>Ileana</td><td>1</td><td>0</td></tr><tr><td>Eleanor</td><td>1</td><td>0</td></tr><tr><td>Nova</td><td>1</td><td>0</td></tr><tr><td>Judith</td><td>1</td><td>0</td></tr><tr><td>Delfina</td><td>1</td><td>0</td></tr><tr><td>Berneice</td><td>1</td><td>0</td></tr><tr><td>Patrina</td><td>1</td><td>0</td></tr><tr><td>Shila</td><td>1</td><td>0</td></tr><tr><td>Irving</td><td>1</td><td>0</td></tr><tr><td>Joshua</td><td>2</td><td>0</td></tr><tr><td>Delaine</td><td>1</td><td>0</td></tr><tr><td>Jenny</td><td>1</td><td>0</td></tr><tr><td>Deirdre</td><td>1</td><td>0</td></tr><tr><td>Shanice</td><td>1</td><td>0</td></tr><tr><td>Gwendolyn</td><td>1</td><td>0</td></tr><tr><td>Evelin</td><td>1</td><td>0</td></tr><tr><td>Aileen</td><td>1</td><td>0</td></tr><tr><td>Lina</td><td>1</td><td>0</td></tr><tr><td>Hubert</td><td>2</td><td>0</td></tr><tr><td>Verda</td><td>1</td><td>0</td></tr><tr><td>Abby</td><td>1</td><td>0</td></tr><tr><td>Tammera</td><td>1</td><td>0</td></tr><tr><td>Christiane</td><td>1</td><td>0</td></tr><tr><td>Gwenn</td><td>1</td><td>0</td></tr><tr><td>Phebe</td><td>2</td><td>0</td></tr><tr><td>Arline</td><td>1</td><td>0</td></tr><tr><td>Phylicia</td><td>1</td><td>0</td></tr><tr><td>Kathie</td><td>1</td><td>0</td></tr><tr><td>Pamala</td><td>2</td><td>0</td></tr><tr><td>Jeanie</td><td>1</td><td>0</td></tr><tr><td>Graciela</td><td>1</td><td>0</td></tr><tr><td>Michel</td><td>1</td><td>0</td></tr><tr><td>Hilde</td><td>1</td><td>0</td></tr><tr><td>Raeann</td><td>1</td><td>0</td></tr><tr><td>Herminia</td><td>1</td><td>0</td></tr><tr><td>Tereasa</td><td>1</td><td>0</td></tr><tr><td>Rey</td><td>1</td><td>0</td></tr><tr><td>Regine</td><td>2</td><td>0</td></tr><tr><td>Angella</td><td>1</td><td>0</td></tr><tr><td>Caren</td><td>1</td><td>0</td></tr><tr><td>Priscilla</td><td>1</td><td>0</td></tr><tr><td>Mark</td><td>2</td><td>0</td></tr><tr><td>Margorie</td><td>1</td><td>0</td></tr><tr><td>Shea</td><td>1</td><td>0</td></tr><tr><td>Nestor</td><td>1</td><td>0</td></tr><tr><td>Lavern</td><td>1</td><td>0</td></tr><tr><td>Willis</td><td>1</td><td>0</td></tr><tr><td>Aide</td><td>1</td><td>0</td></tr><tr><td>Donette</td><td>1</td><td>0</td></tr><tr><td>Susann</td><td>1</td><td>0</td></tr><tr><td>Katharine</td><td>1</td><td>0</td></tr><tr><td>Ayana</td><td>1</td><td>0</td></tr><tr><td>Marry</td><td>1</td><td>0</td></tr><tr><td>Cayla</td><td>1</td><td>0</td></tr><tr><td>Divina</td><td>2</td><td>0</td></tr><tr><td>Cesar</td><td>2</td><td>0</td></tr><tr><td>Nicholas</td><td>1</td><td>0</td></tr><tr><td>Efren</td><td>2</td><td>0</td></tr><tr><td>Yolando</td><td>1</td><td>0</td></tr><tr><td>Neida</td><td>1</td><td>0</td></tr><tr><td>Lanora</td><td>1</td><td>0</td></tr><tr><td>Loyce</td><td>1</td><td>0</td></tr><tr><td>Sonja</td><td>1</td><td>0</td></tr><tr><td>Sharie</td><td>2</td><td>0</td></tr><tr><td>Valeri</td><td>1</td><td>0</td></tr><tr><td>Terrell</td><td>1</td><td>0</td></tr><tr><td>Jeannette</td><td>1</td><td>0</td></tr><tr><td>Noble</td><td>1</td><td>0</td></tr><tr><td>Cleotilde</td><td>1</td><td>0</td></tr><tr><td>Wes</td><td>1</td><td>0</td></tr><tr><td>Meredith</td><td>1</td><td>0</td></tr><tr><td>Tuan</td><td>1</td><td>0</td></tr><tr><td>Erik</td><td>1</td><td>0</td></tr><tr><td>Joann</td><td>1</td><td>0</td></tr><tr><td>Sherilyn</td><td>1</td><td>0</td></tr><tr><td>Treasa</td><td>1</td><td>0</td></tr><tr><td>Rikki</td><td>1</td><td>0</td></tr><tr><td>Letitia</td><td>1</td><td>0</td></tr><tr><td>Reena</td><td>1</td><td>0</td></tr><tr><td>Rosalba</td><td>1</td><td>0</td></tr><tr><td>Lanita</td><td>1</td><td>0</td></tr><tr><td>Gabriella</td><td>1</td><td>0</td></tr><tr><td>Londa</td><td>1</td><td>0</td></tr><tr><td>Cecilia</td><td>1</td><td>0</td></tr><tr><td>Hilary</td><td>1</td><td>0</td></tr><tr><td>Arielle</td><td>1</td><td>0</td></tr><tr><td>Risa</td><td>1</td><td>0</td></tr><tr><td>Arie</td><td>1</td><td>0</td></tr><tr><td>Yuk</td><td>1</td><td>0</td></tr><tr><td>Scarlet</td><td>2</td><td>0</td></tr><tr><td>Muriel</td><td>1</td><td>0</td></tr><tr><td>Bettie</td><td>2</td><td>0</td></tr><tr><td>Josef</td><td>1</td><td>0</td></tr><tr><td>Maximina</td><td>1</td><td>0</td></tr><tr><td>Nicolas</td><td>1</td><td>0</td></tr><tr><td>Vito</td><td>1</td><td>0</td></tr><tr><td>Raven</td><td>1</td><td>0</td></tr><tr><td>Kasha</td><td>2</td><td>0</td></tr><tr><td>Myrtie</td><td>1</td><td>0</td></tr><tr><td>Wallace</td><td>1</td><td>0</td></tr><tr><td>Phylis</td><td>1</td><td>0</td></tr><tr><td>Saran</td><td>1</td><td>0</td></tr><tr><td>Glady</td><td>1</td><td>0</td></tr><tr><td>Genoveva</td><td>3</td><td>0</td></tr><tr><td>Zelma</td><td>1</td><td>0</td></tr><tr><td>Elnora</td><td>1</td><td>0</td></tr><tr><td>Johana</td><td>1</td><td>0</td></tr><tr><td>Rayna</td><td>1</td><td>0</td></tr><tr><td>Selene</td><td>2</td><td>0</td></tr><tr><td>Sam</td><td>1</td><td>0</td></tr><tr><td>Patience</td><td>1</td><td>0</td></tr><tr><td>Charlene</td><td>1</td><td>0</td></tr><tr><td>Adam</td><td>2</td><td>0</td></tr><tr><td>Laci</td><td>1</td><td>0</td></tr><tr><td>Kellye</td><td>1</td><td>0</td></tr><tr><td>Mila</td><td>2</td><td>0</td></tr><tr><td>Bryce</td><td>1</td><td>0</td></tr><tr><td>Keitha</td><td>1</td><td>0</td></tr><tr><td>Hans</td><td>1</td><td>0</td></tr><tr><td>Marilyn</td><td>1</td><td>0</td></tr><tr><td>Augustina</td><td>1</td><td>0</td></tr><tr><td>Courtney</td><td>1</td><td>0</td></tr><tr><td>Beryl</td><td>1</td><td>0</td></tr><tr><td>Siobhan</td><td>1</td><td>0</td></tr><tr><td>Marcel</td><td>1</td><td>0</td></tr><tr><td>Season</td><td>1</td><td>0</td></tr><tr><td>Geraldine</td><td>1</td><td>0</td></tr><tr><td>Bernita</td><td>1</td><td>0</td></tr><tr><td>Tanesha</td><td>2</td><td>0</td></tr><tr><td>Nathanael</td><td>1</td><td>0</td></tr><tr><td>Syreeta</td><td>1</td><td>0</td></tr><tr><td>Myung</td><td>1</td><td>0</td></tr><tr><td>Evelina</td><td>2</td><td>0</td></tr><tr><td>Lurline</td><td>1</td><td>0</td></tr><tr><td>Alma</td><td>1</td><td>0</td></tr><tr><td>Stefany</td><td>1</td><td>0</td></tr><tr><td>Rodrick</td><td>1</td><td>0</td></tr><tr><td>Katheleen</td><td>1</td><td>0</td></tr><tr><td>Alec</td><td>1</td><td>0</td></tr><tr><td>Arminda</td><td>1</td><td>0</td></tr><tr><td>Travis</td><td>2</td><td>0</td></tr><tr><td>Britteny</td><td>1</td><td>0</td></tr><tr><td>Nita</td><td>1</td><td>0</td></tr><tr><td>Conrad</td><td>1</td><td>0</td></tr><tr><td>Wanita</td><td>1</td><td>0</td></tr><tr><td>Vernon</td><td>1</td><td>0</td></tr><tr><td>Tammie</td><td>1</td><td>0</td></tr><tr><td>Edith</td><td>1</td><td>0</td></tr><tr><td>Cindie</td><td>1</td><td>0</td></tr><tr><td>Joel</td><td>1</td><td>0</td></tr><tr><td>Bee</td><td>1</td><td>0</td></tr><tr><td>Rozella</td><td>1</td><td>0</td></tr><tr><td>Charlsie</td><td>1</td><td>0</td></tr><tr><td>Aleta</td><td>3</td><td>0</td></tr><tr><td>Randolph</td><td>1</td><td>0</td></tr><tr><td>Laverna</td><td>1</td><td>0</td></tr><tr><td>Moira</td><td>1</td><td>0</td></tr><tr><td>Rodney</td><td>1</td><td>0</td></tr><tr><td>Chanel</td><td>1</td><td>0</td></tr><tr><td>Annett</td><td>2</td><td>0</td></tr><tr><td>Ellsworth</td><td>1</td><td>0</td></tr><tr><td>Eli</td><td>1</td><td>0</td></tr><tr><td>Devin</td><td>2</td><td>0</td></tr><tr><td>Janna</td><td>1</td><td>0</td></tr><tr><td>Vernia</td><td>1</td><td>0</td></tr><tr><td>Deangelo</td><td>1</td><td>0</td></tr><tr><td>Carita</td><td>1</td><td>0</td></tr><tr><td>Heide</td><td>1</td><td>0</td></tr><tr><td>Susannah</td><td>1</td><td>0</td></tr><tr><td>Ben</td><td>1</td><td>0</td></tr><tr><td>Mariela</td><td>1</td><td>0</td></tr><tr><td>Kerrie</td><td>2</td><td>0</td></tr><tr><td>Magali</td><td>1</td><td>0</td></tr><tr><td>Vivian</td><td>1</td><td>0</td></tr><tr><td>Javier</td><td>1</td><td>0</td></tr><tr><td>Birdie</td><td>1</td><td>0</td></tr><tr><td>Jayson</td><td>1</td><td>0</td></tr><tr><td>Edmund</td><td>1</td><td>0</td></tr><tr><td>Marguerite</td><td>1</td><td>0</td></tr><tr><td>Brianne</td><td>1</td><td>0</td></tr><tr><td>Renay</td><td>1</td><td>0</td></tr><tr><td>Elenore</td><td>2</td><td>0</td></tr><tr><td>Julius</td><td>1</td><td>0</td></tr><tr><td>Shu</td><td>1</td><td>0</td></tr><tr><td>Dwain</td><td>1</td><td>0</td></tr><tr><td>Corine</td><td>1</td><td>0</td></tr><tr><td>Kanesha</td><td>2</td><td>0</td></tr><tr><td>Sarai</td><td>1</td><td>0</td></tr><tr><td>Marget</td><td>1</td><td>0</td></tr><tr><td>Ferne</td><td>1</td><td>0</td></tr><tr><td>Joaquin</td><td>1</td><td>0</td></tr><tr><td>Ciera</td><td>2</td><td>0</td></tr><tr><td>Marcelino</td><td>1</td><td>0</td></tr><tr><td>Eleni</td><td>1</td><td>0</td></tr><tr><td>Barton</td><td>2</td><td>0</td></tr><tr><td>Celestine</td><td>2</td><td>0</td></tr><tr><td>Kattie</td><td>1</td><td>0</td></tr><tr><td>Gertrud</td><td>1</td><td>0</td></tr><tr><td>Flossie</td><td>1</td><td>0</td></tr><tr><td>Justina</td><td>3</td><td>0</td></tr><tr><td>Soledad</td><td>1</td><td>0</td></tr><tr><td>Shiloh</td><td>2</td><td>0</td></tr><tr><td>Bettye</td><td>1</td><td>0</td></tr><tr><td>Tara</td><td>1</td><td>0</td></tr><tr><td>Kimberli</td><td>1</td><td>0</td></tr><tr><td>Latashia</td><td>1</td><td>0</td></tr><tr><td>Debra</td><td>1</td><td>0</td></tr><tr><td>Alane</td><td>3</td><td>0</td></tr><tr><td>Tamela</td><td>1</td><td>0</td></tr><tr><td>Inge</td><td>1</td><td>0</td></tr><tr><td>Timothy</td><td>1</td><td>0</td></tr><tr><td>Calandra</td><td>1</td><td>0</td></tr><tr><td>Adrien</td><td>1</td><td>0</td></tr><tr><td>Carie</td><td>1</td><td>0</td></tr><tr><td>Octavia</td><td>2</td><td>0</td></tr><tr><td>Tony</td><td>1</td><td>0</td></tr><tr><td>Basil</td><td>1</td><td>0</td></tr><tr><td>Leone</td><td>1</td><td>0</td></tr><tr><td>Milagros</td><td>1</td><td>0</td></tr><tr><td>Diane</td><td>1</td><td>0</td></tr><tr><td>Jama</td><td>1</td><td>0</td></tr><tr><td>Carley</td><td>1</td><td>0</td></tr><tr><td>Lloyd</td><td>1</td><td>0</td></tr><tr><td>Ivette</td><td>2</td><td>0</td></tr><tr><td>Alica</td><td>1</td><td>0</td></tr><tr><td>Sharyn</td><td>2</td><td>0</td></tr><tr><td>Minerva</td><td>1</td><td>0</td></tr><tr><td>Anya</td><td>1</td><td>0</td></tr><tr><td>Abbey</td><td>1</td><td>0</td></tr><tr><td>Virgina</td><td>1</td><td>0</td></tr><tr><td>Lazaro</td><td>1</td><td>0</td></tr><tr><td>Taylor</td><td>1</td><td>0</td></tr><tr><td>Silas</td><td>1</td><td>0</td></tr><tr><td>Shantae</td><td>1</td><td>0</td></tr><tr><td>Kimberley</td><td>1</td><td>0</td></tr><tr><td>Brittney</td><td>2</td><td>0</td></tr><tr><td>Faustino</td><td>1</td><td>0</td></tr><tr><td>Dagny</td><td>1</td><td>0</td></tr><tr><td>Keri</td><td>1</td><td>0</td></tr><tr><td>Margert</td><td>1</td><td>0</td></tr><tr><td>Carline</td><td>1</td><td>0</td></tr><tr><td>Delana</td><td>2</td><td>0</td></tr><tr><td>Van</td><td>1</td><td>0</td></tr><tr><td>Salena</td><td>1</td><td>0</td></tr><tr><td>Kristel</td><td>2</td><td>0</td></tr><tr><td>Conchita</td><td>1</td><td>0</td></tr><tr><td>Mallie</td><td>1</td><td>0</td></tr><tr><td>Elana</td><td>1</td><td>0</td></tr><tr><td>Dacia</td><td>1</td><td>0</td></tr><tr><td>Malinda</td><td>1</td><td>0</td></tr><tr><td>Sheree</td><td>2</td><td>0</td></tr><tr><td>Lizette</td><td>1</td><td>0</td></tr><tr><td>Elaina</td><td>1</td><td>0</td></tr><tr><td>Stephen</td><td>1</td><td>0</td></tr><tr><td>Cami</td><td>1</td><td>0</td></tr><tr><td>Virgil</td><td>1</td><td>0</td></tr><tr><td>Ji</td><td>1</td><td>0</td></tr><tr><td>Regina</td><td>1</td><td>0</td></tr><tr><td>Kasie</td><td>1</td><td>0</td></tr><tr><td>Micki</td><td>1</td><td>0</td></tr><tr><td>Benito</td><td>1</td><td>0</td></tr><tr><td>Allison</td><td>1</td><td>0</td></tr><tr><td>Jovita</td><td>1</td><td>0</td></tr><tr><td>Shona</td><td>1</td><td>0</td></tr><tr><td>Alline</td><td>1</td><td>0</td></tr><tr><td>Vanessa</td><td>1</td><td>0</td></tr><tr><td>Alysha</td><td>1</td><td>0</td></tr><tr><td>Sunshine</td><td>1</td><td>0</td></tr><tr><td>Gertha</td><td>1</td><td>0</td></tr><tr><td>Melba</td><td>1</td><td>0</td></tr><tr><td>Vicki</td><td>1</td><td>0</td></tr><tr><td>Angelique</td><td>1</td><td>0</td></tr><tr><td>Mariam</td><td>1</td><td>0</td></tr><tr><td>Cassidy</td><td>1</td><td>0</td></tr><tr><td>Kenton</td><td>1</td><td>0</td></tr><tr><td>Margene</td><td>1</td><td>0</td></tr><tr><td>Gayle</td><td>1</td><td>0</td></tr><tr><td>Chantay</td><td>1</td><td>0</td></tr><tr><td>Jonna</td><td>1</td><td>0</td></tr><tr><td>Mirella</td><td>1</td><td>0</td></tr><tr><td>Janetta</td><td>1</td><td>0</td></tr><tr><td>Sheba</td><td>1</td><td>0</td></tr><tr><td>Jesica</td><td>1</td><td>0</td></tr><tr><td>Marylyn</td><td>1</td><td>0</td></tr><tr><td>Viva</td><td>1</td><td>0</td></tr><tr><td>Hue</td><td>2</td><td>0</td></tr><tr><td>Earlean</td><td>1</td><td>0</td></tr><tr><td>Tonda</td><td>2</td><td>0</td></tr><tr><td>Cinthia</td><td>1</td><td>0</td></tr><tr><td>Ehtel</td><td>1</td><td>0</td></tr><tr><td>Valentin</td><td>1</td><td>0</td></tr><tr><td>Stacie</td><td>1</td><td>0</td></tr><tr><td>Laurel</td><td>1</td><td>0</td></tr><tr><td>Ivelisse</td><td>1</td><td>0</td></tr><tr><td>Shay</td><td>1</td><td>0</td></tr><tr><td>Aida</td><td>1</td><td>0</td></tr><tr><td>Kim</td><td>1</td><td>0</td></tr><tr><td>Carmina</td><td>1</td><td>0</td></tr><tr><td>Sheryl</td><td>1</td><td>0</td></tr><tr><td>Ken</td><td>1</td><td>0</td></tr><tr><td>Damian</td><td>2</td><td>0</td></tr><tr><td>Luis</td><td>1</td><td>0</td></tr><tr><td>Collin</td><td>1</td><td>0</td></tr><tr><td>Camila</td><td>1</td><td>0</td></tr><tr><td>Marshall</td><td>1</td><td>0</td></tr><tr><td>Carisa</td><td>1</td><td>0</td></tr><tr><td>Charlesetta</td><td>1</td><td>0</td></tr><tr><td>Eloisa</td><td>1</td><td>0</td></tr><tr><td>Majorie</td><td>2</td><td>0</td></tr><tr><td>Caridad</td><td>1</td><td>0</td></tr><tr><td>Quyen</td><td>1</td><td>0</td></tr><tr><td>Sylvester</td><td>1</td><td>0</td></tr><tr><td>Lizzette</td><td>1</td><td>0</td></tr><tr><td>Caroll</td><td>1</td><td>0</td></tr><tr><td>Saturnina</td><td>1</td><td>0</td></tr><tr><td>Denis</td><td>1</td><td>0</td></tr><tr><td>Genevieve</td><td>1</td><td>0</td></tr><tr><td>Kiara</td><td>1</td><td>0</td></tr><tr><td>Lezlie</td><td>2</td><td>0</td></tr><tr><td>Emory</td><td>1</td><td>0</td></tr><tr><td>Louis</td><td>1</td><td>0</td></tr><tr><td>Vanda</td><td>1</td><td>0</td></tr><tr><td>Rufina</td><td>1</td><td>0</td></tr><tr><td>Tama</td><td>1</td><td>0</td></tr><tr><td>Charolette</td><td>1</td><td>0</td></tr><tr><td>Ronna</td><td>1</td><td>0</td></tr><tr><td>Charlyn</td><td>1</td><td>0</td></tr><tr><td>Sheri</td><td>1</td><td>0</td></tr><tr><td>Margit</td><td>1</td><td>0</td></tr><tr><td>Tiesha</td><td>1</td><td>0</td></tr><tr><td>Dorthey</td><td>1</td><td>0</td></tr><tr><td>Hedwig</td><td>1</td><td>0</td></tr><tr><td>Jessika</td><td>1</td><td>0</td></tr><tr><td>Dexter</td><td>1</td><td>0</td></tr><tr><td>Jamika</td><td>2</td><td>0</td></tr><tr><td>Matilda</td><td>1</td><td>0</td></tr><tr><td>Tammy</td><td>1</td><td>0</td></tr><tr><td>Anton</td><td>1</td><td>0</td></tr><tr><td>Joy</td><td>1</td><td>0</td></tr><tr><td>Pamelia</td><td>1</td><td>0</td></tr><tr><td>Jame</td><td>1</td><td>0</td></tr><tr><td>Kandace</td><td>3</td><td>0</td></tr><tr><td>Georgeanna</td><td>1</td><td>0</td></tr><tr><td>Rosalie</td><td>1</td><td>0</td></tr><tr><td>Arlena</td><td>1</td><td>0</td></tr><tr><td>Philip</td><td>1</td><td>0</td></tr><tr><td>Dung</td><td>2</td><td>0</td></tr><tr><td>Tangela</td><td>2</td><td>0</td></tr><tr><td>Erma</td><td>1</td><td>0</td></tr><tr><td>Angele</td><td>2</td><td>0</td></tr><tr><td>Sindy</td><td>1</td><td>0</td></tr><tr><td>Garth</td><td>1</td><td>0</td></tr><tr><td>Jeni</td><td>2</td><td>0</td></tr><tr><td>Daina</td><td>1</td><td>0</td></tr><tr><td>Inocencia</td><td>1</td><td>0</td></tr><tr><td>Yvonne</td><td>1</td><td>0</td></tr><tr><td>Orval</td><td>1</td><td>0</td></tr><tr><td>Enoch</td><td>1</td><td>0</td></tr><tr><td>Robby</td><td>1</td><td>0</td></tr><tr><td>Maribel</td><td>1</td><td>0</td></tr><tr><td>Edgar</td><td>2</td><td>0</td></tr><tr><td>Sommer</td><td>1</td><td>0</td></tr><tr><td>Elvina</td><td>1</td><td>0</td></tr><tr><td>Trang</td><td>1</td><td>0</td></tr><tr><td>Lakenya</td><td>1</td><td>0</td></tr><tr><td>Katelin</td><td>1</td><td>0</td></tr><tr><td>Jone</td><td>1</td><td>0</td></tr><tr><td>Ezra</td><td>2</td><td>0</td></tr><tr><td>Marlo</td><td>1</td><td>0</td></tr><tr><td>Cherelle</td><td>1</td><td>0</td></tr><tr><td>Tressa</td><td>1</td><td>0</td></tr><tr><td>Crysta</td><td>1</td><td>0</td></tr><tr><td>Hassan</td><td>1</td><td>0</td></tr><tr><td>Cher</td><td>1</td><td>0</td></tr><tr><td>Dottie</td><td>1</td><td>0</td></tr><tr><td>Kelsey</td><td>1</td><td>0</td></tr><tr><td>Janae</td><td>1</td><td>0</td></tr><tr><td>Shawnda</td><td>1</td><td>0</td></tr><tr><td>Jana</td><td>1</td><td>0</td></tr><tr><td>Tonja</td><td>2</td><td>0</td></tr><tr><td>Jimmy</td><td>1</td><td>0</td></tr><tr><td>Dorine</td><td>2</td><td>0</td></tr><tr><td>Janine</td><td>1</td><td>0</td></tr><tr><td>Mellisa</td><td>3</td><td>0</td></tr><tr><td>Bart</td><td>1</td><td>0</td></tr><tr><td>Vonda</td><td>1</td><td>0</td></tr><tr><td>Lanie</td><td>1</td><td>0</td></tr><tr><td>Lucile</td><td>1</td><td>0</td></tr><tr><td>Takako</td><td>1</td><td>0</td></tr><tr><td>Trisha</td><td>1</td><td>0</td></tr><tr><td>Zella</td><td>1</td><td>0</td></tr><tr><td>Alita</td><td>1</td><td>0</td></tr><tr><td>Novella</td><td>2</td><td>0</td></tr><tr><td>Shanna</td><td>1</td><td>0</td></tr><tr><td>Gilberto</td><td>2</td><td>0</td></tr><tr><td>Brain</td><td>1</td><td>0</td></tr><tr><td>Lenore</td><td>1</td><td>0</td></tr><tr><td>Bridgette</td><td>1</td><td>0</td></tr><tr><td>Pearl</td><td>1</td><td>0</td></tr><tr><td>Genny</td><td>2</td><td>0</td></tr><tr><td>Carolyne</td><td>1</td><td>0</td></tr><tr><td>Jule</td><td>1</td><td>0</td></tr><tr><td>Carlie</td><td>1</td><td>0</td></tr><tr><td>Kimbery</td><td>1</td><td>0</td></tr><tr><td>Gustavo</td><td>1</td><td>0</td></tr><tr><td>Dalia</td><td>1</td><td>0</td></tr><tr><td>Whitley</td><td>1</td><td>0</td></tr><tr><td>Shayla</td><td>1</td><td>0</td></tr><tr><td>Hortencia</td><td>2</td><td>0</td></tr><tr><td>Antonetta</td><td>1</td><td>0</td></tr><tr><td>Tena</td><td>2</td><td>0</td></tr><tr><td>Inez</td><td>1</td><td>0</td></tr><tr><td>Eliseo</td><td>1</td><td>0</td></tr><tr><td>Georgeann</td><td>2</td><td>0</td></tr><tr><td>Olevia</td><td>2</td><td>0</td></tr><tr><td>Johna</td><td>1</td><td>0</td></tr><tr><td>Lavona</td><td>1</td><td>0</td></tr><tr><td>Alina</td><td>1</td><td>0</td></tr><tr><td>Barrett</td><td>1</td><td>0</td></tr><tr><td>Vallie</td><td>1</td><td>0</td></tr><tr><td>Shanti</td><td>1</td><td>0</td></tr><tr><td>Bobbie</td><td>1</td><td>0</td></tr><tr><td>Raul</td><td>1</td><td>0</td></tr><tr><td>Julee</td><td>1</td><td>0</td></tr><tr><td>Terese</td><td>2</td><td>0</td></tr><tr><td>Edda</td><td>1</td><td>0</td></tr><tr><td>Toshia</td><td>1</td><td>0</td></tr><tr><td>Marisa</td><td>1</td><td>0</td></tr><tr><td>Lilliam</td><td>1</td><td>0</td></tr><tr><td>Rodolfo</td><td>1</td><td>0</td></tr><tr><td>Leila</td><td>1</td><td>0</td></tr><tr><td>Houston</td><td>1</td><td>0</td></tr><tr><td>Omega</td><td>2</td><td>0</td></tr><tr><td>Terrance</td><td>1</td><td>0</td></tr><tr><td>George</td><td>1</td><td>0</td></tr><tr><td>Melia</td><td>1</td><td>0</td></tr><tr><td>Tu</td><td>1</td><td>0</td></tr><tr><td>Felice</td><td>1</td><td>0</td></tr><tr><td>Ashlee</td><td>1</td><td>0</td></tr><tr><td>Margret</td><td>1</td><td>0</td></tr><tr><td>Verna</td><td>1</td><td>0</td></tr><tr><td>Khalilah</td><td>1</td><td>0</td></tr><tr><td>Emmaline</td><td>1</td><td>0</td></tr><tr><td>Nubia</td><td>1</td><td>0</td></tr><tr><td>Kenyetta</td><td>1</td><td>0</td></tr><tr><td>Jesus</td><td>1</td><td>0</td></tr><tr><td>Violet</td><td>1</td><td>0</td></tr><tr><td>Larae</td><td>1</td><td>0</td></tr><tr><td>Marina</td><td>1</td><td>0</td></tr><tr><td>Maryalice</td><td>1</td><td>0</td></tr><tr><td>Sherise</td><td>1</td><td>0</td></tr><tr><td>Cori</td><td>1</td><td>0</td></tr><tr><td>Myrtle</td><td>1</td><td>0</td></tr><tr><td>Rozanne</td><td>1</td><td>0</td></tr><tr><td>Candis</td><td>1</td><td>0</td></tr><tr><td>Stephaine</td><td>1</td><td>0</td></tr><tr><td>Keturah</td><td>2</td><td>0</td></tr><tr><td>Rosalva</td><td>1</td><td>0</td></tr><tr><td>Elmira</td><td>1</td><td>0</td></tr><tr><td>Latasha</td><td>2</td><td>0</td></tr><tr><td>Ivonne</td><td>1</td><td>0</td></tr><tr><td>Daisy</td><td>1</td><td>0</td></tr><tr><td>Erlene</td><td>1</td><td>0</td></tr><tr><td>Carroll</td><td>1</td><td>0</td></tr><tr><td>Larissa</td><td>1</td><td>0</td></tr><tr><td>Marcene</td><td>1</td><td>0</td></tr><tr><td>Shawnna</td><td>1</td><td>0</td></tr><tr><td>Brigid</td><td>1</td><td>0</td></tr><tr><td>Andy</td><td>1</td><td>0</td></tr><tr><td>Yevette</td><td>2</td><td>0</td></tr><tr><td>Alissa</td><td>2</td><td>0</td></tr><tr><td>Gussie</td><td>1</td><td>0</td></tr><tr><td>Eliana</td><td>2</td><td>0</td></tr><tr><td>Magda</td><td>1</td><td>0</td></tr><tr><td>Krystin</td><td>1</td><td>0</td></tr><tr><td>Luciano</td><td>1</td><td>0</td></tr><tr><td>Luciana</td><td>1</td><td>0</td></tr><tr><td>Kandis</td><td>1</td><td>0</td></tr><tr><td>Ruth</td><td>1</td><td>0</td></tr><tr><td>Leeanne</td><td>1</td><td>0</td></tr><tr><td>Casey</td><td>1</td><td>0</td></tr><tr><td>Jerlene</td><td>1</td><td>0</td></tr><tr><td>Lashandra</td><td>1</td><td>0</td></tr><tr><td>Ethelyn</td><td>1</td><td>0</td></tr><tr><td>Nikita</td><td>1</td><td>0</td></tr><tr><td>America</td><td>1</td><td>0</td></tr><tr><td>Tommie</td><td>2</td><td>0</td></tr><tr><td>Jenniffer</td><td>1</td><td>0</td></tr><tr><td>Hee</td><td>1</td><td>0</td></tr><tr><td>Rudolf</td><td>2</td><td>0</td></tr><tr><td>Arnita</td><td>1</td><td>0</td></tr><tr><td>Cira</td><td>1</td><td>0</td></tr><tr><td>Carina</td><td>1</td><td>0</td></tr><tr><td>Odette</td><td>1</td><td>0</td></tr><tr><td>Lucy</td><td>1</td><td>0</td></tr><tr><td>Molly</td><td>1</td><td>0</td></tr><tr><td>Deja</td><td>1</td><td>0</td></tr><tr><td>Latricia</td><td>1</td><td>0</td></tr><tr><td>Felica</td><td>1</td><td>0</td></tr><tr><td>Zora</td><td>1</td><td>0</td></tr><tr><td>Jacquline</td><td>1</td><td>0</td></tr><tr><td>Regenia</td><td>1</td><td>0</td></tr><tr><td>Bernetta</td><td>2</td><td>0</td></tr><tr><td>Lory</td><td>2</td><td>0</td></tr><tr><td>Loreta</td><td>1</td><td>0</td></tr><tr><td>Justin</td><td>1</td><td>0</td></tr><tr><td>Jeffry</td><td>1</td><td>0</td></tr><tr><td>Taisha</td><td>1</td><td>0</td></tr><tr><td>Darcel</td><td>1</td><td>0</td></tr><tr><td>Han</td><td>2</td><td>0</td></tr><tr><td>Douglas</td><td>1</td><td>0</td></tr><tr><td>Waldo</td><td>1</td><td>0</td></tr><tr><td>Ai</td><td>1</td><td>0</td></tr><tr><td>Alishia</td><td>1</td><td>0</td></tr><tr><td>Aaron</td><td>1</td><td>0</td></tr><tr><td>Rudolph</td><td>1</td><td>0</td></tr><tr><td>Trudy</td><td>1</td><td>0</td></tr><tr><td>Tarra</td><td>1</td><td>0</td></tr><tr><td>Tameka</td><td>1</td><td>0</td></tr><tr><td>Melani</td><td>1</td><td>0</td></tr><tr><td>Jeannie</td><td>1</td><td>0</td></tr><tr><td>Shirely</td><td>2</td><td>0</td></tr><tr><td>Ladawn</td><td>1</td><td>0</td></tr><tr><td>Brigida</td><td>1</td><td>0</td></tr><tr><td>Dante</td><td>1</td><td>0</td></tr><tr><td>Miranda</td><td>1</td><td>0</td></tr><tr><td>Araceli</td><td>1</td><td>0</td></tr><tr><td>Jeniffer</td><td>2</td><td>0</td></tr><tr><td>Tina</td><td>1</td><td>0</td></tr><tr><td>Domingo</td><td>1</td><td>0</td></tr><tr><td>Jane</td><td>1</td><td>0</td></tr><tr><td>Ryan</td><td>1</td><td>0</td></tr><tr><td>Destiny</td><td>1</td><td>0</td></tr><tr><td>Georgetta</td><td>1</td><td>0</td></tr><tr><td>Williemae</td><td>1</td><td>0</td></tr><tr><td>Rochelle</td><td>1</td><td>0</td></tr><tr><td>Loraine</td><td>1</td><td>0</td></tr><tr><td>Kermit</td><td>2</td><td>0</td></tr><tr><td>Lorraine</td><td>1</td><td>0</td></tr><tr><td>Rolanda</td><td>1</td><td>0</td></tr><tr><td>Mina</td><td>1</td><td>0</td></tr><tr><td>Kecia</td><td>1</td><td>0</td></tr><tr><td>Eldridge</td><td>1</td><td>0</td></tr><tr><td>Elease</td><td>1</td><td>0</td></tr><tr><td>Shasta</td><td>1</td><td>0</td></tr><tr><td>Alisia</td><td>1</td><td>0</td></tr><tr><td>Jayne</td><td>1</td><td>0</td></tr><tr><td>Miquel</td><td>1</td><td>0</td></tr><tr><td>Kylee</td><td>1</td><td>0</td></tr><tr><td>Ashlie</td><td>1</td><td>0</td></tr><tr><td>Sung</td><td>1</td><td>0</td></tr><tr><td>Lashunda</td><td>1</td><td>0</td></tr><tr><td>Mariana</td><td>1</td><td>0</td></tr><tr><td>Ellena</td><td>1</td><td>0</td></tr><tr><td>Kimberely</td><td>1</td><td>0</td></tr><tr><td>Oralia</td><td>1</td><td>0</td></tr><tr><td>Rosamaria</td><td>1</td><td>0</td></tr><tr><td>Lissa</td><td>1</td><td>0</td></tr><tr><td>Cindi</td><td>2</td><td>0</td></tr><tr><td>Suellen</td><td>1</td><td>0</td></tr><tr><td>Major</td><td>1</td><td>0</td></tr><tr><td>Lara</td><td>1</td><td>0</td></tr><tr><td>Serafina</td><td>1</td><td>0</td></tr><tr><td>Hildegarde</td><td>1</td><td>0</td></tr><tr><td>Karren</td><td>2</td><td>0</td></tr><tr><td>Tona</td><td>1</td><td>0</td></tr><tr><td>Ulrike</td><td>1</td><td>0</td></tr><tr><td>Mariette</td><td>1</td><td>0</td></tr><tr><td>Douglass</td><td>2</td><td>0</td></tr><tr><td>Lean</td><td>1</td><td>0</td></tr><tr><td>Melodie</td><td>1</td><td>0</td></tr><tr><td>Cecil</td><td>1</td><td>0</td></tr><tr><td>Edythe</td><td>1</td><td>0</td></tr><tr><td>Claudio</td><td>1</td><td>0</td></tr><tr><td>Sophia</td><td>1</td><td>0</td></tr><tr><td>Eun</td><td>1</td><td>0</td></tr><tr><td>Tessie</td><td>1</td><td>0</td></tr><tr><td>Olympia</td><td>1</td><td>0</td></tr><tr><td>Willian</td><td>1</td><td>0</td></tr><tr><td>Dann</td><td>1</td><td>0</td></tr><tr><td>Adelle</td><td>1</td><td>0</td></tr><tr><td>Jacalyn</td><td>1</td><td>0</td></tr><tr><td>Earline</td><td>2</td><td>0</td></tr><tr><td>Romelia</td><td>1</td><td>0</td></tr><tr><td>Robena</td><td>1</td><td>0</td></tr><tr><td>Marquerite</td><td>1</td><td>0</td></tr><tr><td>Ashely</td><td>1</td><td>0</td></tr><tr><td>Max</td><td>1</td><td>0</td></tr><tr><td>Jenine</td><td>2</td><td>0</td></tr><tr><td>Paul</td><td>1</td><td>0</td></tr><tr><td>Senaida</td><td>1</td><td>0</td></tr><tr><td>Yun</td><td>1</td><td>0</td></tr><tr><td>Ruthanne</td><td>2</td><td>0</td></tr><tr><td>Alexis</td><td>1</td><td>0</td></tr><tr><td>Florrie</td><td>1</td><td>0</td></tr><tr><td>Klara</td><td>3</td><td>0</td></tr><tr><td>Jennette</td><td>2</td><td>0</td></tr><tr><td>Caroline</td><td>1</td><td>0</td></tr><tr><td>Benny</td><td>1</td><td>0</td></tr><tr><td>Jewel</td><td>1</td><td>0</td></tr><tr><td>Qiana</td><td>1</td><td>0</td></tr><tr><td>Neoma</td><td>1</td><td>0</td></tr><tr><td>Grisel</td><td>1</td><td>0</td></tr><tr><td>Tomika</td><td>2</td><td>0</td></tr><tr><td>Narcisa</td><td>1</td><td>0</td></tr><tr><td>Lonna</td><td>1</td><td>0</td></tr><tr><td>Delmar</td><td>1</td><td>0</td></tr><tr><td>Carlena</td><td>1</td><td>0</td></tr><tr><td>Trista</td><td>1</td><td>0</td></tr><tr><td>Deane</td><td>1</td><td>0</td></tr><tr><td>Alejandro</td><td>2</td><td>0</td></tr><tr><td>Sherie</td><td>1</td><td>0</td></tr><tr><td>Joni</td><td>1</td><td>0</td></tr><tr><td>Alysia</td><td>1</td><td>0</td></tr><tr><td>Garry</td><td>2</td><td>0</td></tr><tr><td>Manie</td><td>2</td><td>0</td></tr><tr><td>Rubin</td><td>1</td><td>0</td></tr><tr><td>Effie</td><td>1</td><td>0</td></tr><tr><td>Yang</td><td>2</td><td>0</td></tr><tr><td>Lashawn</td><td>1</td><td>0</td></tr><tr><td>Winfred</td><td>1</td><td>0</td></tr><tr><td>Antony</td><td>1</td><td>0</td></tr><tr><td>Yahaira</td><td>1</td><td>0</td></tr><tr><td>Aisha</td><td>1</td><td>0</td></tr><tr><td>Renna</td><td>1</td><td>0</td></tr><tr><td>Cassie</td><td>1</td><td>0</td></tr><tr><td>Fran</td><td>1</td><td>0</td></tr><tr><td>Jenise</td><td>1</td><td>0</td></tr><tr><td>Lavonne</td><td>1</td><td>0</td></tr><tr><td>Lea</td><td>2</td><td>0</td></tr><tr><td>Basilia</td><td>1</td><td>0</td></tr><tr><td>Lee</td><td>2</td><td>0</td></tr><tr><td>Jewell</td><td>1</td><td>0</td></tr><tr><td>Desmond</td><td>1</td><td>0</td></tr><tr><td>Annabelle</td><td>1</td><td>0</td></tr><tr><td>Bella</td><td>1</td><td>0</td></tr><tr><td>Tilda</td><td>1</td><td>0</td></tr><tr><td>Bettyann</td><td>1</td><td>0</td></tr><tr><td>Bethany</td><td>1</td><td>0</td></tr><tr><td>Marvin</td><td>1</td><td>0</td></tr><tr><td>Carissa</td><td>2</td><td>0</td></tr><tr><td>Charmain</td><td>1</td><td>0</td></tr><tr><td>Shanita</td><td>1</td><td>0</td></tr><tr><td>Jong</td><td>1</td><td>0</td></tr><tr><td>Lyndsey</td><td>1</td><td>0</td></tr><tr><td>Petronila</td><td>2</td><td>0</td></tr><tr><td>Alpha</td><td>1</td><td>0</td></tr><tr><td>Shiela</td><td>1</td><td>0</td></tr><tr><td>Alfredo</td><td>1</td><td>0</td></tr><tr><td>Hae</td><td>1</td><td>0</td></tr><tr><td>Marcell</td><td>1</td><td>0</td></tr><tr><td>Kendra</td><td>1</td><td>0</td></tr><tr><td>Floretta</td><td>1</td><td>0</td></tr><tr><td>Karla</td><td>1</td><td>0</td></tr><tr><td>Tisa</td><td>1</td><td>0</td></tr><tr><td>Nelle</td><td>1</td><td>0</td></tr><tr><td>Nathalie</td><td>1</td><td>0</td></tr><tr><td>Parker</td><td>1</td><td>0</td></tr><tr><td>Somer</td><td>1</td><td>0</td></tr><tr><td>Tam</td><td>1</td><td>0</td></tr><tr><td>Mica</td><td>1</td><td>0</td></tr><tr><td>Deshawn</td><td>1</td><td>0</td></tr><tr><td>Elinore</td><td>1</td><td>0</td></tr><tr><td>Zina</td><td>1</td><td>0</td></tr><tr><td>Sarita</td><td>1</td><td>0</td></tr><tr><td>Kirstie</td><td>1</td><td>0</td></tr><tr><td>Neville</td><td>1</td><td>0</td></tr><tr><td>Phyllis</td><td>1</td><td>0</td></tr><tr><td>Hye</td><td>1</td><td>0</td></tr><tr><td>Mechelle</td><td>1</td><td>0</td></tr><tr><td>Angelika</td><td>1</td><td>0</td></tr><tr><td>Rutha</td><td>1</td><td>0</td></tr><tr><td>Monty</td><td>1</td><td>0</td></tr><tr><td>Yanira</td><td>1</td><td>0</td></tr><tr><td>Vinnie</td><td>1</td><td>0</td></tr><tr><td>Christia</td><td>2</td><td>0</td></tr><tr><td>Aron</td><td>1</td><td>0</td></tr><tr><td>Hipolito</td><td>1</td><td>0</td></tr><tr><td>Etsuko</td><td>1</td><td>0</td></tr><tr><td>Theresia</td><td>1</td><td>0</td></tr><tr><td>Leslie</td><td>1</td><td>0</td></tr><tr><td>Alden</td><td>1</td><td>0</td></tr><tr><td>Victor</td><td>1</td><td>0</td></tr><tr><td>Guillermina</td><td>1</td><td>0</td></tr><tr><td>Shae</td><td>1</td><td>0</td></tr><tr><td>Mi</td><td>1</td><td>0</td></tr><tr><td>Carter</td><td>2</td><td>0</td></tr><tr><td>Danilo</td><td>1</td><td>0</td></tr><tr><td>Laverne</td><td>1</td><td>0</td></tr><tr><td>Doreatha</td><td>1</td><td>0</td></tr><tr><td>Ouida</td><td>1</td><td>0</td></tr><tr><td>Malisa</td><td>1</td><td>0</td></tr><tr><td>Bernardina</td><td>1</td><td>0</td></tr><tr><td>Christel</td><td>2</td><td>0</td></tr><tr><td>Pasquale</td><td>1</td><td>0</td></tr><tr><td>Juliane</td><td>1</td><td>0</td></tr><tr><td>Penni</td><td>1</td><td>0</td></tr><tr><td>Cameron</td><td>1</td><td>0</td></tr><tr><td>Garret</td><td>1</td><td>0</td></tr><tr><td>Ilda</td><td>1</td><td>0</td></tr><tr><td>Hollis</td><td>1</td><td>0</td></tr><tr><td>Ja</td><td>1</td><td>0</td></tr><tr><td>Leticia</td><td>1</td><td>0</td></tr><tr><td>Dortha</td><td>1</td><td>0</td></tr><tr><td>Leland</td><td>1</td><td>0</td></tr><tr><td>Carolann</td><td>1</td><td>0</td></tr><tr><td>Romeo</td><td>1</td><td>0</td></tr><tr><td>Kami</td><td>1</td><td>0</td></tr><tr><td>Veronique</td><td>1</td><td>0</td></tr><tr><td>Crystle</td><td>1</td><td>0</td></tr><tr><td>Babara</td><td>1</td><td>0</td></tr><tr><td>Romaine</td><td>2</td><td>0</td></tr><tr><td>Coleen</td><td>1</td><td>0</td></tr></tbody></table></div>"
      ]
     },
     "metadata": {
      "application/vnd.databricks.v1+output": {
       "addedWidgets": {},
       "aggData": [],
       "aggError": "",
       "aggOverflow": false,
       "aggSchema": [],
       "aggSeriesLimitReached": false,
       "aggType": "",
       "arguments": {},
       "columnCustomDisplayInfos": {},
       "data": [
        [
         "Merlene",
         1,
         0
        ],
        [
         "Kiana",
         1,
         0
        ],
        [
         "Leola",
         1,
         0
        ],
        [
         "Eliz",
         2,
         0
        ],
        [
         "Laurence",
         1,
         0
        ],
        [
         "Julianne",
         1,
         0
        ],
        [
         "Angelina",
         1,
         0
        ],
        [
         "Myesha",
         1,
         0
        ],
        [
         "Rod",
         1,
         0
        ],
        [
         "Aubrey",
         1,
         0
        ],
        [
         "Emmitt",
         1,
         0
        ],
        [
         "Damien",
         1,
         0
        ],
        [
         "Laraine",
         1,
         0
        ],
        [
         "Jeanett",
         1,
         0
        ],
        [
         "Dori",
         1,
         0
        ],
        [
         "Porter",
         1,
         0
        ],
        [
         "Pandora",
         1,
         0
        ],
        [
         "Bong",
         1,
         0
        ],
        [
         "Hope",
         1,
         0
        ],
        [
         "Mathilda",
         1,
         0
        ],
        [
         "Lavonda",
         1,
         0
        ],
        [
         "Kristy",
         1,
         0
        ],
        [
         "Elvia",
         1,
         0
        ],
        [
         "Junita",
         1,
         0
        ],
        [
         "Chantell",
         1,
         0
        ],
        [
         "Carman",
         1,
         0
        ],
        [
         "Lurlene",
         2,
         0
        ],
        [
         "Chi",
         1,
         0
        ],
        [
         "Shena",
         1,
         0
        ],
        [
         "Marni",
         1,
         0
        ],
        [
         "Cassondra",
         1,
         0
        ],
        [
         "Kaci",
         1,
         0
        ],
        [
         "Charleen",
         2,
         0
        ],
        [
         "Grace",
         1,
         0
        ],
        [
         "Lucas",
         1,
         0
        ],
        [
         "Daphine",
         1,
         0
        ],
        [
         "Mercy",
         1,
         0
        ],
        [
         "Nanette",
         2,
         0
        ],
        [
         "Jina",
         1,
         0
        ],
        [
         "Nicki",
         2,
         0
        ],
        [
         "Lucilla",
         1,
         0
        ],
        [
         "Katina",
         1,
         0
        ],
        [
         "Almeta",
         1,
         0
        ],
        [
         "Bronwyn",
         1,
         0
        ],
        [
         "Kate",
         1,
         0
        ],
        [
         "Boyd",
         1,
         0
        ],
        [
         "Sherita",
         1,
         0
        ],
        [
         "Wm",
         1,
         0
        ],
        [
         "Frederica",
         1,
         0
        ],
        [
         "Elma",
         1,
         0
        ],
        [
         "Santos",
         1,
         0
        ],
        [
         "Randee",
         2,
         0
        ],
        [
         "Steve",
         1,
         0
        ],
        [
         "Adena",
         1,
         0
        ],
        [
         "Ping",
         1,
         0
        ],
        [
         "Wendie",
         1,
         0
        ],
        [
         "Josh",
         1,
         0
        ],
        [
         "Angie",
         1,
         0
        ],
        [
         "Terra",
         1,
         0
        ],
        [
         "Letty",
         1,
         0
        ],
        [
         "Lanelle",
         1,
         0
        ],
        [
         "Patria",
         1,
         0
        ],
        [
         "Beatris",
         1,
         0
        ],
        [
         "Jerald",
         1,
         0
        ],
        [
         "Dane",
         1,
         0
        ],
        [
         "Kallie",
         1,
         0
        ],
        [
         "Vernetta",
         1,
         0
        ],
        [
         "Jaqueline",
         1,
         0
        ],
        [
         "Loan",
         1,
         0
        ],
        [
         "Mikel",
         1,
         0
        ],
        [
         "Zona",
         1,
         0
        ],
        [
         "Walton",
         1,
         0
        ],
        [
         "Natosha",
         1,
         0
        ],
        [
         "Shaunda",
         1,
         0
        ],
        [
         "Elouise",
         1,
         0
        ],
        [
         "Dannette",
         1,
         0
        ],
        [
         "Oliva",
         1,
         0
        ],
        [
         "Maira",
         1,
         0
        ],
        [
         "Louise",
         1,
         0
        ],
        [
         "Cheryll",
         1,
         0
        ],
        [
         "Le",
         2,
         0
        ],
        [
         "Fransisca",
         1,
         0
        ],
        [
         "Mary",
         1,
         0
        ],
        [
         "Clarita",
         1,
         0
        ],
        [
         "Dorothea",
         2,
         0
        ],
        [
         "Corrina",
         1,
         0
        ],
        [
         "Everett",
         1,
         0
        ],
        [
         "Yvette",
         1,
         0
        ],
        [
         "James",
         1,
         0
        ],
        [
         "Ocie",
         1,
         0
        ],
        [
         "Penny",
         1,
         0
        ],
        [
         "Burma",
         1,
         0
        ],
        [
         "Ernestina",
         1,
         0
        ],
        [
         "Josephine",
         1,
         0
        ],
        [
         "Samual",
         1,
         0
        ],
        [
         "Marjory",
         1,
         0
        ],
        [
         "Bao",
         1,
         0
        ],
        [
         "Bea",
         1,
         0
        ],
        [
         "Yan",
         2,
         0
        ],
        [
         "Erlinda",
         3,
         0
        ],
        [
         "Joi",
         1,
         0
        ],
        [
         "Norine",
         1,
         0
        ],
        [
         "Jenell",
         1,
         0
        ],
        [
         "Sanora",
         1,
         0
        ],
        [
         "Danielle",
         1,
         0
        ],
        [
         "Jennie",
         1,
         0
        ],
        [
         "Loni",
         2,
         0
        ],
        [
         "Camille",
         1,
         0
        ],
        [
         "Roseanne",
         1,
         0
        ],
        [
         "Daryl",
         1,
         0
        ],
        [
         "Latonya",
         1,
         0
        ],
        [
         "Clare",
         1,
         0
        ],
        [
         "Leigh",
         1,
         0
        ],
        [
         "Luz",
         1,
         0
        ],
        [
         "Ami",
         1,
         0
        ],
        [
         "Gertrude",
         1,
         0
        ],
        [
         "Sebrina",
         2,
         0
        ],
        [
         "Lamar",
         2,
         0
        ],
        [
         "Davis",
         1,
         0
        ],
        [
         "Parthenia",
         2,
         0
        ],
        [
         "Mercedez",
         1,
         0
        ],
        [
         "Onita",
         2,
         0
        ],
        [
         "Ramiro",
         1,
         0
        ],
        [
         "Jutta",
         1,
         0
        ],
        [
         "Hayden",
         1,
         0
        ],
        [
         "Charise",
         1,
         0
        ],
        [
         "Laure",
         1,
         0
        ],
        [
         "Tad",
         1,
         0
        ],
        [
         "Trinidad",
         2,
         0
        ],
        [
         "Hugh",
         1,
         0
        ],
        [
         "Clementine",
         1,
         0
        ],
        [
         "Candelaria",
         1,
         0
        ],
        [
         "Melita",
         1,
         0
        ],
        [
         "Loreen",
         1,
         0
        ],
        [
         "Ricki",
         1,
         0
        ],
        [
         "Wynona",
         1,
         0
        ],
        [
         "Latosha",
         1,
         0
        ],
        [
         "Collen",
         2,
         0
        ],
        [
         "Tora",
         1,
         0
        ],
        [
         "Linnie",
         1,
         0
        ],
        [
         "Nettie",
         1,
         0
        ],
        [
         "Rayford",
         1,
         0
        ],
        [
         "Leif",
         1,
         0
        ],
        [
         "Gayla",
         1,
         0
        ],
        [
         "Roy",
         1,
         0
        ],
        [
         "Macie",
         1,
         0
        ],
        [
         "Monika",
         1,
         0
        ],
        [
         "Romana",
         1,
         0
        ],
        [
         "Andria",
         1,
         0
        ],
        [
         "Alexandria",
         1,
         0
        ],
        [
         "Tempie",
         1,
         0
        ],
        [
         "Johnathan",
         1,
         0
        ],
        [
         "Kandi",
         1,
         0
        ],
        [
         "Launa",
         1,
         0
        ],
        [
         "Marisol",
         1,
         0
        ],
        [
         "Liliana",
         1,
         0
        ],
        [
         "Cicely",
         1,
         0
        ],
        [
         "Nichelle",
         2,
         0
        ],
        [
         "Queenie",
         1,
         0
        ],
        [
         "Barry",
         2,
         0
        ],
        [
         "Blanca",
         1,
         0
        ],
        [
         "Chasidy",
         2,
         0
        ],
        [
         "Sandy",
         1,
         0
        ],
        [
         "Laurette",
         1,
         0
        ],
        [
         "Jaimee",
         1,
         0
        ],
        [
         "Dorthea",
         1,
         0
        ],
        [
         "Zulema",
         2,
         0
        ],
        [
         "Earl",
         1,
         0
        ],
        [
         "Verdell",
         1,
         0
        ],
        [
         "Phuong",
         1,
         0
        ],
        [
         "Vernell",
         1,
         0
        ],
        [
         "Phillis",
         1,
         0
        ],
        [
         "Karl",
         1,
         0
        ],
        [
         "Jenee",
         1,
         0
        ],
        [
         "Tiny",
         1,
         0
        ],
        [
         "Christoper",
         2,
         0
        ],
        [
         "Corinna",
         1,
         0
        ],
        [
         "Annis",
         1,
         0
        ],
        [
         "Jeanice",
         1,
         0
        ],
        [
         "Jamaal",
         3,
         0
        ],
        [
         "Herlinda",
         1,
         0
        ],
        [
         "Tiana",
         1,
         0
        ],
        [
         "Reita",
         1,
         0
        ],
        [
         "Emelda",
         1,
         0
        ],
        [
         "Tomeka",
         1,
         0
        ],
        [
         "Marcy",
         1,
         0
        ],
        [
         "Clelia",
         1,
         0
        ],
        [
         "Pinkie",
         1,
         0
        ],
        [
         "Rosa",
         1,
         0
        ],
        [
         "Jenna",
         1,
         0
        ],
        [
         "Ashton",
         1,
         0
        ],
        [
         "Merlin",
         1,
         0
        ],
        [
         "Cris",
         1,
         0
        ],
        [
         "Inga",
         1,
         0
        ],
        [
         "Rebbecca",
         1,
         0
        ],
        [
         "Obdulia",
         1,
         0
        ],
        [
         "Christiana",
         1,
         0
        ],
        [
         "Dionne",
         1,
         0
        ],
        [
         "Catarina",
         1,
         0
        ],
        [
         "Gilberte",
         1,
         0
        ],
        [
         "Danyell",
         1,
         0
        ],
        [
         "Casimira",
         1,
         0
        ],
        [
         "Doris",
         1,
         0
        ],
        [
         "Carmelina",
         1,
         0
        ],
        [
         "Emanuel",
         1,
         0
        ],
        [
         "Delma",
         1,
         0
        ],
        [
         "Bennett",
         1,
         0
        ],
        [
         "Wilda",
         1,
         0
        ],
        [
         "Andreas",
         2,
         0
        ],
        [
         "Leanna",
         1,
         0
        ],
        [
         "Giselle",
         1,
         0
        ],
        [
         "Renita",
         1,
         0
        ],
        [
         "Shara",
         1,
         0
        ],
        [
         "Rodrigo",
         1,
         0
        ],
        [
         "Louanne",
         1,
         0
        ],
        [
         "Omer",
         1,
         0
        ],
        [
         "Kristen",
         1,
         0
        ],
        [
         "Holly",
         1,
         0
        ],
        [
         "Yu",
         1,
         0
        ],
        [
         "Debbra",
         1,
         0
        ],
        [
         "Jeffrey",
         1,
         0
        ],
        [
         "Minnie",
         1,
         0
        ],
        [
         "Joe",
         1,
         0
        ],
        [
         "Lizzie",
         1,
         0
        ],
        [
         "Addie",
         1,
         0
        ],
        [
         "Consuela",
         2,
         0
        ],
        [
         "Jeromy",
         2,
         0
        ],
        [
         "Morton",
         2,
         0
        ],
        [
         "Afton",
         1,
         0
        ],
        [
         "Marissa",
         1,
         0
        ],
        [
         "Rochell",
         1,
         0
        ],
        [
         "Guillermo",
         1,
         0
        ],
        [
         "Janie",
         1,
         0
        ],
        [
         "Karole",
         1,
         0
        ],
        [
         "Shauna",
         1,
         0
        ],
        [
         "Clorinda",
         1,
         0
        ],
        [
         "Thanh",
         1,
         0
        ],
        [
         "Izola",
         1,
         0
        ],
        [
         "Julienne",
         1,
         0
        ],
        [
         "Cathey",
         1,
         0
        ],
        [
         "Stefani",
         1,
         0
        ],
        [
         "Inger",
         1,
         0
        ],
        [
         "Lena",
         1,
         0
        ],
        [
         "Felicidad",
         1,
         0
        ],
        [
         "Nathaniel",
         2,
         0
        ],
        [
         "Armando",
         1,
         0
        ],
        [
         "Dale",
         1,
         0
        ],
        [
         "Magdalena",
         1,
         0
        ],
        [
         "Lavina",
         1,
         0
        ],
        [
         "Lore",
         1,
         0
        ],
        [
         "Sharell",
         1,
         0
        ],
        [
         "Bonita",
         1,
         0
        ],
        [
         "Desiree",
         1,
         0
        ],
        [
         "Caleb",
         1,
         0
        ],
        [
         "Agustina",
         1,
         0
        ],
        [
         "Shanelle",
         1,
         0
        ],
        [
         "Ernest",
         1,
         0
        ],
        [
         "Gabriela",
         1,
         0
        ],
        [
         "Claris",
         1,
         0
        ],
        [
         "Melanie",
         1,
         0
        ],
        [
         "Janelle",
         1,
         0
        ],
        [
         "Rosanne",
         1,
         0
        ],
        [
         "Olimpia",
         1,
         0
        ],
        [
         "Tonisha",
         1,
         0
        ],
        [
         "Penney",
         1,
         0
        ],
        [
         "Deloris",
         2,
         0
        ],
        [
         "Diana",
         3,
         0
        ],
        [
         "Trinity",
         1,
         0
        ],
        [
         "Herta",
         1,
         0
        ],
        [
         "Vernita",
         1,
         0
        ],
        [
         "Florencio",
         1,
         0
        ],
        [
         "Ara",
         1,
         0
        ],
        [
         "Desire",
         1,
         0
        ],
        [
         "Darren",
         1,
         0
        ],
        [
         "Homer",
         1,
         0
        ],
        [
         "Sheila",
         2,
         0
        ],
        [
         "Sharika",
         1,
         0
        ],
        [
         "Lynwood",
         1,
         0
        ],
        [
         "Jennell",
         1,
         0
        ],
        [
         "Weldon",
         1,
         0
        ],
        [
         "Augustus",
         2,
         0
        ],
        [
         "Brittni",
         1,
         0
        ],
        [
         "Reatha",
         1,
         0
        ],
        [
         "Twana",
         1,
         0
        ],
        [
         "Reyes",
         1,
         0
        ],
        [
         "Veronika",
         1,
         0
        ],
        [
         "Tenisha",
         1,
         0
        ],
        [
         "Teofila",
         1,
         0
        ],
        [
         "Thalia",
         2,
         0
        ],
        [
         "Elvera",
         1,
         0
        ],
        [
         "Rubye",
         1,
         0
        ],
        [
         "Ronald",
         1,
         0
        ],
        [
         "Katia",
         1,
         0
        ],
        [
         "Josie",
         1,
         0
        ],
        [
         "Jasmin",
         1,
         0
        ],
        [
         "Kaley",
         1,
         0
        ],
        [
         "Kathyrn",
         1,
         0
        ],
        [
         "Maple",
         1,
         0
        ],
        [
         "Theo",
         1,
         0
        ],
        [
         "Ashanti",
         2,
         0
        ],
        [
         "Verona",
         1,
         0
        ],
        [
         "Cecelia",
         1,
         0
        ],
        [
         "Catrice",
         1,
         0
        ],
        [
         "Mellie",
         1,
         0
        ],
        [
         "Hilda",
         1,
         0
        ],
        [
         "Myrl",
         1,
         0
        ],
        [
         "Stan",
         1,
         0
        ],
        [
         "Dewayne",
         1,
         0
        ],
        [
         "Kaylee",
         1,
         0
        ],
        [
         "Fairy",
         1,
         0
        ],
        [
         "Cassandra",
         1,
         0
        ],
        [
         "Trena",
         2,
         0
        ],
        [
         "Chloe",
         1,
         0
        ],
        [
         "Shanda",
         1,
         0
        ],
        [
         "Tayna",
         1,
         0
        ],
        [
         "Son",
         1,
         0
        ],
        [
         "Mozelle",
         1,
         0
        ],
        [
         "Titus",
         1,
         0
        ],
        [
         "Mazie",
         1,
         0
        ],
        [
         "Elanor",
         1,
         0
        ],
        [
         "Cyndi",
         2,
         0
        ],
        [
         "Fannie",
         1,
         0
        ],
        [
         "Alanna",
         1,
         0
        ],
        [
         "Raphael",
         1,
         0
        ],
        [
         "Arla",
         1,
         0
        ],
        [
         "Lorrie",
         3,
         0
        ],
        [
         "Arvilla",
         2,
         0
        ],
        [
         "Carola",
         3,
         0
        ],
        [
         "Berna",
         1,
         0
        ],
        [
         "Emmett",
         2,
         0
        ],
        [
         "Christopher",
         1,
         0
        ],
        [
         "Lise",
         2,
         0
        ],
        [
         "Lynn",
         1,
         0
        ],
        [
         "Katherin",
         1,
         0
        ],
        [
         "Nicola",
         1,
         0
        ],
        [
         "Moses",
         1,
         0
        ],
        [
         "Lidia",
         1,
         0
        ],
        [
         "Kara",
         1,
         0
        ],
        [
         "Nenita",
         1,
         0
        ],
        [
         "Ophelia",
         2,
         0
        ],
        [
         "Nakisha",
         1,
         0
        ],
        [
         "Edris",
         1,
         0
        ],
        [
         "Sharla",
         1,
         0
        ],
        [
         "Vikki",
         1,
         0
        ],
        [
         "Vashti",
         1,
         0
        ],
        [
         "Corrinne",
         1,
         0
        ],
        [
         "Barbra",
         1,
         0
        ],
        [
         "Aimee",
         1,
         0
        ],
        [
         "Vince",
         1,
         0
        ],
        [
         "Serina",
         1,
         0
        ],
        [
         "Euna",
         1,
         0
        ],
        [
         "Letisha",
         1,
         0
        ],
        [
         "Anisha",
         1,
         0
        ],
        [
         "Latoya",
         1,
         0
        ],
        [
         "Lynda",
         1,
         0
        ],
        [
         "Sherril",
         1,
         0
        ],
        [
         "Joeann",
         1,
         0
        ],
        [
         "Joesph",
         1,
         0
        ],
        [
         "Chelsey",
         2,
         0
        ],
        [
         "Chere",
         3,
         0
        ],
        [
         "Luke",
         2,
         0
        ],
        [
         "India",
         1,
         0
        ],
        [
         "Krissy",
         1,
         0
        ],
        [
         "Janella",
         1,
         0
        ],
        [
         "Tajuana",
         2,
         0
        ],
        [
         "Rory",
         1,
         0
        ],
        [
         "Raymonde",
         1,
         0
        ],
        [
         "Jerri",
         2,
         0
        ],
        [
         "Ardelia",
         1,
         0
        ],
        [
         "Whitney",
         2,
         0
        ],
        [
         "Delila",
         1,
         0
        ],
        [
         "Jayme",
         1,
         0
        ],
        [
         "Collene",
         2,
         0
        ],
        [
         "Larraine",
         1,
         0
        ],
        [
         "Lecia",
         1,
         0
        ],
        [
         "Amina",
         1,
         0
        ],
        [
         "Ling",
         1,
         0
        ],
        [
         "Kiesha",
         1,
         0
        ],
        [
         "Shonta",
         2,
         0
        ],
        [
         "Danny",
         1,
         0
        ],
        [
         "Lashawna",
         1,
         0
        ],
        [
         "Amparo",
         1,
         0
        ],
        [
         "Kristofer",
         1,
         0
        ],
        [
         "Tania",
         1,
         0
        ],
        [
         "Hermila",
         1,
         0
        ],
        [
         "Venus",
         1,
         0
        ],
        [
         "Lenita",
         1,
         0
        ],
        [
         "Merrie",
         1,
         0
        ],
        [
         "Monica",
         1,
         0
        ],
        [
         "Alejandrina",
         1,
         0
        ],
        [
         "Willetta",
         1,
         0
        ],
        [
         "Buford",
         2,
         0
        ],
        [
         "Alesia",
         1,
         0
        ],
        [
         "Bess",
         1,
         0
        ],
        [
         "Todd",
         1,
         0
        ],
        [
         "Piedad",
         1,
         0
        ],
        [
         "Dione",
         1,
         0
        ],
        [
         "Cinda",
         1,
         0
        ],
        [
         "Nevada",
         1,
         0
        ],
        [
         "Delbert",
         1,
         0
        ],
        [
         "Mable",
         1,
         0
        ],
        [
         "Loise",
         1,
         0
        ],
        [
         "Lynne",
         1,
         0
        ],
        [
         "Skye",
         1,
         0
        ],
        [
         "Genevie",
         1,
         0
        ],
        [
         "Starr",
         1,
         0
        ],
        [
         "Rona",
         1,
         0
        ],
        [
         "Gilma",
         1,
         0
        ],
        [
         "Darcie",
         1,
         0
        ],
        [
         "Elmo",
         2,
         0
        ],
        [
         "Patsy",
         1,
         0
        ],
        [
         "Jerome",
         1,
         0
        ],
        [
         "Gabriel",
         2,
         0
        ],
        [
         "Zenia",
         1,
         0
        ],
        [
         "Lillia",
         1,
         0
        ],
        [
         "Lekisha",
         1,
         0
        ],
        [
         "Dollie",
         1,
         0
        ],
        [
         "Boyce",
         1,
         0
        ],
        [
         "Zoraida",
         1,
         0
        ],
        [
         "Shery",
         2,
         0
        ],
        [
         "Jonell",
         1,
         0
        ],
        [
         "Lois",
         1,
         0
        ],
        [
         "Margaretta",
         1,
         0
        ],
        [
         "Brenton",
         1,
         0
        ],
        [
         "Cheree",
         1,
         0
        ],
        [
         "Farrah",
         1,
         0
        ],
        [
         "Miriam",
         1,
         0
        ],
        [
         "Lucio",
         1,
         0
        ],
        [
         "Thad",
         2,
         0
        ],
        [
         "Eric",
         1,
         0
        ],
        [
         "Venessa",
         1,
         0
        ],
        [
         "Coleman",
         1,
         0
        ],
        [
         "Santa",
         1,
         0
        ],
        [
         "Sandee",
         1,
         0
        ],
        [
         "Marjorie",
         1,
         0
        ],
        [
         "Kam",
         1,
         0
        ],
        [
         "Harris",
         1,
         0
        ],
        [
         "Ginette",
         1,
         0
        ],
        [
         "Honey",
         1,
         0
        ],
        [
         "Ilona",
         1,
         0
        ],
        [
         "Willow",
         1,
         0
        ],
        [
         "Tisha",
         1,
         0
        ],
        [
         "Ester",
         1,
         0
        ],
        [
         "Ulysses",
         1,
         0
        ],
        [
         "Heather",
         2,
         0
        ],
        [
         "Shemeka",
         1,
         0
        ],
        [
         "Conception",
         1,
         0
        ],
        [
         "Iola",
         1,
         0
        ],
        [
         "Danille",
         1,
         0
        ],
        [
         "Sarah",
         1,
         0
        ],
        [
         "Demarcus",
         1,
         0
        ],
        [
         "Rico",
         1,
         0
        ],
        [
         "Carson",
         1,
         0
        ],
        [
         "Chauncey",
         1,
         0
        ],
        [
         "Bobbi",
         1,
         0
        ],
        [
         "Ingeborg",
         1,
         0
        ],
        [
         "Lavinia",
         1,
         0
        ],
        [
         "Gena",
         1,
         0
        ],
        [
         "Abram",
         1,
         0
        ],
        [
         "Allie",
         1,
         0
        ],
        [
         "Corina",
         1,
         0
        ],
        [
         "Lavette",
         1,
         0
        ],
        [
         "Anderson",
         1,
         0
        ],
        [
         "Garland",
         1,
         0
        ],
        [
         "Ashleigh",
         2,
         0
        ],
        [
         "Spring",
         1,
         0
        ],
        [
         "Gilbert",
         1,
         0
        ],
        [
         "Brianna",
         1,
         0
        ],
        [
         "Myron",
         2,
         0
        ],
        [
         "Donnetta",
         1,
         0
        ],
        [
         "Drucilla",
         1,
         0
        ],
        [
         "Jackeline",
         1,
         0
        ],
        [
         "Ebony",
         1,
         0
        ],
        [
         "Vance",
         1,
         0
        ],
        [
         "Mia",
         1,
         0
        ],
        [
         "Martha",
         1,
         0
        ],
        [
         "Ghislaine",
         1,
         0
        ],
        [
         "Deandrea",
         2,
         0
        ],
        [
         "Tuyet",
         1,
         0
        ],
        [
         "Tobie",
         1,
         0
        ],
        [
         "Brenda",
         1,
         0
        ],
        [
         "Tricia",
         1,
         0
        ],
        [
         "Shenna",
         2,
         0
        ],
        [
         "Marlen",
         1,
         0
        ],
        [
         "Sally",
         1,
         0
        ],
        [
         "Ross",
         1,
         0
        ],
        [
         "Cristobal",
         1,
         0
        ],
        [
         "Bev",
         1,
         0
        ],
        [
         "Deanne",
         1,
         0
        ],
        [
         "Derrick",
         1,
         0
        ],
        [
         "Zelda",
         1,
         0
        ],
        [
         "Giovanna",
         1,
         0
        ],
        [
         "Donovan",
         1,
         0
        ],
        [
         "Lolita",
         2,
         0
        ],
        [
         "Toya",
         1,
         0
        ],
        [
         "Mireille",
         1,
         0
        ],
        [
         "Virgen",
         1,
         0
        ],
        [
         "Ann",
         1,
         0
        ],
        [
         "Alyse",
         1,
         0
        ],
        [
         "Julia",
         1,
         0
        ],
        [
         "Brent",
         1,
         0
        ],
        [
         "Shantel",
         1,
         0
        ],
        [
         "Harold",
         1,
         0
        ],
        [
         "Katherina",
         1,
         0
        ],
        [
         "Agnes",
         1,
         0
        ],
        [
         "Sylvie",
         1,
         0
        ],
        [
         "Ollie",
         1,
         0
        ],
        [
         "Barbera",
         1,
         0
        ],
        [
         "Mandi",
         1,
         0
        ],
        [
         "Tomasa",
         1,
         0
        ],
        [
         "Maurice",
         1,
         0
        ],
        [
         "Laureen",
         2,
         0
        ],
        [
         "Rodger",
         1,
         0
        ],
        [
         "Justa",
         1,
         0
        ],
        [
         "Arcelia",
         1,
         0
        ],
        [
         "Henrietta",
         1,
         0
        ],
        [
         "Ayanna",
         2,
         0
        ],
        [
         "Clementina",
         1,
         0
        ],
        [
         "Catherine",
         1,
         0
        ],
        [
         "Carmela",
         1,
         0
        ],
        [
         "Freddie",
         1,
         0
        ],
        [
         "Leonore",
         1,
         0
        ],
        [
         "Yvone",
         2,
         0
        ],
        [
         "Renato",
         1,
         0
        ],
        [
         "Armand",
         1,
         0
        ],
        [
         "Kellie",
         1,
         0
        ],
        [
         "Katharina",
         1,
         0
        ],
        [
         "Kaila",
         1,
         0
        ],
        [
         "Pearlie",
         1,
         0
        ],
        [
         "Adelaida",
         1,
         0
        ],
        [
         "Neil",
         1,
         0
        ],
        [
         "Edra",
         1,
         0
        ],
        [
         "Ana",
         1,
         0
        ],
        [
         "Graig",
         2,
         0
        ],
        [
         "Stephanie",
         1,
         0
        ],
        [
         "Cleopatra",
         1,
         0
        ],
        [
         "Karey",
         1,
         0
        ],
        [
         "Wai",
         1,
         0
        ],
        [
         "Valery",
         1,
         0
        ],
        [
         "Iva",
         1,
         0
        ],
        [
         "Jasper",
         1,
         0
        ],
        [
         "Corene",
         2,
         0
        ],
        [
         "Adriene",
         2,
         0
        ],
        [
         "Lewis",
         1,
         0
        ],
        [
         "Georgina",
         1,
         0
        ],
        [
         "Merideth",
         1,
         0
        ],
        [
         "Greta",
         1,
         0
        ],
        [
         "Agatha",
         2,
         0
        ],
        [
         "Erna",
         1,
         0
        ],
        [
         "Thurman",
         1,
         0
        ],
        [
         "Rita",
         1,
         0
        ],
        [
         "Ira",
         2,
         0
        ],
        [
         "Ileana",
         1,
         0
        ],
        [
         "Eleanor",
         1,
         0
        ],
        [
         "Nova",
         1,
         0
        ],
        [
         "Judith",
         1,
         0
        ],
        [
         "Delfina",
         1,
         0
        ],
        [
         "Berneice",
         1,
         0
        ],
        [
         "Patrina",
         1,
         0
        ],
        [
         "Shila",
         1,
         0
        ],
        [
         "Irving",
         1,
         0
        ],
        [
         "Joshua",
         2,
         0
        ],
        [
         "Delaine",
         1,
         0
        ],
        [
         "Jenny",
         1,
         0
        ],
        [
         "Deirdre",
         1,
         0
        ],
        [
         "Shanice",
         1,
         0
        ],
        [
         "Gwendolyn",
         1,
         0
        ],
        [
         "Evelin",
         1,
         0
        ],
        [
         "Aileen",
         1,
         0
        ],
        [
         "Lina",
         1,
         0
        ],
        [
         "Hubert",
         2,
         0
        ],
        [
         "Verda",
         1,
         0
        ],
        [
         "Abby",
         1,
         0
        ],
        [
         "Tammera",
         1,
         0
        ],
        [
         "Christiane",
         1,
         0
        ],
        [
         "Gwenn",
         1,
         0
        ],
        [
         "Phebe",
         2,
         0
        ],
        [
         "Arline",
         1,
         0
        ],
        [
         "Phylicia",
         1,
         0
        ],
        [
         "Kathie",
         1,
         0
        ],
        [
         "Pamala",
         2,
         0
        ],
        [
         "Jeanie",
         1,
         0
        ],
        [
         "Graciela",
         1,
         0
        ],
        [
         "Michel",
         1,
         0
        ],
        [
         "Hilde",
         1,
         0
        ],
        [
         "Raeann",
         1,
         0
        ],
        [
         "Herminia",
         1,
         0
        ],
        [
         "Tereasa",
         1,
         0
        ],
        [
         "Rey",
         1,
         0
        ],
        [
         "Regine",
         2,
         0
        ],
        [
         "Angella",
         1,
         0
        ],
        [
         "Caren",
         1,
         0
        ],
        [
         "Priscilla",
         1,
         0
        ],
        [
         "Mark",
         2,
         0
        ],
        [
         "Margorie",
         1,
         0
        ],
        [
         "Shea",
         1,
         0
        ],
        [
         "Nestor",
         1,
         0
        ],
        [
         "Lavern",
         1,
         0
        ],
        [
         "Willis",
         1,
         0
        ],
        [
         "Aide",
         1,
         0
        ],
        [
         "Donette",
         1,
         0
        ],
        [
         "Susann",
         1,
         0
        ],
        [
         "Katharine",
         1,
         0
        ],
        [
         "Ayana",
         1,
         0
        ],
        [
         "Marry",
         1,
         0
        ],
        [
         "Cayla",
         1,
         0
        ],
        [
         "Divina",
         2,
         0
        ],
        [
         "Cesar",
         2,
         0
        ],
        [
         "Nicholas",
         1,
         0
        ],
        [
         "Efren",
         2,
         0
        ],
        [
         "Yolando",
         1,
         0
        ],
        [
         "Neida",
         1,
         0
        ],
        [
         "Lanora",
         1,
         0
        ],
        [
         "Loyce",
         1,
         0
        ],
        [
         "Sonja",
         1,
         0
        ],
        [
         "Sharie",
         2,
         0
        ],
        [
         "Valeri",
         1,
         0
        ],
        [
         "Terrell",
         1,
         0
        ],
        [
         "Jeannette",
         1,
         0
        ],
        [
         "Noble",
         1,
         0
        ],
        [
         "Cleotilde",
         1,
         0
        ],
        [
         "Wes",
         1,
         0
        ],
        [
         "Meredith",
         1,
         0
        ],
        [
         "Tuan",
         1,
         0
        ],
        [
         "Erik",
         1,
         0
        ],
        [
         "Joann",
         1,
         0
        ],
        [
         "Sherilyn",
         1,
         0
        ],
        [
         "Treasa",
         1,
         0
        ],
        [
         "Rikki",
         1,
         0
        ],
        [
         "Letitia",
         1,
         0
        ],
        [
         "Reena",
         1,
         0
        ],
        [
         "Rosalba",
         1,
         0
        ],
        [
         "Lanita",
         1,
         0
        ],
        [
         "Gabriella",
         1,
         0
        ],
        [
         "Londa",
         1,
         0
        ],
        [
         "Cecilia",
         1,
         0
        ],
        [
         "Hilary",
         1,
         0
        ],
        [
         "Arielle",
         1,
         0
        ],
        [
         "Risa",
         1,
         0
        ],
        [
         "Arie",
         1,
         0
        ],
        [
         "Yuk",
         1,
         0
        ],
        [
         "Scarlet",
         2,
         0
        ],
        [
         "Muriel",
         1,
         0
        ],
        [
         "Bettie",
         2,
         0
        ],
        [
         "Josef",
         1,
         0
        ],
        [
         "Maximina",
         1,
         0
        ],
        [
         "Nicolas",
         1,
         0
        ],
        [
         "Vito",
         1,
         0
        ],
        [
         "Raven",
         1,
         0
        ],
        [
         "Kasha",
         2,
         0
        ],
        [
         "Myrtie",
         1,
         0
        ],
        [
         "Wallace",
         1,
         0
        ],
        [
         "Phylis",
         1,
         0
        ],
        [
         "Saran",
         1,
         0
        ],
        [
         "Glady",
         1,
         0
        ],
        [
         "Genoveva",
         3,
         0
        ],
        [
         "Zelma",
         1,
         0
        ],
        [
         "Elnora",
         1,
         0
        ],
        [
         "Johana",
         1,
         0
        ],
        [
         "Rayna",
         1,
         0
        ],
        [
         "Selene",
         2,
         0
        ],
        [
         "Sam",
         1,
         0
        ],
        [
         "Patience",
         1,
         0
        ],
        [
         "Charlene",
         1,
         0
        ],
        [
         "Adam",
         2,
         0
        ],
        [
         "Laci",
         1,
         0
        ],
        [
         "Kellye",
         1,
         0
        ],
        [
         "Mila",
         2,
         0
        ],
        [
         "Bryce",
         1,
         0
        ],
        [
         "Keitha",
         1,
         0
        ],
        [
         "Hans",
         1,
         0
        ],
        [
         "Marilyn",
         1,
         0
        ],
        [
         "Augustina",
         1,
         0
        ],
        [
         "Courtney",
         1,
         0
        ],
        [
         "Beryl",
         1,
         0
        ],
        [
         "Siobhan",
         1,
         0
        ],
        [
         "Marcel",
         1,
         0
        ],
        [
         "Season",
         1,
         0
        ],
        [
         "Geraldine",
         1,
         0
        ],
        [
         "Bernita",
         1,
         0
        ],
        [
         "Tanesha",
         2,
         0
        ],
        [
         "Nathanael",
         1,
         0
        ],
        [
         "Syreeta",
         1,
         0
        ],
        [
         "Myung",
         1,
         0
        ],
        [
         "Evelina",
         2,
         0
        ],
        [
         "Lurline",
         1,
         0
        ],
        [
         "Alma",
         1,
         0
        ],
        [
         "Stefany",
         1,
         0
        ],
        [
         "Rodrick",
         1,
         0
        ],
        [
         "Katheleen",
         1,
         0
        ],
        [
         "Alec",
         1,
         0
        ],
        [
         "Arminda",
         1,
         0
        ],
        [
         "Travis",
         2,
         0
        ],
        [
         "Britteny",
         1,
         0
        ],
        [
         "Nita",
         1,
         0
        ],
        [
         "Conrad",
         1,
         0
        ],
        [
         "Wanita",
         1,
         0
        ],
        [
         "Vernon",
         1,
         0
        ],
        [
         "Tammie",
         1,
         0
        ],
        [
         "Edith",
         1,
         0
        ],
        [
         "Cindie",
         1,
         0
        ],
        [
         "Joel",
         1,
         0
        ],
        [
         "Bee",
         1,
         0
        ],
        [
         "Rozella",
         1,
         0
        ],
        [
         "Charlsie",
         1,
         0
        ],
        [
         "Aleta",
         3,
         0
        ],
        [
         "Randolph",
         1,
         0
        ],
        [
         "Laverna",
         1,
         0
        ],
        [
         "Moira",
         1,
         0
        ],
        [
         "Rodney",
         1,
         0
        ],
        [
         "Chanel",
         1,
         0
        ],
        [
         "Annett",
         2,
         0
        ],
        [
         "Ellsworth",
         1,
         0
        ],
        [
         "Eli",
         1,
         0
        ],
        [
         "Devin",
         2,
         0
        ],
        [
         "Janna",
         1,
         0
        ],
        [
         "Vernia",
         1,
         0
        ],
        [
         "Deangelo",
         1,
         0
        ],
        [
         "Carita",
         1,
         0
        ],
        [
         "Heide",
         1,
         0
        ],
        [
         "Susannah",
         1,
         0
        ],
        [
         "Ben",
         1,
         0
        ],
        [
         "Mariela",
         1,
         0
        ],
        [
         "Kerrie",
         2,
         0
        ],
        [
         "Magali",
         1,
         0
        ],
        [
         "Vivian",
         1,
         0
        ],
        [
         "Javier",
         1,
         0
        ],
        [
         "Birdie",
         1,
         0
        ],
        [
         "Jayson",
         1,
         0
        ],
        [
         "Edmund",
         1,
         0
        ],
        [
         "Marguerite",
         1,
         0
        ],
        [
         "Brianne",
         1,
         0
        ],
        [
         "Renay",
         1,
         0
        ],
        [
         "Elenore",
         2,
         0
        ],
        [
         "Julius",
         1,
         0
        ],
        [
         "Shu",
         1,
         0
        ],
        [
         "Dwain",
         1,
         0
        ],
        [
         "Corine",
         1,
         0
        ],
        [
         "Kanesha",
         2,
         0
        ],
        [
         "Sarai",
         1,
         0
        ],
        [
         "Marget",
         1,
         0
        ],
        [
         "Ferne",
         1,
         0
        ],
        [
         "Joaquin",
         1,
         0
        ],
        [
         "Ciera",
         2,
         0
        ],
        [
         "Marcelino",
         1,
         0
        ],
        [
         "Eleni",
         1,
         0
        ],
        [
         "Barton",
         2,
         0
        ],
        [
         "Celestine",
         2,
         0
        ],
        [
         "Kattie",
         1,
         0
        ],
        [
         "Gertrud",
         1,
         0
        ],
        [
         "Flossie",
         1,
         0
        ],
        [
         "Justina",
         3,
         0
        ],
        [
         "Soledad",
         1,
         0
        ],
        [
         "Shiloh",
         2,
         0
        ],
        [
         "Bettye",
         1,
         0
        ],
        [
         "Tara",
         1,
         0
        ],
        [
         "Kimberli",
         1,
         0
        ],
        [
         "Latashia",
         1,
         0
        ],
        [
         "Debra",
         1,
         0
        ],
        [
         "Alane",
         3,
         0
        ],
        [
         "Tamela",
         1,
         0
        ],
        [
         "Inge",
         1,
         0
        ],
        [
         "Timothy",
         1,
         0
        ],
        [
         "Calandra",
         1,
         0
        ],
        [
         "Adrien",
         1,
         0
        ],
        [
         "Carie",
         1,
         0
        ],
        [
         "Octavia",
         2,
         0
        ],
        [
         "Tony",
         1,
         0
        ],
        [
         "Basil",
         1,
         0
        ],
        [
         "Leone",
         1,
         0
        ],
        [
         "Milagros",
         1,
         0
        ],
        [
         "Diane",
         1,
         0
        ],
        [
         "Jama",
         1,
         0
        ],
        [
         "Carley",
         1,
         0
        ],
        [
         "Lloyd",
         1,
         0
        ],
        [
         "Ivette",
         2,
         0
        ],
        [
         "Alica",
         1,
         0
        ],
        [
         "Sharyn",
         2,
         0
        ],
        [
         "Minerva",
         1,
         0
        ],
        [
         "Anya",
         1,
         0
        ],
        [
         "Abbey",
         1,
         0
        ],
        [
         "Virgina",
         1,
         0
        ],
        [
         "Lazaro",
         1,
         0
        ],
        [
         "Taylor",
         1,
         0
        ],
        [
         "Silas",
         1,
         0
        ],
        [
         "Shantae",
         1,
         0
        ],
        [
         "Kimberley",
         1,
         0
        ],
        [
         "Brittney",
         2,
         0
        ],
        [
         "Faustino",
         1,
         0
        ],
        [
         "Dagny",
         1,
         0
        ],
        [
         "Keri",
         1,
         0
        ],
        [
         "Margert",
         1,
         0
        ],
        [
         "Carline",
         1,
         0
        ],
        [
         "Delana",
         2,
         0
        ],
        [
         "Van",
         1,
         0
        ],
        [
         "Salena",
         1,
         0
        ],
        [
         "Kristel",
         2,
         0
        ],
        [
         "Conchita",
         1,
         0
        ],
        [
         "Mallie",
         1,
         0
        ],
        [
         "Elana",
         1,
         0
        ],
        [
         "Dacia",
         1,
         0
        ],
        [
         "Malinda",
         1,
         0
        ],
        [
         "Sheree",
         2,
         0
        ],
        [
         "Lizette",
         1,
         0
        ],
        [
         "Elaina",
         1,
         0
        ],
        [
         "Stephen",
         1,
         0
        ],
        [
         "Cami",
         1,
         0
        ],
        [
         "Virgil",
         1,
         0
        ],
        [
         "Ji",
         1,
         0
        ],
        [
         "Regina",
         1,
         0
        ],
        [
         "Kasie",
         1,
         0
        ],
        [
         "Micki",
         1,
         0
        ],
        [
         "Benito",
         1,
         0
        ],
        [
         "Allison",
         1,
         0
        ],
        [
         "Jovita",
         1,
         0
        ],
        [
         "Shona",
         1,
         0
        ],
        [
         "Alline",
         1,
         0
        ],
        [
         "Vanessa",
         1,
         0
        ],
        [
         "Alysha",
         1,
         0
        ],
        [
         "Sunshine",
         1,
         0
        ],
        [
         "Gertha",
         1,
         0
        ],
        [
         "Melba",
         1,
         0
        ],
        [
         "Vicki",
         1,
         0
        ],
        [
         "Angelique",
         1,
         0
        ],
        [
         "Mariam",
         1,
         0
        ],
        [
         "Cassidy",
         1,
         0
        ],
        [
         "Kenton",
         1,
         0
        ],
        [
         "Margene",
         1,
         0
        ],
        [
         "Gayle",
         1,
         0
        ],
        [
         "Chantay",
         1,
         0
        ],
        [
         "Jonna",
         1,
         0
        ],
        [
         "Mirella",
         1,
         0
        ],
        [
         "Janetta",
         1,
         0
        ],
        [
         "Sheba",
         1,
         0
        ],
        [
         "Jesica",
         1,
         0
        ],
        [
         "Marylyn",
         1,
         0
        ],
        [
         "Viva",
         1,
         0
        ],
        [
         "Hue",
         2,
         0
        ],
        [
         "Earlean",
         1,
         0
        ],
        [
         "Tonda",
         2,
         0
        ],
        [
         "Cinthia",
         1,
         0
        ],
        [
         "Ehtel",
         1,
         0
        ],
        [
         "Valentin",
         1,
         0
        ],
        [
         "Stacie",
         1,
         0
        ],
        [
         "Laurel",
         1,
         0
        ],
        [
         "Ivelisse",
         1,
         0
        ],
        [
         "Shay",
         1,
         0
        ],
        [
         "Aida",
         1,
         0
        ],
        [
         "Kim",
         1,
         0
        ],
        [
         "Carmina",
         1,
         0
        ],
        [
         "Sheryl",
         1,
         0
        ],
        [
         "Ken",
         1,
         0
        ],
        [
         "Damian",
         2,
         0
        ],
        [
         "Luis",
         1,
         0
        ],
        [
         "Collin",
         1,
         0
        ],
        [
         "Camila",
         1,
         0
        ],
        [
         "Marshall",
         1,
         0
        ],
        [
         "Carisa",
         1,
         0
        ],
        [
         "Charlesetta",
         1,
         0
        ],
        [
         "Eloisa",
         1,
         0
        ],
        [
         "Majorie",
         2,
         0
        ],
        [
         "Caridad",
         1,
         0
        ],
        [
         "Quyen",
         1,
         0
        ],
        [
         "Sylvester",
         1,
         0
        ],
        [
         "Lizzette",
         1,
         0
        ],
        [
         "Caroll",
         1,
         0
        ],
        [
         "Saturnina",
         1,
         0
        ],
        [
         "Denis",
         1,
         0
        ],
        [
         "Genevieve",
         1,
         0
        ],
        [
         "Kiara",
         1,
         0
        ],
        [
         "Lezlie",
         2,
         0
        ],
        [
         "Emory",
         1,
         0
        ],
        [
         "Louis",
         1,
         0
        ],
        [
         "Vanda",
         1,
         0
        ],
        [
         "Rufina",
         1,
         0
        ],
        [
         "Tama",
         1,
         0
        ],
        [
         "Charolette",
         1,
         0
        ],
        [
         "Ronna",
         1,
         0
        ],
        [
         "Charlyn",
         1,
         0
        ],
        [
         "Sheri",
         1,
         0
        ],
        [
         "Margit",
         1,
         0
        ],
        [
         "Tiesha",
         1,
         0
        ],
        [
         "Dorthey",
         1,
         0
        ],
        [
         "Hedwig",
         1,
         0
        ],
        [
         "Jessika",
         1,
         0
        ],
        [
         "Dexter",
         1,
         0
        ],
        [
         "Jamika",
         2,
         0
        ],
        [
         "Matilda",
         1,
         0
        ],
        [
         "Tammy",
         1,
         0
        ],
        [
         "Anton",
         1,
         0
        ],
        [
         "Joy",
         1,
         0
        ],
        [
         "Pamelia",
         1,
         0
        ],
        [
         "Jame",
         1,
         0
        ],
        [
         "Kandace",
         3,
         0
        ],
        [
         "Georgeanna",
         1,
         0
        ],
        [
         "Rosalie",
         1,
         0
        ],
        [
         "Arlena",
         1,
         0
        ],
        [
         "Philip",
         1,
         0
        ],
        [
         "Dung",
         2,
         0
        ],
        [
         "Tangela",
         2,
         0
        ],
        [
         "Erma",
         1,
         0
        ],
        [
         "Angele",
         2,
         0
        ],
        [
         "Sindy",
         1,
         0
        ],
        [
         "Garth",
         1,
         0
        ],
        [
         "Jeni",
         2,
         0
        ],
        [
         "Daina",
         1,
         0
        ],
        [
         "Inocencia",
         1,
         0
        ],
        [
         "Yvonne",
         1,
         0
        ],
        [
         "Orval",
         1,
         0
        ],
        [
         "Enoch",
         1,
         0
        ],
        [
         "Robby",
         1,
         0
        ],
        [
         "Maribel",
         1,
         0
        ],
        [
         "Edgar",
         2,
         0
        ],
        [
         "Sommer",
         1,
         0
        ],
        [
         "Elvina",
         1,
         0
        ],
        [
         "Trang",
         1,
         0
        ],
        [
         "Lakenya",
         1,
         0
        ],
        [
         "Katelin",
         1,
         0
        ],
        [
         "Jone",
         1,
         0
        ],
        [
         "Ezra",
         2,
         0
        ],
        [
         "Marlo",
         1,
         0
        ],
        [
         "Cherelle",
         1,
         0
        ],
        [
         "Tressa",
         1,
         0
        ],
        [
         "Crysta",
         1,
         0
        ],
        [
         "Hassan",
         1,
         0
        ],
        [
         "Cher",
         1,
         0
        ],
        [
         "Dottie",
         1,
         0
        ],
        [
         "Kelsey",
         1,
         0
        ],
        [
         "Janae",
         1,
         0
        ],
        [
         "Shawnda",
         1,
         0
        ],
        [
         "Jana",
         1,
         0
        ],
        [
         "Tonja",
         2,
         0
        ],
        [
         "Jimmy",
         1,
         0
        ],
        [
         "Dorine",
         2,
         0
        ],
        [
         "Janine",
         1,
         0
        ],
        [
         "Mellisa",
         3,
         0
        ],
        [
         "Bart",
         1,
         0
        ],
        [
         "Vonda",
         1,
         0
        ],
        [
         "Lanie",
         1,
         0
        ],
        [
         "Lucile",
         1,
         0
        ],
        [
         "Takako",
         1,
         0
        ],
        [
         "Trisha",
         1,
         0
        ],
        [
         "Zella",
         1,
         0
        ],
        [
         "Alita",
         1,
         0
        ],
        [
         "Novella",
         2,
         0
        ],
        [
         "Shanna",
         1,
         0
        ],
        [
         "Gilberto",
         2,
         0
        ],
        [
         "Brain",
         1,
         0
        ],
        [
         "Lenore",
         1,
         0
        ],
        [
         "Bridgette",
         1,
         0
        ],
        [
         "Pearl",
         1,
         0
        ],
        [
         "Genny",
         2,
         0
        ],
        [
         "Carolyne",
         1,
         0
        ],
        [
         "Jule",
         1,
         0
        ],
        [
         "Carlie",
         1,
         0
        ],
        [
         "Kimbery",
         1,
         0
        ],
        [
         "Gustavo",
         1,
         0
        ],
        [
         "Dalia",
         1,
         0
        ],
        [
         "Whitley",
         1,
         0
        ],
        [
         "Shayla",
         1,
         0
        ],
        [
         "Hortencia",
         2,
         0
        ],
        [
         "Antonetta",
         1,
         0
        ],
        [
         "Tena",
         2,
         0
        ],
        [
         "Inez",
         1,
         0
        ],
        [
         "Eliseo",
         1,
         0
        ],
        [
         "Georgeann",
         2,
         0
        ],
        [
         "Olevia",
         2,
         0
        ],
        [
         "Johna",
         1,
         0
        ],
        [
         "Lavona",
         1,
         0
        ],
        [
         "Alina",
         1,
         0
        ],
        [
         "Barrett",
         1,
         0
        ],
        [
         "Vallie",
         1,
         0
        ],
        [
         "Shanti",
         1,
         0
        ],
        [
         "Bobbie",
         1,
         0
        ],
        [
         "Raul",
         1,
         0
        ],
        [
         "Julee",
         1,
         0
        ],
        [
         "Terese",
         2,
         0
        ],
        [
         "Edda",
         1,
         0
        ],
        [
         "Toshia",
         1,
         0
        ],
        [
         "Marisa",
         1,
         0
        ],
        [
         "Lilliam",
         1,
         0
        ],
        [
         "Rodolfo",
         1,
         0
        ],
        [
         "Leila",
         1,
         0
        ],
        [
         "Houston",
         1,
         0
        ],
        [
         "Omega",
         2,
         0
        ],
        [
         "Terrance",
         1,
         0
        ],
        [
         "George",
         1,
         0
        ],
        [
         "Melia",
         1,
         0
        ],
        [
         "Tu",
         1,
         0
        ],
        [
         "Felice",
         1,
         0
        ],
        [
         "Ashlee",
         1,
         0
        ],
        [
         "Margret",
         1,
         0
        ],
        [
         "Verna",
         1,
         0
        ],
        [
         "Khalilah",
         1,
         0
        ],
        [
         "Emmaline",
         1,
         0
        ],
        [
         "Nubia",
         1,
         0
        ],
        [
         "Kenyetta",
         1,
         0
        ],
        [
         "Jesus",
         1,
         0
        ],
        [
         "Violet",
         1,
         0
        ],
        [
         "Larae",
         1,
         0
        ],
        [
         "Marina",
         1,
         0
        ],
        [
         "Maryalice",
         1,
         0
        ],
        [
         "Sherise",
         1,
         0
        ],
        [
         "Cori",
         1,
         0
        ],
        [
         "Myrtle",
         1,
         0
        ],
        [
         "Rozanne",
         1,
         0
        ],
        [
         "Candis",
         1,
         0
        ],
        [
         "Stephaine",
         1,
         0
        ],
        [
         "Keturah",
         2,
         0
        ],
        [
         "Rosalva",
         1,
         0
        ],
        [
         "Elmira",
         1,
         0
        ],
        [
         "Latasha",
         2,
         0
        ],
        [
         "Ivonne",
         1,
         0
        ],
        [
         "Daisy",
         1,
         0
        ],
        [
         "Erlene",
         1,
         0
        ],
        [
         "Carroll",
         1,
         0
        ],
        [
         "Larissa",
         1,
         0
        ],
        [
         "Marcene",
         1,
         0
        ],
        [
         "Shawnna",
         1,
         0
        ],
        [
         "Brigid",
         1,
         0
        ],
        [
         "Andy",
         1,
         0
        ],
        [
         "Yevette",
         2,
         0
        ],
        [
         "Alissa",
         2,
         0
        ],
        [
         "Gussie",
         1,
         0
        ],
        [
         "Eliana",
         2,
         0
        ],
        [
         "Magda",
         1,
         0
        ],
        [
         "Krystin",
         1,
         0
        ],
        [
         "Luciano",
         1,
         0
        ],
        [
         "Luciana",
         1,
         0
        ],
        [
         "Kandis",
         1,
         0
        ],
        [
         "Ruth",
         1,
         0
        ],
        [
         "Leeanne",
         1,
         0
        ],
        [
         "Casey",
         1,
         0
        ],
        [
         "Jerlene",
         1,
         0
        ],
        [
         "Lashandra",
         1,
         0
        ],
        [
         "Ethelyn",
         1,
         0
        ],
        [
         "Nikita",
         1,
         0
        ],
        [
         "America",
         1,
         0
        ],
        [
         "Tommie",
         2,
         0
        ],
        [
         "Jenniffer",
         1,
         0
        ],
        [
         "Hee",
         1,
         0
        ],
        [
         "Rudolf",
         2,
         0
        ],
        [
         "Arnita",
         1,
         0
        ],
        [
         "Cira",
         1,
         0
        ],
        [
         "Carina",
         1,
         0
        ],
        [
         "Odette",
         1,
         0
        ],
        [
         "Lucy",
         1,
         0
        ],
        [
         "Molly",
         1,
         0
        ],
        [
         "Deja",
         1,
         0
        ],
        [
         "Latricia",
         1,
         0
        ],
        [
         "Felica",
         1,
         0
        ],
        [
         "Zora",
         1,
         0
        ],
        [
         "Jacquline",
         1,
         0
        ],
        [
         "Regenia",
         1,
         0
        ],
        [
         "Bernetta",
         2,
         0
        ],
        [
         "Lory",
         2,
         0
        ],
        [
         "Loreta",
         1,
         0
        ],
        [
         "Justin",
         1,
         0
        ],
        [
         "Jeffry",
         1,
         0
        ],
        [
         "Taisha",
         1,
         0
        ],
        [
         "Darcel",
         1,
         0
        ],
        [
         "Han",
         2,
         0
        ],
        [
         "Douglas",
         1,
         0
        ],
        [
         "Waldo",
         1,
         0
        ],
        [
         "Ai",
         1,
         0
        ],
        [
         "Alishia",
         1,
         0
        ],
        [
         "Aaron",
         1,
         0
        ],
        [
         "Rudolph",
         1,
         0
        ],
        [
         "Trudy",
         1,
         0
        ],
        [
         "Tarra",
         1,
         0
        ],
        [
         "Tameka",
         1,
         0
        ],
        [
         "Melani",
         1,
         0
        ],
        [
         "Jeannie",
         1,
         0
        ],
        [
         "Shirely",
         2,
         0
        ],
        [
         "Ladawn",
         1,
         0
        ],
        [
         "Brigida",
         1,
         0
        ],
        [
         "Dante",
         1,
         0
        ],
        [
         "Miranda",
         1,
         0
        ],
        [
         "Araceli",
         1,
         0
        ],
        [
         "Jeniffer",
         2,
         0
        ],
        [
         "Tina",
         1,
         0
        ],
        [
         "Domingo",
         1,
         0
        ],
        [
         "Jane",
         1,
         0
        ],
        [
         "Ryan",
         1,
         0
        ],
        [
         "Destiny",
         1,
         0
        ],
        [
         "Georgetta",
         1,
         0
        ],
        [
         "Williemae",
         1,
         0
        ],
        [
         "Rochelle",
         1,
         0
        ],
        [
         "Loraine",
         1,
         0
        ],
        [
         "Kermit",
         2,
         0
        ],
        [
         "Lorraine",
         1,
         0
        ],
        [
         "Rolanda",
         1,
         0
        ],
        [
         "Mina",
         1,
         0
        ],
        [
         "Kecia",
         1,
         0
        ],
        [
         "Eldridge",
         1,
         0
        ],
        [
         "Elease",
         1,
         0
        ],
        [
         "Shasta",
         1,
         0
        ],
        [
         "Alisia",
         1,
         0
        ],
        [
         "Jayne",
         1,
         0
        ],
        [
         "Miquel",
         1,
         0
        ],
        [
         "Kylee",
         1,
         0
        ],
        [
         "Ashlie",
         1,
         0
        ],
        [
         "Sung",
         1,
         0
        ],
        [
         "Lashunda",
         1,
         0
        ],
        [
         "Mariana",
         1,
         0
        ],
        [
         "Ellena",
         1,
         0
        ],
        [
         "Kimberely",
         1,
         0
        ],
        [
         "Oralia",
         1,
         0
        ],
        [
         "Rosamaria",
         1,
         0
        ],
        [
         "Lissa",
         1,
         0
        ],
        [
         "Cindi",
         2,
         0
        ],
        [
         "Suellen",
         1,
         0
        ],
        [
         "Major",
         1,
         0
        ],
        [
         "Lara",
         1,
         0
        ],
        [
         "Serafina",
         1,
         0
        ],
        [
         "Hildegarde",
         1,
         0
        ],
        [
         "Karren",
         2,
         0
        ],
        [
         "Tona",
         1,
         0
        ],
        [
         "Ulrike",
         1,
         0
        ],
        [
         "Mariette",
         1,
         0
        ],
        [
         "Douglass",
         2,
         0
        ],
        [
         "Lean",
         1,
         0
        ],
        [
         "Melodie",
         1,
         0
        ],
        [
         "Cecil",
         1,
         0
        ],
        [
         "Edythe",
         1,
         0
        ],
        [
         "Claudio",
         1,
         0
        ],
        [
         "Sophia",
         1,
         0
        ],
        [
         "Eun",
         1,
         0
        ],
        [
         "Tessie",
         1,
         0
        ],
        [
         "Olympia",
         1,
         0
        ],
        [
         "Willian",
         1,
         0
        ],
        [
         "Dann",
         1,
         0
        ],
        [
         "Adelle",
         1,
         0
        ],
        [
         "Jacalyn",
         1,
         0
        ],
        [
         "Earline",
         2,
         0
        ],
        [
         "Romelia",
         1,
         0
        ],
        [
         "Robena",
         1,
         0
        ],
        [
         "Marquerite",
         1,
         0
        ],
        [
         "Ashely",
         1,
         0
        ],
        [
         "Max",
         1,
         0
        ],
        [
         "Jenine",
         2,
         0
        ],
        [
         "Paul",
         1,
         0
        ],
        [
         "Senaida",
         1,
         0
        ],
        [
         "Yun",
         1,
         0
        ],
        [
         "Ruthanne",
         2,
         0
        ],
        [
         "Alexis",
         1,
         0
        ],
        [
         "Florrie",
         1,
         0
        ],
        [
         "Klara",
         3,
         0
        ],
        [
         "Jennette",
         2,
         0
        ],
        [
         "Caroline",
         1,
         0
        ],
        [
         "Benny",
         1,
         0
        ],
        [
         "Jewel",
         1,
         0
        ],
        [
         "Qiana",
         1,
         0
        ],
        [
         "Neoma",
         1,
         0
        ],
        [
         "Grisel",
         1,
         0
        ],
        [
         "Tomika",
         2,
         0
        ],
        [
         "Narcisa",
         1,
         0
        ],
        [
         "Lonna",
         1,
         0
        ],
        [
         "Delmar",
         1,
         0
        ],
        [
         "Carlena",
         1,
         0
        ],
        [
         "Trista",
         1,
         0
        ],
        [
         "Deane",
         1,
         0
        ],
        [
         "Alejandro",
         2,
         0
        ],
        [
         "Sherie",
         1,
         0
        ],
        [
         "Joni",
         1,
         0
        ],
        [
         "Alysia",
         1,
         0
        ],
        [
         "Garry",
         2,
         0
        ],
        [
         "Manie",
         2,
         0
        ],
        [
         "Rubin",
         1,
         0
        ],
        [
         "Effie",
         1,
         0
        ],
        [
         "Yang",
         2,
         0
        ],
        [
         "Lashawn",
         1,
         0
        ],
        [
         "Winfred",
         1,
         0
        ],
        [
         "Antony",
         1,
         0
        ],
        [
         "Yahaira",
         1,
         0
        ],
        [
         "Aisha",
         1,
         0
        ],
        [
         "Renna",
         1,
         0
        ],
        [
         "Cassie",
         1,
         0
        ],
        [
         "Fran",
         1,
         0
        ],
        [
         "Jenise",
         1,
         0
        ],
        [
         "Lavonne",
         1,
         0
        ],
        [
         "Lea",
         2,
         0
        ],
        [
         "Basilia",
         1,
         0
        ],
        [
         "Lee",
         2,
         0
        ],
        [
         "Jewell",
         1,
         0
        ],
        [
         "Desmond",
         1,
         0
        ],
        [
         "Annabelle",
         1,
         0
        ],
        [
         "Bella",
         1,
         0
        ],
        [
         "Tilda",
         1,
         0
        ],
        [
         "Bettyann",
         1,
         0
        ],
        [
         "Bethany",
         1,
         0
        ],
        [
         "Marvin",
         1,
         0
        ],
        [
         "Carissa",
         2,
         0
        ],
        [
         "Charmain",
         1,
         0
        ],
        [
         "Shanita",
         1,
         0
        ],
        [
         "Jong",
         1,
         0
        ],
        [
         "Lyndsey",
         1,
         0
        ],
        [
         "Petronila",
         2,
         0
        ],
        [
         "Alpha",
         1,
         0
        ],
        [
         "Shiela",
         1,
         0
        ],
        [
         "Alfredo",
         1,
         0
        ],
        [
         "Hae",
         1,
         0
        ],
        [
         "Marcell",
         1,
         0
        ],
        [
         "Kendra",
         1,
         0
        ],
        [
         "Floretta",
         1,
         0
        ],
        [
         "Karla",
         1,
         0
        ],
        [
         "Tisa",
         1,
         0
        ],
        [
         "Nelle",
         1,
         0
        ],
        [
         "Nathalie",
         1,
         0
        ],
        [
         "Parker",
         1,
         0
        ],
        [
         "Somer",
         1,
         0
        ],
        [
         "Tam",
         1,
         0
        ],
        [
         "Mica",
         1,
         0
        ],
        [
         "Deshawn",
         1,
         0
        ],
        [
         "Elinore",
         1,
         0
        ],
        [
         "Zina",
         1,
         0
        ],
        [
         "Sarita",
         1,
         0
        ],
        [
         "Kirstie",
         1,
         0
        ],
        [
         "Neville",
         1,
         0
        ],
        [
         "Phyllis",
         1,
         0
        ],
        [
         "Hye",
         1,
         0
        ],
        [
         "Mechelle",
         1,
         0
        ],
        [
         "Angelika",
         1,
         0
        ],
        [
         "Rutha",
         1,
         0
        ],
        [
         "Monty",
         1,
         0
        ],
        [
         "Yanira",
         1,
         0
        ],
        [
         "Vinnie",
         1,
         0
        ],
        [
         "Christia",
         2,
         0
        ],
        [
         "Aron",
         1,
         0
        ],
        [
         "Hipolito",
         1,
         0
        ],
        [
         "Etsuko",
         1,
         0
        ],
        [
         "Theresia",
         1,
         0
        ],
        [
         "Leslie",
         1,
         0
        ],
        [
         "Alden",
         1,
         0
        ],
        [
         "Victor",
         1,
         0
        ],
        [
         "Guillermina",
         1,
         0
        ],
        [
         "Shae",
         1,
         0
        ],
        [
         "Mi",
         1,
         0
        ],
        [
         "Carter",
         2,
         0
        ],
        [
         "Danilo",
         1,
         0
        ],
        [
         "Laverne",
         1,
         0
        ],
        [
         "Doreatha",
         1,
         0
        ],
        [
         "Ouida",
         1,
         0
        ],
        [
         "Malisa",
         1,
         0
        ],
        [
         "Bernardina",
         1,
         0
        ],
        [
         "Christel",
         2,
         0
        ],
        [
         "Pasquale",
         1,
         0
        ],
        [
         "Juliane",
         1,
         0
        ],
        [
         "Penni",
         1,
         0
        ],
        [
         "Cameron",
         1,
         0
        ],
        [
         "Garret",
         1,
         0
        ],
        [
         "Ilda",
         1,
         0
        ],
        [
         "Hollis",
         1,
         0
        ],
        [
         "Ja",
         1,
         0
        ],
        [
         "Leticia",
         1,
         0
        ],
        [
         "Dortha",
         1,
         0
        ],
        [
         "Leland",
         1,
         0
        ],
        [
         "Carolann",
         1,
         0
        ],
        [
         "Romeo",
         1,
         0
        ],
        [
         "Kami",
         1,
         0
        ],
        [
         "Veronique",
         1,
         0
        ],
        [
         "Crystle",
         1,
         0
        ],
        [
         "Babara",
         1,
         0
        ],
        [
         "Romaine",
         2,
         0
        ],
        [
         "Coleen",
         1,
         0
        ]
       ],
       "datasetInfos": [],
       "dbfsResultPath": null,
       "isJsonSchema": true,
       "metadata": {},
       "overflow": false,
       "plotOptions": {
        "customPlotOptions": {},
        "displayType": "table",
        "pivotAggregation": null,
        "pivotColumns": null,
        "xColumns": null,
        "yColumns": null
       },
       "removedWidgets": [],
       "schema": [
        {
         "metadata": "{}",
         "name": "first_name",
         "type": "\"string\""
        },
        {
         "metadata": "{}",
         "name": "total",
         "type": "\"long\""
        },
        {
         "metadata": "{}",
         "name": "null_values",
         "type": "\"long\""
        }
       ],
       "type": "table"
      }
     },
     "output_type": "display_data"
    }
   ],
   "source": [
    "%sql\n",
    "-- Análise de dados: Análise de Valores Nulos\n",
    "SELECT first_name, COUNT(*) AS total, \n",
    "  SUM(CASE WHEN first_name IS NULL THEN 1 ELSE 0 END) AS null_values\n",
    "FROM customers\n",
    "GROUP BY first_name;"
   ]
  },
  {
   "cell_type": "code",
   "execution_count": 0,
   "metadata": {
    "application/vnd.databricks.v1+cell": {
     "cellMetadata": {
      "byteLimit": 2048000,
      "rowLimit": 10000
     },
     "inputWidgets": {},
     "nuid": "b7aa2432-8c7e-4564-8f6f-ffb2e592125b",
     "showTitle": false,
     "title": ""
    }
   },
   "outputs": [
    {
     "output_type": "display_data",
     "data": {
      "text/html": [
       "<style scoped>\n",
       "  .table-result-container {\n",
       "    max-height: 300px;\n",
       "    overflow: auto;\n",
       "  }\n",
       "  table, th, td {\n",
       "    border: 1px solid black;\n",
       "    border-collapse: collapse;\n",
       "  }\n",
       "  th, td {\n",
       "    padding: 5px;\n",
       "  }\n",
       "  th {\n",
       "    text-align: left;\n",
       "  }\n",
       "</style><div class='table-result-container'><table class='table-result'><thead style='background-color: white'><tr><th>first_name</th><th>total</th><th>unique_values</th></tr></thead><tbody><tr><td>Tobie</td><td>1</td><td>1</td></tr><tr><td>Mireille</td><td>1</td><td>1</td></tr><tr><td>Irving</td><td>1</td><td>1</td></tr><tr><td>Salena</td><td>1</td><td>1</td></tr><tr><td>Thurman</td><td>1</td><td>1</td></tr><tr><td>Alejandrina</td><td>1</td><td>1</td></tr><tr><td>Mariette</td><td>1</td><td>1</td></tr><tr><td>Gilbert</td><td>1</td><td>1</td></tr><tr><td>Verna</td><td>1</td><td>1</td></tr><tr><td>Hollis</td><td>1</td><td>1</td></tr><tr><td>Christiana</td><td>1</td><td>1</td></tr><tr><td>Mikel</td><td>1</td><td>1</td></tr><tr><td>Deshawn</td><td>1</td><td>1</td></tr><tr><td>Marlo</td><td>1</td><td>1</td></tr><tr><td>Wm</td><td>1</td><td>1</td></tr><tr><td>Larae</td><td>1</td><td>1</td></tr><tr><td>Elvia</td><td>1</td><td>1</td></tr><tr><td>Myrl</td><td>1</td><td>1</td></tr><tr><td>Arla</td><td>1</td><td>1</td></tr><tr><td>Kate</td><td>1</td><td>1</td></tr><tr><td>Boyd</td><td>1</td><td>1</td></tr><tr><td>Joesph</td><td>1</td><td>1</td></tr><tr><td>Bong</td><td>1</td><td>1</td></tr><tr><td>Alyse</td><td>1</td><td>1</td></tr><tr><td>Neida</td><td>1</td><td>1</td></tr><tr><td>Tanesha</td><td>2</td><td>1</td></tr><tr><td>Abbey</td><td>1</td><td>1</td></tr><tr><td>Dexter</td><td>1</td><td>1</td></tr><tr><td>Tuan</td><td>1</td><td>1</td></tr><tr><td>Silas</td><td>1</td><td>1</td></tr><tr><td>Verda</td><td>1</td><td>1</td></tr><tr><td>Yan</td><td>2</td><td>1</td></tr><tr><td>Carissa</td><td>2</td><td>1</td></tr><tr><td>Ashely</td><td>1</td><td>1</td></tr><tr><td>Kandi</td><td>1</td><td>1</td></tr><tr><td>Marylyn</td><td>1</td><td>1</td></tr><tr><td>Lara</td><td>1</td><td>1</td></tr><tr><td>Iva</td><td>1</td><td>1</td></tr><tr><td>Georgina</td><td>1</td><td>1</td></tr><tr><td>Deanne</td><td>1</td><td>1</td></tr><tr><td>Marshall</td><td>1</td><td>1</td></tr><tr><td>Jenell</td><td>1</td><td>1</td></tr><tr><td>Thanh</td><td>1</td><td>1</td></tr><tr><td>Regenia</td><td>1</td><td>1</td></tr><tr><td>Kam</td><td>1</td><td>1</td></tr><tr><td>Florencio</td><td>1</td><td>1</td></tr><tr><td>Laurette</td><td>1</td><td>1</td></tr><tr><td>Josephine</td><td>1</td><td>1</td></tr><tr><td>Cinda</td><td>1</td><td>1</td></tr><tr><td>Ashanti</td><td>2</td><td>1</td></tr><tr><td>Hope</td><td>1</td><td>1</td></tr><tr><td>Tressa</td><td>1</td><td>1</td></tr><tr><td>Martha</td><td>1</td><td>1</td></tr><tr><td>Desiree</td><td>1</td><td>1</td></tr><tr><td>Drucilla</td><td>1</td><td>1</td></tr><tr><td>Leticia</td><td>1</td><td>1</td></tr><tr><td>Gabriela</td><td>1</td><td>1</td></tr><tr><td>Yevette</td><td>2</td><td>1</td></tr><tr><td>Ellsworth</td><td>1</td><td>1</td></tr><tr><td>Ehtel</td><td>1</td><td>1</td></tr><tr><td>Yvonne</td><td>1</td><td>1</td></tr><tr><td>Candis</td><td>1</td><td>1</td></tr><tr><td>Delaine</td><td>1</td><td>1</td></tr><tr><td>Nenita</td><td>1</td><td>1</td></tr><tr><td>Nathaniel</td><td>2</td><td>1</td></tr><tr><td>Bennett</td><td>1</td><td>1</td></tr><tr><td>Cesar</td><td>2</td><td>1</td></tr><tr><td>Nicholas</td><td>1</td><td>1</td></tr><tr><td>Carter</td><td>2</td><td>1</td></tr><tr><td>Erik</td><td>1</td><td>1</td></tr><tr><td>Steve</td><td>1</td><td>1</td></tr><tr><td>Alisia</td><td>1</td><td>1</td></tr><tr><td>Brianne</td><td>1</td><td>1</td></tr><tr><td>Kimberli</td><td>1</td><td>1</td></tr><tr><td>Cindie</td><td>1</td><td>1</td></tr><tr><td>Tameka</td><td>1</td><td>1</td></tr><tr><td>Arvilla</td><td>2</td><td>1</td></tr><tr><td>Karla</td><td>1</td><td>1</td></tr><tr><td>Jame</td><td>1</td><td>1</td></tr><tr><td>Hermila</td><td>1</td><td>1</td></tr><tr><td>Divina</td><td>2</td><td>1</td></tr><tr><td>Jaqueline</td><td>1</td><td>1</td></tr><tr><td>Minnie</td><td>1</td><td>1</td></tr><tr><td>Pinkie</td><td>1</td><td>1</td></tr><tr><td>Randee</td><td>2</td><td>1</td></tr><tr><td>Katia</td><td>1</td><td>1</td></tr><tr><td>Rico</td><td>1</td><td>1</td></tr><tr><td>Kaley</td><td>1</td><td>1</td></tr><tr><td>Brain</td><td>1</td><td>1</td></tr><tr><td>Phyllis</td><td>1</td><td>1</td></tr><tr><td>Kattie</td><td>1</td><td>1</td></tr><tr><td>Elvina</td><td>1</td><td>1</td></tr><tr><td>Claris</td><td>1</td><td>1</td></tr><tr><td>Lucy</td><td>1</td><td>1</td></tr><tr><td>Josh</td><td>1</td><td>1</td></tr><tr><td>Timothy</td><td>1</td><td>1</td></tr><tr><td>Veronika</td><td>1</td><td>1</td></tr><tr><td>Nikita</td><td>1</td><td>1</td></tr><tr><td>Nestor</td><td>1</td><td>1</td></tr><tr><td>Tu</td><td>1</td><td>1</td></tr><tr><td>Brianna</td><td>1</td><td>1</td></tr><tr><td>Morton</td><td>2</td><td>1</td></tr><tr><td>Wai</td><td>1</td><td>1</td></tr><tr><td>Vernetta</td><td>1</td><td>1</td></tr><tr><td>Kellie</td><td>1</td><td>1</td></tr><tr><td>Jenee</td><td>1</td><td>1</td></tr><tr><td>Shu</td><td>1</td><td>1</td></tr><tr><td>Matilda</td><td>1</td><td>1</td></tr><tr><td>Jonell</td><td>1</td><td>1</td></tr><tr><td>Kristofer</td><td>1</td><td>1</td></tr><tr><td>Sylvester</td><td>1</td><td>1</td></tr><tr><td>Londa</td><td>1</td><td>1</td></tr><tr><td>Rey</td><td>1</td><td>1</td></tr><tr><td>Charmain</td><td>1</td><td>1</td></tr><tr><td>Herta</td><td>1</td><td>1</td></tr><tr><td>Augustina</td><td>1</td><td>1</td></tr><tr><td>Kirstie</td><td>1</td><td>1</td></tr><tr><td>Lewis</td><td>1</td><td>1</td></tr><tr><td>Annis</td><td>1</td><td>1</td></tr><tr><td>Hubert</td><td>2</td><td>1</td></tr><tr><td>Whitley</td><td>1</td><td>1</td></tr><tr><td>Angelika</td><td>1</td><td>1</td></tr><tr><td>Pearl</td><td>1</td><td>1</td></tr><tr><td>Euna</td><td>1</td><td>1</td></tr><tr><td>Amparo</td><td>1</td><td>1</td></tr><tr><td>Margret</td><td>1</td><td>1</td></tr><tr><td>Gilberte</td><td>1</td><td>1</td></tr><tr><td>Jamaal</td><td>3</td><td>1</td></tr><tr><td>Rubye</td><td>1</td><td>1</td></tr><tr><td>Shirely</td><td>2</td><td>1</td></tr><tr><td>Gabriel</td><td>2</td><td>1</td></tr><tr><td>Ira</td><td>2</td><td>1</td></tr><tr><td>Reatha</td><td>1</td><td>1</td></tr><tr><td>Joe</td><td>1</td><td>1</td></tr><tr><td>Florrie</td><td>1</td><td>1</td></tr><tr><td>Petronila</td><td>2</td><td>1</td></tr><tr><td>Cindi</td><td>2</td><td>1</td></tr><tr><td>Basilia</td><td>1</td><td>1</td></tr><tr><td>Arielle</td><td>1</td><td>1</td></tr><tr><td>Carson</td><td>1</td><td>1</td></tr><tr><td>Chantell</td><td>1</td><td>1</td></tr><tr><td>Louanne</td><td>1</td><td>1</td></tr><tr><td>Van</td><td>1</td><td>1</td></tr><tr><td>Afton</td><td>1</td><td>1</td></tr><tr><td>Tomeka</td><td>1</td><td>1</td></tr><tr><td>Melodie</td><td>1</td><td>1</td></tr><tr><td>Guillermo</td><td>1</td><td>1</td></tr><tr><td>Lillia</td><td>1</td><td>1</td></tr><tr><td>Gabriella</td><td>1</td><td>1</td></tr><tr><td>Houston</td><td>1</td><td>1</td></tr><tr><td>Gilma</td><td>1</td><td>1</td></tr><tr><td>Mi</td><td>1</td><td>1</td></tr><tr><td>Jacalyn</td><td>1</td><td>1</td></tr><tr><td>Cherelle</td><td>1</td><td>1</td></tr><tr><td>Arnita</td><td>1</td><td>1</td></tr><tr><td>Marcy</td><td>1</td><td>1</td></tr><tr><td>Phylis</td><td>1</td><td>1</td></tr><tr><td>Raeann</td><td>1</td><td>1</td></tr><tr><td>Ja</td><td>1</td><td>1</td></tr><tr><td>Danilo</td><td>1</td><td>1</td></tr><tr><td>Calandra</td><td>1</td><td>1</td></tr><tr><td>Aileen</td><td>1</td><td>1</td></tr><tr><td>Magali</td><td>1</td><td>1</td></tr><tr><td>Veronique</td><td>1</td><td>1</td></tr><tr><td>Olevia</td><td>2</td><td>1</td></tr><tr><td>Laureen</td><td>2</td><td>1</td></tr><tr><td>Candelaria</td><td>1</td><td>1</td></tr><tr><td>Clare</td><td>1</td><td>1</td></tr><tr><td>Sherie</td><td>1</td><td>1</td></tr><tr><td>Donnetta</td><td>1</td><td>1</td></tr><tr><td>Ladawn</td><td>1</td><td>1</td></tr><tr><td>Terrell</td><td>1</td><td>1</td></tr><tr><td>Mariam</td><td>1</td><td>1</td></tr><tr><td>Ashlie</td><td>1</td><td>1</td></tr><tr><td>Erma</td><td>1</td><td>1</td></tr><tr><td>Tisa</td><td>1</td><td>1</td></tr><tr><td>Gena</td><td>1</td><td>1</td></tr><tr><td>Tammie</td><td>1</td><td>1</td></tr><tr><td>Rory</td><td>1</td><td>1</td></tr><tr><td>Marry</td><td>1</td><td>1</td></tr><tr><td>Chelsey</td><td>2</td><td>1</td></tr><tr><td>Aron</td><td>1</td><td>1</td></tr><tr><td>Iola</td><td>1</td><td>1</td></tr><tr><td>Debbra</td><td>1</td><td>1</td></tr><tr><td>Penney</td><td>1</td><td>1</td></tr><tr><td>Dione</td><td>1</td><td>1</td></tr><tr><td>Shayla</td><td>1</td><td>1</td></tr><tr><td>Robena</td><td>1</td><td>1</td></tr><tr><td>Jina</td><td>1</td><td>1</td></tr><tr><td>Andreas</td><td>2</td><td>1</td></tr><tr><td>Allison</td><td>1</td><td>1</td></tr><tr><td>Corrinne</td><td>1</td><td>1</td></tr><tr><td>Ben</td><td>1</td><td>1</td></tr><tr><td>Ernest</td><td>1</td><td>1</td></tr><tr><td>Garry</td><td>2</td><td>1</td></tr><tr><td>Chere</td><td>3</td><td>1</td></tr><tr><td>Hipolito</td><td>1</td><td>1</td></tr><tr><td>Lashandra</td><td>1</td><td>1</td></tr><tr><td>Lloyd</td><td>1</td><td>1</td></tr><tr><td>Ruthanne</td><td>2</td><td>1</td></tr><tr><td>Serafina</td><td>1</td><td>1</td></tr><tr><td>Bee</td><td>1</td><td>1</td></tr><tr><td>Bea</td><td>1</td><td>1</td></tr><tr><td>Jesus</td><td>1</td><td>1</td></tr><tr><td>Tarra</td><td>1</td><td>1</td></tr><tr><td>Mark</td><td>2</td><td>1</td></tr><tr><td>Anderson</td><td>1</td><td>1</td></tr><tr><td>Hassan</td><td>1</td><td>1</td></tr><tr><td>Carmina</td><td>1</td><td>1</td></tr><tr><td>Leila</td><td>1</td><td>1</td></tr><tr><td>Brigid</td><td>1</td><td>1</td></tr><tr><td>Bella</td><td>1</td><td>1</td></tr><tr><td>Eloisa</td><td>1</td><td>1</td></tr><tr><td>Carlena</td><td>1</td><td>1</td></tr><tr><td>Tempie</td><td>1</td><td>1</td></tr><tr><td>Syreeta</td><td>1</td><td>1</td></tr><tr><td>Araceli</td><td>1</td><td>1</td></tr><tr><td>Malinda</td><td>1</td><td>1</td></tr><tr><td>Tina</td><td>1</td><td>1</td></tr><tr><td>Deangelo</td><td>1</td><td>1</td></tr><tr><td>Louise</td><td>1</td><td>1</td></tr><tr><td>Sally</td><td>1</td><td>1</td></tr><tr><td>Jasper</td><td>1</td><td>1</td></tr><tr><td>Janetta</td><td>1</td><td>1</td></tr><tr><td>Serina</td><td>1</td><td>1</td></tr><tr><td>Frederica</td><td>1</td><td>1</td></tr><tr><td>Kermit</td><td>2</td><td>1</td></tr><tr><td>Verdell</td><td>1</td><td>1</td></tr><tr><td>Jama</td><td>1</td><td>1</td></tr><tr><td>Sandee</td><td>1</td><td>1</td></tr><tr><td>Mazie</td><td>1</td><td>1</td></tr><tr><td>Bettie</td><td>2</td><td>1</td></tr><tr><td>Starr</td><td>1</td><td>1</td></tr><tr><td>Harold</td><td>1</td><td>1</td></tr><tr><td>Rodrick</td><td>1</td><td>1</td></tr><tr><td>Angie</td><td>1</td><td>1</td></tr><tr><td>Shawnda</td><td>1</td><td>1</td></tr><tr><td>Zora</td><td>1</td><td>1</td></tr><tr><td>Edda</td><td>1</td><td>1</td></tr><tr><td>Ping</td><td>1</td><td>1</td></tr><tr><td>Jewell</td><td>1</td><td>1</td></tr><tr><td>Doreatha</td><td>1</td><td>1</td></tr><tr><td>Alina</td><td>1</td><td>1</td></tr><tr><td>Lekisha</td><td>1</td><td>1</td></tr><tr><td>Zina</td><td>1</td><td>1</td></tr><tr><td>Wanita</td><td>1</td><td>1</td></tr><tr><td>Bettyann</td><td>1</td><td>1</td></tr><tr><td>Sharell</td><td>1</td><td>1</td></tr><tr><td>Sanora</td><td>1</td><td>1</td></tr><tr><td>Shanda</td><td>1</td><td>1</td></tr><tr><td>Nathanael</td><td>1</td><td>1</td></tr><tr><td>Wilda</td><td>1</td><td>1</td></tr><tr><td>Margene</td><td>1</td><td>1</td></tr><tr><td>Devin</td><td>2</td><td>1</td></tr><tr><td>Carman</td><td>1</td><td>1</td></tr><tr><td>Tena</td><td>2</td><td>1</td></tr><tr><td>Merlene</td><td>1</td><td>1</td></tr><tr><td>Barry</td><td>2</td><td>1</td></tr><tr><td>Christoper</td><td>2</td><td>1</td></tr><tr><td>Chloe</td><td>1</td><td>1</td></tr><tr><td>Porter</td><td>1</td><td>1</td></tr><tr><td>Lynn</td><td>1</td><td>1</td></tr><tr><td>Siobhan</td><td>1</td><td>1</td></tr><tr><td>Kim</td><td>1</td><td>1</td></tr><tr><td>Neoma</td><td>1</td><td>1</td></tr><tr><td>Cecelia</td><td>1</td><td>1</td></tr><tr><td>Melani</td><td>1</td><td>1</td></tr><tr><td>Suellen</td><td>1</td><td>1</td></tr><tr><td>Laverne</td><td>1</td><td>1</td></tr><tr><td>Reyes</td><td>1</td><td>1</td></tr><tr><td>Dann</td><td>1</td><td>1</td></tr><tr><td>Cheree</td><td>1</td><td>1</td></tr><tr><td>Adelle</td><td>1</td><td>1</td></tr><tr><td>Ollie</td><td>1</td><td>1</td></tr><tr><td>Sebrina</td><td>2</td><td>1</td></tr><tr><td>Philip</td><td>1</td><td>1</td></tr><tr><td>Carlie</td><td>1</td><td>1</td></tr><tr><td>Trista</td><td>1</td><td>1</td></tr><tr><td>Mozelle</td><td>1</td><td>1</td></tr><tr><td>Diana</td><td>3</td><td>1</td></tr><tr><td>Buford</td><td>2</td><td>1</td></tr><tr><td>Luciano</td><td>1</td><td>1</td></tr><tr><td>Lavona</td><td>1</td><td>1</td></tr><tr><td>Genny</td><td>2</td><td>1</td></tr><tr><td>Yahaira</td><td>1</td><td>1</td></tr><tr><td>Tessie</td><td>1</td><td>1</td></tr><tr><td>Elease</td><td>1</td><td>1</td></tr><tr><td>Heide</td><td>1</td><td>1</td></tr><tr><td>Cassondra</td><td>1</td><td>1</td></tr><tr><td>Ayana</td><td>1</td><td>1</td></tr><tr><td>Effie</td><td>1</td><td>1</td></tr><tr><td>Valentin</td><td>1</td><td>1</td></tr><tr><td>Lore</td><td>1</td><td>1</td></tr><tr><td>Jule</td><td>1</td><td>1</td></tr><tr><td>Guillermina</td><td>1</td><td>1</td></tr><tr><td>Tommie</td><td>2</td><td>1</td></tr><tr><td>Abby</td><td>1</td><td>1</td></tr><tr><td>Loni</td><td>2</td><td>1</td></tr><tr><td>Honey</td><td>1</td><td>1</td></tr><tr><td>Cira</td><td>1</td><td>1</td></tr><tr><td>Julia</td><td>1</td><td>1</td></tr><tr><td>Cicely</td><td>1</td><td>1</td></tr><tr><td>Lucile</td><td>1</td><td>1</td></tr><tr><td>Bernetta</td><td>2</td><td>1</td></tr><tr><td>Barrett</td><td>1</td><td>1</td></tr><tr><td>Novella</td><td>2</td><td>1</td></tr><tr><td>Raul</td><td>1</td><td>1</td></tr><tr><td>Elvera</td><td>1</td><td>1</td></tr><tr><td>Collene</td><td>2</td><td>1</td></tr><tr><td>Kaila</td><td>1</td><td>1</td></tr><tr><td>Shasta</td><td>1</td><td>1</td></tr><tr><td>Karren</td><td>2</td><td>1</td></tr><tr><td>Tomika</td><td>2</td><td>1</td></tr><tr><td>Cristobal</td><td>1</td><td>1</td></tr><tr><td>Efren</td><td>2</td><td>1</td></tr><tr><td>Mathilda</td><td>1</td><td>1</td></tr><tr><td>Fannie</td><td>1</td><td>1</td></tr><tr><td>Lavinia</td><td>1</td><td>1</td></tr><tr><td>Wendie</td><td>1</td><td>1</td></tr><tr><td>Phuong</td><td>1</td><td>1</td></tr><tr><td>Kelsey</td><td>1</td><td>1</td></tr><tr><td>Tiesha</td><td>1</td><td>1</td></tr><tr><td>Stefany</td><td>1</td><td>1</td></tr><tr><td>Pearlie</td><td>1</td><td>1</td></tr><tr><td>Ciera</td><td>2</td><td>1</td></tr><tr><td>Theresia</td><td>1</td><td>1</td></tr><tr><td>Lenita</td><td>1</td><td>1</td></tr><tr><td>Pamelia</td><td>1</td><td>1</td></tr><tr><td>Julee</td><td>1</td><td>1</td></tr><tr><td>Catherine</td><td>1</td><td>1</td></tr><tr><td>Kylee</td><td>1</td><td>1</td></tr><tr><td>Diane</td><td>1</td><td>1</td></tr><tr><td>Beatris</td><td>1</td><td>1</td></tr><tr><td>Willetta</td><td>1</td><td>1</td></tr><tr><td>Lyndsey</td><td>1</td><td>1</td></tr><tr><td>Latasha</td><td>2</td><td>1</td></tr><tr><td>Marjorie</td><td>1</td><td>1</td></tr><tr><td>Marvin</td><td>1</td><td>1</td></tr><tr><td>Gwenn</td><td>1</td><td>1</td></tr><tr><td>Twana</td><td>1</td><td>1</td></tr><tr><td>Marcene</td><td>1</td><td>1</td></tr><tr><td>Lanora</td><td>1</td><td>1</td></tr><tr><td>Myron</td><td>2</td><td>1</td></tr><tr><td>Senaida</td><td>1</td><td>1</td></tr><tr><td>Meredith</td><td>1</td><td>1</td></tr><tr><td>Yanira</td><td>1</td><td>1</td></tr><tr><td>Benito</td><td>1</td><td>1</td></tr><tr><td>Arlena</td><td>1</td><td>1</td></tr><tr><td>Brent</td><td>1</td><td>1</td></tr><tr><td>Marcell</td><td>1</td><td>1</td></tr><tr><td>Tora</td><td>1</td><td>1</td></tr><tr><td>Emmitt</td><td>1</td><td>1</td></tr><tr><td>Annett</td><td>2</td><td>1</td></tr><tr><td>Vicki</td><td>1</td><td>1</td></tr><tr><td>Malisa</td><td>1</td><td>1</td></tr><tr><td>Edgar</td><td>2</td><td>1</td></tr><tr><td>Stephanie</td><td>1</td><td>1</td></tr><tr><td>Emanuel</td><td>1</td><td>1</td></tr><tr><td>Obdulia</td><td>1</td><td>1</td></tr><tr><td>Rosa</td><td>1</td><td>1</td></tr><tr><td>Shenna</td><td>2</td><td>1</td></tr><tr><td>Cher</td><td>1</td><td>1</td></tr><tr><td>Deandrea</td><td>2</td><td>1</td></tr><tr><td>Eliseo</td><td>1</td><td>1</td></tr><tr><td>Daryl</td><td>1</td><td>1</td></tr><tr><td>Pamala</td><td>2</td><td>1</td></tr><tr><td>Harris</td><td>1</td><td>1</td></tr><tr><td>Johnathan</td><td>1</td><td>1</td></tr><tr><td>Jaimee</td><td>1</td><td>1</td></tr><tr><td>Jerri</td><td>2</td><td>1</td></tr><tr><td>Keitha</td><td>1</td><td>1</td></tr><tr><td>Delma</td><td>1</td><td>1</td></tr><tr><td>Casey</td><td>1</td><td>1</td></tr><tr><td>Verona</td><td>1</td><td>1</td></tr><tr><td>Han</td><td>2</td><td>1</td></tr><tr><td>Janna</td><td>1</td><td>1</td></tr><tr><td>Evelin</td><td>1</td><td>1</td></tr><tr><td>Marjory</td><td>1</td><td>1</td></tr><tr><td>Nakisha</td><td>1</td><td>1</td></tr><tr><td>Bobbie</td><td>1</td><td>1</td></tr><tr><td>Thalia</td><td>2</td><td>1</td></tr><tr><td>Miquel</td><td>1</td><td>1</td></tr><tr><td>Latricia</td><td>1</td><td>1</td></tr><tr><td>Vernon</td><td>1</td><td>1</td></tr><tr><td>Aisha</td><td>1</td><td>1</td></tr><tr><td>Lavette</td><td>1</td><td>1</td></tr><tr><td>Collin</td><td>1</td><td>1</td></tr><tr><td>Rochelle</td><td>1</td><td>1</td></tr><tr><td>Julianne</td><td>1</td><td>1</td></tr><tr><td>Alanna</td><td>1</td><td>1</td></tr><tr><td>Benny</td><td>1</td><td>1</td></tr><tr><td>Anton</td><td>1</td><td>1</td></tr><tr><td>Son</td><td>1</td><td>1</td></tr><tr><td>Saturnina</td><td>1</td><td>1</td></tr><tr><td>Margert</td><td>1</td><td>1</td></tr><tr><td>Ken</td><td>1</td><td>1</td></tr><tr><td>Felice</td><td>1</td><td>1</td></tr><tr><td>Manie</td><td>2</td><td>1</td></tr><tr><td>Jamika</td><td>2</td><td>1</td></tr><tr><td>Loraine</td><td>1</td><td>1</td></tr><tr><td>Anya</td><td>1</td><td>1</td></tr><tr><td>Ezra</td><td>2</td><td>1</td></tr><tr><td>Alejandro</td><td>2</td><td>1</td></tr><tr><td>Hilde</td><td>1</td><td>1</td></tr><tr><td>Sandy</td><td>1</td><td>1</td></tr><tr><td>Milagros</td><td>1</td><td>1</td></tr><tr><td>Bao</td><td>1</td><td>1</td></tr><tr><td>Qiana</td><td>1</td><td>1</td></tr><tr><td>Merrie</td><td>1</td><td>1</td></tr><tr><td>Jeanice</td><td>1</td><td>1</td></tr><tr><td>Sarai</td><td>1</td><td>1</td></tr><tr><td>Lavina</td><td>1</td><td>1</td></tr><tr><td>Felica</td><td>1</td><td>1</td></tr><tr><td>Maple</td><td>1</td><td>1</td></tr><tr><td>Caroline</td><td>1</td><td>1</td></tr><tr><td>Inger</td><td>1</td><td>1</td></tr><tr><td>Danielle</td><td>1</td><td>1</td></tr><tr><td>Josef</td><td>1</td><td>1</td></tr><tr><td>Leif</td><td>1</td><td>1</td></tr><tr><td>Douglass</td><td>2</td><td>1</td></tr><tr><td>Nicki</td><td>2</td><td>1</td></tr><tr><td>Lilliam</td><td>1</td><td>1</td></tr><tr><td>Mirella</td><td>1</td><td>1</td></tr><tr><td>Kami</td><td>1</td><td>1</td></tr><tr><td>Terese</td><td>2</td><td>1</td></tr><tr><td>Max</td><td>1</td><td>1</td></tr><tr><td>Christiane</td><td>1</td><td>1</td></tr><tr><td>Lynne</td><td>1</td><td>1</td></tr><tr><td>Bryce</td><td>1</td><td>1</td></tr><tr><td>Mechelle</td><td>1</td><td>1</td></tr><tr><td>Katherin</td><td>1</td><td>1</td></tr><tr><td>Myrtle</td><td>1</td><td>1</td></tr><tr><td>Kiesha</td><td>1</td><td>1</td></tr><tr><td>Charolette</td><td>1</td><td>1</td></tr><tr><td>Michel</td><td>1</td><td>1</td></tr><tr><td>Marilyn</td><td>1</td><td>1</td></tr><tr><td>Neville</td><td>1</td><td>1</td></tr><tr><td>Kristy</td><td>1</td><td>1</td></tr><tr><td>Charlsie</td><td>1</td><td>1</td></tr><tr><td>Romeo</td><td>1</td><td>1</td></tr><tr><td>Piedad</td><td>1</td><td>1</td></tr><tr><td>Katheleen</td><td>1</td><td>1</td></tr><tr><td>Armand</td><td>1</td><td>1</td></tr><tr><td>Edra</td><td>1</td><td>1</td></tr><tr><td>Tony</td><td>1</td><td>1</td></tr><tr><td>Gustavo</td><td>1</td><td>1</td></tr><tr><td>Johana</td><td>1</td><td>1</td></tr><tr><td>Monica</td><td>1</td><td>1</td></tr><tr><td>Shena</td><td>1</td><td>1</td></tr><tr><td>Alpha</td><td>1</td><td>1</td></tr><tr><td>Sunshine</td><td>1</td><td>1</td></tr><tr><td>Ouida</td><td>1</td><td>1</td></tr><tr><td>Kandis</td><td>1</td><td>1</td></tr><tr><td>Renato</td><td>1</td><td>1</td></tr><tr><td>Edmund</td><td>1</td><td>1</td></tr><tr><td>Janine</td><td>1</td><td>1</td></tr><tr><td>Ingeborg</td><td>1</td><td>1</td></tr><tr><td>Caren</td><td>1</td><td>1</td></tr><tr><td>Marquerite</td><td>1</td><td>1</td></tr><tr><td>Natosha</td><td>1</td><td>1</td></tr><tr><td>Adam</td><td>2</td><td>1</td></tr><tr><td>Trinidad</td><td>2</td><td>1</td></tr><tr><td>Bonita</td><td>1</td><td>1</td></tr><tr><td>Rozanne</td><td>1</td><td>1</td></tr><tr><td>Jacquline</td><td>1</td><td>1</td></tr><tr><td>Clementine</td><td>1</td><td>1</td></tr><tr><td>Mellisa</td><td>3</td><td>1</td></tr><tr><td>Valeri</td><td>1</td><td>1</td></tr><tr><td>Donette</td><td>1</td><td>1</td></tr><tr><td>Lizette</td><td>1</td><td>1</td></tr><tr><td>Ivette</td><td>2</td><td>1</td></tr><tr><td>Rebbecca</td><td>1</td><td>1</td></tr><tr><td>Lashunda</td><td>1</td><td>1</td></tr><tr><td>Kasha</td><td>2</td><td>1</td></tr><tr><td>Ivonne</td><td>1</td><td>1</td></tr><tr><td>Sophia</td><td>1</td><td>1</td></tr><tr><td>Fransisca</td><td>1</td><td>1</td></tr><tr><td>Valery</td><td>1</td><td>1</td></tr><tr><td>Vernell</td><td>1</td><td>1</td></tr><tr><td>Delfina</td><td>1</td><td>1</td></tr><tr><td>Alesia</td><td>1</td><td>1</td></tr><tr><td>Launa</td><td>1</td><td>1</td></tr><tr><td>Cecil</td><td>1</td><td>1</td></tr><tr><td>Jutta</td><td>1</td><td>1</td></tr><tr><td>Laurence</td><td>1</td><td>1</td></tr><tr><td>Alissa</td><td>2</td><td>1</td></tr><tr><td>Maximina</td><td>1</td><td>1</td></tr><tr><td>Season</td><td>1</td><td>1</td></tr><tr><td>Ai</td><td>1</td><td>1</td></tr><tr><td>Moses</td><td>1</td><td>1</td></tr><tr><td>Jeannie</td><td>1</td><td>1</td></tr><tr><td>Elinore</td><td>1</td><td>1</td></tr><tr><td>Virgen</td><td>1</td><td>1</td></tr><tr><td>Catarina</td><td>1</td><td>1</td></tr><tr><td>Taylor</td><td>1</td><td>1</td></tr><tr><td>Stefani</td><td>1</td><td>1</td></tr><tr><td>Jana</td><td>1</td><td>1</td></tr><tr><td>Christel</td><td>2</td><td>1</td></tr><tr><td>Pasquale</td><td>1</td><td>1</td></tr><tr><td>Sherril</td><td>1</td><td>1</td></tr><tr><td>Vanessa</td><td>1</td><td>1</td></tr><tr><td>Monika</td><td>1</td><td>1</td></tr><tr><td>Jennie</td><td>1</td><td>1</td></tr><tr><td>Elanor</td><td>1</td><td>1</td></tr><tr><td>Lidia</td><td>1</td><td>1</td></tr><tr><td>Santa</td><td>1</td><td>1</td></tr><tr><td>Carola</td><td>3</td><td>1</td></tr><tr><td>Darren</td><td>1</td><td>1</td></tr><tr><td>Moira</td><td>1</td><td>1</td></tr><tr><td>Mandi</td><td>1</td><td>1</td></tr><tr><td>Nanette</td><td>2</td><td>1</td></tr><tr><td>Reena</td><td>1</td><td>1</td></tr><tr><td>Birdie</td><td>1</td><td>1</td></tr><tr><td>Wallace</td><td>1</td><td>1</td></tr><tr><td>Glady</td><td>1</td><td>1</td></tr><tr><td>Tenisha</td><td>1</td><td>1</td></tr><tr><td>Jenniffer</td><td>1</td><td>1</td></tr><tr><td>Rubin</td><td>1</td><td>1</td></tr><tr><td>Boyce</td><td>1</td><td>1</td></tr><tr><td>Cameron</td><td>1</td><td>1</td></tr><tr><td>Earline</td><td>2</td><td>1</td></tr><tr><td>Jayson</td><td>1</td><td>1</td></tr><tr><td>Rudolf</td><td>2</td><td>1</td></tr><tr><td>Dagny</td><td>1</td><td>1</td></tr><tr><td>Shara</td><td>1</td><td>1</td></tr><tr><td>Yvone</td><td>2</td><td>1</td></tr><tr><td>Tad</td><td>1</td><td>1</td></tr><tr><td>Elnora</td><td>1</td><td>1</td></tr><tr><td>Carolann</td><td>1</td><td>1</td></tr><tr><td>Earlean</td><td>1</td><td>1</td></tr><tr><td>Rudolph</td><td>1</td><td>1</td></tr><tr><td>Shae</td><td>1</td><td>1</td></tr><tr><td>Regine</td><td>2</td><td>1</td></tr><tr><td>Dortha</td><td>1</td><td>1</td></tr><tr><td>Bess</td><td>1</td><td>1</td></tr><tr><td>Lea</td><td>2</td><td>1</td></tr><tr><td>Willis</td><td>1</td><td>1</td></tr><tr><td>Vernia</td><td>1</td><td>1</td></tr><tr><td>Bernita</td><td>1</td><td>1</td></tr><tr><td>Mariela</td><td>1</td><td>1</td></tr><tr><td>Deja</td><td>1</td><td>1</td></tr><tr><td>Dorthea</td><td>1</td><td>1</td></tr><tr><td>Sam</td><td>1</td><td>1</td></tr><tr><td>Janie</td><td>1</td><td>1</td></tr><tr><td>Tona</td><td>1</td><td>1</td></tr><tr><td>Laverna</td><td>1</td><td>1</td></tr><tr><td>Faustino</td><td>1</td><td>1</td></tr><tr><td>Etsuko</td><td>1</td><td>1</td></tr><tr><td>Lucilla</td><td>1</td><td>1</td></tr><tr><td>Jonna</td><td>1</td><td>1</td></tr><tr><td>Toya</td><td>1</td><td>1</td></tr><tr><td>Trinity</td><td>1</td><td>1</td></tr><tr><td>Somer</td><td>1</td><td>1</td></tr><tr><td>Kristen</td><td>1</td><td>1</td></tr><tr><td>Terra</td><td>1</td><td>1</td></tr><tr><td>Derrick</td><td>1</td><td>1</td></tr><tr><td>Jackeline</td><td>1</td><td>1</td></tr><tr><td>Garland</td><td>1</td><td>1</td></tr><tr><td>Camille</td><td>1</td><td>1</td></tr><tr><td>Geraldine</td><td>1</td><td>1</td></tr><tr><td>Genoveva</td><td>3</td><td>1</td></tr><tr><td>Yuk</td><td>1</td><td>1</td></tr><tr><td>Tiny</td><td>1</td><td>1</td></tr><tr><td>Ophelia</td><td>2</td><td>1</td></tr><tr><td>Louis</td><td>1</td><td>1</td></tr><tr><td>Marcelino</td><td>1</td><td>1</td></tr><tr><td>Ardelia</td><td>1</td><td>1</td></tr><tr><td>Alec</td><td>1</td><td>1</td></tr><tr><td>Letisha</td><td>1</td><td>1</td></tr><tr><td>Dorine</td><td>2</td><td>1</td></tr><tr><td>Aimee</td><td>1</td><td>1</td></tr><tr><td>Luke</td><td>2</td><td>1</td></tr><tr><td>Joshua</td><td>2</td><td>1</td></tr><tr><td>Erlene</td><td>1</td><td>1</td></tr><tr><td>Gayle</td><td>1</td><td>1</td></tr><tr><td>Nita</td><td>1</td><td>1</td></tr><tr><td>Laraine</td><td>1</td><td>1</td></tr><tr><td>Elenore</td><td>2</td><td>1</td></tr><tr><td>Lucio</td><td>1</td><td>1</td></tr><tr><td>Whitney</td><td>2</td><td>1</td></tr><tr><td>Muriel</td><td>1</td><td>1</td></tr><tr><td>Tonda</td><td>2</td><td>1</td></tr><tr><td>Fairy</td><td>1</td><td>1</td></tr><tr><td>Shaunda</td><td>1</td><td>1</td></tr><tr><td>Ryan</td><td>1</td><td>1</td></tr><tr><td>Conrad</td><td>1</td><td>1</td></tr><tr><td>Adrien</td><td>1</td><td>1</td></tr><tr><td>Denis</td><td>1</td><td>1</td></tr><tr><td>Monty</td><td>1</td><td>1</td></tr><tr><td>Gayla</td><td>1</td><td>1</td></tr><tr><td>Aida</td><td>1</td><td>1</td></tr><tr><td>Bettye</td><td>1</td><td>1</td></tr><tr><td>Conchita</td><td>1</td><td>1</td></tr><tr><td>Henrietta</td><td>1</td><td>1</td></tr><tr><td>Jeffrey</td><td>1</td><td>1</td></tr><tr><td>Takako</td><td>1</td><td>1</td></tr><tr><td>Chasidy</td><td>2</td><td>1</td></tr><tr><td>Risa</td><td>1</td><td>1</td></tr><tr><td>Britteny</td><td>1</td><td>1</td></tr><tr><td>Carmela</td><td>1</td><td>1</td></tr><tr><td>Corine</td><td>1</td><td>1</td></tr><tr><td>Marlen</td><td>1</td><td>1</td></tr><tr><td>Jeniffer</td><td>2</td><td>1</td></tr><tr><td>Andy</td><td>1</td><td>1</td></tr><tr><td>Kara</td><td>1</td><td>1</td></tr><tr><td>Phillis</td><td>1</td><td>1</td></tr><tr><td>Brigida</td><td>1</td><td>1</td></tr><tr><td>Sommer</td><td>1</td><td>1</td></tr><tr><td>Georgetta</td><td>1</td><td>1</td></tr><tr><td>Sharyn</td><td>2</td><td>1</td></tr><tr><td>Nichelle</td><td>2</td><td>1</td></tr><tr><td>Zella</td><td>1</td><td>1</td></tr><tr><td>Jennell</td><td>1</td><td>1</td></tr><tr><td>Mallie</td><td>1</td><td>1</td></tr><tr><td>Damian</td><td>2</td><td>1</td></tr><tr><td>Minerva</td><td>1</td><td>1</td></tr><tr><td>Vikki</td><td>1</td><td>1</td></tr><tr><td>Jeanett</td><td>1</td><td>1</td></tr><tr><td>Chanel</td><td>1</td><td>1</td></tr><tr><td>Lizzette</td><td>1</td><td>1</td></tr><tr><td>Chi</td><td>1</td><td>1</td></tr><tr><td>Tamela</td><td>1</td><td>1</td></tr><tr><td>Vonda</td><td>1</td><td>1</td></tr><tr><td>Spring</td><td>1</td><td>1</td></tr><tr><td>Lory</td><td>2</td><td>1</td></tr><tr><td>Jayme</td><td>1</td><td>1</td></tr><tr><td>Loise</td><td>1</td><td>1</td></tr><tr><td>Jasmin</td><td>1</td><td>1</td></tr><tr><td>Parker</td><td>1</td><td>1</td></tr><tr><td>Nova</td><td>1</td><td>1</td></tr><tr><td>Arminda</td><td>1</td><td>1</td></tr><tr><td>Dori</td><td>1</td><td>1</td></tr><tr><td>Lucas</td><td>1</td><td>1</td></tr><tr><td>Toshia</td><td>1</td><td>1</td></tr><tr><td>Elma</td><td>1</td><td>1</td></tr><tr><td>Keturah</td><td>2</td><td>1</td></tr><tr><td>Thad</td><td>2</td><td>1</td></tr><tr><td>Lois</td><td>1</td><td>1</td></tr><tr><td>Raymonde</td><td>1</td><td>1</td></tr><tr><td>Patria</td><td>1</td><td>1</td></tr><tr><td>Jayne</td><td>1</td><td>1</td></tr><tr><td>Rolanda</td><td>1</td><td>1</td></tr><tr><td>Danille</td><td>1</td><td>1</td></tr><tr><td>Yolando</td><td>1</td><td>1</td></tr><tr><td>Vallie</td><td>1</td><td>1</td></tr><tr><td>Arline</td><td>1</td><td>1</td></tr><tr><td>Rozella</td><td>1</td><td>1</td></tr><tr><td>Theo</td><td>1</td><td>1</td></tr><tr><td>Tangela</td><td>2</td><td>1</td></tr><tr><td>Kanesha</td><td>2</td><td>1</td></tr><tr><td>Walton</td><td>1</td><td>1</td></tr><tr><td>Marissa</td><td>1</td><td>1</td></tr><tr><td>Laure</td><td>1</td><td>1</td></tr><tr><td>Andria</td><td>1</td><td>1</td></tr><tr><td>Rosalie</td><td>1</td><td>1</td></tr><tr><td>Maira</td><td>1</td><td>1</td></tr><tr><td>Tonja</td><td>2</td><td>1</td></tr><tr><td>Shauna</td><td>1</td><td>1</td></tr><tr><td>Lashawn</td><td>1</td><td>1</td></tr><tr><td>Georgeann</td><td>2</td><td>1</td></tr><tr><td>Mellie</td><td>1</td><td>1</td></tr><tr><td>Amina</td><td>1</td><td>1</td></tr><tr><td>Alline</td><td>1</td><td>1</td></tr><tr><td>Charise</td><td>1</td><td>1</td></tr><tr><td>Romana</td><td>1</td><td>1</td></tr><tr><td>Jerald</td><td>1</td><td>1</td></tr><tr><td>Nicolas</td><td>1</td><td>1</td></tr><tr><td>Lina</td><td>1</td><td>1</td></tr><tr><td>Omer</td><td>1</td><td>1</td></tr><tr><td>Jenine</td><td>2</td><td>1</td></tr><tr><td>Doris</td><td>1</td><td>1</td></tr><tr><td>Treasa</td><td>1</td><td>1</td></tr><tr><td>Nubia</td><td>1</td><td>1</td></tr><tr><td>Shanice</td><td>1</td><td>1</td></tr><tr><td>Eleanor</td><td>1</td><td>1</td></tr><tr><td>Barbera</td><td>1</td><td>1</td></tr><tr><td>Hayden</td><td>1</td><td>1</td></tr><tr><td>Narcisa</td><td>1</td><td>1</td></tr><tr><td>Joni</td><td>1</td><td>1</td></tr><tr><td>Aubrey</td><td>1</td><td>1</td></tr><tr><td>Myung</td><td>1</td><td>1</td></tr><tr><td>Christia</td><td>2</td><td>1</td></tr><tr><td>Majorie</td><td>2</td><td>1</td></tr><tr><td>Yvette</td><td>1</td><td>1</td></tr><tr><td>Eli</td><td>1</td><td>1</td></tr><tr><td>Yun</td><td>1</td><td>1</td></tr><tr><td>Olimpia</td><td>1</td><td>1</td></tr><tr><td>Maryalice</td><td>1</td><td>1</td></tr><tr><td>Khalilah</td><td>1</td><td>1</td></tr><tr><td>Dottie</td><td>1</td><td>1</td></tr><tr><td>Bronwyn</td><td>1</td><td>1</td></tr><tr><td>Raven</td><td>1</td><td>1</td></tr><tr><td>Penni</td><td>1</td><td>1</td></tr><tr><td>Linnie</td><td>1</td><td>1</td></tr><tr><td>Crystle</td><td>1</td><td>1</td></tr><tr><td>Vashti</td><td>1</td><td>1</td></tr><tr><td>Shay</td><td>1</td><td>1</td></tr><tr><td>Alma</td><td>1</td><td>1</td></tr><tr><td>Agustina</td><td>1</td><td>1</td></tr><tr><td>Victor</td><td>1</td><td>1</td></tr><tr><td>Ashlee</td><td>1</td><td>1</td></tr><tr><td>Camila</td><td>1</td><td>1</td></tr><tr><td>Liliana</td><td>1</td><td>1</td></tr><tr><td>Berneice</td><td>1</td><td>1</td></tr><tr><td>Dewayne</td><td>1</td><td>1</td></tr><tr><td>Delbert</td><td>1</td><td>1</td></tr><tr><td>Mariana</td><td>1</td><td>1</td></tr><tr><td>Conception</td><td>1</td><td>1</td></tr><tr><td>Lorraine</td><td>1</td><td>1</td></tr><tr><td>Shantae</td><td>1</td><td>1</td></tr><tr><td>Blanca</td><td>1</td><td>1</td></tr><tr><td>Zoraida</td><td>1</td><td>1</td></tr><tr><td>Ann</td><td>1</td><td>1</td></tr><tr><td>Rod</td><td>1</td><td>1</td></tr><tr><td>Douglas</td><td>1</td><td>1</td></tr><tr><td>Stephen</td><td>1</td><td>1</td></tr><tr><td>Shanita</td><td>1</td><td>1</td></tr><tr><td>Kendra</td><td>1</td><td>1</td></tr><tr><td>Titus</td><td>1</td><td>1</td></tr><tr><td>Jeromy</td><td>2</td><td>1</td></tr><tr><td>Brenda</td><td>1</td><td>1</td></tr><tr><td>Lavonne</td><td>1</td><td>1</td></tr><tr><td>Shery</td><td>2</td><td>1</td></tr><tr><td>Ana</td><td>1</td><td>1</td></tr><tr><td>Kecia</td><td>1</td><td>1</td></tr><tr><td>Sherise</td><td>1</td><td>1</td></tr><tr><td>Lynda</td><td>1</td><td>1</td></tr><tr><td>Angelina</td><td>1</td><td>1</td></tr><tr><td>Lise</td><td>2</td><td>1</td></tr><tr><td>Vinnie</td><td>1</td><td>1</td></tr><tr><td>Cassidy</td><td>1</td><td>1</td></tr><tr><td>Crysta</td><td>1</td><td>1</td></tr><tr><td>Joann</td><td>1</td><td>1</td></tr><tr><td>Cami</td><td>1</td><td>1</td></tr><tr><td>Nevada</td><td>1</td><td>1</td></tr><tr><td>Karey</td><td>1</td><td>1</td></tr><tr><td>Joy</td><td>1</td><td>1</td></tr><tr><td>Mercedez</td><td>1</td><td>1</td></tr><tr><td>Wynona</td><td>1</td><td>1</td></tr><tr><td>Herlinda</td><td>1</td><td>1</td></tr><tr><td>Gwendolyn</td><td>1</td><td>1</td></tr><tr><td>Selene</td><td>2</td><td>1</td></tr><tr><td>Tricia</td><td>1</td><td>1</td></tr><tr><td>Susannah</td><td>1</td><td>1</td></tr><tr><td>Rosamaria</td><td>1</td><td>1</td></tr><tr><td>Allie</td><td>1</td><td>1</td></tr><tr><td>Justa</td><td>1</td><td>1</td></tr><tr><td>Sharika</td><td>1</td><td>1</td></tr><tr><td>Daina</td><td>1</td><td>1</td></tr><tr><td>Dane</td><td>1</td><td>1</td></tr><tr><td>Todd</td><td>1</td><td>1</td></tr><tr><td>Le</td><td>2</td><td>1</td></tr><tr><td>Carline</td><td>1</td><td>1</td></tr><tr><td>Ginette</td><td>1</td><td>1</td></tr><tr><td>Rufina</td><td>1</td><td>1</td></tr><tr><td>Rodger</td><td>1</td><td>1</td></tr><tr><td>Bart</td><td>1</td><td>1</td></tr><tr><td>Christopher</td><td>1</td><td>1</td></tr><tr><td>India</td><td>1</td><td>1</td></tr><tr><td>Hildegarde</td><td>1</td><td>1</td></tr><tr><td>Adelaida</td><td>1</td><td>1</td></tr><tr><td>Joeann</td><td>1</td><td>1</td></tr><tr><td>Melanie</td><td>1</td><td>1</td></tr><tr><td>Molly</td><td>1</td><td>1</td></tr><tr><td>Eliz</td><td>2</td><td>1</td></tr><tr><td>Ulysses</td><td>1</td><td>1</td></tr><tr><td>Jeffry</td><td>1</td><td>1</td></tr><tr><td>Aide</td><td>1</td><td>1</td></tr><tr><td>Oliva</td><td>1</td><td>1</td></tr><tr><td>Nathalie</td><td>1</td><td>1</td></tr><tr><td>Stan</td><td>1</td><td>1</td></tr><tr><td>Shea</td><td>1</td><td>1</td></tr><tr><td>Sharla</td><td>1</td><td>1</td></tr><tr><td>Norine</td><td>1</td><td>1</td></tr><tr><td>Alita</td><td>1</td><td>1</td></tr><tr><td>Raphael</td><td>1</td><td>1</td></tr><tr><td>Deloris</td><td>2</td><td>1</td></tr><tr><td>Dionne</td><td>1</td><td>1</td></tr><tr><td>Everett</td><td>1</td><td>1</td></tr><tr><td>Carita</td><td>1</td><td>1</td></tr><tr><td>Charlene</td><td>1</td><td>1</td></tr><tr><td>Aleta</td><td>3</td><td>1</td></tr><tr><td>Rayna</td><td>1</td><td>1</td></tr><tr><td>Caridad</td><td>1</td><td>1</td></tr><tr><td>Rita</td><td>1</td><td>1</td></tr><tr><td>Laurel</td><td>1</td><td>1</td></tr><tr><td>Zelda</td><td>1</td><td>1</td></tr><tr><td>Carina</td><td>1</td><td>1</td></tr><tr><td>Loan</td><td>1</td><td>1</td></tr><tr><td>Noble</td><td>1</td><td>1</td></tr><tr><td>Dollie</td><td>1</td><td>1</td></tr><tr><td>Ross</td><td>1</td><td>1</td></tr><tr><td>Sheree</td><td>2</td><td>1</td></tr><tr><td>Ji</td><td>1</td><td>1</td></tr><tr><td>Sheryl</td><td>1</td><td>1</td></tr><tr><td>Bridgette</td><td>1</td><td>1</td></tr><tr><td>Teofila</td><td>1</td><td>1</td></tr><tr><td>Violet</td><td>1</td><td>1</td></tr><tr><td>Marisol</td><td>1</td><td>1</td></tr><tr><td>Skye</td><td>1</td><td>1</td></tr><tr><td>Melita</td><td>1</td><td>1</td></tr><tr><td>Carolyne</td><td>1</td><td>1</td></tr><tr><td>Alexis</td><td>1</td><td>1</td></tr><tr><td>Corrina</td><td>1</td><td>1</td></tr><tr><td>Delila</td><td>1</td><td>1</td></tr><tr><td>Delana</td><td>2</td><td>1</td></tr><tr><td>Quyen</td><td>1</td><td>1</td></tr><tr><td>Angelique</td><td>1</td><td>1</td></tr><tr><td>Carisa</td><td>1</td><td>1</td></tr><tr><td>Sung</td><td>1</td><td>1</td></tr><tr><td>Tisha</td><td>1</td><td>1</td></tr><tr><td>Loyce</td><td>1</td><td>1</td></tr><tr><td>Katharina</td><td>1</td><td>1</td></tr><tr><td>Shiela</td><td>1</td><td>1</td></tr><tr><td>Soledad</td><td>1</td><td>1</td></tr><tr><td>Leanna</td><td>1</td><td>1</td></tr><tr><td>Lena</td><td>1</td><td>1</td></tr><tr><td>Ellena</td><td>1</td><td>1</td></tr><tr><td>Trena</td><td>2</td><td>1</td></tr><tr><td>Rodrigo</td><td>1</td><td>1</td></tr><tr><td>Omega</td><td>2</td><td>1</td></tr><tr><td>Alysha</td><td>1</td><td>1</td></tr><tr><td>Lamar</td><td>2</td><td>1</td></tr><tr><td>Cori</td><td>1</td><td>1</td></tr><tr><td>Herminia</td><td>1</td><td>1</td></tr><tr><td>Hugh</td><td>1</td><td>1</td></tr><tr><td>Zona</td><td>1</td><td>1</td></tr><tr><td>Gilberto</td><td>2</td><td>1</td></tr><tr><td>Sharie</td><td>2</td><td>1</td></tr><tr><td>Mary</td><td>1</td><td>1</td></tr><tr><td>Cris</td><td>1</td><td>1</td></tr><tr><td>Erna</td><td>1</td><td>1</td></tr><tr><td>Hae</td><td>1</td><td>1</td></tr><tr><td>Saran</td><td>1</td><td>1</td></tr><tr><td>Jeannette</td><td>1</td><td>1</td></tr><tr><td>Junita</td><td>1</td><td>1</td></tr><tr><td>Farrah</td><td>1</td><td>1</td></tr><tr><td>Onita</td><td>2</td><td>1</td></tr><tr><td>Freddie</td><td>1</td><td>1</td></tr><tr><td>Barton</td><td>2</td><td>1</td></tr><tr><td>Reita</td><td>1</td><td>1</td></tr><tr><td>Jovita</td><td>1</td><td>1</td></tr><tr><td>Shiloh</td><td>2</td><td>1</td></tr><tr><td>Izola</td><td>1</td><td>1</td></tr><tr><td>Brittni</td><td>1</td><td>1</td></tr><tr><td>Lecia</td><td>1</td><td>1</td></tr><tr><td>Roy</td><td>1</td><td>1</td></tr><tr><td>Bev</td><td>1</td><td>1</td></tr><tr><td>Greta</td><td>1</td><td>1</td></tr><tr><td>Vance</td><td>1</td><td>1</td></tr><tr><td>Inge</td><td>1</td><td>1</td></tr><tr><td>Zulema</td><td>2</td><td>1</td></tr><tr><td>Yang</td><td>2</td><td>1</td></tr><tr><td>Arie</td><td>1</td><td>1</td></tr><tr><td>Rona</td><td>1</td><td>1</td></tr><tr><td>Zelma</td><td>1</td><td>1</td></tr><tr><td>Kandace</td><td>3</td><td>1</td></tr><tr><td>Lashawna</td><td>1</td><td>1</td></tr><tr><td>Homer</td><td>1</td><td>1</td></tr><tr><td>Rodney</td><td>1</td><td>1</td></tr><tr><td>Rosanne</td><td>1</td><td>1</td></tr><tr><td>Loreen</td><td>1</td><td>1</td></tr><tr><td>Elmira</td><td>1</td><td>1</td></tr><tr><td>Lenore</td><td>1</td><td>1</td></tr><tr><td>Cheryll</td><td>1</td><td>1</td></tr><tr><td>Leslie</td><td>1</td><td>1</td></tr><tr><td>Sonja</td><td>1</td><td>1</td></tr><tr><td>Corene</td><td>2</td><td>1</td></tr><tr><td>Weldon</td><td>1</td><td>1</td></tr><tr><td>Melba</td><td>1</td><td>1</td></tr><tr><td>Darcel</td><td>1</td><td>1</td></tr><tr><td>Rochell</td><td>1</td><td>1</td></tr><tr><td>Demarcus</td><td>1</td><td>1</td></tr><tr><td>Kaylee</td><td>1</td><td>1</td></tr><tr><td>Hortencia</td><td>2</td><td>1</td></tr><tr><td>Sheba</td><td>1</td><td>1</td></tr><tr><td>Latosha</td><td>1</td><td>1</td></tr><tr><td>Angella</td><td>1</td><td>1</td></tr><tr><td>Rodolfo</td><td>1</td><td>1</td></tr><tr><td>Rikki</td><td>1</td><td>1</td></tr><tr><td>Trang</td><td>1</td><td>1</td></tr><tr><td>Kimberley</td><td>1</td><td>1</td></tr><tr><td>Roseanne</td><td>1</td><td>1</td></tr><tr><td>Giselle</td><td>1</td><td>1</td></tr><tr><td>Caleb</td><td>1</td><td>1</td></tr><tr><td>Tama</td><td>1</td><td>1</td></tr><tr><td>Travis</td><td>2</td><td>1</td></tr><tr><td>Lanita</td><td>1</td><td>1</td></tr><tr><td>Cinthia</td><td>1</td><td>1</td></tr><tr><td>Willian</td><td>1</td><td>1</td></tr><tr><td>Samual</td><td>1</td><td>1</td></tr><tr><td>Gussie</td><td>1</td><td>1</td></tr><tr><td>Holly</td><td>1</td><td>1</td></tr><tr><td>Renita</td><td>1</td><td>1</td></tr><tr><td>Marget</td><td>1</td><td>1</td></tr><tr><td>Dacia</td><td>1</td><td>1</td></tr><tr><td>Shonta</td><td>2</td><td>1</td></tr><tr><td>Deane</td><td>1</td><td>1</td></tr><tr><td>Ferne</td><td>1</td><td>1</td></tr><tr><td>Sindy</td><td>1</td><td>1</td></tr><tr><td>Kimbery</td><td>1</td><td>1</td></tr><tr><td>Delmar</td><td>1</td><td>1</td></tr><tr><td>Dorthey</td><td>1</td><td>1</td></tr><tr><td>Danny</td><td>1</td><td>1</td></tr><tr><td>Javier</td><td>1</td><td>1</td></tr><tr><td>Courtney</td><td>1</td><td>1</td></tr><tr><td>Collen</td><td>2</td><td>1</td></tr><tr><td>Eric</td><td>1</td><td>1</td></tr><tr><td>Ricki</td><td>1</td><td>1</td></tr><tr><td>Fran</td><td>1</td><td>1</td></tr><tr><td>Lanie</td><td>1</td><td>1</td></tr><tr><td>Oralia</td><td>1</td><td>1</td></tr><tr><td>Emmaline</td><td>1</td><td>1</td></tr><tr><td>America</td><td>1</td><td>1</td></tr><tr><td>Gertrud</td><td>1</td><td>1</td></tr><tr><td>Alfredo</td><td>1</td><td>1</td></tr><tr><td>Eun</td><td>1</td><td>1</td></tr><tr><td>Major</td><td>1</td><td>1</td></tr><tr><td>Leeanne</td><td>1</td><td>1</td></tr><tr><td>Floretta</td><td>1</td><td>1</td></tr><tr><td>Wes</td><td>1</td><td>1</td></tr><tr><td>Lavern</td><td>1</td><td>1</td></tr><tr><td>Leonore</td><td>1</td><td>1</td></tr><tr><td>Latoya</td><td>1</td><td>1</td></tr><tr><td>Lanelle</td><td>1</td><td>1</td></tr><tr><td>Tara</td><td>1</td><td>1</td></tr><tr><td>Miranda</td><td>1</td><td>1</td></tr><tr><td>Emmett</td><td>2</td><td>1</td></tr><tr><td>Tammera</td><td>1</td><td>1</td></tr><tr><td>Joel</td><td>1</td><td>1</td></tr><tr><td>Ernestina</td><td>1</td><td>1</td></tr><tr><td>Elaina</td><td>1</td><td>1</td></tr><tr><td>Marguerite</td><td>1</td><td>1</td></tr><tr><td>Coleman</td><td>1</td><td>1</td></tr><tr><td>Ulrike</td><td>1</td><td>1</td></tr><tr><td>Melia</td><td>1</td><td>1</td></tr><tr><td>Hedwig</td><td>1</td><td>1</td></tr><tr><td>Genevieve</td><td>1</td><td>1</td></tr><tr><td>Lezlie</td><td>2</td><td>1</td></tr><tr><td>Lonna</td><td>1</td><td>1</td></tr><tr><td>Pandora</td><td>1</td><td>1</td></tr><tr><td>Klara</td><td>3</td><td>1</td></tr><tr><td>Randolph</td><td>1</td><td>1</td></tr><tr><td>Venus</td><td>1</td><td>1</td></tr><tr><td>Vanda</td><td>1</td><td>1</td></tr><tr><td>Ayanna</td><td>2</td><td>1</td></tr><tr><td>Yu</td><td>1</td><td>1</td></tr><tr><td>Edith</td><td>1</td><td>1</td></tr><tr><td>Tayna</td><td>1</td><td>1</td></tr><tr><td>Daisy</td><td>1</td><td>1</td></tr><tr><td>Cassandra</td><td>1</td><td>1</td></tr><tr><td>Bobbi</td><td>1</td><td>1</td></tr><tr><td>Carmelina</td><td>1</td><td>1</td></tr><tr><td>Dalia</td><td>1</td><td>1</td></tr><tr><td>Gertrude</td><td>1</td><td>1</td></tr><tr><td>Celestine</td><td>2</td><td>1</td></tr><tr><td>Emelda</td><td>1</td><td>1</td></tr><tr><td>Phebe</td><td>2</td><td>1</td></tr><tr><td>Sherilyn</td><td>1</td><td>1</td></tr><tr><td>Macie</td><td>1</td><td>1</td></tr><tr><td>Santos</td><td>1</td><td>1</td></tr><tr><td>Agnes</td><td>1</td><td>1</td></tr><tr><td>Shila</td><td>1</td><td>1</td></tr><tr><td>Scarlet</td><td>2</td><td>1</td></tr><tr><td>Claudio</td><td>1</td><td>1</td></tr><tr><td>Latonya</td><td>1</td><td>1</td></tr><tr><td>Jennette</td><td>2</td><td>1</td></tr><tr><td>Julienne</td><td>1</td><td>1</td></tr><tr><td>Patience</td><td>1</td><td>1</td></tr><tr><td>Annabelle</td><td>1</td><td>1</td></tr><tr><td>Clorinda</td><td>1</td><td>1</td></tr><tr><td>Jesica</td><td>1</td><td>1</td></tr><tr><td>Cyndi</td><td>2</td><td>1</td></tr><tr><td>Johna</td><td>1</td><td>1</td></tr><tr><td>Tajuana</td><td>2</td><td>1</td></tr><tr><td>Letty</td><td>1</td><td>1</td></tr><tr><td>Davis</td><td>1</td><td>1</td></tr><tr><td>Jane</td><td>1</td><td>1</td></tr><tr><td>Penny</td><td>1</td><td>1</td></tr><tr><td>Shanelle</td><td>1</td><td>1</td></tr><tr><td>Sarita</td><td>1</td><td>1</td></tr><tr><td>Patsy</td><td>1</td><td>1</td></tr><tr><td>Shawnna</td><td>1</td><td>1</td></tr><tr><td>Donovan</td><td>1</td><td>1</td></tr><tr><td>Cassie</td><td>1</td><td>1</td></tr><tr><td>Debra</td><td>1</td><td>1</td></tr><tr><td>Marni</td><td>1</td><td>1</td></tr><tr><td>Darcie</td><td>1</td><td>1</td></tr><tr><td>Romelia</td><td>1</td><td>1</td></tr><tr><td>Felicidad</td><td>1</td><td>1</td></tr><tr><td>Sheila</td><td>2</td><td>1</td></tr><tr><td>Leland</td><td>1</td><td>1</td></tr><tr><td>Ashleigh</td><td>2</td><td>1</td></tr><tr><td>Tilda</td><td>1</td><td>1</td></tr><tr><td>Lynwood</td><td>1</td><td>1</td></tr><tr><td>Alishia</td><td>1</td><td>1</td></tr><tr><td>Parthenia</td><td>2</td><td>1</td></tr><tr><td>Inez</td><td>1</td><td>1</td></tr><tr><td>Caroll</td><td>1</td><td>1</td></tr><tr><td>Loreta</td><td>1</td><td>1</td></tr><tr><td>Micki</td><td>1</td><td>1</td></tr><tr><td>Consuela</td><td>2</td><td>1</td></tr><tr><td>Jenise</td><td>1</td><td>1</td></tr><tr><td>Carley</td><td>1</td><td>1</td></tr><tr><td>Earl</td><td>1</td><td>1</td></tr><tr><td>Ashton</td><td>1</td><td>1</td></tr><tr><td>Hue</td><td>2</td><td>1</td></tr><tr><td>Shantel</td><td>1</td><td>1</td></tr><tr><td>Lolita</td><td>2</td><td>1</td></tr><tr><td>Dannette</td><td>1</td><td>1</td></tr><tr><td>Angele</td><td>2</td><td>1</td></tr><tr><td>Ilda</td><td>1</td><td>1</td></tr><tr><td>Bernardina</td><td>1</td><td>1</td></tr><tr><td>Emory</td><td>1</td><td>1</td></tr><tr><td>Patrina</td><td>1</td><td>1</td></tr><tr><td>Ebony</td><td>1</td><td>1</td></tr><tr><td>Edris</td><td>1</td><td>1</td></tr><tr><td>Jerome</td><td>1</td><td>1</td></tr><tr><td>Hye</td><td>1</td><td>1</td></tr><tr><td>Brenton</td><td>1</td><td>1</td></tr><tr><td>Lurlene</td><td>2</td><td>1</td></tr><tr><td>Keri</td><td>1</td><td>1</td></tr><tr><td>Babara</td><td>1</td><td>1</td></tr><tr><td>Magda</td><td>1</td><td>1</td></tr><tr><td>Arcelia</td><td>1</td><td>1</td></tr><tr><td>George</td><td>1</td><td>1</td></tr><tr><td>Lean</td><td>1</td><td>1</td></tr><tr><td>Ruth</td><td>1</td><td>1</td></tr><tr><td>Latashia</td><td>1</td><td>1</td></tr><tr><td>Katherina</td><td>1</td><td>1</td></tr><tr><td>Justin</td><td>1</td><td>1</td></tr><tr><td>Kaci</td><td>1</td><td>1</td></tr><tr><td>Georgeanna</td><td>1</td><td>1</td></tr><tr><td>Charleen</td><td>2</td><td>1</td></tr><tr><td>Kimberely</td><td>1</td><td>1</td></tr><tr><td>Ronald</td><td>1</td><td>1</td></tr><tr><td>Leone</td><td>1</td><td>1</td></tr><tr><td>Venessa</td><td>1</td><td>1</td></tr><tr><td>Tuyet</td><td>1</td><td>1</td></tr><tr><td>Aaron</td><td>1</td><td>1</td></tr><tr><td>Garth</td><td>1</td><td>1</td></tr><tr><td>Nicola</td><td>1</td><td>1</td></tr><tr><td>Carie</td><td>1</td><td>1</td></tr><tr><td>Susann</td><td>1</td><td>1</td></tr><tr><td>Romaine</td><td>2</td><td>1</td></tr><tr><td>Viva</td><td>1</td><td>1</td></tr><tr><td>Corinna</td><td>1</td><td>1</td></tr><tr><td>Ethelyn</td><td>1</td><td>1</td></tr><tr><td>Orval</td><td>1</td><td>1</td></tr><tr><td>Lorrie</td><td>3</td><td>1</td></tr><tr><td>Sylvie</td><td>1</td><td>1</td></tr><tr><td>Queenie</td><td>1</td><td>1</td></tr><tr><td>Berna</td><td>1</td><td>1</td></tr><tr><td>Trisha</td><td>1</td><td>1</td></tr><tr><td>Coleen</td><td>1</td><td>1</td></tr><tr><td>Beryl</td><td>1</td><td>1</td></tr><tr><td>Anisha</td><td>1</td><td>1</td></tr><tr><td>Shanna</td><td>1</td><td>1</td></tr><tr><td>Kerrie</td><td>2</td><td>1</td></tr><tr><td>Octavia</td><td>2</td><td>1</td></tr><tr><td>Carroll</td><td>1</td><td>1</td></tr><tr><td>Ivelisse</td><td>1</td><td>1</td></tr><tr><td>Inga</td><td>1</td><td>1</td></tr><tr><td>Enoch</td><td>1</td><td>1</td></tr><tr><td>Julius</td><td>1</td><td>1</td></tr><tr><td>Myrtie</td><td>1</td><td>1</td></tr><tr><td>Janelle</td><td>1</td><td>1</td></tr><tr><td>Marina</td><td>1</td><td>1</td></tr><tr><td>Adena</td><td>1</td><td>1</td></tr><tr><td>Shemeka</td><td>1</td><td>1</td></tr><tr><td>Ramiro</td><td>1</td><td>1</td></tr><tr><td>Lazaro</td><td>1</td><td>1</td></tr><tr><td>Antonetta</td><td>1</td><td>1</td></tr><tr><td>Kathie</td><td>1</td><td>1</td></tr><tr><td>Luis</td><td>1</td><td>1</td></tr><tr><td>Mina</td><td>1</td><td>1</td></tr><tr><td>Clarita</td><td>1</td><td>1</td></tr><tr><td>Garret</td><td>1</td><td>1</td></tr><tr><td>Basil</td><td>1</td><td>1</td></tr><tr><td>Tania</td><td>1</td><td>1</td></tr><tr><td>Bethany</td><td>1</td><td>1</td></tr><tr><td>Clelia</td><td>1</td><td>1</td></tr><tr><td>Maribel</td><td>1</td><td>1</td></tr><tr><td>Katharine</td><td>1</td><td>1</td></tr><tr><td>Paul</td><td>1</td><td>1</td></tr><tr><td>Jenna</td><td>1</td><td>1</td></tr><tr><td>Alysia</td><td>1</td><td>1</td></tr><tr><td>Eldridge</td><td>1</td><td>1</td></tr><tr><td>Armando</td><td>1</td><td>1</td></tr><tr><td>Trudy</td><td>1</td><td>1</td></tr><tr><td>Destiny</td><td>1</td><td>1</td></tr><tr><td>Rutha</td><td>1</td><td>1</td></tr><tr><td>Sarah</td><td>1</td><td>1</td></tr><tr><td>Leigh</td><td>1</td><td>1</td></tr><tr><td>Kathyrn</td><td>1</td><td>1</td></tr><tr><td>Damien</td><td>1</td><td>1</td></tr><tr><td>Winfred</td><td>1</td><td>1</td></tr><tr><td>Justina</td><td>3</td><td>1</td></tr><tr><td>Shanti</td><td>1</td><td>1</td></tr><tr><td>Giovanna</td><td>1</td><td>1</td></tr><tr><td>Robby</td><td>1</td><td>1</td></tr><tr><td>Cleotilde</td><td>1</td><td>1</td></tr><tr><td>Stephaine</td><td>1</td><td>1</td></tr><tr><td>Josie</td><td>1</td><td>1</td></tr><tr><td>Vito</td><td>1</td><td>1</td></tr><tr><td>Ileana</td><td>1</td><td>1</td></tr><tr><td>Williemae</td><td>1</td><td>1</td></tr><tr><td>Vernita</td><td>1</td><td>1</td></tr><tr><td>Grace</td><td>1</td><td>1</td></tr><tr><td>Jenny</td><td>1</td><td>1</td></tr><tr><td>Zenia</td><td>1</td><td>1</td></tr><tr><td>Ami</td><td>1</td><td>1</td></tr><tr><td>Ilona</td><td>1</td><td>1</td></tr><tr><td>Larissa</td><td>1</td><td>1</td></tr><tr><td>Odette</td><td>1</td><td>1</td></tr><tr><td>Tomasa</td><td>1</td><td>1</td></tr><tr><td>Burma</td><td>1</td><td>1</td></tr><tr><td>Hilary</td><td>1</td><td>1</td></tr><tr><td>Domingo</td><td>1</td><td>1</td></tr><tr><td>Margit</td><td>1</td><td>1</td></tr><tr><td>Lee</td><td>2</td><td>1</td></tr><tr><td>Katelin</td><td>1</td><td>1</td></tr><tr><td>Lissa</td><td>1</td><td>1</td></tr><tr><td>Charlyn</td><td>1</td><td>1</td></tr><tr><td>Eleni</td><td>1</td><td>1</td></tr><tr><td>Mia</td><td>1</td><td>1</td></tr><tr><td>Agatha</td><td>2</td><td>1</td></tr><tr><td>Karl</td><td>1</td><td>1</td></tr><tr><td>Lakenya</td><td>1</td><td>1</td></tr><tr><td>Erlinda</td><td>3</td><td>1</td></tr><tr><td>Evelina</td><td>2</td><td>1</td></tr><tr><td>Marcel</td><td>1</td><td>1</td></tr><tr><td>Vivian</td><td>1</td><td>1</td></tr><tr><td>Flossie</td><td>1</td><td>1</td></tr><tr><td>Tiana</td><td>1</td><td>1</td></tr><tr><td>Stacie</td><td>1</td><td>1</td></tr><tr><td>Kenyetta</td><td>1</td><td>1</td></tr><tr><td>Barbra</td><td>1</td><td>1</td></tr><tr><td>Brittney</td><td>2</td><td>1</td></tr><tr><td>Cayla</td><td>1</td><td>1</td></tr><tr><td>Olympia</td><td>1</td><td>1</td></tr><tr><td>Tammy</td><td>1</td><td>1</td></tr><tr><td>Dante</td><td>1</td><td>1</td></tr><tr><td>Desire</td><td>1</td><td>1</td></tr><tr><td>Jerlene</td><td>1</td><td>1</td></tr><tr><td>Cathey</td><td>1</td><td>1</td></tr><tr><td>James</td><td>1</td><td>1</td></tr><tr><td>Renna</td><td>1</td><td>1</td></tr><tr><td>Kiara</td><td>1</td><td>1</td></tr><tr><td>Joaquin</td><td>1</td><td>1</td></tr><tr><td>Antony</td><td>1</td><td>1</td></tr><tr><td>Ocie</td><td>1</td><td>1</td></tr><tr><td>Casimira</td><td>1</td><td>1</td></tr><tr><td>Waldo</td><td>1</td><td>1</td></tr><tr><td>Jewel</td><td>1</td><td>1</td></tr><tr><td>Charlesetta</td><td>1</td><td>1</td></tr><tr><td>Corina</td><td>1</td><td>1</td></tr><tr><td>Alica</td><td>1</td><td>1</td></tr><tr><td>Jeni</td><td>2</td><td>1</td></tr><tr><td>Rosalba</td><td>1</td><td>1</td></tr><tr><td>Kristel</td><td>2</td><td>1</td></tr><tr><td>Mila</td><td>2</td><td>1</td></tr><tr><td>Jone</td><td>1</td><td>1</td></tr><tr><td>Margorie</td><td>1</td><td>1</td></tr><tr><td>Hee</td><td>1</td><td>1</td></tr><tr><td>Katina</td><td>1</td><td>1</td></tr><tr><td>Daphine</td><td>1</td><td>1</td></tr><tr><td>Terrance</td><td>1</td><td>1</td></tr><tr><td>Cleopatra</td><td>1</td><td>1</td></tr><tr><td>Kasie</td><td>1</td><td>1</td></tr><tr><td>Taisha</td><td>1</td><td>1</td></tr><tr><td>Deirdre</td><td>1</td><td>1</td></tr><tr><td>Karole</td><td>1</td><td>1</td></tr><tr><td>Kallie</td><td>1</td><td>1</td></tr><tr><td>Chauncey</td><td>1</td><td>1</td></tr><tr><td>Hans</td><td>1</td><td>1</td></tr><tr><td>Augustus</td><td>2</td><td>1</td></tr><tr><td>Gertha</td><td>1</td><td>1</td></tr><tr><td>Joi</td><td>1</td><td>1</td></tr><tr><td>Willow</td><td>1</td><td>1</td></tr><tr><td>Ara</td><td>1</td><td>1</td></tr><tr><td>Nettie</td><td>1</td><td>1</td></tr><tr><td>Addie</td><td>1</td><td>1</td></tr><tr><td>Sherita</td><td>1</td><td>1</td></tr><tr><td>Laci</td><td>1</td><td>1</td></tr><tr><td>Lavonda</td><td>1</td><td>1</td></tr><tr><td>Neil</td><td>1</td><td>1</td></tr><tr><td>Larraine</td><td>1</td><td>1</td></tr><tr><td>Elmo</td><td>2</td><td>1</td></tr><tr><td>Lurline</td><td>1</td><td>1</td></tr><tr><td>Ronna</td><td>1</td><td>1</td></tr><tr><td>Alane</td><td>3</td><td>1</td></tr><tr><td>Kiana</td><td>1</td><td>1</td></tr><tr><td>Heather</td><td>2</td><td>1</td></tr><tr><td>Dale</td><td>1</td><td>1</td></tr><tr><td>Judith</td><td>1</td><td>1</td></tr><tr><td>Maurice</td><td>1</td><td>1</td></tr><tr><td>Myesha</td><td>1</td><td>1</td></tr><tr><td>Virgil</td><td>1</td><td>1</td></tr><tr><td>Graig</td><td>2</td><td>1</td></tr><tr><td>Magdalena</td><td>1</td><td>1</td></tr><tr><td>Ester</td><td>1</td><td>1</td></tr><tr><td>Regina</td><td>1</td><td>1</td></tr><tr><td>Miriam</td><td>1</td><td>1</td></tr><tr><td>Margaretta</td><td>1</td><td>1</td></tr><tr><td>Jimmy</td><td>1</td><td>1</td></tr><tr><td>Tam</td><td>1</td><td>1</td></tr><tr><td>Alden</td><td>1</td><td>1</td></tr><tr><td>Abram</td><td>1</td><td>1</td></tr><tr><td>Grisel</td><td>1</td><td>1</td></tr><tr><td>Lizzie</td><td>1</td><td>1</td></tr><tr><td>Priscilla</td><td>1</td><td>1</td></tr><tr><td>Jessika</td><td>1</td><td>1</td></tr><tr><td>Sheri</td><td>1</td><td>1</td></tr><tr><td>Luciana</td><td>1</td><td>1</td></tr><tr><td>Almeta</td><td>1</td><td>1</td></tr><tr><td>Elana</td><td>1</td><td>1</td></tr><tr><td>Graciela</td><td>1</td><td>1</td></tr><tr><td>Jong</td><td>1</td><td>1</td></tr><tr><td>Kenton</td><td>1</td><td>1</td></tr><tr><td>Phylicia</td><td>1</td><td>1</td></tr><tr><td>Merideth</td><td>1</td><td>1</td></tr><tr><td>Mable</td><td>1</td><td>1</td></tr><tr><td>Janella</td><td>1</td><td>1</td></tr><tr><td>Krissy</td><td>1</td><td>1</td></tr><tr><td>Tonisha</td><td>1</td><td>1</td></tr><tr><td>Desmond</td><td>1</td><td>1</td></tr><tr><td>Nelle</td><td>1</td><td>1</td></tr><tr><td>Cecilia</td><td>1</td><td>1</td></tr><tr><td>Hilda</td><td>1</td><td>1</td></tr><tr><td>Genevie</td><td>1</td><td>1</td></tr><tr><td>Dung</td><td>2</td><td>1</td></tr><tr><td>Letitia</td><td>1</td><td>1</td></tr><tr><td>Luz</td><td>1</td><td>1</td></tr><tr><td>Virgina</td><td>1</td><td>1</td></tr><tr><td>Adriene</td><td>2</td><td>1</td></tr><tr><td>Catrice</td><td>1</td><td>1</td></tr><tr><td>Renay</td><td>1</td><td>1</td></tr><tr><td>Janae</td><td>1</td><td>1</td></tr><tr><td>Kellye</td><td>1</td><td>1</td></tr><tr><td>Danyell</td><td>1</td><td>1</td></tr><tr><td>Tereasa</td><td>1</td><td>1</td></tr><tr><td>Alexandria</td><td>1</td><td>1</td></tr><tr><td>Jeanie</td><td>1</td><td>1</td></tr><tr><td>Clementina</td><td>1</td><td>1</td></tr><tr><td>Rayford</td><td>1</td><td>1</td></tr><tr><td>Vince</td><td>1</td><td>1</td></tr><tr><td>Ling</td><td>1</td><td>1</td></tr><tr><td>Edythe</td><td>1</td><td>1</td></tr><tr><td>Elouise</td><td>1</td><td>1</td></tr><tr><td>Krystin</td><td>1</td><td>1</td></tr><tr><td>Chantay</td><td>1</td><td>1</td></tr><tr><td>Inocencia</td><td>1</td><td>1</td></tr><tr><td>Juliane</td><td>1</td><td>1</td></tr><tr><td>Eliana</td><td>2</td><td>1</td></tr><tr><td>Dorothea</td><td>2</td><td>1</td></tr><tr><td>Merlin</td><td>1</td><td>1</td></tr><tr><td>Marisa</td><td>1</td><td>1</td></tr><tr><td>Ghislaine</td><td>1</td><td>1</td></tr><tr><td>Rosalva</td><td>1</td><td>1</td></tr><tr><td>Mica</td><td>1</td><td>1</td></tr><tr><td>Leola</td><td>1</td><td>1</td></tr><tr><td>Dwain</td><td>1</td><td>1</td></tr><tr><td>Mercy</td><td>1</td><td>1</td></tr><tr><td>Shona</td><td>1</td><td>1</td></tr></tbody></table></div>"
      ]
     },
     "metadata": {
      "application/vnd.databricks.v1+output": {
       "addedWidgets": {},
       "aggData": [],
       "aggError": "",
       "aggOverflow": false,
       "aggSchema": [],
       "aggSeriesLimitReached": false,
       "aggType": "",
       "arguments": {},
       "columnCustomDisplayInfos": {},
       "data": [
        [
         "Tobie",
         1,
         1
        ],
        [
         "Mireille",
         1,
         1
        ],
        [
         "Irving",
         1,
         1
        ],
        [
         "Salena",
         1,
         1
        ],
        [
         "Thurman",
         1,
         1
        ],
        [
         "Alejandrina",
         1,
         1
        ],
        [
         "Mariette",
         1,
         1
        ],
        [
         "Gilbert",
         1,
         1
        ],
        [
         "Verna",
         1,
         1
        ],
        [
         "Hollis",
         1,
         1
        ],
        [
         "Christiana",
         1,
         1
        ],
        [
         "Mikel",
         1,
         1
        ],
        [
         "Deshawn",
         1,
         1
        ],
        [
         "Marlo",
         1,
         1
        ],
        [
         "Wm",
         1,
         1
        ],
        [
         "Larae",
         1,
         1
        ],
        [
         "Elvia",
         1,
         1
        ],
        [
         "Myrl",
         1,
         1
        ],
        [
         "Arla",
         1,
         1
        ],
        [
         "Kate",
         1,
         1
        ],
        [
         "Boyd",
         1,
         1
        ],
        [
         "Joesph",
         1,
         1
        ],
        [
         "Bong",
         1,
         1
        ],
        [
         "Alyse",
         1,
         1
        ],
        [
         "Neida",
         1,
         1
        ],
        [
         "Tanesha",
         2,
         1
        ],
        [
         "Abbey",
         1,
         1
        ],
        [
         "Dexter",
         1,
         1
        ],
        [
         "Tuan",
         1,
         1
        ],
        [
         "Silas",
         1,
         1
        ],
        [
         "Verda",
         1,
         1
        ],
        [
         "Yan",
         2,
         1
        ],
        [
         "Carissa",
         2,
         1
        ],
        [
         "Ashely",
         1,
         1
        ],
        [
         "Kandi",
         1,
         1
        ],
        [
         "Marylyn",
         1,
         1
        ],
        [
         "Lara",
         1,
         1
        ],
        [
         "Iva",
         1,
         1
        ],
        [
         "Georgina",
         1,
         1
        ],
        [
         "Deanne",
         1,
         1
        ],
        [
         "Marshall",
         1,
         1
        ],
        [
         "Jenell",
         1,
         1
        ],
        [
         "Thanh",
         1,
         1
        ],
        [
         "Regenia",
         1,
         1
        ],
        [
         "Kam",
         1,
         1
        ],
        [
         "Florencio",
         1,
         1
        ],
        [
         "Laurette",
         1,
         1
        ],
        [
         "Josephine",
         1,
         1
        ],
        [
         "Cinda",
         1,
         1
        ],
        [
         "Ashanti",
         2,
         1
        ],
        [
         "Hope",
         1,
         1
        ],
        [
         "Tressa",
         1,
         1
        ],
        [
         "Martha",
         1,
         1
        ],
        [
         "Desiree",
         1,
         1
        ],
        [
         "Drucilla",
         1,
         1
        ],
        [
         "Leticia",
         1,
         1
        ],
        [
         "Gabriela",
         1,
         1
        ],
        [
         "Yevette",
         2,
         1
        ],
        [
         "Ellsworth",
         1,
         1
        ],
        [
         "Ehtel",
         1,
         1
        ],
        [
         "Yvonne",
         1,
         1
        ],
        [
         "Candis",
         1,
         1
        ],
        [
         "Delaine",
         1,
         1
        ],
        [
         "Nenita",
         1,
         1
        ],
        [
         "Nathaniel",
         2,
         1
        ],
        [
         "Bennett",
         1,
         1
        ],
        [
         "Cesar",
         2,
         1
        ],
        [
         "Nicholas",
         1,
         1
        ],
        [
         "Carter",
         2,
         1
        ],
        [
         "Erik",
         1,
         1
        ],
        [
         "Steve",
         1,
         1
        ],
        [
         "Alisia",
         1,
         1
        ],
        [
         "Brianne",
         1,
         1
        ],
        [
         "Kimberli",
         1,
         1
        ],
        [
         "Cindie",
         1,
         1
        ],
        [
         "Tameka",
         1,
         1
        ],
        [
         "Arvilla",
         2,
         1
        ],
        [
         "Karla",
         1,
         1
        ],
        [
         "Jame",
         1,
         1
        ],
        [
         "Hermila",
         1,
         1
        ],
        [
         "Divina",
         2,
         1
        ],
        [
         "Jaqueline",
         1,
         1
        ],
        [
         "Minnie",
         1,
         1
        ],
        [
         "Pinkie",
         1,
         1
        ],
        [
         "Randee",
         2,
         1
        ],
        [
         "Katia",
         1,
         1
        ],
        [
         "Rico",
         1,
         1
        ],
        [
         "Kaley",
         1,
         1
        ],
        [
         "Brain",
         1,
         1
        ],
        [
         "Phyllis",
         1,
         1
        ],
        [
         "Kattie",
         1,
         1
        ],
        [
         "Elvina",
         1,
         1
        ],
        [
         "Claris",
         1,
         1
        ],
        [
         "Lucy",
         1,
         1
        ],
        [
         "Josh",
         1,
         1
        ],
        [
         "Timothy",
         1,
         1
        ],
        [
         "Veronika",
         1,
         1
        ],
        [
         "Nikita",
         1,
         1
        ],
        [
         "Nestor",
         1,
         1
        ],
        [
         "Tu",
         1,
         1
        ],
        [
         "Brianna",
         1,
         1
        ],
        [
         "Morton",
         2,
         1
        ],
        [
         "Wai",
         1,
         1
        ],
        [
         "Vernetta",
         1,
         1
        ],
        [
         "Kellie",
         1,
         1
        ],
        [
         "Jenee",
         1,
         1
        ],
        [
         "Shu",
         1,
         1
        ],
        [
         "Matilda",
         1,
         1
        ],
        [
         "Jonell",
         1,
         1
        ],
        [
         "Kristofer",
         1,
         1
        ],
        [
         "Sylvester",
         1,
         1
        ],
        [
         "Londa",
         1,
         1
        ],
        [
         "Rey",
         1,
         1
        ],
        [
         "Charmain",
         1,
         1
        ],
        [
         "Herta",
         1,
         1
        ],
        [
         "Augustina",
         1,
         1
        ],
        [
         "Kirstie",
         1,
         1
        ],
        [
         "Lewis",
         1,
         1
        ],
        [
         "Annis",
         1,
         1
        ],
        [
         "Hubert",
         2,
         1
        ],
        [
         "Whitley",
         1,
         1
        ],
        [
         "Angelika",
         1,
         1
        ],
        [
         "Pearl",
         1,
         1
        ],
        [
         "Euna",
         1,
         1
        ],
        [
         "Amparo",
         1,
         1
        ],
        [
         "Margret",
         1,
         1
        ],
        [
         "Gilberte",
         1,
         1
        ],
        [
         "Jamaal",
         3,
         1
        ],
        [
         "Rubye",
         1,
         1
        ],
        [
         "Shirely",
         2,
         1
        ],
        [
         "Gabriel",
         2,
         1
        ],
        [
         "Ira",
         2,
         1
        ],
        [
         "Reatha",
         1,
         1
        ],
        [
         "Joe",
         1,
         1
        ],
        [
         "Florrie",
         1,
         1
        ],
        [
         "Petronila",
         2,
         1
        ],
        [
         "Cindi",
         2,
         1
        ],
        [
         "Basilia",
         1,
         1
        ],
        [
         "Arielle",
         1,
         1
        ],
        [
         "Carson",
         1,
         1
        ],
        [
         "Chantell",
         1,
         1
        ],
        [
         "Louanne",
         1,
         1
        ],
        [
         "Van",
         1,
         1
        ],
        [
         "Afton",
         1,
         1
        ],
        [
         "Tomeka",
         1,
         1
        ],
        [
         "Melodie",
         1,
         1
        ],
        [
         "Guillermo",
         1,
         1
        ],
        [
         "Lillia",
         1,
         1
        ],
        [
         "Gabriella",
         1,
         1
        ],
        [
         "Houston",
         1,
         1
        ],
        [
         "Gilma",
         1,
         1
        ],
        [
         "Mi",
         1,
         1
        ],
        [
         "Jacalyn",
         1,
         1
        ],
        [
         "Cherelle",
         1,
         1
        ],
        [
         "Arnita",
         1,
         1
        ],
        [
         "Marcy",
         1,
         1
        ],
        [
         "Phylis",
         1,
         1
        ],
        [
         "Raeann",
         1,
         1
        ],
        [
         "Ja",
         1,
         1
        ],
        [
         "Danilo",
         1,
         1
        ],
        [
         "Calandra",
         1,
         1
        ],
        [
         "Aileen",
         1,
         1
        ],
        [
         "Magali",
         1,
         1
        ],
        [
         "Veronique",
         1,
         1
        ],
        [
         "Olevia",
         2,
         1
        ],
        [
         "Laureen",
         2,
         1
        ],
        [
         "Candelaria",
         1,
         1
        ],
        [
         "Clare",
         1,
         1
        ],
        [
         "Sherie",
         1,
         1
        ],
        [
         "Donnetta",
         1,
         1
        ],
        [
         "Ladawn",
         1,
         1
        ],
        [
         "Terrell",
         1,
         1
        ],
        [
         "Mariam",
         1,
         1
        ],
        [
         "Ashlie",
         1,
         1
        ],
        [
         "Erma",
         1,
         1
        ],
        [
         "Tisa",
         1,
         1
        ],
        [
         "Gena",
         1,
         1
        ],
        [
         "Tammie",
         1,
         1
        ],
        [
         "Rory",
         1,
         1
        ],
        [
         "Marry",
         1,
         1
        ],
        [
         "Chelsey",
         2,
         1
        ],
        [
         "Aron",
         1,
         1
        ],
        [
         "Iola",
         1,
         1
        ],
        [
         "Debbra",
         1,
         1
        ],
        [
         "Penney",
         1,
         1
        ],
        [
         "Dione",
         1,
         1
        ],
        [
         "Shayla",
         1,
         1
        ],
        [
         "Robena",
         1,
         1
        ],
        [
         "Jina",
         1,
         1
        ],
        [
         "Andreas",
         2,
         1
        ],
        [
         "Allison",
         1,
         1
        ],
        [
         "Corrinne",
         1,
         1
        ],
        [
         "Ben",
         1,
         1
        ],
        [
         "Ernest",
         1,
         1
        ],
        [
         "Garry",
         2,
         1
        ],
        [
         "Chere",
         3,
         1
        ],
        [
         "Hipolito",
         1,
         1
        ],
        [
         "Lashandra",
         1,
         1
        ],
        [
         "Lloyd",
         1,
         1
        ],
        [
         "Ruthanne",
         2,
         1
        ],
        [
         "Serafina",
         1,
         1
        ],
        [
         "Bee",
         1,
         1
        ],
        [
         "Bea",
         1,
         1
        ],
        [
         "Jesus",
         1,
         1
        ],
        [
         "Tarra",
         1,
         1
        ],
        [
         "Mark",
         2,
         1
        ],
        [
         "Anderson",
         1,
         1
        ],
        [
         "Hassan",
         1,
         1
        ],
        [
         "Carmina",
         1,
         1
        ],
        [
         "Leila",
         1,
         1
        ],
        [
         "Brigid",
         1,
         1
        ],
        [
         "Bella",
         1,
         1
        ],
        [
         "Eloisa",
         1,
         1
        ],
        [
         "Carlena",
         1,
         1
        ],
        [
         "Tempie",
         1,
         1
        ],
        [
         "Syreeta",
         1,
         1
        ],
        [
         "Araceli",
         1,
         1
        ],
        [
         "Malinda",
         1,
         1
        ],
        [
         "Tina",
         1,
         1
        ],
        [
         "Deangelo",
         1,
         1
        ],
        [
         "Louise",
         1,
         1
        ],
        [
         "Sally",
         1,
         1
        ],
        [
         "Jasper",
         1,
         1
        ],
        [
         "Janetta",
         1,
         1
        ],
        [
         "Serina",
         1,
         1
        ],
        [
         "Frederica",
         1,
         1
        ],
        [
         "Kermit",
         2,
         1
        ],
        [
         "Verdell",
         1,
         1
        ],
        [
         "Jama",
         1,
         1
        ],
        [
         "Sandee",
         1,
         1
        ],
        [
         "Mazie",
         1,
         1
        ],
        [
         "Bettie",
         2,
         1
        ],
        [
         "Starr",
         1,
         1
        ],
        [
         "Harold",
         1,
         1
        ],
        [
         "Rodrick",
         1,
         1
        ],
        [
         "Angie",
         1,
         1
        ],
        [
         "Shawnda",
         1,
         1
        ],
        [
         "Zora",
         1,
         1
        ],
        [
         "Edda",
         1,
         1
        ],
        [
         "Ping",
         1,
         1
        ],
        [
         "Jewell",
         1,
         1
        ],
        [
         "Doreatha",
         1,
         1
        ],
        [
         "Alina",
         1,
         1
        ],
        [
         "Lekisha",
         1,
         1
        ],
        [
         "Zina",
         1,
         1
        ],
        [
         "Wanita",
         1,
         1
        ],
        [
         "Bettyann",
         1,
         1
        ],
        [
         "Sharell",
         1,
         1
        ],
        [
         "Sanora",
         1,
         1
        ],
        [
         "Shanda",
         1,
         1
        ],
        [
         "Nathanael",
         1,
         1
        ],
        [
         "Wilda",
         1,
         1
        ],
        [
         "Margene",
         1,
         1
        ],
        [
         "Devin",
         2,
         1
        ],
        [
         "Carman",
         1,
         1
        ],
        [
         "Tena",
         2,
         1
        ],
        [
         "Merlene",
         1,
         1
        ],
        [
         "Barry",
         2,
         1
        ],
        [
         "Christoper",
         2,
         1
        ],
        [
         "Chloe",
         1,
         1
        ],
        [
         "Porter",
         1,
         1
        ],
        [
         "Lynn",
         1,
         1
        ],
        [
         "Siobhan",
         1,
         1
        ],
        [
         "Kim",
         1,
         1
        ],
        [
         "Neoma",
         1,
         1
        ],
        [
         "Cecelia",
         1,
         1
        ],
        [
         "Melani",
         1,
         1
        ],
        [
         "Suellen",
         1,
         1
        ],
        [
         "Laverne",
         1,
         1
        ],
        [
         "Reyes",
         1,
         1
        ],
        [
         "Dann",
         1,
         1
        ],
        [
         "Cheree",
         1,
         1
        ],
        [
         "Adelle",
         1,
         1
        ],
        [
         "Ollie",
         1,
         1
        ],
        [
         "Sebrina",
         2,
         1
        ],
        [
         "Philip",
         1,
         1
        ],
        [
         "Carlie",
         1,
         1
        ],
        [
         "Trista",
         1,
         1
        ],
        [
         "Mozelle",
         1,
         1
        ],
        [
         "Diana",
         3,
         1
        ],
        [
         "Buford",
         2,
         1
        ],
        [
         "Luciano",
         1,
         1
        ],
        [
         "Lavona",
         1,
         1
        ],
        [
         "Genny",
         2,
         1
        ],
        [
         "Yahaira",
         1,
         1
        ],
        [
         "Tessie",
         1,
         1
        ],
        [
         "Elease",
         1,
         1
        ],
        [
         "Heide",
         1,
         1
        ],
        [
         "Cassondra",
         1,
         1
        ],
        [
         "Ayana",
         1,
         1
        ],
        [
         "Effie",
         1,
         1
        ],
        [
         "Valentin",
         1,
         1
        ],
        [
         "Lore",
         1,
         1
        ],
        [
         "Jule",
         1,
         1
        ],
        [
         "Guillermina",
         1,
         1
        ],
        [
         "Tommie",
         2,
         1
        ],
        [
         "Abby",
         1,
         1
        ],
        [
         "Loni",
         2,
         1
        ],
        [
         "Honey",
         1,
         1
        ],
        [
         "Cira",
         1,
         1
        ],
        [
         "Julia",
         1,
         1
        ],
        [
         "Cicely",
         1,
         1
        ],
        [
         "Lucile",
         1,
         1
        ],
        [
         "Bernetta",
         2,
         1
        ],
        [
         "Barrett",
         1,
         1
        ],
        [
         "Novella",
         2,
         1
        ],
        [
         "Raul",
         1,
         1
        ],
        [
         "Elvera",
         1,
         1
        ],
        [
         "Collene",
         2,
         1
        ],
        [
         "Kaila",
         1,
         1
        ],
        [
         "Shasta",
         1,
         1
        ],
        [
         "Karren",
         2,
         1
        ],
        [
         "Tomika",
         2,
         1
        ],
        [
         "Cristobal",
         1,
         1
        ],
        [
         "Efren",
         2,
         1
        ],
        [
         "Mathilda",
         1,
         1
        ],
        [
         "Fannie",
         1,
         1
        ],
        [
         "Lavinia",
         1,
         1
        ],
        [
         "Wendie",
         1,
         1
        ],
        [
         "Phuong",
         1,
         1
        ],
        [
         "Kelsey",
         1,
         1
        ],
        [
         "Tiesha",
         1,
         1
        ],
        [
         "Stefany",
         1,
         1
        ],
        [
         "Pearlie",
         1,
         1
        ],
        [
         "Ciera",
         2,
         1
        ],
        [
         "Theresia",
         1,
         1
        ],
        [
         "Lenita",
         1,
         1
        ],
        [
         "Pamelia",
         1,
         1
        ],
        [
         "Julee",
         1,
         1
        ],
        [
         "Catherine",
         1,
         1
        ],
        [
         "Kylee",
         1,
         1
        ],
        [
         "Diane",
         1,
         1
        ],
        [
         "Beatris",
         1,
         1
        ],
        [
         "Willetta",
         1,
         1
        ],
        [
         "Lyndsey",
         1,
         1
        ],
        [
         "Latasha",
         2,
         1
        ],
        [
         "Marjorie",
         1,
         1
        ],
        [
         "Marvin",
         1,
         1
        ],
        [
         "Gwenn",
         1,
         1
        ],
        [
         "Twana",
         1,
         1
        ],
        [
         "Marcene",
         1,
         1
        ],
        [
         "Lanora",
         1,
         1
        ],
        [
         "Myron",
         2,
         1
        ],
        [
         "Senaida",
         1,
         1
        ],
        [
         "Meredith",
         1,
         1
        ],
        [
         "Yanira",
         1,
         1
        ],
        [
         "Benito",
         1,
         1
        ],
        [
         "Arlena",
         1,
         1
        ],
        [
         "Brent",
         1,
         1
        ],
        [
         "Marcell",
         1,
         1
        ],
        [
         "Tora",
         1,
         1
        ],
        [
         "Emmitt",
         1,
         1
        ],
        [
         "Annett",
         2,
         1
        ],
        [
         "Vicki",
         1,
         1
        ],
        [
         "Malisa",
         1,
         1
        ],
        [
         "Edgar",
         2,
         1
        ],
        [
         "Stephanie",
         1,
         1
        ],
        [
         "Emanuel",
         1,
         1
        ],
        [
         "Obdulia",
         1,
         1
        ],
        [
         "Rosa",
         1,
         1
        ],
        [
         "Shenna",
         2,
         1
        ],
        [
         "Cher",
         1,
         1
        ],
        [
         "Deandrea",
         2,
         1
        ],
        [
         "Eliseo",
         1,
         1
        ],
        [
         "Daryl",
         1,
         1
        ],
        [
         "Pamala",
         2,
         1
        ],
        [
         "Harris",
         1,
         1
        ],
        [
         "Johnathan",
         1,
         1
        ],
        [
         "Jaimee",
         1,
         1
        ],
        [
         "Jerri",
         2,
         1
        ],
        [
         "Keitha",
         1,
         1
        ],
        [
         "Delma",
         1,
         1
        ],
        [
         "Casey",
         1,
         1
        ],
        [
         "Verona",
         1,
         1
        ],
        [
         "Han",
         2,
         1
        ],
        [
         "Janna",
         1,
         1
        ],
        [
         "Evelin",
         1,
         1
        ],
        [
         "Marjory",
         1,
         1
        ],
        [
         "Nakisha",
         1,
         1
        ],
        [
         "Bobbie",
         1,
         1
        ],
        [
         "Thalia",
         2,
         1
        ],
        [
         "Miquel",
         1,
         1
        ],
        [
         "Latricia",
         1,
         1
        ],
        [
         "Vernon",
         1,
         1
        ],
        [
         "Aisha",
         1,
         1
        ],
        [
         "Lavette",
         1,
         1
        ],
        [
         "Collin",
         1,
         1
        ],
        [
         "Rochelle",
         1,
         1
        ],
        [
         "Julianne",
         1,
         1
        ],
        [
         "Alanna",
         1,
         1
        ],
        [
         "Benny",
         1,
         1
        ],
        [
         "Anton",
         1,
         1
        ],
        [
         "Son",
         1,
         1
        ],
        [
         "Saturnina",
         1,
         1
        ],
        [
         "Margert",
         1,
         1
        ],
        [
         "Ken",
         1,
         1
        ],
        [
         "Felice",
         1,
         1
        ],
        [
         "Manie",
         2,
         1
        ],
        [
         "Jamika",
         2,
         1
        ],
        [
         "Loraine",
         1,
         1
        ],
        [
         "Anya",
         1,
         1
        ],
        [
         "Ezra",
         2,
         1
        ],
        [
         "Alejandro",
         2,
         1
        ],
        [
         "Hilde",
         1,
         1
        ],
        [
         "Sandy",
         1,
         1
        ],
        [
         "Milagros",
         1,
         1
        ],
        [
         "Bao",
         1,
         1
        ],
        [
         "Qiana",
         1,
         1
        ],
        [
         "Merrie",
         1,
         1
        ],
        [
         "Jeanice",
         1,
         1
        ],
        [
         "Sarai",
         1,
         1
        ],
        [
         "Lavina",
         1,
         1
        ],
        [
         "Felica",
         1,
         1
        ],
        [
         "Maple",
         1,
         1
        ],
        [
         "Caroline",
         1,
         1
        ],
        [
         "Inger",
         1,
         1
        ],
        [
         "Danielle",
         1,
         1
        ],
        [
         "Josef",
         1,
         1
        ],
        [
         "Leif",
         1,
         1
        ],
        [
         "Douglass",
         2,
         1
        ],
        [
         "Nicki",
         2,
         1
        ],
        [
         "Lilliam",
         1,
         1
        ],
        [
         "Mirella",
         1,
         1
        ],
        [
         "Kami",
         1,
         1
        ],
        [
         "Terese",
         2,
         1
        ],
        [
         "Max",
         1,
         1
        ],
        [
         "Christiane",
         1,
         1
        ],
        [
         "Lynne",
         1,
         1
        ],
        [
         "Bryce",
         1,
         1
        ],
        [
         "Mechelle",
         1,
         1
        ],
        [
         "Katherin",
         1,
         1
        ],
        [
         "Myrtle",
         1,
         1
        ],
        [
         "Kiesha",
         1,
         1
        ],
        [
         "Charolette",
         1,
         1
        ],
        [
         "Michel",
         1,
         1
        ],
        [
         "Marilyn",
         1,
         1
        ],
        [
         "Neville",
         1,
         1
        ],
        [
         "Kristy",
         1,
         1
        ],
        [
         "Charlsie",
         1,
         1
        ],
        [
         "Romeo",
         1,
         1
        ],
        [
         "Piedad",
         1,
         1
        ],
        [
         "Katheleen",
         1,
         1
        ],
        [
         "Armand",
         1,
         1
        ],
        [
         "Edra",
         1,
         1
        ],
        [
         "Tony",
         1,
         1
        ],
        [
         "Gustavo",
         1,
         1
        ],
        [
         "Johana",
         1,
         1
        ],
        [
         "Monica",
         1,
         1
        ],
        [
         "Shena",
         1,
         1
        ],
        [
         "Alpha",
         1,
         1
        ],
        [
         "Sunshine",
         1,
         1
        ],
        [
         "Ouida",
         1,
         1
        ],
        [
         "Kandis",
         1,
         1
        ],
        [
         "Renato",
         1,
         1
        ],
        [
         "Edmund",
         1,
         1
        ],
        [
         "Janine",
         1,
         1
        ],
        [
         "Ingeborg",
         1,
         1
        ],
        [
         "Caren",
         1,
         1
        ],
        [
         "Marquerite",
         1,
         1
        ],
        [
         "Natosha",
         1,
         1
        ],
        [
         "Adam",
         2,
         1
        ],
        [
         "Trinidad",
         2,
         1
        ],
        [
         "Bonita",
         1,
         1
        ],
        [
         "Rozanne",
         1,
         1
        ],
        [
         "Jacquline",
         1,
         1
        ],
        [
         "Clementine",
         1,
         1
        ],
        [
         "Mellisa",
         3,
         1
        ],
        [
         "Valeri",
         1,
         1
        ],
        [
         "Donette",
         1,
         1
        ],
        [
         "Lizette",
         1,
         1
        ],
        [
         "Ivette",
         2,
         1
        ],
        [
         "Rebbecca",
         1,
         1
        ],
        [
         "Lashunda",
         1,
         1
        ],
        [
         "Kasha",
         2,
         1
        ],
        [
         "Ivonne",
         1,
         1
        ],
        [
         "Sophia",
         1,
         1
        ],
        [
         "Fransisca",
         1,
         1
        ],
        [
         "Valery",
         1,
         1
        ],
        [
         "Vernell",
         1,
         1
        ],
        [
         "Delfina",
         1,
         1
        ],
        [
         "Alesia",
         1,
         1
        ],
        [
         "Launa",
         1,
         1
        ],
        [
         "Cecil",
         1,
         1
        ],
        [
         "Jutta",
         1,
         1
        ],
        [
         "Laurence",
         1,
         1
        ],
        [
         "Alissa",
         2,
         1
        ],
        [
         "Maximina",
         1,
         1
        ],
        [
         "Season",
         1,
         1
        ],
        [
         "Ai",
         1,
         1
        ],
        [
         "Moses",
         1,
         1
        ],
        [
         "Jeannie",
         1,
         1
        ],
        [
         "Elinore",
         1,
         1
        ],
        [
         "Virgen",
         1,
         1
        ],
        [
         "Catarina",
         1,
         1
        ],
        [
         "Taylor",
         1,
         1
        ],
        [
         "Stefani",
         1,
         1
        ],
        [
         "Jana",
         1,
         1
        ],
        [
         "Christel",
         2,
         1
        ],
        [
         "Pasquale",
         1,
         1
        ],
        [
         "Sherril",
         1,
         1
        ],
        [
         "Vanessa",
         1,
         1
        ],
        [
         "Monika",
         1,
         1
        ],
        [
         "Jennie",
         1,
         1
        ],
        [
         "Elanor",
         1,
         1
        ],
        [
         "Lidia",
         1,
         1
        ],
        [
         "Santa",
         1,
         1
        ],
        [
         "Carola",
         3,
         1
        ],
        [
         "Darren",
         1,
         1
        ],
        [
         "Moira",
         1,
         1
        ],
        [
         "Mandi",
         1,
         1
        ],
        [
         "Nanette",
         2,
         1
        ],
        [
         "Reena",
         1,
         1
        ],
        [
         "Birdie",
         1,
         1
        ],
        [
         "Wallace",
         1,
         1
        ],
        [
         "Glady",
         1,
         1
        ],
        [
         "Tenisha",
         1,
         1
        ],
        [
         "Jenniffer",
         1,
         1
        ],
        [
         "Rubin",
         1,
         1
        ],
        [
         "Boyce",
         1,
         1
        ],
        [
         "Cameron",
         1,
         1
        ],
        [
         "Earline",
         2,
         1
        ],
        [
         "Jayson",
         1,
         1
        ],
        [
         "Rudolf",
         2,
         1
        ],
        [
         "Dagny",
         1,
         1
        ],
        [
         "Shara",
         1,
         1
        ],
        [
         "Yvone",
         2,
         1
        ],
        [
         "Tad",
         1,
         1
        ],
        [
         "Elnora",
         1,
         1
        ],
        [
         "Carolann",
         1,
         1
        ],
        [
         "Earlean",
         1,
         1
        ],
        [
         "Rudolph",
         1,
         1
        ],
        [
         "Shae",
         1,
         1
        ],
        [
         "Regine",
         2,
         1
        ],
        [
         "Dortha",
         1,
         1
        ],
        [
         "Bess",
         1,
         1
        ],
        [
         "Lea",
         2,
         1
        ],
        [
         "Willis",
         1,
         1
        ],
        [
         "Vernia",
         1,
         1
        ],
        [
         "Bernita",
         1,
         1
        ],
        [
         "Mariela",
         1,
         1
        ],
        [
         "Deja",
         1,
         1
        ],
        [
         "Dorthea",
         1,
         1
        ],
        [
         "Sam",
         1,
         1
        ],
        [
         "Janie",
         1,
         1
        ],
        [
         "Tona",
         1,
         1
        ],
        [
         "Laverna",
         1,
         1
        ],
        [
         "Faustino",
         1,
         1
        ],
        [
         "Etsuko",
         1,
         1
        ],
        [
         "Lucilla",
         1,
         1
        ],
        [
         "Jonna",
         1,
         1
        ],
        [
         "Toya",
         1,
         1
        ],
        [
         "Trinity",
         1,
         1
        ],
        [
         "Somer",
         1,
         1
        ],
        [
         "Kristen",
         1,
         1
        ],
        [
         "Terra",
         1,
         1
        ],
        [
         "Derrick",
         1,
         1
        ],
        [
         "Jackeline",
         1,
         1
        ],
        [
         "Garland",
         1,
         1
        ],
        [
         "Camille",
         1,
         1
        ],
        [
         "Geraldine",
         1,
         1
        ],
        [
         "Genoveva",
         3,
         1
        ],
        [
         "Yuk",
         1,
         1
        ],
        [
         "Tiny",
         1,
         1
        ],
        [
         "Ophelia",
         2,
         1
        ],
        [
         "Louis",
         1,
         1
        ],
        [
         "Marcelino",
         1,
         1
        ],
        [
         "Ardelia",
         1,
         1
        ],
        [
         "Alec",
         1,
         1
        ],
        [
         "Letisha",
         1,
         1
        ],
        [
         "Dorine",
         2,
         1
        ],
        [
         "Aimee",
         1,
         1
        ],
        [
         "Luke",
         2,
         1
        ],
        [
         "Joshua",
         2,
         1
        ],
        [
         "Erlene",
         1,
         1
        ],
        [
         "Gayle",
         1,
         1
        ],
        [
         "Nita",
         1,
         1
        ],
        [
         "Laraine",
         1,
         1
        ],
        [
         "Elenore",
         2,
         1
        ],
        [
         "Lucio",
         1,
         1
        ],
        [
         "Whitney",
         2,
         1
        ],
        [
         "Muriel",
         1,
         1
        ],
        [
         "Tonda",
         2,
         1
        ],
        [
         "Fairy",
         1,
         1
        ],
        [
         "Shaunda",
         1,
         1
        ],
        [
         "Ryan",
         1,
         1
        ],
        [
         "Conrad",
         1,
         1
        ],
        [
         "Adrien",
         1,
         1
        ],
        [
         "Denis",
         1,
         1
        ],
        [
         "Monty",
         1,
         1
        ],
        [
         "Gayla",
         1,
         1
        ],
        [
         "Aida",
         1,
         1
        ],
        [
         "Bettye",
         1,
         1
        ],
        [
         "Conchita",
         1,
         1
        ],
        [
         "Henrietta",
         1,
         1
        ],
        [
         "Jeffrey",
         1,
         1
        ],
        [
         "Takako",
         1,
         1
        ],
        [
         "Chasidy",
         2,
         1
        ],
        [
         "Risa",
         1,
         1
        ],
        [
         "Britteny",
         1,
         1
        ],
        [
         "Carmela",
         1,
         1
        ],
        [
         "Corine",
         1,
         1
        ],
        [
         "Marlen",
         1,
         1
        ],
        [
         "Jeniffer",
         2,
         1
        ],
        [
         "Andy",
         1,
         1
        ],
        [
         "Kara",
         1,
         1
        ],
        [
         "Phillis",
         1,
         1
        ],
        [
         "Brigida",
         1,
         1
        ],
        [
         "Sommer",
         1,
         1
        ],
        [
         "Georgetta",
         1,
         1
        ],
        [
         "Sharyn",
         2,
         1
        ],
        [
         "Nichelle",
         2,
         1
        ],
        [
         "Zella",
         1,
         1
        ],
        [
         "Jennell",
         1,
         1
        ],
        [
         "Mallie",
         1,
         1
        ],
        [
         "Damian",
         2,
         1
        ],
        [
         "Minerva",
         1,
         1
        ],
        [
         "Vikki",
         1,
         1
        ],
        [
         "Jeanett",
         1,
         1
        ],
        [
         "Chanel",
         1,
         1
        ],
        [
         "Lizzette",
         1,
         1
        ],
        [
         "Chi",
         1,
         1
        ],
        [
         "Tamela",
         1,
         1
        ],
        [
         "Vonda",
         1,
         1
        ],
        [
         "Spring",
         1,
         1
        ],
        [
         "Lory",
         2,
         1
        ],
        [
         "Jayme",
         1,
         1
        ],
        [
         "Loise",
         1,
         1
        ],
        [
         "Jasmin",
         1,
         1
        ],
        [
         "Parker",
         1,
         1
        ],
        [
         "Nova",
         1,
         1
        ],
        [
         "Arminda",
         1,
         1
        ],
        [
         "Dori",
         1,
         1
        ],
        [
         "Lucas",
         1,
         1
        ],
        [
         "Toshia",
         1,
         1
        ],
        [
         "Elma",
         1,
         1
        ],
        [
         "Keturah",
         2,
         1
        ],
        [
         "Thad",
         2,
         1
        ],
        [
         "Lois",
         1,
         1
        ],
        [
         "Raymonde",
         1,
         1
        ],
        [
         "Patria",
         1,
         1
        ],
        [
         "Jayne",
         1,
         1
        ],
        [
         "Rolanda",
         1,
         1
        ],
        [
         "Danille",
         1,
         1
        ],
        [
         "Yolando",
         1,
         1
        ],
        [
         "Vallie",
         1,
         1
        ],
        [
         "Arline",
         1,
         1
        ],
        [
         "Rozella",
         1,
         1
        ],
        [
         "Theo",
         1,
         1
        ],
        [
         "Tangela",
         2,
         1
        ],
        [
         "Kanesha",
         2,
         1
        ],
        [
         "Walton",
         1,
         1
        ],
        [
         "Marissa",
         1,
         1
        ],
        [
         "Laure",
         1,
         1
        ],
        [
         "Andria",
         1,
         1
        ],
        [
         "Rosalie",
         1,
         1
        ],
        [
         "Maira",
         1,
         1
        ],
        [
         "Tonja",
         2,
         1
        ],
        [
         "Shauna",
         1,
         1
        ],
        [
         "Lashawn",
         1,
         1
        ],
        [
         "Georgeann",
         2,
         1
        ],
        [
         "Mellie",
         1,
         1
        ],
        [
         "Amina",
         1,
         1
        ],
        [
         "Alline",
         1,
         1
        ],
        [
         "Charise",
         1,
         1
        ],
        [
         "Romana",
         1,
         1
        ],
        [
         "Jerald",
         1,
         1
        ],
        [
         "Nicolas",
         1,
         1
        ],
        [
         "Lina",
         1,
         1
        ],
        [
         "Omer",
         1,
         1
        ],
        [
         "Jenine",
         2,
         1
        ],
        [
         "Doris",
         1,
         1
        ],
        [
         "Treasa",
         1,
         1
        ],
        [
         "Nubia",
         1,
         1
        ],
        [
         "Shanice",
         1,
         1
        ],
        [
         "Eleanor",
         1,
         1
        ],
        [
         "Barbera",
         1,
         1
        ],
        [
         "Hayden",
         1,
         1
        ],
        [
         "Narcisa",
         1,
         1
        ],
        [
         "Joni",
         1,
         1
        ],
        [
         "Aubrey",
         1,
         1
        ],
        [
         "Myung",
         1,
         1
        ],
        [
         "Christia",
         2,
         1
        ],
        [
         "Majorie",
         2,
         1
        ],
        [
         "Yvette",
         1,
         1
        ],
        [
         "Eli",
         1,
         1
        ],
        [
         "Yun",
         1,
         1
        ],
        [
         "Olimpia",
         1,
         1
        ],
        [
         "Maryalice",
         1,
         1
        ],
        [
         "Khalilah",
         1,
         1
        ],
        [
         "Dottie",
         1,
         1
        ],
        [
         "Bronwyn",
         1,
         1
        ],
        [
         "Raven",
         1,
         1
        ],
        [
         "Penni",
         1,
         1
        ],
        [
         "Linnie",
         1,
         1
        ],
        [
         "Crystle",
         1,
         1
        ],
        [
         "Vashti",
         1,
         1
        ],
        [
         "Shay",
         1,
         1
        ],
        [
         "Alma",
         1,
         1
        ],
        [
         "Agustina",
         1,
         1
        ],
        [
         "Victor",
         1,
         1
        ],
        [
         "Ashlee",
         1,
         1
        ],
        [
         "Camila",
         1,
         1
        ],
        [
         "Liliana",
         1,
         1
        ],
        [
         "Berneice",
         1,
         1
        ],
        [
         "Dewayne",
         1,
         1
        ],
        [
         "Delbert",
         1,
         1
        ],
        [
         "Mariana",
         1,
         1
        ],
        [
         "Conception",
         1,
         1
        ],
        [
         "Lorraine",
         1,
         1
        ],
        [
         "Shantae",
         1,
         1
        ],
        [
         "Blanca",
         1,
         1
        ],
        [
         "Zoraida",
         1,
         1
        ],
        [
         "Ann",
         1,
         1
        ],
        [
         "Rod",
         1,
         1
        ],
        [
         "Douglas",
         1,
         1
        ],
        [
         "Stephen",
         1,
         1
        ],
        [
         "Shanita",
         1,
         1
        ],
        [
         "Kendra",
         1,
         1
        ],
        [
         "Titus",
         1,
         1
        ],
        [
         "Jeromy",
         2,
         1
        ],
        [
         "Brenda",
         1,
         1
        ],
        [
         "Lavonne",
         1,
         1
        ],
        [
         "Shery",
         2,
         1
        ],
        [
         "Ana",
         1,
         1
        ],
        [
         "Kecia",
         1,
         1
        ],
        [
         "Sherise",
         1,
         1
        ],
        [
         "Lynda",
         1,
         1
        ],
        [
         "Angelina",
         1,
         1
        ],
        [
         "Lise",
         2,
         1
        ],
        [
         "Vinnie",
         1,
         1
        ],
        [
         "Cassidy",
         1,
         1
        ],
        [
         "Crysta",
         1,
         1
        ],
        [
         "Joann",
         1,
         1
        ],
        [
         "Cami",
         1,
         1
        ],
        [
         "Nevada",
         1,
         1
        ],
        [
         "Karey",
         1,
         1
        ],
        [
         "Joy",
         1,
         1
        ],
        [
         "Mercedez",
         1,
         1
        ],
        [
         "Wynona",
         1,
         1
        ],
        [
         "Herlinda",
         1,
         1
        ],
        [
         "Gwendolyn",
         1,
         1
        ],
        [
         "Selene",
         2,
         1
        ],
        [
         "Tricia",
         1,
         1
        ],
        [
         "Susannah",
         1,
         1
        ],
        [
         "Rosamaria",
         1,
         1
        ],
        [
         "Allie",
         1,
         1
        ],
        [
         "Justa",
         1,
         1
        ],
        [
         "Sharika",
         1,
         1
        ],
        [
         "Daina",
         1,
         1
        ],
        [
         "Dane",
         1,
         1
        ],
        [
         "Todd",
         1,
         1
        ],
        [
         "Le",
         2,
         1
        ],
        [
         "Carline",
         1,
         1
        ],
        [
         "Ginette",
         1,
         1
        ],
        [
         "Rufina",
         1,
         1
        ],
        [
         "Rodger",
         1,
         1
        ],
        [
         "Bart",
         1,
         1
        ],
        [
         "Christopher",
         1,
         1
        ],
        [
         "India",
         1,
         1
        ],
        [
         "Hildegarde",
         1,
         1
        ],
        [
         "Adelaida",
         1,
         1
        ],
        [
         "Joeann",
         1,
         1
        ],
        [
         "Melanie",
         1,
         1
        ],
        [
         "Molly",
         1,
         1
        ],
        [
         "Eliz",
         2,
         1
        ],
        [
         "Ulysses",
         1,
         1
        ],
        [
         "Jeffry",
         1,
         1
        ],
        [
         "Aide",
         1,
         1
        ],
        [
         "Oliva",
         1,
         1
        ],
        [
         "Nathalie",
         1,
         1
        ],
        [
         "Stan",
         1,
         1
        ],
        [
         "Shea",
         1,
         1
        ],
        [
         "Sharla",
         1,
         1
        ],
        [
         "Norine",
         1,
         1
        ],
        [
         "Alita",
         1,
         1
        ],
        [
         "Raphael",
         1,
         1
        ],
        [
         "Deloris",
         2,
         1
        ],
        [
         "Dionne",
         1,
         1
        ],
        [
         "Everett",
         1,
         1
        ],
        [
         "Carita",
         1,
         1
        ],
        [
         "Charlene",
         1,
         1
        ],
        [
         "Aleta",
         3,
         1
        ],
        [
         "Rayna",
         1,
         1
        ],
        [
         "Caridad",
         1,
         1
        ],
        [
         "Rita",
         1,
         1
        ],
        [
         "Laurel",
         1,
         1
        ],
        [
         "Zelda",
         1,
         1
        ],
        [
         "Carina",
         1,
         1
        ],
        [
         "Loan",
         1,
         1
        ],
        [
         "Noble",
         1,
         1
        ],
        [
         "Dollie",
         1,
         1
        ],
        [
         "Ross",
         1,
         1
        ],
        [
         "Sheree",
         2,
         1
        ],
        [
         "Ji",
         1,
         1
        ],
        [
         "Sheryl",
         1,
         1
        ],
        [
         "Bridgette",
         1,
         1
        ],
        [
         "Teofila",
         1,
         1
        ],
        [
         "Violet",
         1,
         1
        ],
        [
         "Marisol",
         1,
         1
        ],
        [
         "Skye",
         1,
         1
        ],
        [
         "Melita",
         1,
         1
        ],
        [
         "Carolyne",
         1,
         1
        ],
        [
         "Alexis",
         1,
         1
        ],
        [
         "Corrina",
         1,
         1
        ],
        [
         "Delila",
         1,
         1
        ],
        [
         "Delana",
         2,
         1
        ],
        [
         "Quyen",
         1,
         1
        ],
        [
         "Angelique",
         1,
         1
        ],
        [
         "Carisa",
         1,
         1
        ],
        [
         "Sung",
         1,
         1
        ],
        [
         "Tisha",
         1,
         1
        ],
        [
         "Loyce",
         1,
         1
        ],
        [
         "Katharina",
         1,
         1
        ],
        [
         "Shiela",
         1,
         1
        ],
        [
         "Soledad",
         1,
         1
        ],
        [
         "Leanna",
         1,
         1
        ],
        [
         "Lena",
         1,
         1
        ],
        [
         "Ellena",
         1,
         1
        ],
        [
         "Trena",
         2,
         1
        ],
        [
         "Rodrigo",
         1,
         1
        ],
        [
         "Omega",
         2,
         1
        ],
        [
         "Alysha",
         1,
         1
        ],
        [
         "Lamar",
         2,
         1
        ],
        [
         "Cori",
         1,
         1
        ],
        [
         "Herminia",
         1,
         1
        ],
        [
         "Hugh",
         1,
         1
        ],
        [
         "Zona",
         1,
         1
        ],
        [
         "Gilberto",
         2,
         1
        ],
        [
         "Sharie",
         2,
         1
        ],
        [
         "Mary",
         1,
         1
        ],
        [
         "Cris",
         1,
         1
        ],
        [
         "Erna",
         1,
         1
        ],
        [
         "Hae",
         1,
         1
        ],
        [
         "Saran",
         1,
         1
        ],
        [
         "Jeannette",
         1,
         1
        ],
        [
         "Junita",
         1,
         1
        ],
        [
         "Farrah",
         1,
         1
        ],
        [
         "Onita",
         2,
         1
        ],
        [
         "Freddie",
         1,
         1
        ],
        [
         "Barton",
         2,
         1
        ],
        [
         "Reita",
         1,
         1
        ],
        [
         "Jovita",
         1,
         1
        ],
        [
         "Shiloh",
         2,
         1
        ],
        [
         "Izola",
         1,
         1
        ],
        [
         "Brittni",
         1,
         1
        ],
        [
         "Lecia",
         1,
         1
        ],
        [
         "Roy",
         1,
         1
        ],
        [
         "Bev",
         1,
         1
        ],
        [
         "Greta",
         1,
         1
        ],
        [
         "Vance",
         1,
         1
        ],
        [
         "Inge",
         1,
         1
        ],
        [
         "Zulema",
         2,
         1
        ],
        [
         "Yang",
         2,
         1
        ],
        [
         "Arie",
         1,
         1
        ],
        [
         "Rona",
         1,
         1
        ],
        [
         "Zelma",
         1,
         1
        ],
        [
         "Kandace",
         3,
         1
        ],
        [
         "Lashawna",
         1,
         1
        ],
        [
         "Homer",
         1,
         1
        ],
        [
         "Rodney",
         1,
         1
        ],
        [
         "Rosanne",
         1,
         1
        ],
        [
         "Loreen",
         1,
         1
        ],
        [
         "Elmira",
         1,
         1
        ],
        [
         "Lenore",
         1,
         1
        ],
        [
         "Cheryll",
         1,
         1
        ],
        [
         "Leslie",
         1,
         1
        ],
        [
         "Sonja",
         1,
         1
        ],
        [
         "Corene",
         2,
         1
        ],
        [
         "Weldon",
         1,
         1
        ],
        [
         "Melba",
         1,
         1
        ],
        [
         "Darcel",
         1,
         1
        ],
        [
         "Rochell",
         1,
         1
        ],
        [
         "Demarcus",
         1,
         1
        ],
        [
         "Kaylee",
         1,
         1
        ],
        [
         "Hortencia",
         2,
         1
        ],
        [
         "Sheba",
         1,
         1
        ],
        [
         "Latosha",
         1,
         1
        ],
        [
         "Angella",
         1,
         1
        ],
        [
         "Rodolfo",
         1,
         1
        ],
        [
         "Rikki",
         1,
         1
        ],
        [
         "Trang",
         1,
         1
        ],
        [
         "Kimberley",
         1,
         1
        ],
        [
         "Roseanne",
         1,
         1
        ],
        [
         "Giselle",
         1,
         1
        ],
        [
         "Caleb",
         1,
         1
        ],
        [
         "Tama",
         1,
         1
        ],
        [
         "Travis",
         2,
         1
        ],
        [
         "Lanita",
         1,
         1
        ],
        [
         "Cinthia",
         1,
         1
        ],
        [
         "Willian",
         1,
         1
        ],
        [
         "Samual",
         1,
         1
        ],
        [
         "Gussie",
         1,
         1
        ],
        [
         "Holly",
         1,
         1
        ],
        [
         "Renita",
         1,
         1
        ],
        [
         "Marget",
         1,
         1
        ],
        [
         "Dacia",
         1,
         1
        ],
        [
         "Shonta",
         2,
         1
        ],
        [
         "Deane",
         1,
         1
        ],
        [
         "Ferne",
         1,
         1
        ],
        [
         "Sindy",
         1,
         1
        ],
        [
         "Kimbery",
         1,
         1
        ],
        [
         "Delmar",
         1,
         1
        ],
        [
         "Dorthey",
         1,
         1
        ],
        [
         "Danny",
         1,
         1
        ],
        [
         "Javier",
         1,
         1
        ],
        [
         "Courtney",
         1,
         1
        ],
        [
         "Collen",
         2,
         1
        ],
        [
         "Eric",
         1,
         1
        ],
        [
         "Ricki",
         1,
         1
        ],
        [
         "Fran",
         1,
         1
        ],
        [
         "Lanie",
         1,
         1
        ],
        [
         "Oralia",
         1,
         1
        ],
        [
         "Emmaline",
         1,
         1
        ],
        [
         "America",
         1,
         1
        ],
        [
         "Gertrud",
         1,
         1
        ],
        [
         "Alfredo",
         1,
         1
        ],
        [
         "Eun",
         1,
         1
        ],
        [
         "Major",
         1,
         1
        ],
        [
         "Leeanne",
         1,
         1
        ],
        [
         "Floretta",
         1,
         1
        ],
        [
         "Wes",
         1,
         1
        ],
        [
         "Lavern",
         1,
         1
        ],
        [
         "Leonore",
         1,
         1
        ],
        [
         "Latoya",
         1,
         1
        ],
        [
         "Lanelle",
         1,
         1
        ],
        [
         "Tara",
         1,
         1
        ],
        [
         "Miranda",
         1,
         1
        ],
        [
         "Emmett",
         2,
         1
        ],
        [
         "Tammera",
         1,
         1
        ],
        [
         "Joel",
         1,
         1
        ],
        [
         "Ernestina",
         1,
         1
        ],
        [
         "Elaina",
         1,
         1
        ],
        [
         "Marguerite",
         1,
         1
        ],
        [
         "Coleman",
         1,
         1
        ],
        [
         "Ulrike",
         1,
         1
        ],
        [
         "Melia",
         1,
         1
        ],
        [
         "Hedwig",
         1,
         1
        ],
        [
         "Genevieve",
         1,
         1
        ],
        [
         "Lezlie",
         2,
         1
        ],
        [
         "Lonna",
         1,
         1
        ],
        [
         "Pandora",
         1,
         1
        ],
        [
         "Klara",
         3,
         1
        ],
        [
         "Randolph",
         1,
         1
        ],
        [
         "Venus",
         1,
         1
        ],
        [
         "Vanda",
         1,
         1
        ],
        [
         "Ayanna",
         2,
         1
        ],
        [
         "Yu",
         1,
         1
        ],
        [
         "Edith",
         1,
         1
        ],
        [
         "Tayna",
         1,
         1
        ],
        [
         "Daisy",
         1,
         1
        ],
        [
         "Cassandra",
         1,
         1
        ],
        [
         "Bobbi",
         1,
         1
        ],
        [
         "Carmelina",
         1,
         1
        ],
        [
         "Dalia",
         1,
         1
        ],
        [
         "Gertrude",
         1,
         1
        ],
        [
         "Celestine",
         2,
         1
        ],
        [
         "Emelda",
         1,
         1
        ],
        [
         "Phebe",
         2,
         1
        ],
        [
         "Sherilyn",
         1,
         1
        ],
        [
         "Macie",
         1,
         1
        ],
        [
         "Santos",
         1,
         1
        ],
        [
         "Agnes",
         1,
         1
        ],
        [
         "Shila",
         1,
         1
        ],
        [
         "Scarlet",
         2,
         1
        ],
        [
         "Claudio",
         1,
         1
        ],
        [
         "Latonya",
         1,
         1
        ],
        [
         "Jennette",
         2,
         1
        ],
        [
         "Julienne",
         1,
         1
        ],
        [
         "Patience",
         1,
         1
        ],
        [
         "Annabelle",
         1,
         1
        ],
        [
         "Clorinda",
         1,
         1
        ],
        [
         "Jesica",
         1,
         1
        ],
        [
         "Cyndi",
         2,
         1
        ],
        [
         "Johna",
         1,
         1
        ],
        [
         "Tajuana",
         2,
         1
        ],
        [
         "Letty",
         1,
         1
        ],
        [
         "Davis",
         1,
         1
        ],
        [
         "Jane",
         1,
         1
        ],
        [
         "Penny",
         1,
         1
        ],
        [
         "Shanelle",
         1,
         1
        ],
        [
         "Sarita",
         1,
         1
        ],
        [
         "Patsy",
         1,
         1
        ],
        [
         "Shawnna",
         1,
         1
        ],
        [
         "Donovan",
         1,
         1
        ],
        [
         "Cassie",
         1,
         1
        ],
        [
         "Debra",
         1,
         1
        ],
        [
         "Marni",
         1,
         1
        ],
        [
         "Darcie",
         1,
         1
        ],
        [
         "Romelia",
         1,
         1
        ],
        [
         "Felicidad",
         1,
         1
        ],
        [
         "Sheila",
         2,
         1
        ],
        [
         "Leland",
         1,
         1
        ],
        [
         "Ashleigh",
         2,
         1
        ],
        [
         "Tilda",
         1,
         1
        ],
        [
         "Lynwood",
         1,
         1
        ],
        [
         "Alishia",
         1,
         1
        ],
        [
         "Parthenia",
         2,
         1
        ],
        [
         "Inez",
         1,
         1
        ],
        [
         "Caroll",
         1,
         1
        ],
        [
         "Loreta",
         1,
         1
        ],
        [
         "Micki",
         1,
         1
        ],
        [
         "Consuela",
         2,
         1
        ],
        [
         "Jenise",
         1,
         1
        ],
        [
         "Carley",
         1,
         1
        ],
        [
         "Earl",
         1,
         1
        ],
        [
         "Ashton",
         1,
         1
        ],
        [
         "Hue",
         2,
         1
        ],
        [
         "Shantel",
         1,
         1
        ],
        [
         "Lolita",
         2,
         1
        ],
        [
         "Dannette",
         1,
         1
        ],
        [
         "Angele",
         2,
         1
        ],
        [
         "Ilda",
         1,
         1
        ],
        [
         "Bernardina",
         1,
         1
        ],
        [
         "Emory",
         1,
         1
        ],
        [
         "Patrina",
         1,
         1
        ],
        [
         "Ebony",
         1,
         1
        ],
        [
         "Edris",
         1,
         1
        ],
        [
         "Jerome",
         1,
         1
        ],
        [
         "Hye",
         1,
         1
        ],
        [
         "Brenton",
         1,
         1
        ],
        [
         "Lurlene",
         2,
         1
        ],
        [
         "Keri",
         1,
         1
        ],
        [
         "Babara",
         1,
         1
        ],
        [
         "Magda",
         1,
         1
        ],
        [
         "Arcelia",
         1,
         1
        ],
        [
         "George",
         1,
         1
        ],
        [
         "Lean",
         1,
         1
        ],
        [
         "Ruth",
         1,
         1
        ],
        [
         "Latashia",
         1,
         1
        ],
        [
         "Katherina",
         1,
         1
        ],
        [
         "Justin",
         1,
         1
        ],
        [
         "Kaci",
         1,
         1
        ],
        [
         "Georgeanna",
         1,
         1
        ],
        [
         "Charleen",
         2,
         1
        ],
        [
         "Kimberely",
         1,
         1
        ],
        [
         "Ronald",
         1,
         1
        ],
        [
         "Leone",
         1,
         1
        ],
        [
         "Venessa",
         1,
         1
        ],
        [
         "Tuyet",
         1,
         1
        ],
        [
         "Aaron",
         1,
         1
        ],
        [
         "Garth",
         1,
         1
        ],
        [
         "Nicola",
         1,
         1
        ],
        [
         "Carie",
         1,
         1
        ],
        [
         "Susann",
         1,
         1
        ],
        [
         "Romaine",
         2,
         1
        ],
        [
         "Viva",
         1,
         1
        ],
        [
         "Corinna",
         1,
         1
        ],
        [
         "Ethelyn",
         1,
         1
        ],
        [
         "Orval",
         1,
         1
        ],
        [
         "Lorrie",
         3,
         1
        ],
        [
         "Sylvie",
         1,
         1
        ],
        [
         "Queenie",
         1,
         1
        ],
        [
         "Berna",
         1,
         1
        ],
        [
         "Trisha",
         1,
         1
        ],
        [
         "Coleen",
         1,
         1
        ],
        [
         "Beryl",
         1,
         1
        ],
        [
         "Anisha",
         1,
         1
        ],
        [
         "Shanna",
         1,
         1
        ],
        [
         "Kerrie",
         2,
         1
        ],
        [
         "Octavia",
         2,
         1
        ],
        [
         "Carroll",
         1,
         1
        ],
        [
         "Ivelisse",
         1,
         1
        ],
        [
         "Inga",
         1,
         1
        ],
        [
         "Enoch",
         1,
         1
        ],
        [
         "Julius",
         1,
         1
        ],
        [
         "Myrtie",
         1,
         1
        ],
        [
         "Janelle",
         1,
         1
        ],
        [
         "Marina",
         1,
         1
        ],
        [
         "Adena",
         1,
         1
        ],
        [
         "Shemeka",
         1,
         1
        ],
        [
         "Ramiro",
         1,
         1
        ],
        [
         "Lazaro",
         1,
         1
        ],
        [
         "Antonetta",
         1,
         1
        ],
        [
         "Kathie",
         1,
         1
        ],
        [
         "Luis",
         1,
         1
        ],
        [
         "Mina",
         1,
         1
        ],
        [
         "Clarita",
         1,
         1
        ],
        [
         "Garret",
         1,
         1
        ],
        [
         "Basil",
         1,
         1
        ],
        [
         "Tania",
         1,
         1
        ],
        [
         "Bethany",
         1,
         1
        ],
        [
         "Clelia",
         1,
         1
        ],
        [
         "Maribel",
         1,
         1
        ],
        [
         "Katharine",
         1,
         1
        ],
        [
         "Paul",
         1,
         1
        ],
        [
         "Jenna",
         1,
         1
        ],
        [
         "Alysia",
         1,
         1
        ],
        [
         "Eldridge",
         1,
         1
        ],
        [
         "Armando",
         1,
         1
        ],
        [
         "Trudy",
         1,
         1
        ],
        [
         "Destiny",
         1,
         1
        ],
        [
         "Rutha",
         1,
         1
        ],
        [
         "Sarah",
         1,
         1
        ],
        [
         "Leigh",
         1,
         1
        ],
        [
         "Kathyrn",
         1,
         1
        ],
        [
         "Damien",
         1,
         1
        ],
        [
         "Winfred",
         1,
         1
        ],
        [
         "Justina",
         3,
         1
        ],
        [
         "Shanti",
         1,
         1
        ],
        [
         "Giovanna",
         1,
         1
        ],
        [
         "Robby",
         1,
         1
        ],
        [
         "Cleotilde",
         1,
         1
        ],
        [
         "Stephaine",
         1,
         1
        ],
        [
         "Josie",
         1,
         1
        ],
        [
         "Vito",
         1,
         1
        ],
        [
         "Ileana",
         1,
         1
        ],
        [
         "Williemae",
         1,
         1
        ],
        [
         "Vernita",
         1,
         1
        ],
        [
         "Grace",
         1,
         1
        ],
        [
         "Jenny",
         1,
         1
        ],
        [
         "Zenia",
         1,
         1
        ],
        [
         "Ami",
         1,
         1
        ],
        [
         "Ilona",
         1,
         1
        ],
        [
         "Larissa",
         1,
         1
        ],
        [
         "Odette",
         1,
         1
        ],
        [
         "Tomasa",
         1,
         1
        ],
        [
         "Burma",
         1,
         1
        ],
        [
         "Hilary",
         1,
         1
        ],
        [
         "Domingo",
         1,
         1
        ],
        [
         "Margit",
         1,
         1
        ],
        [
         "Lee",
         2,
         1
        ],
        [
         "Katelin",
         1,
         1
        ],
        [
         "Lissa",
         1,
         1
        ],
        [
         "Charlyn",
         1,
         1
        ],
        [
         "Eleni",
         1,
         1
        ],
        [
         "Mia",
         1,
         1
        ],
        [
         "Agatha",
         2,
         1
        ],
        [
         "Karl",
         1,
         1
        ],
        [
         "Lakenya",
         1,
         1
        ],
        [
         "Erlinda",
         3,
         1
        ],
        [
         "Evelina",
         2,
         1
        ],
        [
         "Marcel",
         1,
         1
        ],
        [
         "Vivian",
         1,
         1
        ],
        [
         "Flossie",
         1,
         1
        ],
        [
         "Tiana",
         1,
         1
        ],
        [
         "Stacie",
         1,
         1
        ],
        [
         "Kenyetta",
         1,
         1
        ],
        [
         "Barbra",
         1,
         1
        ],
        [
         "Brittney",
         2,
         1
        ],
        [
         "Cayla",
         1,
         1
        ],
        [
         "Olympia",
         1,
         1
        ],
        [
         "Tammy",
         1,
         1
        ],
        [
         "Dante",
         1,
         1
        ],
        [
         "Desire",
         1,
         1
        ],
        [
         "Jerlene",
         1,
         1
        ],
        [
         "Cathey",
         1,
         1
        ],
        [
         "James",
         1,
         1
        ],
        [
         "Renna",
         1,
         1
        ],
        [
         "Kiara",
         1,
         1
        ],
        [
         "Joaquin",
         1,
         1
        ],
        [
         "Antony",
         1,
         1
        ],
        [
         "Ocie",
         1,
         1
        ],
        [
         "Casimira",
         1,
         1
        ],
        [
         "Waldo",
         1,
         1
        ],
        [
         "Jewel",
         1,
         1
        ],
        [
         "Charlesetta",
         1,
         1
        ],
        [
         "Corina",
         1,
         1
        ],
        [
         "Alica",
         1,
         1
        ],
        [
         "Jeni",
         2,
         1
        ],
        [
         "Rosalba",
         1,
         1
        ],
        [
         "Kristel",
         2,
         1
        ],
        [
         "Mila",
         2,
         1
        ],
        [
         "Jone",
         1,
         1
        ],
        [
         "Margorie",
         1,
         1
        ],
        [
         "Hee",
         1,
         1
        ],
        [
         "Katina",
         1,
         1
        ],
        [
         "Daphine",
         1,
         1
        ],
        [
         "Terrance",
         1,
         1
        ],
        [
         "Cleopatra",
         1,
         1
        ],
        [
         "Kasie",
         1,
         1
        ],
        [
         "Taisha",
         1,
         1
        ],
        [
         "Deirdre",
         1,
         1
        ],
        [
         "Karole",
         1,
         1
        ],
        [
         "Kallie",
         1,
         1
        ],
        [
         "Chauncey",
         1,
         1
        ],
        [
         "Hans",
         1,
         1
        ],
        [
         "Augustus",
         2,
         1
        ],
        [
         "Gertha",
         1,
         1
        ],
        [
         "Joi",
         1,
         1
        ],
        [
         "Willow",
         1,
         1
        ],
        [
         "Ara",
         1,
         1
        ],
        [
         "Nettie",
         1,
         1
        ],
        [
         "Addie",
         1,
         1
        ],
        [
         "Sherita",
         1,
         1
        ],
        [
         "Laci",
         1,
         1
        ],
        [
         "Lavonda",
         1,
         1
        ],
        [
         "Neil",
         1,
         1
        ],
        [
         "Larraine",
         1,
         1
        ],
        [
         "Elmo",
         2,
         1
        ],
        [
         "Lurline",
         1,
         1
        ],
        [
         "Ronna",
         1,
         1
        ],
        [
         "Alane",
         3,
         1
        ],
        [
         "Kiana",
         1,
         1
        ],
        [
         "Heather",
         2,
         1
        ],
        [
         "Dale",
         1,
         1
        ],
        [
         "Judith",
         1,
         1
        ],
        [
         "Maurice",
         1,
         1
        ],
        [
         "Myesha",
         1,
         1
        ],
        [
         "Virgil",
         1,
         1
        ],
        [
         "Graig",
         2,
         1
        ],
        [
         "Magdalena",
         1,
         1
        ],
        [
         "Ester",
         1,
         1
        ],
        [
         "Regina",
         1,
         1
        ],
        [
         "Miriam",
         1,
         1
        ],
        [
         "Margaretta",
         1,
         1
        ],
        [
         "Jimmy",
         1,
         1
        ],
        [
         "Tam",
         1,
         1
        ],
        [
         "Alden",
         1,
         1
        ],
        [
         "Abram",
         1,
         1
        ],
        [
         "Grisel",
         1,
         1
        ],
        [
         "Lizzie",
         1,
         1
        ],
        [
         "Priscilla",
         1,
         1
        ],
        [
         "Jessika",
         1,
         1
        ],
        [
         "Sheri",
         1,
         1
        ],
        [
         "Luciana",
         1,
         1
        ],
        [
         "Almeta",
         1,
         1
        ],
        [
         "Elana",
         1,
         1
        ],
        [
         "Graciela",
         1,
         1
        ],
        [
         "Jong",
         1,
         1
        ],
        [
         "Kenton",
         1,
         1
        ],
        [
         "Phylicia",
         1,
         1
        ],
        [
         "Merideth",
         1,
         1
        ],
        [
         "Mable",
         1,
         1
        ],
        [
         "Janella",
         1,
         1
        ],
        [
         "Krissy",
         1,
         1
        ],
        [
         "Tonisha",
         1,
         1
        ],
        [
         "Desmond",
         1,
         1
        ],
        [
         "Nelle",
         1,
         1
        ],
        [
         "Cecilia",
         1,
         1
        ],
        [
         "Hilda",
         1,
         1
        ],
        [
         "Genevie",
         1,
         1
        ],
        [
         "Dung",
         2,
         1
        ],
        [
         "Letitia",
         1,
         1
        ],
        [
         "Luz",
         1,
         1
        ],
        [
         "Virgina",
         1,
         1
        ],
        [
         "Adriene",
         2,
         1
        ],
        [
         "Catrice",
         1,
         1
        ],
        [
         "Renay",
         1,
         1
        ],
        [
         "Janae",
         1,
         1
        ],
        [
         "Kellye",
         1,
         1
        ],
        [
         "Danyell",
         1,
         1
        ],
        [
         "Tereasa",
         1,
         1
        ],
        [
         "Alexandria",
         1,
         1
        ],
        [
         "Jeanie",
         1,
         1
        ],
        [
         "Clementina",
         1,
         1
        ],
        [
         "Rayford",
         1,
         1
        ],
        [
         "Vince",
         1,
         1
        ],
        [
         "Ling",
         1,
         1
        ],
        [
         "Edythe",
         1,
         1
        ],
        [
         "Elouise",
         1,
         1
        ],
        [
         "Krystin",
         1,
         1
        ],
        [
         "Chantay",
         1,
         1
        ],
        [
         "Inocencia",
         1,
         1
        ],
        [
         "Juliane",
         1,
         1
        ],
        [
         "Eliana",
         2,
         1
        ],
        [
         "Dorothea",
         2,
         1
        ],
        [
         "Merlin",
         1,
         1
        ],
        [
         "Marisa",
         1,
         1
        ],
        [
         "Ghislaine",
         1,
         1
        ],
        [
         "Rosalva",
         1,
         1
        ],
        [
         "Mica",
         1,
         1
        ],
        [
         "Leola",
         1,
         1
        ],
        [
         "Dwain",
         1,
         1
        ],
        [
         "Mercy",
         1,
         1
        ],
        [
         "Shona",
         1,
         1
        ]
       ],
       "datasetInfos": [],
       "dbfsResultPath": null,
       "isJsonSchema": true,
       "metadata": {},
       "overflow": false,
       "plotOptions": {
        "customPlotOptions": {},
        "displayType": "table",
        "pivotAggregation": null,
        "pivotColumns": null,
        "xColumns": null,
        "yColumns": null
       },
       "removedWidgets": [],
       "schema": [
        {
         "metadata": "{}",
         "name": "first_name",
         "type": "\"string\""
        },
        {
         "metadata": "{}",
         "name": "total",
         "type": "\"long\""
        },
        {
         "metadata": "{}",
         "name": "unique_values",
         "type": "\"long\""
        }
       ],
       "type": "table"
      }
     },
     "output_type": "display_data"
    }
   ],
   "source": [
    "%sql\n",
    "-- Análise de dados: Verificação de Valores Duplicados\n",
    "SELECT first_name, COUNT(*) AS total, \n",
    "       COUNT(DISTINCT first_name) AS unique_values\n",
    "FROM customers\n",
    "GROUP BY first_name;"
   ]
  },
  {
   "cell_type": "code",
   "execution_count": 0,
   "metadata": {
    "application/vnd.databricks.v1+cell": {
     "cellMetadata": {
      "byteLimit": 2048000,
      "rowLimit": 10000
     },
     "inputWidgets": {},
     "nuid": "44124ca6-bcb3-4671-bd8a-07fbbf10037a",
     "showTitle": false,
     "title": ""
    }
   },
   "outputs": [
    {
     "output_type": "display_data",
     "data": {
      "text/html": [
       "<style scoped>\n",
       "  .table-result-container {\n",
       "    max-height: 300px;\n",
       "    overflow: auto;\n",
       "  }\n",
       "  table, th, td {\n",
       "    border: 1px solid black;\n",
       "    border-collapse: collapse;\n",
       "  }\n",
       "  th, td {\n",
       "    padding: 5px;\n",
       "  }\n",
       "  th {\n",
       "    text-align: left;\n",
       "  }\n",
       "</style><div class='table-result-container'><table class='table-result'><thead style='background-color: white'><tr><th>order_status</th></tr></thead><tbody><tr><td>1</td></tr><tr><td>3</td></tr><tr><td>4</td></tr><tr><td>2</td></tr></tbody></table></div>"
      ]
     },
     "metadata": {
      "application/vnd.databricks.v1+output": {
       "addedWidgets": {},
       "aggData": [],
       "aggError": "",
       "aggOverflow": false,
       "aggSchema": [],
       "aggSeriesLimitReached": false,
       "aggType": "",
       "arguments": {},
       "columnCustomDisplayInfos": {},
       "data": [
        [
         1
        ],
        [
         3
        ],
        [
         4
        ],
        [
         2
        ]
       ],
       "datasetInfos": [],
       "dbfsResultPath": null,
       "isJsonSchema": true,
       "metadata": {
        "isDbfsCommandResult": false
       },
       "overflow": false,
       "plotOptions": {
        "customPlotOptions": {},
        "displayType": "table",
        "pivotAggregation": null,
        "pivotColumns": null,
        "xColumns": null,
        "yColumns": null
       },
       "removedWidgets": [],
       "schema": [
        {
         "metadata": "{}",
         "name": "order_status",
         "type": "\"integer\""
        }
       ],
       "type": "table"
      }
     },
     "output_type": "display_data"
    }
   ],
   "source": [
    "%sql\n",
    "-- Análise de dados:  Consistência de Dados\n",
    "SELECT DISTINCT(order_status)\n",
    "FROM orders\n",
    "WHERE order_status IS NOT NULL;"
   ]
  },
  {
   "cell_type": "code",
   "execution_count": 0,
   "metadata": {
    "application/vnd.databricks.v1+cell": {
     "cellMetadata": {
      "byteLimit": 2048000,
      "implicitDf": true,
      "rowLimit": 10000
     },
     "inputWidgets": {},
     "nuid": "2dc2ad1e-3558-4275-b1c9-89fd3aaec5fb",
     "showTitle": false,
     "title": ""
    }
   },
   "outputs": [
    {
     "output_type": "display_data",
     "data": {
      "text/html": [
       "<style scoped>\n",
       "  .table-result-container {\n",
       "    max-height: 300px;\n",
       "    overflow: auto;\n",
       "  }\n",
       "  table, th, td {\n",
       "    border: 1px solid black;\n",
       "    border-collapse: collapse;\n",
       "  }\n",
       "  th, td {\n",
       "    padding: 5px;\n",
       "  }\n",
       "  th {\n",
       "    text-align: left;\n",
       "  }\n",
       "</style><div class='table-result-container'><table class='table-result'><thead style='background-color: white'><tr><th>store_id</th><th>store_name</th><th>phone</th><th>email</th><th>street</th><th>city</th><th>state</th><th>zip_code</th></tr></thead><tbody><tr><td>1</td><td>Santa Cruz Bikes</td><td>(831) 476-4321</td><td>santacruz@bikes.shop</td><td>3700 Portola Drive</td><td>Santa Cruz</td><td>CA</td><td>95060</td></tr><tr><td>2</td><td>Baldwin Bikes</td><td>(516) 379-8888</td><td>baldwin@bikes.shop</td><td>4200 Chestnut Lane</td><td>Baldwin</td><td>NY</td><td>11432</td></tr></tbody></table></div>"
      ]
     },
     "metadata": {
      "application/vnd.databricks.v1+output": {
       "addedWidgets": {},
       "aggData": [],
       "aggError": "",
       "aggOverflow": false,
       "aggSchema": [],
       "aggSeriesLimitReached": false,
       "aggType": "",
       "arguments": {},
       "columnCustomDisplayInfos": {},
       "data": [
        [
         1,
         "Santa Cruz Bikes",
         "(831) 476-4321",
         "santacruz@bikes.shop",
         "3700 Portola Drive",
         "Santa Cruz",
         "CA",
         95060
        ],
        [
         2,
         "Baldwin Bikes",
         "(516) 379-8888",
         "baldwin@bikes.shop",
         "4200 Chestnut Lane",
         "Baldwin",
         "NY",
         11432
        ]
       ],
       "datasetInfos": [],
       "dbfsResultPath": null,
       "isJsonSchema": true,
       "metadata": {
        "isDbfsCommandResult": false
       },
       "overflow": false,
       "plotOptions": {
        "customPlotOptions": {},
        "displayType": "table",
        "pivotAggregation": null,
        "pivotColumns": null,
        "xColumns": null,
        "yColumns": null
       },
       "removedWidgets": [],
       "schema": [
        {
         "metadata": "{}",
         "name": "store_id",
         "type": "\"integer\""
        },
        {
         "metadata": "{}",
         "name": "store_name",
         "type": "\"string\""
        },
        {
         "metadata": "{}",
         "name": "phone",
         "type": "\"string\""
        },
        {
         "metadata": "{}",
         "name": "email",
         "type": "\"string\""
        },
        {
         "metadata": "{}",
         "name": "street",
         "type": "\"string\""
        },
        {
         "metadata": "{}",
         "name": "city",
         "type": "\"string\""
        },
        {
         "metadata": "{}",
         "name": "state",
         "type": "\"string\""
        },
        {
         "metadata": "{}",
         "name": "zip_code",
         "type": "\"integer\""
        }
       ],
       "type": "table"
      }
     },
     "output_type": "display_data"
    }
   ],
   "source": [
    "%sql\n",
    "-- verificação da tabela stores, limitado a 2 registros\n",
    "select * FROM stores\n",
    "limit 2;"
   ]
  },
  {
   "cell_type": "code",
   "execution_count": 0,
   "metadata": {
    "application/vnd.databricks.v1+cell": {
     "cellMetadata": {
      "byteLimit": 2048000,
      "implicitDf": true,
      "rowLimit": 10000
     },
     "inputWidgets": {},
     "nuid": "4b7f753e-7bbf-42c6-acc9-0f9004de012b",
     "showTitle": false,
     "title": ""
    }
   },
   "outputs": [
    {
     "output_type": "display_data",
     "data": {
      "text/html": [
       "<style scoped>\n",
       "  .table-result-container {\n",
       "    max-height: 300px;\n",
       "    overflow: auto;\n",
       "  }\n",
       "  table, th, td {\n",
       "    border: 1px solid black;\n",
       "    border-collapse: collapse;\n",
       "  }\n",
       "  th, td {\n",
       "    padding: 5px;\n",
       "  }\n",
       "  th {\n",
       "    text-align: left;\n",
       "  }\n",
       "</style><div class='table-result-container'><table class='table-result'><thead style='background-color: white'><tr><th>order_id</th><th>customer_id</th><th>order_status</th><th>order_date</th><th>required_date</th><th>shipped_date</th><th>store_id</th><th>staff_id</th></tr></thead><tbody><tr><td>692</td><td>2</td><td>3</td><td>2017-02-05</td><td>2017-02-05</td><td>NULL</td><td>1</td><td>3</td></tr><tr><td>1084</td><td>2</td><td>4</td><td>2017-08-21</td><td>2017-08-24</td><td>2017-08-23</td><td>1</td><td>2</td></tr><tr><td>1509</td><td>2</td><td>1</td><td>2018-04-09</td><td>2018-04-09</td><td>NULL</td><td>1</td><td>3</td></tr></tbody></table></div>"
      ]
     },
     "metadata": {
      "application/vnd.databricks.v1+output": {
       "addedWidgets": {},
       "aggData": [],
       "aggError": "",
       "aggOverflow": false,
       "aggSchema": [],
       "aggSeriesLimitReached": false,
       "aggType": "",
       "arguments": {},
       "columnCustomDisplayInfos": {},
       "data": [
        [
         692,
         2,
         3,
         "2017-02-05",
         "2017-02-05",
         "NULL",
         1,
         3
        ],
        [
         1084,
         2,
         4,
         "2017-08-21",
         "2017-08-24",
         "2017-08-23",
         1,
         2
        ],
        [
         1509,
         2,
         1,
         "2018-04-09",
         "2018-04-09",
         "NULL",
         1,
         3
        ]
       ],
       "datasetInfos": [],
       "dbfsResultPath": null,
       "isJsonSchema": true,
       "metadata": {
        "isDbfsCommandResult": false
       },
       "overflow": false,
       "plotOptions": {
        "customPlotOptions": {},
        "displayType": "table",
        "pivotAggregation": null,
        "pivotColumns": null,
        "xColumns": null,
        "yColumns": null
       },
       "removedWidgets": [],
       "schema": [
        {
         "metadata": "{}",
         "name": "order_id",
         "type": "\"integer\""
        },
        {
         "metadata": "{}",
         "name": "customer_id",
         "type": "\"integer\""
        },
        {
         "metadata": "{}",
         "name": "order_status",
         "type": "\"integer\""
        },
        {
         "metadata": "{\"__detected_date_formats\":\"yyyy-M-d\"}",
         "name": "order_date",
         "type": "\"date\""
        },
        {
         "metadata": "{\"__detected_date_formats\":\"yyyy-M-d\"}",
         "name": "required_date",
         "type": "\"date\""
        },
        {
         "metadata": "{}",
         "name": "shipped_date",
         "type": "\"string\""
        },
        {
         "metadata": "{}",
         "name": "store_id",
         "type": "\"integer\""
        },
        {
         "metadata": "{}",
         "name": "staff_id",
         "type": "\"integer\""
        }
       ],
       "type": "table"
      }
     },
     "output_type": "display_data"
    }
   ],
   "source": [
    "%sql\n",
    "-- Selecionar pedidos de um determinado cliente\n",
    "select * from orders where customer_id = 2"
   ]
  },
  {
   "cell_type": "code",
   "execution_count": 0,
   "metadata": {
    "application/vnd.databricks.v1+cell": {
     "cellMetadata": {
      "byteLimit": 2048000,
      "rowLimit": 10000
     },
     "inputWidgets": {},
     "nuid": "8507dd88-a1bd-4384-b4a8-2e6f609d9c57",
     "showTitle": false,
     "title": ""
    }
   },
   "outputs": [
    {
     "output_type": "display_data",
     "data": {
      "text/html": [
       "<style scoped>\n",
       "  .table-result-container {\n",
       "    max-height: 300px;\n",
       "    overflow: auto;\n",
       "  }\n",
       "  table, th, td {\n",
       "    border: 1px solid black;\n",
       "    border-collapse: collapse;\n",
       "  }\n",
       "  th, td {\n",
       "    padding: 5px;\n",
       "  }\n",
       "  th {\n",
       "    text-align: left;\n",
       "  }\n",
       "</style><div class='table-result-container'><table class='table-result'><thead style='background-color: white'><tr><th>nome_cliente</th><th>order_id</th><th>customer_id</th><th>order_status</th><th>nome_atendente</th><th>nome_loja</th><th>product_name</th></tr></thead><tbody><tr><td>Johnathan</td><td>1</td><td>259</td><td>4</td><td>Mireya</td><td>Santa Cruz Bikes</td><td>Trek Fuel EX 8 29 - 2016</td></tr><tr><td>Johnathan</td><td>1</td><td>259</td><td>4</td><td>Mireya</td><td>Santa Cruz Bikes</td><td>Electra Townie Original 7D EQ - 2016</td></tr><tr><td>Johnathan</td><td>1</td><td>259</td><td>4</td><td>Mireya</td><td>Santa Cruz Bikes</td><td>Surly Straggler - 2016</td></tr><tr><td>Johnathan</td><td>1</td><td>259</td><td>4</td><td>Mireya</td><td>Santa Cruz Bikes</td><td>Trek Remedy 29 Carbon Frameset - 2016</td></tr><tr><td>Johnathan</td><td>1</td><td>259</td><td>4</td><td>Mireya</td><td>Santa Cruz Bikes</td><td>Electra Townie Original 7D EQ - Women's - 2016</td></tr></tbody></table></div>"
      ]
     },
     "metadata": {
      "application/vnd.databricks.v1+output": {
       "addedWidgets": {},
       "aggData": [],
       "aggError": "",
       "aggOverflow": false,
       "aggSchema": [],
       "aggSeriesLimitReached": false,
       "aggType": "",
       "arguments": {},
       "columnCustomDisplayInfos": {},
       "data": [
        [
         "Johnathan",
         1,
         259,
         4,
         "Mireya",
         "Santa Cruz Bikes",
         "Trek Fuel EX 8 29 - 2016"
        ],
        [
         "Johnathan",
         1,
         259,
         4,
         "Mireya",
         "Santa Cruz Bikes",
         "Electra Townie Original 7D EQ - 2016"
        ],
        [
         "Johnathan",
         1,
         259,
         4,
         "Mireya",
         "Santa Cruz Bikes",
         "Surly Straggler - 2016"
        ],
        [
         "Johnathan",
         1,
         259,
         4,
         "Mireya",
         "Santa Cruz Bikes",
         "Trek Remedy 29 Carbon Frameset - 2016"
        ],
        [
         "Johnathan",
         1,
         259,
         4,
         "Mireya",
         "Santa Cruz Bikes",
         "Electra Townie Original 7D EQ - Women's - 2016"
        ]
       ],
       "datasetInfos": [],
       "dbfsResultPath": null,
       "isJsonSchema": true,
       "metadata": {
        "isDbfsCommandResult": false
       },
       "overflow": false,
       "plotOptions": {
        "customPlotOptions": {},
        "displayType": "table",
        "pivotAggregation": null,
        "pivotColumns": null,
        "xColumns": null,
        "yColumns": null
       },
       "removedWidgets": [],
       "schema": [
        {
         "metadata": "{}",
         "name": "nome_cliente",
         "type": "\"string\""
        },
        {
         "metadata": "{}",
         "name": "order_id",
         "type": "\"integer\""
        },
        {
         "metadata": "{}",
         "name": "customer_id",
         "type": "\"integer\""
        },
        {
         "metadata": "{}",
         "name": "order_status",
         "type": "\"integer\""
        },
        {
         "metadata": "{}",
         "name": "nome_atendente",
         "type": "\"string\""
        },
        {
         "metadata": "{}",
         "name": "nome_loja",
         "type": "\"string\""
        },
        {
         "metadata": "{}",
         "name": "product_name",
         "type": "\"string\""
        }
       ],
       "type": "table"
      }
     },
     "output_type": "display_data"
    }
   ],
   "source": [
    "%sql\n",
    "-- verificar quais produtos, quem foi o atentende e qual foi a loja\n",
    "SELECT customers.first_name as nome_cliente, orders.order_id, orders.customer_id, orders.order_status, staffs.first_name as nome_atendente, stores.store_name as nome_loja, products.product_name\n",
    "FROM customers\n",
    "INNER JOIN orders ON customers.customer_id = orders.customer_id\n",
    "INNER JOIN staffs ON  staffs.staff_id = orders.staff_id\n",
    "INNER JOIN stores ON  stores.store_id = orders.store_id\n",
    "INNER JOIN order_items ON  order_items.order_id = orders.order_id\n",
    "INNER JOIN products ON  products.product_id = order_items.product_id\n",
    "WHERE customers.customer_id = 259;\n",
    "\n"
   ]
  },
  {
   "cell_type": "code",
   "execution_count": 0,
   "metadata": {
    "application/vnd.databricks.v1+cell": {
     "cellMetadata": {
      "byteLimit": 2048000,
      "rowLimit": 10000
     },
     "inputWidgets": {},
     "nuid": "6becadb8-cf94-4aa4-8ff9-d33c1e0aedac",
     "showTitle": false,
     "title": ""
    }
   },
   "outputs": [
    {
     "output_type": "display_data",
     "data": {
      "text/html": [
       "<style scoped>\n",
       "  .table-result-container {\n",
       "    max-height: 300px;\n",
       "    overflow: auto;\n",
       "  }\n",
       "  table, th, td {\n",
       "    border: 1px solid black;\n",
       "    border-collapse: collapse;\n",
       "  }\n",
       "  th, td {\n",
       "    padding: 5px;\n",
       "  }\n",
       "  th {\n",
       "    text-align: left;\n",
       "  }\n",
       "</style><div class='table-result-container'><table class='table-result'><thead style='background-color: white'><tr><th>quantidade_pedidos</th><th>first_name</th><th>customer_id</th></tr></thead><tbody><tr><td>3</td><td>Aleta</td><td>20</td></tr><tr><td>3</td><td>Charolette</td><td>5</td></tr><tr><td>3</td><td>Kasha</td><td>2</td></tr></tbody></table></div>"
      ]
     },
     "metadata": {
      "application/vnd.databricks.v1+output": {
       "addedWidgets": {},
       "aggData": [],
       "aggError": "",
       "aggOverflow": false,
       "aggSchema": [],
       "aggSeriesLimitReached": false,
       "aggType": "",
       "arguments": {},
       "columnCustomDisplayInfos": {},
       "data": [
        [
         3,
         "Aleta",
         20
        ],
        [
         3,
         "Charolette",
         5
        ],
        [
         3,
         "Kasha",
         2
        ]
       ],
       "datasetInfos": [],
       "dbfsResultPath": null,
       "isJsonSchema": true,
       "metadata": {
        "isDbfsCommandResult": false
       },
       "overflow": false,
       "plotOptions": {
        "customPlotOptions": {},
        "displayType": "table",
        "pivotAggregation": null,
        "pivotColumns": null,
        "xColumns": null,
        "yColumns": null
       },
       "removedWidgets": [],
       "schema": [
        {
         "metadata": "{}",
         "name": "quantidade_pedidos",
         "type": "\"long\""
        },
        {
         "metadata": "{}",
         "name": "first_name",
         "type": "\"string\""
        },
        {
         "metadata": "{}",
         "name": "customer_id",
         "type": "\"integer\""
        }
       ],
       "type": "table"
      }
     },
     "output_type": "display_data"
    }
   ],
   "source": [
    "%sql\n",
    "-- verificar top 3 clientes que mais fizeram pedidos\n",
    "SELECT count(orders.order_id) as quantidade_pedidos, customers.first_name, customers.customer_id\n",
    "FROM customers\n",
    "INNER JOIN orders ON customers.customer_id = orders.customer_id\n",
    "GROUP BY customers.customer_id, customers.first_name\n",
    "ORDER BY COUNT(orders.order_id) DESC\n",
    "LIMIT 3;\n",
    "\n"
   ]
  },
  {
   "cell_type": "code",
   "execution_count": 0,
   "metadata": {
    "application/vnd.databricks.v1+cell": {
     "cellMetadata": {
      "byteLimit": 2048000,
      "rowLimit": 10000
     },
     "inputWidgets": {},
     "nuid": "1de6a7e1-922f-48cd-9034-df175d29e06a",
     "showTitle": false,
     "title": ""
    }
   },
   "outputs": [
    {
     "output_type": "display_data",
     "data": {
      "text/html": [
       "<style scoped>\n",
       "  .table-result-container {\n",
       "    max-height: 300px;\n",
       "    overflow: auto;\n",
       "  }\n",
       "  table, th, td {\n",
       "    border: 1px solid black;\n",
       "    border-collapse: collapse;\n",
       "  }\n",
       "  th, td {\n",
       "    padding: 5px;\n",
       "  }\n",
       "  th {\n",
       "    text-align: left;\n",
       "  }\n",
       "</style><div class='table-result-container'><table class='table-result'><thead style='background-color: white'><tr><th>quantidade_pedidos</th><th>first_name</th><th>staff_id</th></tr></thead><tbody><tr><td>553</td><td>Marcelene</td><td>6</td></tr><tr><td>540</td><td>Venita</td><td>7</td></tr><tr><td>184</td><td>Genna</td><td>3</td></tr></tbody></table></div>"
      ]
     },
     "metadata": {
      "application/vnd.databricks.v1+output": {
       "addedWidgets": {},
       "aggData": [],
       "aggError": "",
       "aggOverflow": false,
       "aggSchema": [],
       "aggSeriesLimitReached": false,
       "aggType": "",
       "arguments": {},
       "columnCustomDisplayInfos": {},
       "data": [
        [
         553,
         "Marcelene",
         6
        ],
        [
         540,
         "Venita",
         7
        ],
        [
         184,
         "Genna",
         3
        ]
       ],
       "datasetInfos": [],
       "dbfsResultPath": null,
       "isJsonSchema": true,
       "metadata": {
        "isDbfsCommandResult": false
       },
       "overflow": false,
       "plotOptions": {
        "customPlotOptions": {},
        "displayType": "table",
        "pivotAggregation": null,
        "pivotColumns": null,
        "xColumns": null,
        "yColumns": null
       },
       "removedWidgets": [],
       "schema": [
        {
         "metadata": "{}",
         "name": "quantidade_pedidos",
         "type": "\"long\""
        },
        {
         "metadata": "{}",
         "name": "first_name",
         "type": "\"string\""
        },
        {
         "metadata": "{}",
         "name": "staff_id",
         "type": "\"integer\""
        }
       ],
       "type": "table"
      }
     },
     "output_type": "display_data"
    }
   ],
   "source": [
    "%sql\n",
    "-- verificar quais atendentes mais efetuaram pedidos de vendas\n",
    "SELECT count(orders.order_id) as quantidade_pedidos, staffs.first_name, staffs.staff_id\n",
    "FROM staffs\n",
    "INNER JOIN orders ON staffs.staff_id = orders.staff_id\n",
    "GROUP BY staffs.staff_id, staffs.first_name\n",
    "ORDER BY COUNT(orders.order_id) DESC\n",
    "LIMIT 3;\n"
   ]
  },
  {
   "cell_type": "code",
   "execution_count": 0,
   "metadata": {
    "application/vnd.databricks.v1+cell": {
     "cellMetadata": {
      "byteLimit": 2048000,
      "rowLimit": 10000
     },
     "inputWidgets": {},
     "nuid": "a4f4b5c2-1f42-4f22-98f0-1900cb83f9d2",
     "showTitle": false,
     "title": ""
    }
   },
   "outputs": [
    {
     "output_type": "display_data",
     "data": {
      "text/html": [
       "<style scoped>\n",
       "  .table-result-container {\n",
       "    max-height: 300px;\n",
       "    overflow: auto;\n",
       "  }\n",
       "  table, th, td {\n",
       "    border: 1px solid black;\n",
       "    border-collapse: collapse;\n",
       "  }\n",
       "  th, td {\n",
       "    padding: 5px;\n",
       "  }\n",
       "  th {\n",
       "    text-align: left;\n",
       "  }\n",
       "</style><div class='table-result-container'><table class='table-result'><thead style='background-color: white'><tr><th>count(brand_id)</th><th>brand_name</th></tr></thead><tbody><tr><td>135</td><td>Trek</td></tr><tr><td>118</td><td>Electra</td></tr><tr><td>25</td><td>Surly</td></tr></tbody></table></div>"
      ]
     },
     "metadata": {
      "application/vnd.databricks.v1+output": {
       "addedWidgets": {},
       "aggData": [],
       "aggError": "",
       "aggOverflow": false,
       "aggSchema": [],
       "aggSeriesLimitReached": false,
       "aggType": "",
       "arguments": {},
       "columnCustomDisplayInfos": {},
       "data": [
        [
         135,
         "Trek"
        ],
        [
         118,
         "Electra"
        ],
        [
         25,
         "Surly"
        ]
       ],
       "datasetInfos": [],
       "dbfsResultPath": null,
       "isJsonSchema": true,
       "metadata": {
        "isDbfsCommandResult": false
       },
       "overflow": false,
       "plotOptions": {
        "customPlotOptions": {},
        "displayType": "table",
        "pivotAggregation": null,
        "pivotColumns": null,
        "xColumns": null,
        "yColumns": null
       },
       "removedWidgets": [],
       "schema": [
        {
         "metadata": "{\"__autoGeneratedAlias\":\"true\"}",
         "name": "count(brand_id)",
         "type": "\"long\""
        },
        {
         "metadata": "{}",
         "name": "brand_name",
         "type": "\"string\""
        }
       ],
       "type": "table"
      }
     },
     "output_type": "display_data"
    }
   ],
   "source": [
    "%sql\n",
    "--  Marcas com mais produtos cadastrados\n",
    "SELECT count(products.brand_id), brands.brand_name\n",
    "FROM products\n",
    "INNER JOIN brands ON brands.brand_id = products.brand_id\n",
    "GROUP BY brands.brand_name\n",
    "ORDER BY COUNT(products.product_id) DESC\n",
    "LIMIT 3;"
   ]
  },
  {
   "cell_type": "code",
   "execution_count": 0,
   "metadata": {
    "application/vnd.databricks.v1+cell": {
     "cellMetadata": {
      "byteLimit": 2048000,
      "rowLimit": 10000
     },
     "inputWidgets": {},
     "nuid": "bc383208-8b34-46c2-8139-5eb4e598df03",
     "showTitle": false,
     "title": ""
    }
   },
   "outputs": [
    {
     "output_type": "display_data",
     "data": {
      "text/html": [
       "<style scoped>\n",
       "  .table-result-container {\n",
       "    max-height: 300px;\n",
       "    overflow: auto;\n",
       "  }\n",
       "  table, th, td {\n",
       "    border: 1px solid black;\n",
       "    border-collapse: collapse;\n",
       "  }\n",
       "  th, td {\n",
       "    padding: 5px;\n",
       "  }\n",
       "  th {\n",
       "    text-align: left;\n",
       "  }\n",
       "</style><div class='table-result-container'><table class='table-result'><thead style='background-color: white'><tr><th>first_name</th><th>customer_id</th></tr></thead><tbody></tbody></table></div>"
      ]
     },
     "metadata": {
      "application/vnd.databricks.v1+output": {
       "addedWidgets": {},
       "aggData": [],
       "aggError": "",
       "aggOverflow": false,
       "aggSchema": [],
       "aggSeriesLimitReached": false,
       "aggType": "",
       "arguments": {},
       "columnCustomDisplayInfos": {},
       "data": [],
       "datasetInfos": [],
       "dbfsResultPath": null,
       "isJsonSchema": true,
       "metadata": {
        "isDbfsCommandResult": false
       },
       "overflow": false,
       "plotOptions": {
        "customPlotOptions": {},
        "displayType": "table",
        "pivotAggregation": null,
        "pivotColumns": null,
        "xColumns": null,
        "yColumns": null
       },
       "removedWidgets": [],
       "schema": [
        {
         "metadata": "{}",
         "name": "first_name",
         "type": "\"string\""
        },
        {
         "metadata": "{}",
         "name": "customer_id",
         "type": "\"integer\""
        }
       ],
       "type": "table"
      }
     },
     "output_type": "display_data"
    }
   ],
   "source": [
    "%sql\n",
    "-- verificar que não existem clientes sem pedidos\n",
    "SELECT customers.first_name, customers.customer_id\n",
    "FROM customers\n",
    "LEFT JOIN orders ON customers.customer_id = orders.customer_id\n",
    "WHERE orders.order_id IS NULL\n",
    "\n"
   ]
  },
  {
   "cell_type": "code",
   "execution_count": 0,
   "metadata": {
    "application/vnd.databricks.v1+cell": {
     "cellMetadata": {
      "byteLimit": 2048000,
      "rowLimit": 10000
     },
     "inputWidgets": {},
     "nuid": "5e54d89f-8768-4856-9471-2c9f862fe0c6",
     "showTitle": false,
     "title": ""
    }
   },
   "outputs": [
    {
     "output_type": "display_data",
     "data": {
      "text/html": [
       "<style scoped>\n",
       "  .table-result-container {\n",
       "    max-height: 300px;\n",
       "    overflow: auto;\n",
       "  }\n",
       "  table, th, td {\n",
       "    border: 1px solid black;\n",
       "    border-collapse: collapse;\n",
       "  }\n",
       "  th, td {\n",
       "    padding: 5px;\n",
       "  }\n",
       "  th {\n",
       "    text-align: left;\n",
       "  }\n",
       "</style><div class='table-result-container'><table class='table-result'><thead style='background-color: white'><tr><th>quantidade_pedidos</th><th>first_name</th><th>customer_id</th></tr></thead><tbody><tr><td>1</td><td>Ezra</td><td>710</td></tr><tr><td>1</td><td>Erlene</td><td>557</td></tr><tr><td>1</td><td>Waldo</td><td>1127</td></tr><tr><td>1</td><td>Ernestina</td><td>848</td></tr><tr><td>1</td><td>Yang</td><td>642</td></tr><tr><td>1</td><td>Sonja</td><td>1414</td></tr><tr><td>1</td><td>Aida</td><td>937</td></tr><tr><td>1</td><td>Hue</td><td>729</td></tr><tr><td>1</td><td>Kattie</td><td>953</td></tr><tr><td>1</td><td>Lee</td><td>1438</td></tr><tr><td>1</td><td>Bettie</td><td>328</td></tr><tr><td>1</td><td>Ciera</td><td>1270</td></tr><tr><td>1</td><td>Nenita</td><td>774</td></tr><tr><td>1</td><td>Alisia</td><td>1135</td></tr><tr><td>1</td><td>Angelina</td><td>267</td></tr><tr><td>1</td><td>Lavona</td><td>732</td></tr><tr><td>1</td><td>Vinnie</td><td>709</td></tr><tr><td>1</td><td>Zona</td><td>1432</td></tr><tr><td>1</td><td>Effie</td><td>461</td></tr><tr><td>1</td><td>Melodie</td><td>878</td></tr><tr><td>1</td><td>Sheri</td><td>357</td></tr><tr><td>1</td><td>Jennette</td><td>451</td></tr><tr><td>1</td><td>Tonisha</td><td>1051</td></tr><tr><td>1</td><td>Carmelina</td><td>1162</td></tr><tr><td>1</td><td>Holly</td><td>433</td></tr><tr><td>1</td><td>Graig</td><td>887</td></tr><tr><td>1</td><td>Alita</td><td>909</td></tr><tr><td>1</td><td>Pearl</td><td>494</td></tr><tr><td>1</td><td>Priscilla</td><td>210</td></tr><tr><td>1</td><td>Gilberto</td><td>310</td></tr><tr><td>1</td><td>Dung</td><td>1254</td></tr><tr><td>1</td><td>Hortencia</td><td>316</td></tr><tr><td>1</td><td>Kirstie</td><td>489</td></tr><tr><td>1</td><td>Son</td><td>1437</td></tr><tr><td>1</td><td>Flossie</td><td>255</td></tr><tr><td>1</td><td>Tuyet</td><td>1152</td></tr><tr><td>1</td><td>Sharell</td><td>1003</td></tr><tr><td>1</td><td>Janelle</td><td>647</td></tr><tr><td>1</td><td>Odette</td><td>1274</td></tr><tr><td>1</td><td>Conchita</td><td>1057</td></tr><tr><td>1</td><td>Annett</td><td>301</td></tr><tr><td>1</td><td>Walton</td><td>129</td></tr><tr><td>1</td><td>Trista</td><td>1392</td></tr><tr><td>1</td><td>Somer</td><td>334</td></tr><tr><td>1</td><td>Rodrigo</td><td>869</td></tr><tr><td>1</td><td>Tilda</td><td>652</td></tr><tr><td>1</td><td>Nicola</td><td>1433</td></tr><tr><td>1</td><td>Elouise</td><td>403</td></tr><tr><td>1</td><td>Han</td><td>763</td></tr><tr><td>1</td><td>Aubrey</td><td>1200</td></tr><tr><td>1</td><td>Chasidy</td><td>447</td></tr><tr><td>1</td><td>Earline</td><td>445</td></tr><tr><td>1</td><td>Alden</td><td>1219</td></tr><tr><td>1</td><td>Risa</td><td>1091</td></tr><tr><td>1</td><td>Aron</td><td>320</td></tr><tr><td>1</td><td>Myung</td><td>266</td></tr><tr><td>1</td><td>Hilda</td><td>882</td></tr><tr><td>1</td><td>Kecia</td><td>712</td></tr><tr><td>1</td><td>Delmar</td><td>908</td></tr><tr><td>1</td><td>Delila</td><td>245</td></tr><tr><td>1</td><td>Cyndi</td><td>590</td></tr><tr><td>1</td><td>Katia</td><td>1010</td></tr><tr><td>1</td><td>Romaine</td><td>750</td></tr><tr><td>1</td><td>Eliz</td><td>1380</td></tr><tr><td>1</td><td>Douglass</td><td>434</td></tr><tr><td>1</td><td>Paul</td><td>607</td></tr><tr><td>1</td><td>Cleopatra</td><td>140</td></tr><tr><td>1</td><td>Randee</td><td>1036</td></tr><tr><td>1</td><td>Sebrina</td><td>716</td></tr><tr><td>1</td><td>Ilda</td><td>777</td></tr><tr><td>1</td><td>Hae</td><td>905</td></tr><tr><td>1</td><td>Rikki</td><td>1165</td></tr><tr><td>1</td><td>Thanh</td><td>1405</td></tr><tr><td>1</td><td>Jong</td><td>1232</td></tr><tr><td>1</td><td>Izola</td><td>435</td></tr><tr><td>1</td><td>Clare</td><td>467</td></tr><tr><td>1</td><td>Danilo</td><td>591</td></tr><tr><td>1</td><td>Amina</td><td>995</td></tr><tr><td>1</td><td>Kami</td><td>1349</td></tr><tr><td>1</td><td>Lonna</td><td>901</td></tr><tr><td>1</td><td>Yu</td><td>490</td></tr><tr><td>1</td><td>Mila</td><td>1403</td></tr><tr><td>1</td><td>Elenore</td><td>213</td></tr><tr><td>1</td><td>Tommie</td><td>1060</td></tr><tr><td>1</td><td>Zenia</td><td>1044</td></tr><tr><td>1</td><td>Kristofer</td><td>717</td></tr><tr><td>1</td><td>Catarina</td><td>544</td></tr><tr><td>1</td><td>Jeannie</td><td>397</td></tr><tr><td>1</td><td>Rufina</td><td>1263</td></tr><tr><td>1</td><td>Candelaria</td><td>374</td></tr><tr><td>1</td><td>Larae</td><td>715</td></tr><tr><td>1</td><td>Genny</td><td>736</td></tr><tr><td>1</td><td>Sherise</td><td>1076</td></tr><tr><td>1</td><td>Elvina</td><td>1216</td></tr><tr><td>1</td><td>Mathilda</td><td>680</td></tr><tr><td>1</td><td>Mariam</td><td>795</td></tr><tr><td>1</td><td>Jesus</td><td>1230</td></tr><tr><td>1</td><td>Carter</td><td>537</td></tr><tr><td>1</td><td>Cindi</td><td>238</td></tr><tr><td>1</td><td>Klara</td><td>858</td></tr><tr><td>1</td><td>Erlinda</td><td>871</td></tr><tr><td>1</td><td>Andreas</td><td>525</td></tr><tr><td>1</td><td>Nicholas</td><td>142</td></tr><tr><td>1</td><td>Harold</td><td>1415</td></tr><tr><td>1</td><td>Eliana</td><td>113</td></tr><tr><td>1</td><td>Edith</td><td>1294</td></tr><tr><td>1</td><td>Ayana</td><td>443</td></tr><tr><td>1</td><td>Jana</td><td>904</td></tr><tr><td>1</td><td>Phebe</td><td>1193</td></tr><tr><td>1</td><td>Klara</td><td>184</td></tr><tr><td>1</td><td>Rosanne</td><td>890</td></tr><tr><td>1</td><td>Narcisa</td><td>482</td></tr><tr><td>1</td><td>Devin</td><td>1264</td></tr><tr><td>1</td><td>Lorrie</td><td>1429</td></tr><tr><td>1</td><td>Londa</td><td>1426</td></tr><tr><td>1</td><td>Regine</td><td>1084</td></tr><tr><td>1</td><td>Addie</td><td>195</td></tr><tr><td>1</td><td>Eldridge</td><td>746</td></tr><tr><td>1</td><td>Zulema</td><td>630</td></tr><tr><td>1</td><td>Kelsey</td><td>1420</td></tr><tr><td>1</td><td>Kaley</td><td>571</td></tr><tr><td>1</td><td>Cassidy</td><td>821</td></tr><tr><td>1</td><td>Patrina</td><td>1164</td></tr><tr><td>1</td><td>Jasper</td><td>1417</td></tr><tr><td>1</td><td>Kellye</td><td>837</td></tr><tr><td>1</td><td>Patria</td><td>1116</td></tr><tr><td>1</td><td>Suellen</td><td>398</td></tr><tr><td>1</td><td>Roseanne</td><td>835</td></tr><tr><td>1</td><td>Mi</td><td>345</td></tr><tr><td>1</td><td>Major</td><td>779</td></tr><tr><td>1</td><td>Liliana</td><td>913</td></tr><tr><td>1</td><td>Nanette</td><td>1251</td></tr><tr><td>1</td><td>Hipolito</td><td>428</td></tr><tr><td>1</td><td>Delma</td><td>1396</td></tr><tr><td>1</td><td>Babara</td><td>174</td></tr><tr><td>1</td><td>Penny</td><td>1100</td></tr><tr><td>1</td><td>Parthenia</td><td>1132</td></tr><tr><td>1</td><td>Monty</td><td>292</td></tr><tr><td>1</td><td>Lynwood</td><td>866</td></tr><tr><td>1</td><td>Thalia</td><td>114</td></tr><tr><td>1</td><td>Ezra</td><td>497</td></tr><tr><td>1</td><td>Emmaline</td><td>1205</td></tr><tr><td>1</td><td>Reyes</td><td>806</td></tr><tr><td>1</td><td>Stefani</td><td>896</td></tr><tr><td>1</td><td>Rozella</td><td>1050</td></tr><tr><td>1</td><td>Antony</td><td>593</td></tr><tr><td>1</td><td>Caridad</td><td>444</td></tr><tr><td>1</td><td>Maribel</td><td>258</td></tr><tr><td>1</td><td>Travis</td><td>1296</td></tr><tr><td>1</td><td>Jerome</td><td>409</td></tr><tr><td>1</td><td>Evelin</td><td>921</td></tr><tr><td>1</td><td>Lavonda</td><td>770</td></tr><tr><td>1</td><td>Delaine</td><td>602</td></tr><tr><td>1</td><td>Cindie</td><td>1328</td></tr><tr><td>1</td><td>Mila</td><td>874</td></tr><tr><td>1</td><td>Brittney</td><td>853</td></tr><tr><td>1</td><td>Bethany</td><td>1248</td></tr><tr><td>1</td><td>Hilary</td><td>731</td></tr><tr><td>1</td><td>Donette</td><td>794</td></tr><tr><td>1</td><td>Domingo</td><td>868</td></tr><tr><td>1</td><td>Damian</td><td>189</td></tr><tr><td>1</td><td>Emelda</td><td>596</td></tr><tr><td>1</td><td>Carroll</td><td>558</td></tr><tr><td>1</td><td>Donovan</td><td>1218</td></tr><tr><td>1</td><td>Venus</td><td>956</td></tr><tr><td>1</td><td>Dorthea</td><td>441</td></tr><tr><td>1</td><td>Penni</td><td>1418</td></tr><tr><td>1</td><td>Tomika</td><td>755</td></tr><tr><td>1</td><td>Phylis</td><td>854</td></tr><tr><td>1</td><td>Penney</td><td>1140</td></tr><tr><td>1</td><td>Noble</td><td>1358</td></tr><tr><td>1</td><td>Lidia</td><td>499</td></tr><tr><td>1</td><td>Judith</td><td>215</td></tr><tr><td>1</td><td>Celestine</td><td>491</td></tr><tr><td>1</td><td>Max</td><td>521</td></tr><tr><td>1</td><td>Casey</td><td>218</td></tr><tr><td>1</td><td>Chere</td><td>321</td></tr><tr><td>1</td><td>Andreas</td><td>520</td></tr><tr><td>1</td><td>Letitia</td><td>95</td></tr><tr><td>1</td><td>Camila</td><td>722</td></tr><tr><td>1</td><td>Victor</td><td>1287</td></tr><tr><td>1</td><td>Julia</td><td>865</td></tr><tr><td>1</td><td>Yvone</td><td>768</td></tr><tr><td>1</td><td>Gayla</td><td>483</td></tr><tr><td>1</td><td>Leone</td><td>833</td></tr><tr><td>1</td><td>Vernon</td><td>1032</td></tr><tr><td>1</td><td>Sunshine</td><td>439</td></tr><tr><td>1</td><td>Janae</td><td>143</td></tr><tr><td>1</td><td>Leticia</td><td>1194</td></tr><tr><td>1</td><td>Merrie</td><td>1435</td></tr><tr><td>1</td><td>Earline</td><td>1267</td></tr><tr><td>1</td><td>Chelsey</td><td>230</td></tr><tr><td>1</td><td>Darcel</td><td>686</td></tr><tr><td>1</td><td>Rodger</td><td>365</td></tr><tr><td>1</td><td>Consuela</td><td>1199</td></tr><tr><td>1</td><td>Alysia</td><td>701</td></tr><tr><td>1</td><td>Stephen</td><td>957</td></tr><tr><td>1</td><td>Louis</td><td>987</td></tr><tr><td>1</td><td>Tiny</td><td>293</td></tr><tr><td>1</td><td>Carissa</td><td>1220</td></tr><tr><td>1</td><td>Trinidad</td><td>1182</td></tr><tr><td>1</td><td>Nichelle</td><td>101</td></tr><tr><td>1</td><td>Myesha</td><td>278</td></tr><tr><td>1</td><td>Charleen</td><td>424</td></tr><tr><td>1</td><td>Corina</td><td>1335</td></tr><tr><td>1</td><td>Ji</td><td>1048</td></tr><tr><td>1</td><td>Shantae</td><td>1040</td></tr><tr><td>1</td><td>Reatha</td><td>681</td></tr><tr><td>1</td><td>Gabriella</td><td>1139</td></tr><tr><td>1</td><td>Chantay</td><td>793</td></tr><tr><td>1</td><td>Consuela</td><td>1327</td></tr><tr><td>1</td><td>Shanita</td><td>1027</td></tr><tr><td>1</td><td>Mazie</td><td>308</td></tr><tr><td>1</td><td>Timothy</td><td>542</td></tr><tr><td>1</td><td>Sylvie</td><td>103</td></tr><tr><td>1</td><td>Nita</td><td>1201</td></tr><tr><td>1</td><td>Florencio</td><td>653</td></tr><tr><td>1</td><td>Delana</td><td>930</td></tr><tr><td>1</td><td>Marjory</td><td>1006</td></tr><tr><td>1</td><td>Aaron</td><td>1174</td></tr><tr><td>1</td><td>Jame</td><td>299</td></tr><tr><td>1</td><td>Erlinda</td><td>721</td></tr><tr><td>1</td><td>Lynne</td><td>584</td></tr><tr><td>1</td><td>Alejandro</td><td>534</td></tr><tr><td>1</td><td>Spring</td><td>765</td></tr><tr><td>1</td><td>Burma</td><td>471</td></tr><tr><td>1</td><td>Bryce</td><td>925</td></tr><tr><td>1</td><td>Vallie</td><td>808</td></tr><tr><td>1</td><td>Lore</td><td>864</td></tr><tr><td>1</td><td>Kandi</td><td>430</td></tr><tr><td>1</td><td>Romana</td><td>656</td></tr><tr><td>1</td><td>Rubin</td><td>262</td></tr><tr><td>1</td><td>Lurlene</td><td>1419</td></tr><tr><td>1</td><td>Yun</td><td>791</td></tr><tr><td>1</td><td>Trinidad</td><td>997</td></tr><tr><td>1</td><td>Vince</td><td>420</td></tr><tr><td>1</td><td>Janine</td><td>877</td></tr><tr><td>1</td><td>Jeni</td><td>457</td></tr><tr><td>1</td><td>Honey</td><td>436</td></tr><tr><td>1</td><td>Jessika</td><td>244</td></tr><tr><td>1</td><td>Angie</td><td>359</td></tr><tr><td>1</td><td>Pandora</td><td>1371</td></tr><tr><td>1</td><td>Qiana</td><td>1226</td></tr><tr><td>1</td><td>Ping</td><td>1029</td></tr><tr><td>1</td><td>Evelina</td><td>742</td></tr><tr><td>1</td><td>Janna</td><td>885</td></tr><tr><td>1</td><td>Shirely</td><td>1110</td></tr><tr><td>1</td><td>Jerald</td><td>1004</td></tr><tr><td>1</td><td>Cinda</td><td>1307</td></tr><tr><td>1</td><td>Ayanna</td><td>193</td></tr><tr><td>1</td><td>Zella</td><td>699</td></tr><tr><td>1</td><td>Deanne</td><td>594</td></tr><tr><td>1</td><td>Merlin</td><td>693</td></tr><tr><td>1</td><td>Carisa</td><td>899</td></tr><tr><td>1</td><td>Yahaira</td><td>819</td></tr><tr><td>1</td><td>Sanora</td><td>1346</td></tr><tr><td>1</td><td>Letisha</td><td>886</td></tr><tr><td>1</td><td>Bess</td><td>464</td></tr><tr><td>1</td><td>Karren</td><td>1330</td></tr><tr><td>1</td><td>Arielle</td><td>1054</td></tr><tr><td>1</td><td>Pamala</td><td>832</td></tr><tr><td>1</td><td>Dionne</td><td>246</td></tr><tr><td>1</td><td>Mercy</td><td>1206</td></tr><tr><td>1</td><td>Luciana</td><td>718</td></tr><tr><td>1</td><td>Mary</td><td>369</td></tr><tr><td>1</td><td>Damian</td><td>972</td></tr><tr><td>1</td><td>Tuan</td><td>679</td></tr><tr><td>1</td><td>Henrietta</td><td>1102</td></tr><tr><td>1</td><td>Myrtie</td><td>635</td></tr><tr><td>1</td><td>Scarlet</td><td>223</td></tr><tr><td>1</td><td>Ileana</td><td>1196</td></tr><tr><td>1</td><td>Trena</td><td>661</td></tr><tr><td>1</td><td>Sheila</td><td>567</td></tr><tr><td>1</td><td>Gilma</td><td>211</td></tr><tr><td>1</td><td>Novella</td><td>1332</td></tr><tr><td>1</td><td>Serina</td><td>456</td></tr><tr><td>1</td><td>Renay</td><td>1303</td></tr><tr><td>1</td><td>Lavina</td><td>126</td></tr><tr><td>1</td><td>Patience</td><td>873</td></tr><tr><td>1</td><td>Lea</td><td>552</td></tr><tr><td>1</td><td>Rico</td><td>1034</td></tr><tr><td>1</td><td>Brent</td><td>964</td></tr><tr><td>1</td><td>Shaunda</td><td>401</td></tr><tr><td>1</td><td>Bettyann</td><td>897</td></tr><tr><td>1</td><td>Jennette</td><td>671</td></tr><tr><td>1</td><td>Minnie</td><td>1290</td></tr><tr><td>1</td><td>Christopher</td><td>476</td></tr><tr><td>1</td><td>Tarra</td><td>1326</td></tr><tr><td>1</td><td>Valery</td><td>422</td></tr><tr><td>1</td><td>Mallie</td><td>1141</td></tr><tr><td>1</td><td>Margene</td><td>613</td></tr><tr><td>1</td><td>Ronald</td><td>639</td></tr><tr><td>1</td><td>Rosalva</td><td>867</td></tr><tr><td>1</td><td>Tiana</td><td>504</td></tr><tr><td>1</td><td>Susannah</td><td>1253</td></tr><tr><td>1</td><td>Ana</td><td>619</td></tr><tr><td>1</td><td>Gwendolyn</td><td>415</td></tr><tr><td>1</td><td>Mechelle</td><td>1170</td></tr><tr><td>1</td><td>Erlinda</td><td>127</td></tr><tr><td>1</td><td>Danyell</td><td>941</td></tr><tr><td>1</td><td>Jerri</td><td>1062</td></tr><tr><td>1</td><td>Ocie</td><td>934</td></tr><tr><td>1</td><td>Keturah</td><td>1150</td></tr><tr><td>1</td><td>Nathalie</td><td>807</td></tr><tr><td>1</td><td>Kiesha</td><td>1186</td></tr><tr><td>1</td><td>Kristy</td><td>822</td></tr><tr><td>1</td><td>Chelsey</td><td>484</td></tr><tr><td>1</td><td>Clelia</td><td>199</td></tr><tr><td>1</td><td>Lee</td><td>1001</td></tr><tr><td>1</td><td>Charlsie</td><td>1146</td></tr><tr><td>1</td><td>Octavia</td><td>1359</td></tr><tr><td>1</td><td>Sharika</td><td>624</td></tr><tr><td>1</td><td>Aimee</td><td>384</td></tr><tr><td>1</td><td>Abram</td><td>1224</td></tr><tr><td>1</td><td>Vance</td><td>508</td></tr><tr><td>1</td><td>Taisha</td><td>608</td></tr><tr><td>1</td><td>Mandi</td><td>753</td></tr><tr><td>1</td><td>Felicidad</td><td>550</td></tr><tr><td>1</td><td>Virgina</td><td>361</td></tr><tr><td>1</td><td>Elnora</td><td>809</td></tr><tr><td>1</td><td>Collene</td><td>372</td></tr><tr><td>1</td><td>Loan</td><td>1278</td></tr><tr><td>1</td><td>Renato</td><td>828</td></tr><tr><td>1</td><td>Barton</td><td>269</td></tr><tr><td>1</td><td>Angele</td><td>947</td></tr><tr><td>1</td><td>Nicolas</td><td>1021</td></tr><tr><td>1</td><td>Lory</td><td>831</td></tr><tr><td>1</td><td>Margert</td><td>163</td></tr><tr><td>1</td><td>Brianne</td><td>1262</td></tr><tr><td>1</td><td>Earlean</td><td>1171</td></tr><tr><td>1</td><td>Abbey</td><td>338</td></tr><tr><td>1</td><td>Chere</td><td>1089</td></tr><tr><td>1</td><td>Gertrude</td><td>393</td></tr><tr><td>1</td><td>Katharine</td><td>438</td></tr><tr><td>1</td><td>Bernetta</td><td>1337</td></tr><tr><td>1</td><td>Tanesha</td><td>875</td></tr><tr><td>1</td><td>Aileen</td><td>952</td></tr><tr><td>1</td><td>Willis</td><td>669</td></tr><tr><td>1</td><td>Todd</td><td>1258</td></tr><tr><td>1</td><td>Elmira</td><td>1126</td></tr><tr><td>1</td><td>Hollis</td><td>1112</td></tr><tr><td>1</td><td>Gayle</td><td>676</td></tr><tr><td>1</td><td>Marcell</td><td>974</td></tr><tr><td>1</td><td>Agatha</td><td>769</td></tr><tr><td>1</td><td>Charmain</td><td>289</td></tr><tr><td>1</td><td>Theresia</td><td>1078</td></tr><tr><td>1</td><td>Melita</td><td>737</td></tr><tr><td>1</td><td>Justin</td><td>319</td></tr><tr><td>1</td><td>Annis</td><td>975</td></tr><tr><td>1</td><td>Boyce</td><td>291</td></tr><tr><td>1</td><td>Stacie</td><td>665</td></tr><tr><td>1</td><td>Rolanda</td><td>303</td></tr><tr><td>1</td><td>Nathaniel</td><td>1241</td></tr><tr><td>1</td><td>Lazaro</td><td>526</td></tr><tr><td>1</td><td>Lynn</td><td>943</td></tr><tr><td>1</td><td>Elmo</td><td>549</td></tr><tr><td>1</td><td>Julee</td><td>148</td></tr><tr><td>1</td><td>Alejandro</td><td>562</td></tr><tr><td>1</td><td>Kenyetta</td><td>1187</td></tr><tr><td>1</td><td>Barry</td><td>1154</td></tr><tr><td>1</td><td>Lanita</td><td>541</td></tr><tr><td>1</td><td>Ellena</td><td>529</td></tr><tr><td>1</td><td>Demarcus</td><td>994</td></tr><tr><td>1</td><td>Wendie</td><td>1178</td></tr><tr><td>1</td><td>Marguerite</td><td>983</td></tr><tr><td>1</td><td>Reita</td><td>515</td></tr><tr><td>1</td><td>Fairy</td><td>395</td></tr><tr><td>1</td><td>Joi</td><td>600</td></tr><tr><td>1</td><td>Vanessa</td><td>1297</td></tr><tr><td>1</td><td>Jayme</td><td>304</td></tr><tr><td>1</td><td>Farrah</td><td>1406</td></tr><tr><td>1</td><td>Ivette</td><td>1444</td></tr><tr><td>1</td><td>Elvia</td><td>922</td></tr><tr><td>1</td><td>Deandrea</td><td>1145</td></tr><tr><td>1</td><td>Trang</td><td>1244</td></tr><tr><td>1</td><td>Mellisa</td><td>580</td></tr><tr><td>1</td><td>Katherin</td><td>1172</td></tr><tr><td>1</td><td>Shenna</td><td>1365</td></tr><tr><td>1</td><td>Allison</td><td>640</td></tr><tr><td>1</td><td>Genevieve</td><td>603</td></tr><tr><td>1</td><td>Jaimee</td><td>283</td></tr><tr><td>1</td><td>Jenny</td><td>684</td></tr><tr><td>1</td><td>Marina</td><td>940</td></tr><tr><td>1</td><td>Conrad</td><td>1316</td></tr><tr><td>1</td><td>Shanice</td><td>1284</td></tr><tr><td>1</td><td>Edythe</td><td>196</td></tr><tr><td>1</td><td>Romeo</td><td>1190</td></tr><tr><td>1</td><td>Alyse</td><td>798</td></tr><tr><td>1</td><td>Coleen</td><td>888</td></tr><tr><td>1</td><td>Grisel</td><td>1364</td></tr><tr><td>1</td><td>Joel</td><td>818</td></tr><tr><td>1</td><td>Ladawn</td><td>691</td></tr><tr><td>1</td><td>Buford</td><td>212</td></tr><tr><td>1</td><td>Arie</td><td>1345</td></tr><tr><td>1</td><td>Nettie</td><td>168</td></tr><tr><td>1</td><td>Malisa</td><td>787</td></tr><tr><td>1</td><td>Sharyn</td><td>1329</td></tr><tr><td>1</td><td>Sung</td><td>1268</td></tr><tr><td>1</td><td>Britteny</td><td>1142</td></tr><tr><td>1</td><td>Trisha</td><td>336</td></tr><tr><td>1</td><td>Mark</td><td>1431</td></tr><tr><td>1</td><td>Gabriela</td><td>1245</td></tr><tr><td>1</td><td>Hildegarde</td><td>1055</td></tr><tr><td>1</td><td>Vicki</td><td>723</td></tr><tr><td>1</td><td>Diana</td><td>978</td></tr><tr><td>1</td><td>Myrtle</td><td>1180</td></tr><tr><td>1</td><td>Daisy</td><td>426</td></tr><tr><td>1</td><td>Cassandra</td><td>452</td></tr><tr><td>1</td><td>Lanora</td><td>1373</td></tr><tr><td>1</td><td>Josie</td><td>449</td></tr><tr><td>1</td><td>Nevada</td><td>1398</td></tr><tr><td>1</td><td>Charlesetta</td><td>1177</td></tr><tr><td>1</td><td>Myron</td><td>472</td></tr><tr><td>1</td><td>Jenniffer</td><td>182</td></tr><tr><td>1</td><td>Lara</td><td>856</td></tr><tr><td>1</td><td>Tara</td><td>1239</td></tr><tr><td>1</td><td>Ophelia</td><td>1413</td></tr><tr><td>1</td><td>Alanna</td><td>1061</td></tr><tr><td>1</td><td>Basilia</td><td>559</td></tr><tr><td>1</td><td>Collen</td><td>466</td></tr><tr><td>1</td><td>Hye</td><td>1022</td></tr><tr><td>1</td><td>Dewayne</td><td>1397</td></tr><tr><td>1</td><td>Cira</td><td>759</td></tr><tr><td>1</td><td>Tina</td><td>823</td></tr><tr><td>1</td><td>Sheryl</td><td>1391</td></tr><tr><td>1</td><td>Charleen</td><td>698</td></tr><tr><td>1</td><td>Siobhan</td><td>948</td></tr><tr><td>1</td><td>Cassondra</td><td>342</td></tr><tr><td>1</td><td>Margit</td><td>965</td></tr><tr><td>1</td><td>Deloris</td><td>627</td></tr><tr><td>1</td><td>Sebrina</td><td>1011</td></tr><tr><td>1</td><td>Christiana</td><td>1362</td></tr><tr><td>1</td><td>Laverna</td><td>396</td></tr><tr><td>1</td><td>Olympia</td><td>861</td></tr><tr><td>1</td><td>Angelika</td><td>1399</td></tr><tr><td>1</td><td>Dollie</td><td>1423</td></tr><tr><td>1</td><td>Lucilla</td><td>889</td></tr><tr><td>1</td><td>Alishia</td><td>916</td></tr><tr><td>1</td><td>Gilberto</td><td>1129</td></tr><tr><td>1</td><td>Dane</td><td>1046</td></tr><tr><td>1</td><td>Lorraine</td><td>1020</td></tr><tr><td>1</td><td>Rudolf</td><td>519</td></tr><tr><td>1</td><td>Alfredo</td><td>400</td></tr><tr><td>1</td><td>Hope</td><td>305</td></tr><tr><td>1</td><td>Wai</td><td>216</td></tr><tr><td>1</td><td>Joaquin</td><td>488</td></tr><tr><td>1</td><td>Brigida</td><td>991</td></tr><tr><td>1</td><td>Latosha</td><td>459</td></tr><tr><td>1</td><td>Ara</td><td>1153</td></tr><tr><td>1</td><td>Chauncey</td><td>1242</td></tr><tr><td>1</td><td>Virgen</td><td>394</td></tr><tr><td>1</td><td>Alline</td><td>1295</td></tr><tr><td>1</td><td>Casimira</td><td>990</td></tr><tr><td>1</td><td>Shanda</td><td>1411</td></tr><tr><td>1</td><td>Joshua</td><td>1234</td></tr><tr><td>1</td><td>Dung</td><td>1133</td></tr><tr><td>1</td><td>Felica</td><td>844</td></tr><tr><td>1</td><td>Diane</td><td>1043</td></tr><tr><td>1</td><td>Octavia</td><td>411</td></tr><tr><td>1</td><td>Herminia</td><td>1151</td></tr><tr><td>1</td><td>Barton</td><td>977</td></tr><tr><td>1</td><td>Laure</td><td>651</td></tr><tr><td>1</td><td>Elanor</td><td>376</td></tr><tr><td>1</td><td>Daphine</td><td>1025</td></tr><tr><td>1</td><td>Berna</td><td>325</td></tr><tr><td>1</td><td>Lucio</td><td>220</td></tr><tr><td>1</td><td>Ira</td><td>1090</td></tr><tr><td>1</td><td>Erma</td><td>256</td></tr><tr><td>1</td><td>Rochell</td><td>726</td></tr><tr><td>1</td><td>Ernest</td><td>1440</td></tr><tr><td>1</td><td>Adelaida</td><td>1261</td></tr><tr><td>1</td><td>Ashleigh</td><td>1334</td></tr><tr><td>1</td><td>Tayna</td><td>1430</td></tr><tr><td>1</td><td>Charlene</td><td>1159</td></tr><tr><td>1</td><td>Ashely</td><td>200</td></tr><tr><td>1</td><td>Janella</td><td>448</td></tr><tr><td>1</td><td>Glady</td><td>1317</td></tr><tr><td>1</td><td>Katherina</td><td>152</td></tr><tr><td>1</td><td>Kandace</td><td>1147</td></tr><tr><td>1</td><td>Kandis</td><td>785</td></tr><tr><td>1</td><td>Lory</td><td>155</td></tr><tr><td>1</td><td>Lewis</td><td>645</td></tr><tr><td>1</td><td>Tonda</td><td>354</td></tr><tr><td>1</td><td>Patsy</td><td>1064</td></tr><tr><td>1</td><td>Jamika</td><td>539</td></tr><tr><td>1</td><td>Lynda</td><td>1107</td></tr><tr><td>1</td><td>Yolando</td><td>773</td></tr><tr><td>1</td><td>Margaretta</td><td>973</td></tr><tr><td>1</td><td>Carson</td><td>1081</td></tr><tr><td>1</td><td>Elma</td><td>672</td></tr><tr><td>1</td><td>Margorie</td><td>351</td></tr><tr><td>1</td><td>Tena</td><td>547</td></tr><tr><td>1</td><td>James</td><td>920</td></tr><tr><td>1</td><td>Tora</td><td>1119</td></tr><tr><td>1</td><td>Maximina</td><td>939</td></tr><tr><td>1</td><td>Nathanael</td><td>446</td></tr><tr><td>1</td><td>Sherilyn</td><td>936</td></tr><tr><td>1</td><td>Parthenia</td><td>1053</td></tr><tr><td>1</td><td>Ester</td><td>1445</td></tr><tr><td>1</td><td>Louise</td><td>1101</td></tr><tr><td>1</td><td>Cathey</td><td>797</td></tr><tr><td>1</td><td>Euna</td><td>587</td></tr><tr><td>1</td><td>Steve</td><td>951</td></tr><tr><td>1</td><td>Petronila</td><td>790</td></tr><tr><td>1</td><td>Cami</td><td>1002</td></tr><tr><td>1</td><td>Stefany</td><td>146</td></tr><tr><td>1</td><td>Diana</td><td>703</td></tr><tr><td>1</td><td>Elenore</td><td>910</td></tr><tr><td>1</td><td>Valentin</td><td>644</td></tr><tr><td>1</td><td>Kerrie</td><td>402</td></tr><tr><td>1</td><td>Trinity</td><td>268</td></tr><tr><td>1</td><td>Giselle</td><td>842</td></tr><tr><td>1</td><td>Winfred</td><td>234</td></tr><tr><td>1</td><td>Piedad</td><td>1277</td></tr><tr><td>1</td><td>Laureen</td><td>437</td></tr><tr><td>1</td><td>Iva</td><td>961</td></tr><tr><td>1</td><td>Miranda</td><td>1416</td></tr><tr><td>1</td><td>Jeannette</td><td>1033</td></tr><tr><td>1</td><td>Nubia</td><td>1256</td></tr><tr><td>1</td><td>Brenda</td><td>280</td></tr><tr><td>1</td><td>Veronique</td><td>1368</td></tr><tr><td>1</td><td>Conception</td><td>410</td></tr><tr><td>1</td><td>Shawnna</td><td>1210</td></tr><tr><td>1</td><td>Mikel</td><td>1427</td></tr><tr><td>1</td><td>Frederica</td><td>595</td></tr><tr><td>1</td><td>Leanna</td><td>815</td></tr><tr><td>1</td><td>Lea</td><td>924</td></tr><tr><td>1</td><td>Caleb</td><td>1125</td></tr><tr><td>1</td><td>Deane</td><td>179</td></tr><tr><td>1</td><td>Juliane</td><td>1374</td></tr><tr><td>1</td><td>Carissa</td><td>177</td></tr><tr><td>1</td><td>Lashunda</td><td>1424</td></tr><tr><td>1</td><td>Ilona</td><td>713</td></tr><tr><td>1</td><td>Ashanti</td><td>1037</td></tr><tr><td>1</td><td>Jamaal</td><td>1441</td></tr><tr><td>1</td><td>Rayford</td><td>300</td></tr><tr><td>1</td><td>Kiara</td><td>633</td></tr><tr><td>1</td><td>Phylicia</td><td>1387</td></tr><tr><td>1</td><td>Venessa</td><td>949</td></tr><tr><td>1</td><td>Kenton</td><td>1385</td></tr><tr><td>1</td><td>Jonna</td><td>968</td></tr><tr><td>1</td><td>Wilda</td><td>505</td></tr><tr><td>1</td><td>Yuk</td><td>112</td></tr><tr><td>1</td><td>Ferne</td><td>261</td></tr><tr><td>1</td><td>Doreatha</td><td>733</td></tr><tr><td>1</td><td>Kam</td><td>162</td></tr><tr><td>1</td><td>Jenine</td><td>1026</td></tr><tr><td>1</td><td>Emanuel</td><td>1310</td></tr><tr><td>1</td><td>Gabriel</td><td>612</td></tr><tr><td>1</td><td>Ira</td><td>674</td></tr><tr><td>1</td><td>Genoveva</td><td>1390</td></tr><tr><td>1</td><td>Cristobal</td><td>254</td></tr><tr><td>1</td><td>Latoya</td><td>999</td></tr><tr><td>1</td><td>Jackeline</td><td>1280</td></tr><tr><td>1</td><td>Tomika</td><td>164</td></tr><tr><td>1</td><td>Micki</td><td>469</td></tr><tr><td>1</td><td>Jenine</td><td>551</td></tr><tr><td>1</td><td>Lucas</td><td>569</td></tr><tr><td>1</td><td>Marisol</td><td>102</td></tr><tr><td>1</td><td>Vito</td><td>1158</td></tr><tr><td>1</td><td>Soledad</td><td>582</td></tr><tr><td>1</td><td>Minerva</td><td>203</td></tr><tr><td>1</td><td>Erik</td><td>906</td></tr><tr><td>1</td><td>Ramiro</td><td>141</td></tr><tr><td>1</td><td>Sally</td><td>1293</td></tr><tr><td>1</td><td>Douglas</td><td>804</td></tr><tr><td>1</td><td>Elaina</td><td>895</td></tr><tr><td>1</td><td>Joy</td><td>1221</td></tr><tr><td>1</td><td>Valeri</td><td>486</td></tr><tr><td>1</td><td>Vivian</td><td>1393</td></tr><tr><td>1</td><td>Latonya</td><td>427</td></tr><tr><td>1</td><td>Sheba</td><td>330</td></tr><tr><td>1</td><td>Jeromy</td><td>235</td></tr><tr><td>1</td><td>Augustus</td><td>404</td></tr><tr><td>1</td><td>Darcie</td><td>219</td></tr><tr><td>1</td><td>Oliva</td><td>748</td></tr><tr><td>1</td><td>Verona</td><td>236</td></tr><tr><td>1</td><td>Bee</td><td>1039</td></tr><tr><td>1</td><td>Adam</td><td>1085</td></tr><tr><td>1</td><td>Yan</td><td>375</td></tr><tr><td>1</td><td>Terra</td><td>509</td></tr><tr><td>1</td><td>Kasha</td><td>727</td></tr><tr><td>1</td><td>Tomeka</td><td>638</td></tr><tr><td>1</td><td>Birdie</td><td>465</td></tr><tr><td>1</td><td>Toshia</td><td>614</td></tr><tr><td>1</td><td>Carina</td><td>1229</td></tr><tr><td>1</td><td>Dortha</td><td>263</td></tr><tr><td>1</td><td>Marry</td><td>555</td></tr><tr><td>1</td><td>Hubert</td><td>1138</td></tr><tr><td>1</td><td>Kandace</td><td>358</td></tr><tr><td>1</td><td>Dorine</td><td>1379</td></tr><tr><td>1</td><td>Inger</td><td>1356</td></tr><tr><td>1</td><td>Ouida</td><td>780</td></tr><tr><td>1</td><td>Shauna</td><td>1299</td></tr><tr><td>1</td><td>Sheila</td><td>1189</td></tr><tr><td>1</td><td>Verda</td><td>1302</td></tr><tr><td>1</td><td>Chasidy</td><td>585</td></tr><tr><td>1</td><td>Herlinda</td><td>125</td></tr><tr><td>1</td><td>Renna</td><td>1372</td></tr><tr><td>1</td><td>Kate</td><td>1347</td></tr><tr><td>1</td><td>Karole</td><td>1120</td></tr><tr><td>1</td><td>Jenell</td><td>1207</td></tr><tr><td>1</td><td>Inge</td><td>535</td></tr><tr><td>1</td><td>Charlyn</td><td>156</td></tr><tr><td>1</td><td>Enoch</td><td>1378</td></tr><tr><td>1</td><td>Melani</td><td>313</td></tr><tr><td>1</td><td>Danny</td><td>295</td></tr><tr><td>1</td><td>Jennell</td><td>969</td></tr><tr><td>1</td><td>Junita</td><td>1166</td></tr><tr><td>1</td><td>Rey</td><td>115</td></tr><tr><td>1</td><td>Ashton</td><td>636</td></tr><tr><td>1</td><td>Edda</td><td>498</td></tr><tr><td>1</td><td>Tonja</td><td>944</td></tr><tr><td>1</td><td>Lurlene</td><td>1410</td></tr><tr><td>1</td><td>Romelia</td><td>460</td></tr><tr><td>1</td><td>Marylyn</td><td>655</td></tr><tr><td>1</td><td>Bea</td><td>1128</td></tr><tr><td>1</td><td>Violet</td><td>98</td></tr><tr><td>1</td><td>Ryan</td><td>1167</td></tr><tr><td>1</td><td>Gabriel</td><td>622</td></tr><tr><td>1</td><td>Bart</td><td>399</td></tr><tr><td>1</td><td>Kaila</td><td>387</td></tr><tr><td>1</td><td>Deirdre</td><td>689</td></tr><tr><td>1</td><td>Erna</td><td>838</td></tr><tr><td>1</td><td>Amparo</td><td>683</td></tr><tr><td>1</td><td>Annabelle</td><td>1184</td></tr><tr><td>1</td><td>Raphael</td><td>1123</td></tr><tr><td>1</td><td>Shanelle</td><td>1289</td></tr><tr><td>1</td><td>Graig</td><td>756</td></tr><tr><td>1</td><td>Augustus</td><td>664</td></tr><tr><td>1</td><td>Ivonne</td><td>250</td></tr><tr><td>1</td><td>Joe</td><td>1336</td></tr><tr><td>1</td><td>Khalilah</td><td>1104</td></tr><tr><td>1</td><td>Marissa</td><td>570</td></tr><tr><td>1</td><td>Vashti</td><td>356</td></tr><tr><td>1</td><td>Emmett</td><td>429</td></tr><tr><td>1</td><td>Eloisa</td><td>1344</td></tr><tr><td>1</td><td>Jerlene</td><td>463</td></tr><tr><td>1</td><td>Dorothea</td><td>692</td></tr><tr><td>1</td><td>Adriene</td><td>574</td></tr><tr><td>1</td><td>Lanie</td><td>694</td></tr><tr><td>1</td><td>Marcene</td><td>1188</td></tr><tr><td>1</td><td>Senaida</td><td>714</td></tr><tr><td>1</td><td>Omer</td><td>160</td></tr><tr><td>1</td><td>Hermila</td><td>751</td></tr><tr><td>1</td><td>Sindy</td><td>1175</td></tr><tr><td>1</td><td>Corine</td><td>1185</td></tr><tr><td>1</td><td>Lavette</td><td>276</td></tr><tr><td>1</td><td>Yvette</td><td>632</td></tr><tr><td>1</td><td>Matilda</td><td>579</td></tr><tr><td>1</td><td>Bonita</td><td>1265</td></tr><tr><td>1</td><td>Donnetta</td><td>625</td></tr><tr><td>1</td><td>Kermit</td><td>775</td></tr><tr><td>1</td><td>Edmund</td><td>830</td></tr><tr><td>1</td><td>Chloe</td><td>881</td></tr><tr><td>1</td><td>Claudio</td><td>270</td></tr><tr><td>1</td><td>Everett</td><td>458</td></tr><tr><td>1</td><td>Deandrea</td><td>1209</td></tr><tr><td>1</td><td>Brenton</td><td>1211</td></tr><tr><td>1</td><td>Leila</td><td>1208</td></tr><tr><td>1</td><td>Aide</td><td>735</td></tr><tr><td>1</td><td>Kiana</td><td>226</td></tr><tr><td>1</td><td>Danille</td><td>577</td></tr><tr><td>1</td><td>Afton</td><td>527</td></tr><tr><td>1</td><td>Dale</td><td>1246</td></tr><tr><td>1</td><td>Macie</td><td>1436</td></tr><tr><td>1</td><td>Kermit</td><td>675</td></tr><tr><td>1</td><td>Natosha</td><td>243</td></tr><tr><td>1</td><td>Lorrie</td><td>390</td></tr><tr><td>1</td><td>Josef</td><td>352</td></tr><tr><td>1</td><td>Courtney</td><td>453</td></tr><tr><td>1</td><td>Lloyd</td><td>752</td></tr><tr><td>1</td><td>Lavonne</td><td>366</td></tr><tr><td>1</td><td>Ashlee</td><td>383</td></tr><tr><td>1</td><td>Novella</td><td>966</td></tr><tr><td>1</td><td>Eli</td><td>649</td></tr><tr><td>1</td><td>Salena</td><td>578</td></tr><tr><td>1</td><td>Mable</td><td>349</td></tr><tr><td>1</td><td>Eliana</td><td>609</td></tr><tr><td>1</td><td>Shona</td><td>1276</td></tr><tr><td>1</td><td>Dannette</td><td>407</td></tr><tr><td>1</td><td>Phuong</td><td>1260</td></tr><tr><td>1</td><td>Wynona</td><td>1382</td></tr><tr><td>1</td><td>Willow</td><td>1087</td></tr><tr><td>1</td><td>Vonda</td><td>581</td></tr><tr><td>1</td><td>Skye</td><td>618</td></tr><tr><td>1</td><td>Hortencia</td><td>914</td></tr><tr><td>1</td><td>Allie</td><td>1288</td></tr><tr><td>1</td><td>Carlie</td><td>1217</td></tr><tr><td>1</td><td>Rory</td><td>553</td></tr><tr><td>1</td><td>Ivette</td><td>984</td></tr><tr><td>1</td><td>Giovanna</td><td>993</td></tr><tr><td>1</td><td>Bernardina</td><td>803</td></tr><tr><td>1</td><td>Cayla</td><td>623</td></tr><tr><td>1</td><td>Serafina</td><td>996</td></tr><tr><td>1</td><td>Daina</td><td>907</td></tr><tr><td>1</td><td>Pearlie</td><td>688</td></tr><tr><td>1</td><td>Gertha</td><td>479</td></tr><tr><td>1</td><td>Sherita</td><td>455</td></tr><tr><td>1</td><td>Arline</td><td>960</td></tr><tr><td>1</td><td>Jonell</td><td>599</td></tr><tr><td>1</td><td>Faustino</td><td>510</td></tr><tr><td>1</td><td>Justina</td><td>1425</td></tr><tr><td>1</td><td>Carlena</td><td>1375</td></tr><tr><td>1</td><td>Antonetta</td><td>659</td></tr><tr><td>1</td><td>Jewel</td><td>1144</td></tr><tr><td>1</td><td>Terese</td><td>707</td></tr><tr><td>1</td><td>Angella</td><td>946</td></tr><tr><td>1</td><td>Lamar</td><td>1409</td></tr><tr><td>1</td><td>Josh</td><td>274</td></tr><tr><td>1</td><td>Jennie</td><td>298</td></tr><tr><td>1</td><td>Dorothea</td><td>1352</td></tr><tr><td>1</td><td>Catherine</td><td>485</td></tr><tr><td>1</td><td>Cheree</td><td>1273</td></tr><tr><td>1</td><td>Kara</td><td>637</td></tr><tr><td>1</td><td>Cameron</td><td>312</td></tr><tr><td>1</td><td>Keitha</td><td>1094</td></tr><tr><td>1</td><td>Rosamaria</td><td>1257</td></tr><tr><td>1</td><td>Mirella</td><td>1080</td></tr><tr><td>1</td><td>Tricia</td><td>560</td></tr><tr><td>1</td><td>Wm</td><td>572</td></tr><tr><td>1</td><td>Lillia</td><td>1067</td></tr><tr><td>1</td><td>Danielle</td><td>227</td></tr><tr><td>1</td><td>Bella</td><td>1240</td></tr><tr><td>1</td><td>Bronwyn</td><td>1223</td></tr><tr><td>1</td><td>Boyd</td><td>132</td></tr><tr><td>1</td><td>Genoveva</td><td>178</td></tr><tr><td>1</td><td>Selene</td><td>530</td></tr><tr><td>1</td><td>Obdulia</td><td>1320</td></tr><tr><td>1</td><td>Cassie</td><td>1442</td></tr><tr><td>1</td><td>Rodolfo</td><td>1069</td></tr><tr><td>1</td><td>Vernell</td><td>556</td></tr><tr><td>1</td><td>Sophia</td><td>296</td></tr><tr><td>1</td><td>Mark</td><td>277</td></tr><tr><td>1</td><td>Clarita</td><td>514</td></tr><tr><td>1</td><td>Deja</td><td>272</td></tr><tr><td>1</td><td>Yanira</td><td>340</td></tr><tr><td>1</td><td>Tonja</td><td>1031</td></tr><tr><td>1</td><td>Candis</td><td>201</td></tr><tr><td>1</td><td>Laurette</td><td>967</td></tr><tr><td>1</td><td>Vikki</td><td>306</td></tr><tr><td>1</td><td>Delbert</td><td>133</td></tr><tr><td>1</td><td>Garth</td><td>1285</td></tr><tr><td>1</td><td>Shu</td><td>496</td></tr><tr><td>1</td><td>Eric</td><td>620</td></tr><tr><td>1</td><td>Omega</td><td>1333</td></tr><tr><td>1</td><td>Zoraida</td><td>417</td></tr><tr><td>1</td><td>Martha</td><td>812</td></tr><tr><td>1</td><td>Earl</td><td>257</td></tr><tr><td>1</td><td>Cher</td><td>1083</td></tr><tr><td>1</td><td>Johnathan</td><td>259</td></tr><tr><td>1</td><td>Arla</td><td>1324</td></tr><tr><td>1</td><td>Cheryll</td><td>1198</td></tr><tr><td>1</td><td>Wes</td><td>130</td></tr><tr><td>1</td><td>Jasmin</td><td>543</td></tr><tr><td>1</td><td>Stephanie</td><td>850</td></tr><tr><td>1</td><td>Rita</td><td>650</td></tr><tr><td>1</td><td>Edra</td><td>408</td></tr><tr><td>1</td><td>Lekisha</td><td>1342</td></tr><tr><td>1</td><td>Yvone</td><td>1348</td></tr><tr><td>1</td><td>Kimbery</td><td>1259</td></tr><tr><td>1</td><td>Divina</td><td>1331</td></tr><tr><td>1</td><td>Mercedez</td><td>1381</td></tr><tr><td>1</td><td>Irving</td><td>506</td></tr><tr><td>1</td><td>Toya</td><td>190</td></tr><tr><td>1</td><td>Angelique</td><td>776</td></tr><tr><td>1</td><td>Edgar</td><td>1238</td></tr><tr><td>1</td><td>Rosa</td><td>516</td></tr><tr><td>1</td><td>Yevette</td><td>690</td></tr><tr><td>1</td><td>Clementine</td><td>221</td></tr><tr><td>1</td><td>Crysta</td><td>898</td></tr><tr><td>1</td><td>Cori</td><td>1086</td></tr><tr><td>1</td><td>Aleta</td><td>388</td></tr><tr><td>1</td><td>Stephaine</td><td>206</td></tr><tr><td>1</td><td>Tona</td><td>1340</td></tr><tr><td>1</td><td>Jayson</td><td>481</td></tr><tr><td>1</td><td>Klara</td><td>377</td></tr><tr><td>1</td><td>Alexis</td><td>1282</td></tr><tr><td>1</td><td>Tisha</td><td>1318</td></tr><tr><td>1</td><td>Milagros</td><td>985</td></tr><tr><td>1</td><td>Lenore</td><td>1148</td></tr><tr><td>1</td><td>Loraine</td><td>662</td></tr><tr><td>1</td><td>Heather</td><td>998</td></tr><tr><td>1</td><td>Maira</td><td>903</td></tr><tr><td>1</td><td>Delfina</td><td>955</td></tr><tr><td>1</td><td>Silas</td><td>872</td></tr><tr><td>1</td><td>Cindi</td><td>1079</td></tr><tr><td>1</td><td>Kristel</td><td>825</td></tr><tr><td>1</td><td>Kandace</td><td>561</td></tr><tr><td>1</td><td>Rudolph</td><td>1236</td></tr><tr><td>1</td><td>Carita</td><td>1018</td></tr><tr><td>1</td><td>Nelle</td><td>386</td></tr><tr><td>1</td><td>Beryl</td><td>915</td></tr><tr><td>1</td><td>Norine</td><td>696</td></tr><tr><td>1</td><td>Jenna</td><td>617</td></tr><tr><td>1</td><td>Virgil</td><td>286</td></tr><tr><td>1</td><td>Thurman</td><td>929</td></tr><tr><td>1</td><td>Jeniffer</td><td>183</td></tr><tr><td>1</td><td>Deangelo</td><td>1009</td></tr><tr><td>1</td><td>Alina</td><td>734</td></tr><tr><td>1</td><td>Loni</td><td>860</td></tr><tr><td>1</td><td>Rutha</td><td>242</td></tr><tr><td>1</td><td>Loreta</td><td>167</td></tr><tr><td>1</td><td>Cecilia</td><td>687</td></tr><tr><td>1</td><td>Vernetta</td><td>1179</td></tr><tr><td>1</td><td>Shayla</td><td>1400</td></tr><tr><td>1</td><td>Zulema</td><td>1228</td></tr><tr><td>1</td><td>Bao</td><td>1108</td></tr><tr><td>1</td><td>Loreen</td><td>989</td></tr><tr><td>1</td><td>Neida</td><td>1339</td></tr><tr><td>1</td><td>Philip</td><td>1017</td></tr><tr><td>1</td><td>Marget</td><td>105</td></tr><tr><td>1</td><td>Ulysses</td><td>586</td></tr><tr><td>1</td><td>Zelda</td><td>817</td></tr><tr><td>1</td><td>Shasta</td><td>1121</td></tr><tr><td>1</td><td>Shiloh</td><td>1000</td></tr><tr><td>1</td><td>Mica</td><td>1283</td></tr><tr><td>1</td><td>Brigid</td><td>1214</td></tr><tr><td>1</td><td>Shantel</td><td>1321</td></tr><tr><td>1</td><td>Rubye</td><td>573</td></tr><tr><td>1</td><td>Arcelia</td><td>568</td></tr><tr><td>1</td><td>Vanda</td><td>988</td></tr><tr><td>1</td><td>Agatha</td><td>1353</td></tr><tr><td>1</td><td>Johna</td><td>423</td></tr><tr><td>1</td><td>Lise</td><td>1233</td></tr><tr><td>1</td><td>Douglass</td><td>1114</td></tr><tr><td>1</td><td>Laurel</td><td>744</td></tr><tr><td>1</td><td>Manie</td><td>841</td></tr><tr><td>1</td><td>Magda</td><td>249</td></tr><tr><td>1</td><td>Chere</td><td>992</td></tr><tr><td>1</td><td>Carola</td><td>725</td></tr><tr><td>1</td><td>Raul</td><td>106</td></tr><tr><td>1</td><td>Krissy</td><td>945</td></tr><tr><td>1</td><td>Yang</td><td>1213</td></tr><tr><td>1</td><td>Buford</td><td>517</td></tr><tr><td>1</td><td>Marni</td><td>202</td></tr><tr><td>1</td><td>Bobbi</td><td>739</td></tr><tr><td>1</td><td>Adam</td><td>673</td></tr><tr><td>1</td><td>Larraine</td><td>524</td></tr><tr><td>1</td><td>Shea</td><td>1308</td></tr><tr><td>1</td><td>Kylee</td><td>604</td></tr><tr><td>1</td><td>Katheleen</td><td>271</td></tr><tr><td>1</td><td>Kanesha</td><td>347</td></tr><tr><td>1</td><td>Armando</td><td>1105</td></tr><tr><td>1</td><td>Sheree</td><td>507</td></tr><tr><td>1</td><td>Marlen</td><td>1281</td></tr><tr><td>1</td><td>Sherril</td><td>1134</td></tr><tr><td>1</td><td>Pinkie</td><td>275</td></tr><tr><td>1</td><td>Emmett</td><td>478</td></tr><tr><td>1</td><td>Kristel</td><td>918</td></tr><tr><td>1</td><td>Lilliam</td><td>788</td></tr><tr><td>1</td><td>Genevie</td><td>935</td></tr><tr><td>1</td><td>Annett</td><td>1350</td></tr><tr><td>1</td><td>Shila</td><td>111</td></tr><tr><td>1</td><td>Ulrike</td><td>1389</td></tr><tr><td>1</td><td>Cesar</td><td>1386</td></tr><tr><td>1</td><td>Laurence</td><td>575</td></tr><tr><td>1</td><td>Sandee</td><td>1402</td></tr><tr><td>1</td><td>Inga</td><td>857</td></tr><tr><td>1</td><td>Ellsworth</td><td>450</td></tr><tr><td>1</td><td>Reena</td><td>332</td></tr><tr><td>1</td><td>Ruthanne</td><td>919</td></tr><tr><td>1</td><td>Tania</td><td>743</td></tr><tr><td>1</td><td>Carman</td><td>1351</td></tr><tr><td>1</td><td>Rozanne</td><td>1341</td></tr><tr><td>1</td><td>Marcel</td><td>986</td></tr><tr><td>1</td><td>Houston</td><td>1272</td></tr><tr><td>1</td><td>Ardelia</td><td>1103</td></tr><tr><td>1</td><td>India</td><td>799</td></tr><tr><td>1</td><td>Oralia</td><td>749</td></tr><tr><td>1</td><td>Leeanne</td><td>1073</td></tr><tr><td>1</td><td>Le</td><td>118</td></tr><tr><td>1</td><td>Lolita</td><td>706</td></tr><tr><td>1</td><td>Jane</td><td>1088</td></tr><tr><td>1</td><td>Georgeanna</td><td>418</td></tr><tr><td>1</td><td>Carolann</td><td>839</td></tr><tr><td>1</td><td>Rayna</td><td>281</td></tr><tr><td>1</td><td>Nathaniel</td><td>894</td></tr><tr><td>1</td><td>Kendra</td><td>1113</td></tr><tr><td>1</td><td>Verdell</td><td>1155</td></tr><tr><td>1</td><td>Lakenya</td><td>1292</td></tr><tr><td>1</td><td>Mellie</td><td>862</td></tr><tr><td>1</td><td>Jimmy</td><td>1007</td></tr><tr><td>1</td><td>Corene</td><td>1095</td></tr><tr><td>1</td><td>Desire</td><td>1383</td></tr><tr><td>1</td><td>Shery</td><td>616</td></tr><tr><td>1</td><td>Lean</td><td>855</td></tr><tr><td>1</td><td>Tamela</td><td>339</td></tr><tr><td>1</td><td>Celestine</td><td>783</td></tr><tr><td>1</td><td>Bettye</td><td>1041</td></tr><tr><td>1</td><td>Mariela</td><td>264</td></tr><tr><td>1</td><td>Sharie</td><td>327</td></tr><tr><td>1</td><td>Christiane</td><td>536</td></tr><tr><td>1</td><td>Javier</td><td>314</td></tr><tr><td>1</td><td>Lezlie</td><td>852</td></tr><tr><td>1</td><td>Yvonne</td><td>932</td></tr><tr><td>1</td><td>Taylor</td><td>634</td></tr><tr><td>1</td><td>Ebony</td><td>1323</td></tr><tr><td>1</td><td>Marlo</td><td>503</td></tr><tr><td>1</td><td>Tessie</td><td>843</td></tr><tr><td>1</td><td>Agustina</td><td>1181</td></tr><tr><td>1</td><td>Drucilla</td><td>1149</td></tr><tr><td>1</td><td>Joann</td><td>928</td></tr><tr><td>1</td><td>Rodrick</td><td>260</td></tr><tr><td>1</td><td>Ashleigh</td><td>611</td></tr><tr><td>1</td><td>Lise</td><td>493</td></tr><tr><td>1</td><td>Ingeborg</td><td>979</td></tr><tr><td>1</td><td>Johana</td><td>1377</td></tr><tr><td>1</td><td>Carolyne</td><td>745</td></tr><tr><td>1</td><td>Roy</td><td>1271</td></tr><tr><td>1</td><td>Marcy</td><td>829</td></tr><tr><td>1</td><td>Myrl</td><td>1266</td></tr><tr><td>1</td><td>Zora</td><td>1052</td></tr><tr><td>1</td><td>Sandy</td><td>820</td></tr><tr><td>1</td><td>Jeanett</td><td>468</td></tr><tr><td>1</td><td>Clementina</td><td>294</td></tr><tr><td>1</td><td>Sheree</td><td>1176</td></tr><tr><td>1</td><td>Orval</td><td>982</td></tr><tr><td>1</td><td>Desmond</td><td>1131</td></tr><tr><td>1</td><td>Arlena</td><td>851</td></tr><tr><td>1</td><td>Adriene</td><td>1252</td></tr><tr><td>1</td><td>Anisha</td><td>963</td></tr><tr><td>1</td><td>Rosalie</td><td>796</td></tr><tr><td>1</td><td>Loyce</td><td>1404</td></tr><tr><td>1</td><td>Miriam</td><td>171</td></tr><tr><td>1</td><td>Barry</td><td>290</td></tr><tr><td>1</td><td>Barbera</td><td>225</td></tr><tr><td>1</td><td>Tammy</td><td>1063</td></tr><tr><td>1</td><td>Shenna</td><td>1016</td></tr><tr><td>1</td><td>Laureen</td><td>324</td></tr><tr><td>1</td><td>Pasquale</td><td>1045</td></tr><tr><td>1</td><td>Camille</td><td>705</td></tr><tr><td>1</td><td>Floretta</td><td>96</td></tr><tr><td>1</td><td>Latricia</td><td>772</td></tr><tr><td>1</td><td>Claris</td><td>1319</td></tr><tr><td>1</td><td>Crystle</td><td>161</td></tr><tr><td>1</td><td>Gustavo</td><td>1269</td></tr><tr><td>1</td><td>Tempie</td><td>1422</td></tr><tr><td>1</td><td>Rodney</td><td>563</td></tr><tr><td>1</td><td>Andy</td><td>197</td></tr><tr><td>1</td><td>Ann</td><td>646</td></tr><tr><td>1</td><td>Nestor</td><td>1363</td></tr><tr><td>1</td><td>Georgeann</td><td>1203</td></tr><tr><td>1</td><td>Ivelisse</td><td>810</td></tr><tr><td>1</td><td>Jina</td><td>370</td></tr><tr><td>1</td><td>Trena</td><td>1366</td></tr><tr><td>1</td><td>Ginette</td><td>413</td></tr><tr><td>1</td><td>Majorie</td><td>337</td></tr><tr><td>1</td><td>Manie</td><td>241</td></tr><tr><td>1</td><td>Leigh</td><td>626</td></tr><tr><td>1</td><td>Coleman</td><td>1024</td></tr><tr><td>1</td><td>Jeffry</td><td>589</td></tr><tr><td>1</td><td>Benito</td><td>598</td></tr><tr><td>1</td><td>Lecia</td><td>766</td></tr><tr><td>1</td><td>Angele</td><td>528</td></tr><tr><td>1</td><td>Dante</td><td>1313</td></tr><tr><td>1</td><td>Aisha</td><td>1058</td></tr><tr><td>1</td><td>Anderson</td><td>309</td></tr><tr><td>1</td><td>Nichelle</td><td>1015</td></tr><tr><td>1</td><td>Doris</td><td>1068</td></tr><tr><td>1</td><td>Adena</td><td>1023</td></tr><tr><td>1</td><td>Jacalyn</td><td>346</td></tr><tr><td>1</td><td>Eleanor</td><td>1408</td></tr><tr><td>1</td><td>Hayden</td><td>302</td></tr><tr><td>1</td><td>Josephine</td><td>1012</td></tr><tr><td>1</td><td>Derrick</td><td>641</td></tr><tr><td>1</td><td>Delana</td><td>341</td></tr><tr><td>1</td><td>Marquerite</td><td>173</td></tr><tr><td>1</td><td>Kerrie</td><td>406</td></tr><tr><td>1</td><td>Efren</td><td>1160</td></tr><tr><td>1</td><td>Kristen</td><td>381</td></tr><tr><td>1</td><td>Joeann</td><td>1314</td></tr><tr><td>1</td><td>Shemeka</td><td>1071</td></tr><tr><td>1</td><td>Jama</td><td>1343</td></tr><tr><td>1</td><td>Samual</td><td>971</td></tr><tr><td>1</td><td>Dori</td><td>548</td></tr><tr><td>1</td><td>Caroline</td><td>1111</td></tr><tr><td>1</td><td>Chanel</td><td>1173</td></tr><tr><td>1</td><td>Kasie</td><td>251</td></tr><tr><td>1</td><td>Destiny</td><td>1361</td></tr><tr><td>1</td><td>Jamika</td><td>615</td></tr><tr><td>1</td><td>Phyllis</td><td>849</td></tr><tr><td>1</td><td>Saran</td><td>1030</td></tr><tr><td>1</td><td>Lizette</td><td>847</td></tr><tr><td>1</td><td>Ross</td><td>214</td></tr><tr><td>1</td><td>Lamar</td><td>757</td></tr><tr><td>1</td><td>Kim</td><td>1183</td></tr><tr><td>1</td><td>Molly</td><td>229</td></tr><tr><td>1</td><td>Cinthia</td><td>566</td></tr><tr><td>1</td><td>Gwenn</td><td>740</td></tr><tr><td>1</td><td>Janie</td><td>1019</td></tr><tr><td>1</td><td>Alysha</td><td>368</td></tr><tr><td>1</td><td>Hans</td><td>144</td></tr><tr><td>1</td><td>Lois</td><td>724</td></tr><tr><td>1</td><td>Leslie</td><td>1204</td></tr><tr><td>1</td><td>Brain</td><td>834</td></tr><tr><td>1</td><td>Maryalice</td><td>1072</td></tr><tr><td>1</td><td>Bettie</td><td>564</td></tr><tr><td>1</td><td>Tama</td><td>1304</td></tr><tr><td>1</td><td>Jutta</td><td>209</td></tr><tr><td>1</td><td>Justina</td><td>279</td></tr><tr><td>1</td><td>Charise</td><td>311</td></tr><tr><td>1</td><td>Yevette</td><td>440</td></tr><tr><td>1</td><td>Whitney</td><td>228</td></tr><tr><td>1</td><td>Rochelle</td><td>385</td></tr><tr><td>1</td><td>Christia</td><td>317</td></tr><tr><td>1</td><td>Alexandria</td><td>1354</td></tr><tr><td>1</td><td>Harris</td><td>205</td></tr><tr><td>1</td><td>Garland</td><td>480</td></tr><tr><td>1</td><td>Alec</td><td>475</td></tr><tr><td>1</td><td>Blanca</td><td>367</td></tr><tr><td>1</td><td>Karl</td><td>1215</td></tr><tr><td>1</td><td>Veronika</td><td>824</td></tr><tr><td>1</td><td>Elmo</td><td>1384</td></tr><tr><td>1</td><td>Karey</td><td>180</td></tr><tr><td>1</td><td>Melba</td><td>643</td></tr><tr><td>1</td><td>Lashawna</td><td>473</td></tr><tr><td>1</td><td>Tajuana</td><td>545</td></tr><tr><td>1</td><td>Lashandra</td><td>583</td></tr><tr><td>1</td><td>Fransisca</td><td>307</td></tr><tr><td>1</td><td>Clorinda</td><td>1300</td></tr><tr><td>1</td><td>Shirely</td><td>576</td></tr><tr><td>1</td><td>Garry</td><td>1038</td></tr><tr><td>1</td><td>Agnes</td><td>771</td></tr><tr><td>1</td><td>Joshua</td><td>523</td></tr><tr><td>1</td><td>Whitney</td><td>513</td></tr><tr><td>1</td><td>Kimberely</td><td>531</td></tr><tr><td>1</td><td>Ken</td><td>186</td></tr><tr><td>1</td><td>Lavern</td><td>474</td></tr><tr><td>1</td><td>Alane</td><td>442</td></tr><tr><td>1</td><td>Alissa</td><td>892</td></tr><tr><td>1</td><td>Collen</td><td>1097</td></tr><tr><td>1</td><td>Mellisa</td><td>1225</td></tr><tr><td>1</td><td>Devin</td><td>720</td></tr><tr><td>1</td><td>Leola</td><td>285</td></tr><tr><td>1</td><td>Kellie</td><td>100</td></tr><tr><td>1</td><td>Beatris</td><td>1169</td></tr><tr><td>1</td><td>Florrie</td><td>1439</td></tr><tr><td>1</td><td>Alma</td><td>1013</td></tr><tr><td>1</td><td>Julianne</td><td>859</td></tr><tr><td>1</td><td>Leonore</td><td>610</td></tr><tr><td>1</td><td>Marisa</td><td>760</td></tr><tr><td>1</td><td>Raymonde</td><td>758</td></tr><tr><td>1</td><td>Shanna</td><td>1028</td></tr><tr><td>1</td><td>Herta</td><td>344</td></tr><tr><td>1</td><td>Nicki</td><td>658</td></tr><tr><td>1</td><td>Luis</td><td>198</td></tr><tr><td>1</td><td>Efren</td><td>462</td></tr><tr><td>1</td><td>Treasa</td><td>1098</td></tr><tr><td>1</td><td>Santa</td><td>1161</td></tr><tr><td>1</td><td>Twana</td><td>767</td></tr><tr><td>1</td><td>Launa</td><td>677</td></tr><tr><td>1</td><td>Christoper</td><td>350</td></tr><tr><td>1</td><td>Meredith</td><td>149</td></tr><tr><td>1</td><td>Morton</td><td>704</td></tr><tr><td>1</td><td>Sherie</td><td>538</td></tr><tr><td>1</td><td>Nakisha</td><td>1197</td></tr><tr><td>1</td><td>Porter</td><td>931</td></tr><tr><td>1</td><td>Queenie</td><td>273</td></tr><tr><td>1</td><td>Laverne</td><td>685</td></tr><tr><td>1</td><td>Terrell</td><td>764</td></tr><tr><td>1</td><td>Omega</td><td>1315</td></tr><tr><td>1</td><td>Lezlie</td><td>1443</td></tr><tr><td>1</td><td>Lenita</td><td>1275</td></tr><tr><td>1</td><td>Moira</td><td>500</td></tr><tr><td>1</td><td>Freddie</td><td>232</td></tr><tr><td>1</td><td>Julius</td><td>432</td></tr><tr><td>1</td><td>Renita</td><td>605</td></tr><tr><td>1</td><td>Olimpia</td><td>1070</td></tr><tr><td>1</td><td>Anton</td><td>1157</td></tr><tr><td>1</td><td>Evelina</td><td>629</td></tr><tr><td>1</td><td>Debbra</td><td>784</td></tr><tr><td>1</td><td>Tisa</td><td>353</td></tr><tr><td>1</td><td>Anya</td><td>222</td></tr><tr><td>1</td><td>Merideth</td><td>322</td></tr><tr><td>1</td><td>Cyndi</td><td>392</td></tr><tr><td>1</td><td>Dann</td><td>1075</td></tr><tr><td>1</td><td>Katina</td><td>926</td></tr><tr><td>1</td><td>Laci</td><td>741</td></tr><tr><td>1</td><td>Chantell</td><td>1195</td></tr><tr><td>1</td><td>Arvilla</td><td>355</td></tr><tr><td>1</td><td>Marshall</td><td>816</td></tr><tr><td>1</td><td>Elana</td><td>1434</td></tr><tr><td>1</td><td>Ophelia</td><td>801</td></tr><tr><td>1</td><td>Cecil</td><td>107</td></tr><tr><td>1</td><td>Heide</td><td>1243</td></tr><tr><td>1</td><td>Shonta</td><td>863</td></tr><tr><td>1</td><td>Arminda</td><td>477</td></tr><tr><td>1</td><td>Tajuana</td><td>781</td></tr><tr><td>1</td><td>Julienne</td><td>511</td></tr><tr><td>1</td><td>Terrance</td><td>128</td></tr><tr><td>1</td><td>Wanita</td><td>139</td></tr><tr><td>1</td><td>Raven</td><td>1301</td></tr><tr><td>1</td><td>Vernia</td><td>917</td></tr><tr><td>1</td><td>Dwain</td><td>870</td></tr><tr><td>1</td><td>Corinna</td><td>836</td></tr><tr><td>1</td><td>Jule</td><td>900</td></tr><tr><td>1</td><td>Gilbert</td><td>840</td></tr><tr><td>1</td><td>Ruth</td><td>970</td></tr><tr><td>1</td><td>Berneice</td><td>1008</td></tr><tr><td>1</td><td>Gena</td><td>1192</td></tr><tr><td>1</td><td>Dione</td><td>1286</td></tr><tr><td>1</td><td>Shawnda</td><td>670</td></tr><tr><td>1</td><td>Bernetta</td><td>147</td></tr><tr><td>1</td><td>Susann</td><td>284</td></tr><tr><td>1</td><td>Tangela</td><td>1035</td></tr><tr><td>1</td><td>Jamaal</td><td>1047</td></tr><tr><td>1</td><td>Luke</td><td>416</td></tr><tr><td>1</td><td>Hee</td><td>512</td></tr><tr><td>1</td><td>Hilde</td><td>554</td></tr><tr><td>1</td><td>Majorie</td><td>708</td></tr><tr><td>1</td><td>Verna</td><td>950</td></tr><tr><td>1</td><td>Darren</td><td>348</td></tr><tr><td>1</td><td>Viva</td><td>728</td></tr><tr><td>1</td><td>Shery</td><td>540</td></tr><tr><td>1</td><td>Tonda</td><td>1096</td></tr><tr><td>1</td><td>Loise</td><td>470</td></tr><tr><td>1</td><td>Alesia</td><td>380</td></tr><tr><td>1</td><td>Lavinia</td><td>1092</td></tr><tr><td>1</td><td>Corrinne</td><td>778</td></tr><tr><td>1</td><td>Dalia</td><td>1305</td></tr><tr><td>1</td><td>Catrice</td><td>648</td></tr><tr><td>1</td><td>Marcelino</td><td>1049</td></tr><tr><td>1</td><td>Christoper</td><td>695</td></tr><tr><td>1</td><td>Elease</td><td>902</td></tr><tr><td>1</td><td>Sharie</td><td>702</td></tr><tr><td>1</td><td>Starr</td><td>1369</td></tr><tr><td>1</td><td>Weldon</td><td>150</td></tr><tr><td>1</td><td>Benny</td><td>1130</td></tr><tr><td>1</td><td>Larissa</td><td>1042</td></tr><tr><td>1</td><td>Ghislaine</td><td>814</td></tr><tr><td>1</td><td>Michel</td><td>207</td></tr><tr><td>1</td><td>Luciano</td><td>431</td></tr><tr><td>1</td><td>Lucile</td><td>1367</td></tr><tr><td>1</td><td>Randee</td><td>923</td></tr><tr><td>1</td><td>Romaine</td><td>414</td></tr><tr><td>1</td><td>Ethelyn</td><td>879</td></tr><tr><td>1</td><td>Tanesha</td><td>131</td></tr><tr><td>1</td><td>Sommer</td><td>1143</td></tr><tr><td>1</td><td>Shena</td><td>122</td></tr><tr><td>1</td><td>Homer</td><td>518</td></tr><tr><td>1</td><td>Neoma</td><td>1250</td></tr><tr><td>1</td><td>Cris</td><td>800</td></tr><tr><td>1</td><td>Rudolf</td><td>597</td></tr><tr><td>1</td><td>Gilberte</td><td>883</td></tr><tr><td>1</td><td>Jerri</td><td>1106</td></tr><tr><td>1</td><td>Willetta</td><td>1401</td></tr><tr><td>1</td><td>Augustina</td><td>425</td></tr><tr><td>1</td><td>Keturah</td><td>288</td></tr><tr><td>1</td><td>Magdalena</td><td>1325</td></tr><tr><td>1</td><td>Maple</td><td>962</td></tr><tr><td>1</td><td>Travis</td><td>495</td></tr><tr><td>1</td><td>Inocencia</td><td>912</td></tr><tr><td>1</td><td>Greta</td><td>405</td></tr><tr><td>1</td><td>Calandra</td><td>668</td></tr><tr><td>1</td><td>Eliseo</td><td>1395</td></tr><tr><td>1</td><td>Jeffrey</td><td>1117</td></tr><tr><td>1</td><td>Tammera</td><td>522</td></tr><tr><td>1</td><td>Alejandrina</td><td>1093</td></tr><tr><td>1</td><td>Ciera</td><td>958</td></tr><tr><td>1</td><td>Ehtel</td><td>628</td></tr><tr><td>1</td><td>Tressa</td><td>631</td></tr><tr><td>1</td><td>Mellisa</td><td>265</td></tr><tr><td>1</td><td>Alane</td><td>158</td></tr><tr><td>1</td><td>Edgar</td><td>792</td></tr><tr><td>1</td><td>Van</td><td>360</td></tr><tr><td>1</td><td>Ashlie</td><td>891</td></tr><tr><td>1</td><td>Thad</td><td>1355</td></tr><tr><td>1</td><td>Grace</td><td>487</td></tr><tr><td>1</td><td>Quyen</td><td>762</td></tr><tr><td>1</td><td>Shara</td><td>660</td></tr><tr><td>1</td><td>Collene</td><td>700</td></tr><tr><td>1</td><td>Marilyn</td><td>329</td></tr><tr><td>1</td><td>Basil</td><td>621</td></tr><tr><td>1</td><td>Shiela</td><td>326</td></tr><tr><td>1</td><td>Adrien</td><td>1412</td></tr><tr><td>1</td><td>Ruthanne</td><td>1005</td></tr><tr><td>1</td><td>Jovita</td><td>711</td></tr><tr><td>1</td><td>Kathyrn</td><td>845</td></tr><tr><td>1</td><td>Jenise</td><td>154</td></tr><tr><td>1</td><td>Hugh</td><td>1407</td></tr><tr><td>1</td><td>Stan</td><td>1279</td></tr><tr><td>1</td><td>Magali</td><td>1227</td></tr><tr><td>1</td><td>Karren</td><td>1357</td></tr><tr><td>1</td><td>Christel</td><td>981</td></tr><tr><td>1</td><td>Krystin</td><td>419</td></tr><tr><td>1</td><td>Dexter</td><td>412</td></tr><tr><td>1</td><td>Eliz</td><td>318</td></tr><tr><td>1</td><td>Tony</td><td>501</td></tr><tr><td>1</td><td>Lena</td><td>166</td></tr><tr><td>1</td><td>Cecelia</td><td>248</td></tr><tr><td>1</td><td>Lina</td><td>1115</td></tr><tr><td>1</td><td>Ami</td><td>333</td></tr><tr><td>1</td><td>Jewell</td><td>1099</td></tr><tr><td>1</td><td>Hubert</td><td>1124</td></tr><tr><td>1</td><td>Latashia</td><td>1360</td></tr><tr><td>1</td><td>Arnita</td><td>682</td></tr><tr><td>1</td><td>Rebbecca</td><td>1056</td></tr><tr><td>1</td><td>Collin</td><td>382</td></tr><tr><td>1</td><td>Brittni</td><td>666</td></tr><tr><td>1</td><td>Whitley</td><td>1311</td></tr><tr><td>1</td><td>Desiree</td><td>1065</td></tr><tr><td>1</td><td>Carter</td><td>980</td></tr><tr><td>1</td><td>Shae</td><td>108</td></tr><tr><td>1</td><td>Kimberley</td><td>1376</td></tr><tr><td>1</td><td>Rosalba</td><td>378</td></tr><tr><td>1</td><td>Barbra</td><td>1249</td></tr><tr><td>1</td><td>Shonta</td><td>137</td></tr><tr><td>1</td><td>Gussie</td><td>1109</td></tr><tr><td>1</td><td>Mariette</td><td>373</td></tr><tr><td>1</td><td>Shanti</td><td>811</td></tr><tr><td>1</td><td>Rona</td><td>1370</td></tr><tr><td>1</td><td>Margret</td><td>747</td></tr><tr><td>1</td><td>Tad</td><td>789</td></tr><tr><td>1</td><td>Nanette</td><td>1388</td></tr><tr><td>1</td><td>Emory</td><td>938</td></tr><tr><td>1</td><td>Loni</td><td>371</td></tr><tr><td>1</td><td>Almeta</td><td>1168</td></tr><tr><td>1</td><td>Christia</td><td>297</td></tr><tr><td>1</td><td>Ayanna</td><td>976</td></tr><tr><td>1</td><td>Joni</td><td>592</td></tr><tr><td>1</td><td>Trudy</td><td>1298</td></tr><tr><td>1</td><td>Cherelle</td><td>588</td></tr><tr><td>1</td><td>Muriel</td><td>247</td></tr><tr><td>1</td><td>Jeniffer</td><td>323</td></tr><tr><td>1</td><td>Ai</td><td>1322</td></tr><tr><td>1</td><td>Lurline</td><td>933</td></tr><tr><td>1</td><td>Edris</td><td>1421</td></tr><tr><td>1</td><td>Tam</td><td>1191</td></tr><tr><td>1</td><td>Letty</td><td>893</td></tr><tr><td>1</td><td>Hue</td><td>754</td></tr><tr><td>1</td><td>Wallace</td><td>786</td></tr><tr><td>1</td><td>Brianna</td><td>134</td></tr><tr><td>1</td><td>Lanelle</td><td>1074</td></tr><tr><td>1</td><td>Justa</td><td>492</td></tr><tr><td>1</td><td>George</td><td>827</td></tr><tr><td>1</td><td>Nicki</td><td>719</td></tr><tr><td>1</td><td>Terese</td><td>454</td></tr><tr><td>1</td><td>Carmela</td><td>1163</td></tr><tr><td>1</td><td>Tereasa</td><td>1312</td></tr><tr><td>1</td><td>Vernita</td><td>391</td></tr><tr><td>1</td><td>Shiloh</td><td>1291</td></tr><tr><td>1</td><td>Alissa</td><td>663</td></tr><tr><td>1</td><td>Andria</td><td>730</td></tr><tr><td>1</td><td>Ja</td><td>1118</td></tr><tr><td>1</td><td>Miquel</td><td>145</td></tr><tr><td>1</td><td>Dagny</td><td>565</td></tr><tr><td>1</td><td>Hassan</td><td>954</td></tr><tr><td>1</td><td>Guillermo</td><td>927</td></tr><tr><td>1</td><td>Mia</td><td>532</td></tr><tr><td>1</td><td>Willian</td><td>884</td></tr><tr><td>1</td><td>Dottie</td><td>1137</td></tr><tr><td>1</td><td>Genny</td><td>1394</td></tr><tr><td>1</td><td>Shay</td><td>826</td></tr><tr><td>1</td><td>Sylvester</td><td>846</td></tr><tr><td>1</td><td>Kimberli</td><td>1309</td></tr><tr><td>1</td><td>Ben</td><td>1255</td></tr><tr><td>1</td><td>Kaci</td><td>363</td></tr><tr><td>1</td><td>Olevia</td><td>362</td></tr><tr><td>1</td><td>Jesica</td><td>343</td></tr><tr><td>1</td><td>Geraldine</td><td>1222</td></tr><tr><td>1</td><td>Heather</td><td>1077</td></tr><tr><td>1</td><td>Ricki</td><td>782</td></tr><tr><td>1</td><td>Raeann</td><td>1066</td></tr><tr><td>1</td><td>Tammie</td><td>1247</td></tr><tr><td>1</td><td>Barrett</td><td>802</td></tr><tr><td>1</td><td>Han</td><td>1156</td></tr><tr><td>1</td><td>Carmina</td><td>1202</td></tr><tr><td>1</td><td>Eun</td><td>654</td></tr><tr><td>1</td><td>Myron</td><td>678</td></tr><tr><td>1</td><td>Phillis</td><td>805</td></tr><tr><td>1</td><td>Season</td><td>1059</td></tr><tr><td>1</td><td>Morton</td><td>185</td></tr><tr><td>1</td><td>Sam</td><td>657</td></tr><tr><td>1</td><td>Carie</td><td>99</td></tr><tr><td>1</td><td>Aleta</td><td>331</td></tr><tr><td>1</td><td>Scarlet</td><td>335</td></tr><tr><td>1</td><td>Leif</td><td>389</td></tr><tr><td>1</td><td>Bev</td><td>364</td></tr><tr><td>1</td><td>Selene</td><td>1231</td></tr><tr><td>1</td><td>Eleni</td><td>252</td></tr><tr><td>1</td><td>Etsuko</td><td>667</td></tr><tr><td>1</td><td>America</td><td>1306</td></tr><tr><td>1</td><td>Georgina</td><td>1235</td></tr><tr><td>1</td><td>Maurice</td><td>253</td></tr><tr><td>1</td><td>Leland</td><td>601</td></tr><tr><td>1</td><td>Inez</td><td>1338</td></tr><tr><td>1</td><td>Randolph</td><td>282</td></tr><tr><td>1</td><td>Thad</td><td>546</td></tr><tr><td>1</td><td>Iola</td><td>421</td></tr><tr><td>1</td><td>Davis</td><td>942</td></tr><tr><td>1</td><td>Sarah</td><td>606</td></tr><tr><td>1</td><td>Phebe</td><td>880</td></tr><tr><td>1</td><td>Fannie</td><td>738</td></tr><tr><td>1</td><td>Regina</td><td>159</td></tr><tr><td>1</td><td>Carola</td><td>1428</td></tr><tr><td>1</td><td>Onita</td><td>876</td></tr><tr><td>1</td><td>Christel</td><td>959</td></tr><tr><td>1</td><td>Ling</td><td>1014</td></tr><tr><td>1</td><td>Cicely</td><td>1122</td></tr><tr><td>1</td><td>Jaqueline</td><td>1212</td></tr><tr><td>1</td><td>Luke</td><td>1237</td></tr><tr><td>1</td><td>Alane</td><td>697</td></tr><tr><td>1</td><td>Justina</td><td>315</td></tr><tr><td>1</td><td>Mina</td><td>379</td></tr><tr><td>1</td><td>Malinda</td><td>502</td></tr><tr><td>1</td><td>Mireille</td><td>287</td></tr><tr><td>1</td><td>Neville</td><td>813</td></tr><tr><td>1</td><td>Alpha</td><td>204</td></tr><tr><td>1</td><td>Divina</td><td>1082</td></tr><tr><td>1</td><td>Nikita</td><td>911</td></tr><tr><td>1</td><td>Kallie</td><td>1136</td></tr><tr><td>1</td><td>Garret</td><td>533</td></tr><tr><td>1</td><td>Rod</td><td>761</td></tr><tr><td>2</td><td>Olevia</td><td>181</td></tr><tr><td>2</td><td>Tomasa</td><td>70</td></tr><tr><td>2</td><td>Marvin</td><td>91</td></tr><tr><td>2</td><td>Joesph</td><td>151</td></tr><tr><td>2</td><td>Tangela</td><td>42</td></tr><tr><td>2</td><td>Jenee</td><td>231</td></tr><tr><td>2</td><td>Graciela</td><td>191</td></tr><tr><td>2</td><td>Marjorie</td><td>90</td></tr><tr><td>2</td><td>Lizzie</td><td>82</td></tr><tr><td>2</td><td>Nova</td><td>175</td></tr><tr><td>2</td><td>Georgeann</td><td>74</td></tr><tr><td>2</td><td>Bernita</td><td>36</td></tr><tr><td>2</td><td>Alica</td><td>62</td></tr><tr><td>2</td><td>Jeromy</td><td>165</td></tr><tr><td>2</td><td>Mariana</td><td>233</td></tr><tr><td>2</td><td>Syreeta</td><td>29</td></tr><tr><td>2</td><td>Katharina</td><td>104</td></tr><tr><td>2</td><td>Carley</td><td>176</td></tr><tr><td>2</td><td>Titus</td><td>88</td></tr><tr><td>2</td><td>Jeanice</td><td>28</td></tr><tr><td>2</td><td>Sarai</td><td>80</td></tr><tr><td>2</td><td>Jeanie</td><td>172</td></tr><tr><td>2</td><td>Tiesha</td><td>83</td></tr><tr><td>2</td><td>Zelma</td><td>38</td></tr><tr><td>2</td><td>Pamala</td><td>57</td></tr><tr><td>2</td><td>Bennett</td><td>45</td></tr><tr><td>2</td><td>Melia</td><td>37</td></tr><tr><td>2</td><td>Dorthey</td><td>135</td></tr><tr><td>2</td><td>Chi</td><td>78</td></tr><tr><td>2</td><td>Carola</td><td>157</td></tr><tr><td>2</td><td>Parker</td><td>76</td></tr><tr><td>2</td><td>Neil</td><td>60</td></tr><tr><td>2</td><td>Corrina</td><td>93</td></tr><tr><td>2</td><td>Sharyn</td><td>94</td></tr><tr><td>2</td><td>Louanne</td><td>97</td></tr><tr><td>2</td><td>Abby</td><td>75</td></tr><tr><td>2</td><td>Elvera</td><td>237</td></tr><tr><td>2</td><td>Santos</td><td>27</td></tr><tr><td>2</td><td>Kathie</td><td>41</td></tr><tr><td>2</td><td>Carline</td><td>217</td></tr><tr><td>2</td><td>Takako</td><td>71</td></tr><tr><td>2</td><td>Karla</td><td>169</td></tr><tr><td>2</td><td>Monica</td><td>109</td></tr><tr><td>2</td><td>Brittney</td><td>34</td></tr><tr><td>2</td><td>Sarita</td><td>136</td></tr><tr><td>2</td><td>Caroll</td><td>49</td></tr><tr><td>2</td><td>Zina</td><td>81</td></tr><tr><td>2</td><td>Teofila</td><td>85</td></tr><tr><td>2</td><td>Le</td><td>240</td></tr><tr><td>2</td><td>Laraine</td><td>153</td></tr><tr><td>2</td><td>Tu</td><td>52</td></tr><tr><td>2</td><td>Ashanti</td><td>79</td></tr><tr><td>2</td><td>Latasha</td><td>59</td></tr><tr><td>2</td><td>Tena</td><td>92</td></tr><tr><td>2</td><td>Theo</td><td>26</td></tr><tr><td>2</td><td>Diana</td><td>55</td></tr><tr><td>2</td><td>Armand</td><td>84</td></tr><tr><td>2</td><td>Onita</td><td>44</td></tr><tr><td>2</td><td>Felice</td><td>239</td></tr><tr><td>2</td><td>Kanesha</td><td>65</td></tr><tr><td>2</td><td>Dorine</td><td>194</td></tr><tr><td>2</td><td>Regine</td><td>170</td></tr><tr><td>2</td><td>Damien</td><td>58</td></tr><tr><td>2</td><td>Melanie</td><td>73</td></tr><tr><td>2</td><td>Moses</td><td>224</td></tr><tr><td>2</td><td>Bong</td><td>192</td></tr><tr><td>2</td><td>Robena</td><td>123</td></tr><tr><td>2</td><td>Kaylee</td><td>23</td></tr><tr><td>2</td><td>Arvilla</td><td>89</td></tr><tr><td>2</td><td>Yan</td><td>87</td></tr><tr><td>2</td><td>Gertrud</td><td>51</td></tr><tr><td>2</td><td>Thalia</td><td>119</td></tr><tr><td>2</td><td>Fran</td><td>54</td></tr><tr><td>2</td><td>Janetta</td><td>39</td></tr><tr><td>2</td><td>Regenia</td><td>25</td></tr><tr><td>2</td><td>Lissa</td><td>86</td></tr><tr><td>2</td><td>Lucy</td><td>121</td></tr><tr><td>2</td><td>Luz</td><td>120</td></tr><tr><td>2</td><td>Katelin</td><td>69</td></tr><tr><td>2</td><td>Dacia</td><td>117</td></tr><tr><td>2</td><td>Jone</td><td>138</td></tr><tr><td>2</td><td>Guillermina</td><td>35</td></tr><tr><td>2</td><td>Jeni</td><td>124</td></tr><tr><td>2</td><td>Ollie</td><td>110</td></tr><tr><td>2</td><td>Hedwig</td><td>187</td></tr><tr><td>2</td><td>Tommie</td><td>67</td></tr><tr><td>2</td><td>Tenisha</td><td>63</td></tr><tr><td>2</td><td>Cesar</td><td>48</td></tr><tr><td>2</td><td>Denis</td><td>208</td></tr><tr><td>2</td><td>Adelle</td><td>22</td></tr><tr><td>2</td><td>Petronila</td><td>72</td></tr><tr><td>2</td><td>Sharla</td><td>188</td></tr><tr><td>3</td><td>Aleta</td><td>20</td></tr><tr><td>3</td><td>Kasha</td><td>2</td></tr><tr><td>3</td><td>Charolette</td><td>5</td></tr><tr><td>3</td><td>Lyndsey</td><td>6</td></tr><tr><td>3</td><td>Lolita</td><td>56</td></tr><tr><td>3</td><td>Caren</td><td>17</td></tr><tr><td>3</td><td>Latasha</td><td>7</td></tr><tr><td>3</td><td>Robby</td><td>12</td></tr><tr><td>3</td><td>Debra</td><td>1</td></tr><tr><td>3</td><td>Keri</td><td>77</td></tr><tr><td>3</td><td>Jacquline</td><td>8</td></tr><tr><td>3</td><td>Corene</td><td>24</td></tr><tr><td>3</td><td>Lizzette</td><td>19</td></tr><tr><td>3</td><td>Pamelia</td><td>10</td></tr><tr><td>3</td><td>Bridgette</td><td>47</td></tr><tr><td>3</td><td>Cleotilde</td><td>50</td></tr><tr><td>3</td><td>Deshawn</td><td>11</td></tr><tr><td>3</td><td>Bobbie</td><td>64</td></tr><tr><td>3</td><td>Linnie</td><td>15</td></tr><tr><td>3</td><td>Araceli</td><td>32</td></tr><tr><td>3</td><td>Williemae</td><td>31</td></tr><tr><td>3</td><td>Emmitt</td><td>16</td></tr><tr><td>3</td><td>Lorrie</td><td>66</td></tr><tr><td>3</td><td>Monika</td><td>46</td></tr><tr><td>3</td><td>Saturnina</td><td>53</td></tr><tr><td>3</td><td>Georgetta</td><td>18</td></tr><tr><td>3</td><td>Genoveva</td><td>9</td></tr><tr><td>3</td><td>Elinore</td><td>61</td></tr><tr><td>3</td><td>Daryl</td><td>4</td></tr><tr><td>3</td><td>Deloris</td><td>33</td></tr><tr><td>3</td><td>Tobie</td><td>21</td></tr><tr><td>3</td><td>Merlene</td><td>116</td></tr><tr><td>3</td><td>Jayne</td><td>68</td></tr><tr><td>3</td><td>Garry</td><td>14</td></tr><tr><td>3</td><td>Jamaal</td><td>30</td></tr><tr><td>3</td><td>Lashawn</td><td>13</td></tr><tr><td>3</td><td>Ronna</td><td>40</td></tr><tr><td>3</td><td>Mozelle</td><td>43</td></tr><tr><td>3</td><td>Tameka</td><td>3</td></tr></tbody></table></div>"
      ]
     },
     "metadata": {
      "application/vnd.databricks.v1+output": {
       "addedWidgets": {},
       "aggData": [],
       "aggError": "",
       "aggOverflow": false,
       "aggSchema": [],
       "aggSeriesLimitReached": false,
       "aggType": "",
       "arguments": {},
       "columnCustomDisplayInfos": {},
       "data": [
        [
         1,
         "Ezra",
         710
        ],
        [
         1,
         "Erlene",
         557
        ],
        [
         1,
         "Waldo",
         1127
        ],
        [
         1,
         "Ernestina",
         848
        ],
        [
         1,
         "Yang",
         642
        ],
        [
         1,
         "Sonja",
         1414
        ],
        [
         1,
         "Aida",
         937
        ],
        [
         1,
         "Hue",
         729
        ],
        [
         1,
         "Kattie",
         953
        ],
        [
         1,
         "Lee",
         1438
        ],
        [
         1,
         "Bettie",
         328
        ],
        [
         1,
         "Ciera",
         1270
        ],
        [
         1,
         "Nenita",
         774
        ],
        [
         1,
         "Alisia",
         1135
        ],
        [
         1,
         "Angelina",
         267
        ],
        [
         1,
         "Lavona",
         732
        ],
        [
         1,
         "Vinnie",
         709
        ],
        [
         1,
         "Zona",
         1432
        ],
        [
         1,
         "Effie",
         461
        ],
        [
         1,
         "Melodie",
         878
        ],
        [
         1,
         "Sheri",
         357
        ],
        [
         1,
         "Jennette",
         451
        ],
        [
         1,
         "Tonisha",
         1051
        ],
        [
         1,
         "Carmelina",
         1162
        ],
        [
         1,
         "Holly",
         433
        ],
        [
         1,
         "Graig",
         887
        ],
        [
         1,
         "Alita",
         909
        ],
        [
         1,
         "Pearl",
         494
        ],
        [
         1,
         "Priscilla",
         210
        ],
        [
         1,
         "Gilberto",
         310
        ],
        [
         1,
         "Dung",
         1254
        ],
        [
         1,
         "Hortencia",
         316
        ],
        [
         1,
         "Kirstie",
         489
        ],
        [
         1,
         "Son",
         1437
        ],
        [
         1,
         "Flossie",
         255
        ],
        [
         1,
         "Tuyet",
         1152
        ],
        [
         1,
         "Sharell",
         1003
        ],
        [
         1,
         "Janelle",
         647
        ],
        [
         1,
         "Odette",
         1274
        ],
        [
         1,
         "Conchita",
         1057
        ],
        [
         1,
         "Annett",
         301
        ],
        [
         1,
         "Walton",
         129
        ],
        [
         1,
         "Trista",
         1392
        ],
        [
         1,
         "Somer",
         334
        ],
        [
         1,
         "Rodrigo",
         869
        ],
        [
         1,
         "Tilda",
         652
        ],
        [
         1,
         "Nicola",
         1433
        ],
        [
         1,
         "Elouise",
         403
        ],
        [
         1,
         "Han",
         763
        ],
        [
         1,
         "Aubrey",
         1200
        ],
        [
         1,
         "Chasidy",
         447
        ],
        [
         1,
         "Earline",
         445
        ],
        [
         1,
         "Alden",
         1219
        ],
        [
         1,
         "Risa",
         1091
        ],
        [
         1,
         "Aron",
         320
        ],
        [
         1,
         "Myung",
         266
        ],
        [
         1,
         "Hilda",
         882
        ],
        [
         1,
         "Kecia",
         712
        ],
        [
         1,
         "Delmar",
         908
        ],
        [
         1,
         "Delila",
         245
        ],
        [
         1,
         "Cyndi",
         590
        ],
        [
         1,
         "Katia",
         1010
        ],
        [
         1,
         "Romaine",
         750
        ],
        [
         1,
         "Eliz",
         1380
        ],
        [
         1,
         "Douglass",
         434
        ],
        [
         1,
         "Paul",
         607
        ],
        [
         1,
         "Cleopatra",
         140
        ],
        [
         1,
         "Randee",
         1036
        ],
        [
         1,
         "Sebrina",
         716
        ],
        [
         1,
         "Ilda",
         777
        ],
        [
         1,
         "Hae",
         905
        ],
        [
         1,
         "Rikki",
         1165
        ],
        [
         1,
         "Thanh",
         1405
        ],
        [
         1,
         "Jong",
         1232
        ],
        [
         1,
         "Izola",
         435
        ],
        [
         1,
         "Clare",
         467
        ],
        [
         1,
         "Danilo",
         591
        ],
        [
         1,
         "Amina",
         995
        ],
        [
         1,
         "Kami",
         1349
        ],
        [
         1,
         "Lonna",
         901
        ],
        [
         1,
         "Yu",
         490
        ],
        [
         1,
         "Mila",
         1403
        ],
        [
         1,
         "Elenore",
         213
        ],
        [
         1,
         "Tommie",
         1060
        ],
        [
         1,
         "Zenia",
         1044
        ],
        [
         1,
         "Kristofer",
         717
        ],
        [
         1,
         "Catarina",
         544
        ],
        [
         1,
         "Jeannie",
         397
        ],
        [
         1,
         "Rufina",
         1263
        ],
        [
         1,
         "Candelaria",
         374
        ],
        [
         1,
         "Larae",
         715
        ],
        [
         1,
         "Genny",
         736
        ],
        [
         1,
         "Sherise",
         1076
        ],
        [
         1,
         "Elvina",
         1216
        ],
        [
         1,
         "Mathilda",
         680
        ],
        [
         1,
         "Mariam",
         795
        ],
        [
         1,
         "Jesus",
         1230
        ],
        [
         1,
         "Carter",
         537
        ],
        [
         1,
         "Cindi",
         238
        ],
        [
         1,
         "Klara",
         858
        ],
        [
         1,
         "Erlinda",
         871
        ],
        [
         1,
         "Andreas",
         525
        ],
        [
         1,
         "Nicholas",
         142
        ],
        [
         1,
         "Harold",
         1415
        ],
        [
         1,
         "Eliana",
         113
        ],
        [
         1,
         "Edith",
         1294
        ],
        [
         1,
         "Ayana",
         443
        ],
        [
         1,
         "Jana",
         904
        ],
        [
         1,
         "Phebe",
         1193
        ],
        [
         1,
         "Klara",
         184
        ],
        [
         1,
         "Rosanne",
         890
        ],
        [
         1,
         "Narcisa",
         482
        ],
        [
         1,
         "Devin",
         1264
        ],
        [
         1,
         "Lorrie",
         1429
        ],
        [
         1,
         "Londa",
         1426
        ],
        [
         1,
         "Regine",
         1084
        ],
        [
         1,
         "Addie",
         195
        ],
        [
         1,
         "Eldridge",
         746
        ],
        [
         1,
         "Zulema",
         630
        ],
        [
         1,
         "Kelsey",
         1420
        ],
        [
         1,
         "Kaley",
         571
        ],
        [
         1,
         "Cassidy",
         821
        ],
        [
         1,
         "Patrina",
         1164
        ],
        [
         1,
         "Jasper",
         1417
        ],
        [
         1,
         "Kellye",
         837
        ],
        [
         1,
         "Patria",
         1116
        ],
        [
         1,
         "Suellen",
         398
        ],
        [
         1,
         "Roseanne",
         835
        ],
        [
         1,
         "Mi",
         345
        ],
        [
         1,
         "Major",
         779
        ],
        [
         1,
         "Liliana",
         913
        ],
        [
         1,
         "Nanette",
         1251
        ],
        [
         1,
         "Hipolito",
         428
        ],
        [
         1,
         "Delma",
         1396
        ],
        [
         1,
         "Babara",
         174
        ],
        [
         1,
         "Penny",
         1100
        ],
        [
         1,
         "Parthenia",
         1132
        ],
        [
         1,
         "Monty",
         292
        ],
        [
         1,
         "Lynwood",
         866
        ],
        [
         1,
         "Thalia",
         114
        ],
        [
         1,
         "Ezra",
         497
        ],
        [
         1,
         "Emmaline",
         1205
        ],
        [
         1,
         "Reyes",
         806
        ],
        [
         1,
         "Stefani",
         896
        ],
        [
         1,
         "Rozella",
         1050
        ],
        [
         1,
         "Antony",
         593
        ],
        [
         1,
         "Caridad",
         444
        ],
        [
         1,
         "Maribel",
         258
        ],
        [
         1,
         "Travis",
         1296
        ],
        [
         1,
         "Jerome",
         409
        ],
        [
         1,
         "Evelin",
         921
        ],
        [
         1,
         "Lavonda",
         770
        ],
        [
         1,
         "Delaine",
         602
        ],
        [
         1,
         "Cindie",
         1328
        ],
        [
         1,
         "Mila",
         874
        ],
        [
         1,
         "Brittney",
         853
        ],
        [
         1,
         "Bethany",
         1248
        ],
        [
         1,
         "Hilary",
         731
        ],
        [
         1,
         "Donette",
         794
        ],
        [
         1,
         "Domingo",
         868
        ],
        [
         1,
         "Damian",
         189
        ],
        [
         1,
         "Emelda",
         596
        ],
        [
         1,
         "Carroll",
         558
        ],
        [
         1,
         "Donovan",
         1218
        ],
        [
         1,
         "Venus",
         956
        ],
        [
         1,
         "Dorthea",
         441
        ],
        [
         1,
         "Penni",
         1418
        ],
        [
         1,
         "Tomika",
         755
        ],
        [
         1,
         "Phylis",
         854
        ],
        [
         1,
         "Penney",
         1140
        ],
        [
         1,
         "Noble",
         1358
        ],
        [
         1,
         "Lidia",
         499
        ],
        [
         1,
         "Judith",
         215
        ],
        [
         1,
         "Celestine",
         491
        ],
        [
         1,
         "Max",
         521
        ],
        [
         1,
         "Casey",
         218
        ],
        [
         1,
         "Chere",
         321
        ],
        [
         1,
         "Andreas",
         520
        ],
        [
         1,
         "Letitia",
         95
        ],
        [
         1,
         "Camila",
         722
        ],
        [
         1,
         "Victor",
         1287
        ],
        [
         1,
         "Julia",
         865
        ],
        [
         1,
         "Yvone",
         768
        ],
        [
         1,
         "Gayla",
         483
        ],
        [
         1,
         "Leone",
         833
        ],
        [
         1,
         "Vernon",
         1032
        ],
        [
         1,
         "Sunshine",
         439
        ],
        [
         1,
         "Janae",
         143
        ],
        [
         1,
         "Leticia",
         1194
        ],
        [
         1,
         "Merrie",
         1435
        ],
        [
         1,
         "Earline",
         1267
        ],
        [
         1,
         "Chelsey",
         230
        ],
        [
         1,
         "Darcel",
         686
        ],
        [
         1,
         "Rodger",
         365
        ],
        [
         1,
         "Consuela",
         1199
        ],
        [
         1,
         "Alysia",
         701
        ],
        [
         1,
         "Stephen",
         957
        ],
        [
         1,
         "Louis",
         987
        ],
        [
         1,
         "Tiny",
         293
        ],
        [
         1,
         "Carissa",
         1220
        ],
        [
         1,
         "Trinidad",
         1182
        ],
        [
         1,
         "Nichelle",
         101
        ],
        [
         1,
         "Myesha",
         278
        ],
        [
         1,
         "Charleen",
         424
        ],
        [
         1,
         "Corina",
         1335
        ],
        [
         1,
         "Ji",
         1048
        ],
        [
         1,
         "Shantae",
         1040
        ],
        [
         1,
         "Reatha",
         681
        ],
        [
         1,
         "Gabriella",
         1139
        ],
        [
         1,
         "Chantay",
         793
        ],
        [
         1,
         "Consuela",
         1327
        ],
        [
         1,
         "Shanita",
         1027
        ],
        [
         1,
         "Mazie",
         308
        ],
        [
         1,
         "Timothy",
         542
        ],
        [
         1,
         "Sylvie",
         103
        ],
        [
         1,
         "Nita",
         1201
        ],
        [
         1,
         "Florencio",
         653
        ],
        [
         1,
         "Delana",
         930
        ],
        [
         1,
         "Marjory",
         1006
        ],
        [
         1,
         "Aaron",
         1174
        ],
        [
         1,
         "Jame",
         299
        ],
        [
         1,
         "Erlinda",
         721
        ],
        [
         1,
         "Lynne",
         584
        ],
        [
         1,
         "Alejandro",
         534
        ],
        [
         1,
         "Spring",
         765
        ],
        [
         1,
         "Burma",
         471
        ],
        [
         1,
         "Bryce",
         925
        ],
        [
         1,
         "Vallie",
         808
        ],
        [
         1,
         "Lore",
         864
        ],
        [
         1,
         "Kandi",
         430
        ],
        [
         1,
         "Romana",
         656
        ],
        [
         1,
         "Rubin",
         262
        ],
        [
         1,
         "Lurlene",
         1419
        ],
        [
         1,
         "Yun",
         791
        ],
        [
         1,
         "Trinidad",
         997
        ],
        [
         1,
         "Vince",
         420
        ],
        [
         1,
         "Janine",
         877
        ],
        [
         1,
         "Jeni",
         457
        ],
        [
         1,
         "Honey",
         436
        ],
        [
         1,
         "Jessika",
         244
        ],
        [
         1,
         "Angie",
         359
        ],
        [
         1,
         "Pandora",
         1371
        ],
        [
         1,
         "Qiana",
         1226
        ],
        [
         1,
         "Ping",
         1029
        ],
        [
         1,
         "Evelina",
         742
        ],
        [
         1,
         "Janna",
         885
        ],
        [
         1,
         "Shirely",
         1110
        ],
        [
         1,
         "Jerald",
         1004
        ],
        [
         1,
         "Cinda",
         1307
        ],
        [
         1,
         "Ayanna",
         193
        ],
        [
         1,
         "Zella",
         699
        ],
        [
         1,
         "Deanne",
         594
        ],
        [
         1,
         "Merlin",
         693
        ],
        [
         1,
         "Carisa",
         899
        ],
        [
         1,
         "Yahaira",
         819
        ],
        [
         1,
         "Sanora",
         1346
        ],
        [
         1,
         "Letisha",
         886
        ],
        [
         1,
         "Bess",
         464
        ],
        [
         1,
         "Karren",
         1330
        ],
        [
         1,
         "Arielle",
         1054
        ],
        [
         1,
         "Pamala",
         832
        ],
        [
         1,
         "Dionne",
         246
        ],
        [
         1,
         "Mercy",
         1206
        ],
        [
         1,
         "Luciana",
         718
        ],
        [
         1,
         "Mary",
         369
        ],
        [
         1,
         "Damian",
         972
        ],
        [
         1,
         "Tuan",
         679
        ],
        [
         1,
         "Henrietta",
         1102
        ],
        [
         1,
         "Myrtie",
         635
        ],
        [
         1,
         "Scarlet",
         223
        ],
        [
         1,
         "Ileana",
         1196
        ],
        [
         1,
         "Trena",
         661
        ],
        [
         1,
         "Sheila",
         567
        ],
        [
         1,
         "Gilma",
         211
        ],
        [
         1,
         "Novella",
         1332
        ],
        [
         1,
         "Serina",
         456
        ],
        [
         1,
         "Renay",
         1303
        ],
        [
         1,
         "Lavina",
         126
        ],
        [
         1,
         "Patience",
         873
        ],
        [
         1,
         "Lea",
         552
        ],
        [
         1,
         "Rico",
         1034
        ],
        [
         1,
         "Brent",
         964
        ],
        [
         1,
         "Shaunda",
         401
        ],
        [
         1,
         "Bettyann",
         897
        ],
        [
         1,
         "Jennette",
         671
        ],
        [
         1,
         "Minnie",
         1290
        ],
        [
         1,
         "Christopher",
         476
        ],
        [
         1,
         "Tarra",
         1326
        ],
        [
         1,
         "Valery",
         422
        ],
        [
         1,
         "Mallie",
         1141
        ],
        [
         1,
         "Margene",
         613
        ],
        [
         1,
         "Ronald",
         639
        ],
        [
         1,
         "Rosalva",
         867
        ],
        [
         1,
         "Tiana",
         504
        ],
        [
         1,
         "Susannah",
         1253
        ],
        [
         1,
         "Ana",
         619
        ],
        [
         1,
         "Gwendolyn",
         415
        ],
        [
         1,
         "Mechelle",
         1170
        ],
        [
         1,
         "Erlinda",
         127
        ],
        [
         1,
         "Danyell",
         941
        ],
        [
         1,
         "Jerri",
         1062
        ],
        [
         1,
         "Ocie",
         934
        ],
        [
         1,
         "Keturah",
         1150
        ],
        [
         1,
         "Nathalie",
         807
        ],
        [
         1,
         "Kiesha",
         1186
        ],
        [
         1,
         "Kristy",
         822
        ],
        [
         1,
         "Chelsey",
         484
        ],
        [
         1,
         "Clelia",
         199
        ],
        [
         1,
         "Lee",
         1001
        ],
        [
         1,
         "Charlsie",
         1146
        ],
        [
         1,
         "Octavia",
         1359
        ],
        [
         1,
         "Sharika",
         624
        ],
        [
         1,
         "Aimee",
         384
        ],
        [
         1,
         "Abram",
         1224
        ],
        [
         1,
         "Vance",
         508
        ],
        [
         1,
         "Taisha",
         608
        ],
        [
         1,
         "Mandi",
         753
        ],
        [
         1,
         "Felicidad",
         550
        ],
        [
         1,
         "Virgina",
         361
        ],
        [
         1,
         "Elnora",
         809
        ],
        [
         1,
         "Collene",
         372
        ],
        [
         1,
         "Loan",
         1278
        ],
        [
         1,
         "Renato",
         828
        ],
        [
         1,
         "Barton",
         269
        ],
        [
         1,
         "Angele",
         947
        ],
        [
         1,
         "Nicolas",
         1021
        ],
        [
         1,
         "Lory",
         831
        ],
        [
         1,
         "Margert",
         163
        ],
        [
         1,
         "Brianne",
         1262
        ],
        [
         1,
         "Earlean",
         1171
        ],
        [
         1,
         "Abbey",
         338
        ],
        [
         1,
         "Chere",
         1089
        ],
        [
         1,
         "Gertrude",
         393
        ],
        [
         1,
         "Katharine",
         438
        ],
        [
         1,
         "Bernetta",
         1337
        ],
        [
         1,
         "Tanesha",
         875
        ],
        [
         1,
         "Aileen",
         952
        ],
        [
         1,
         "Willis",
         669
        ],
        [
         1,
         "Todd",
         1258
        ],
        [
         1,
         "Elmira",
         1126
        ],
        [
         1,
         "Hollis",
         1112
        ],
        [
         1,
         "Gayle",
         676
        ],
        [
         1,
         "Marcell",
         974
        ],
        [
         1,
         "Agatha",
         769
        ],
        [
         1,
         "Charmain",
         289
        ],
        [
         1,
         "Theresia",
         1078
        ],
        [
         1,
         "Melita",
         737
        ],
        [
         1,
         "Justin",
         319
        ],
        [
         1,
         "Annis",
         975
        ],
        [
         1,
         "Boyce",
         291
        ],
        [
         1,
         "Stacie",
         665
        ],
        [
         1,
         "Rolanda",
         303
        ],
        [
         1,
         "Nathaniel",
         1241
        ],
        [
         1,
         "Lazaro",
         526
        ],
        [
         1,
         "Lynn",
         943
        ],
        [
         1,
         "Elmo",
         549
        ],
        [
         1,
         "Julee",
         148
        ],
        [
         1,
         "Alejandro",
         562
        ],
        [
         1,
         "Kenyetta",
         1187
        ],
        [
         1,
         "Barry",
         1154
        ],
        [
         1,
         "Lanita",
         541
        ],
        [
         1,
         "Ellena",
         529
        ],
        [
         1,
         "Demarcus",
         994
        ],
        [
         1,
         "Wendie",
         1178
        ],
        [
         1,
         "Marguerite",
         983
        ],
        [
         1,
         "Reita",
         515
        ],
        [
         1,
         "Fairy",
         395
        ],
        [
         1,
         "Joi",
         600
        ],
        [
         1,
         "Vanessa",
         1297
        ],
        [
         1,
         "Jayme",
         304
        ],
        [
         1,
         "Farrah",
         1406
        ],
        [
         1,
         "Ivette",
         1444
        ],
        [
         1,
         "Elvia",
         922
        ],
        [
         1,
         "Deandrea",
         1145
        ],
        [
         1,
         "Trang",
         1244
        ],
        [
         1,
         "Mellisa",
         580
        ],
        [
         1,
         "Katherin",
         1172
        ],
        [
         1,
         "Shenna",
         1365
        ],
        [
         1,
         "Allison",
         640
        ],
        [
         1,
         "Genevieve",
         603
        ],
        [
         1,
         "Jaimee",
         283
        ],
        [
         1,
         "Jenny",
         684
        ],
        [
         1,
         "Marina",
         940
        ],
        [
         1,
         "Conrad",
         1316
        ],
        [
         1,
         "Shanice",
         1284
        ],
        [
         1,
         "Edythe",
         196
        ],
        [
         1,
         "Romeo",
         1190
        ],
        [
         1,
         "Alyse",
         798
        ],
        [
         1,
         "Coleen",
         888
        ],
        [
         1,
         "Grisel",
         1364
        ],
        [
         1,
         "Joel",
         818
        ],
        [
         1,
         "Ladawn",
         691
        ],
        [
         1,
         "Buford",
         212
        ],
        [
         1,
         "Arie",
         1345
        ],
        [
         1,
         "Nettie",
         168
        ],
        [
         1,
         "Malisa",
         787
        ],
        [
         1,
         "Sharyn",
         1329
        ],
        [
         1,
         "Sung",
         1268
        ],
        [
         1,
         "Britteny",
         1142
        ],
        [
         1,
         "Trisha",
         336
        ],
        [
         1,
         "Mark",
         1431
        ],
        [
         1,
         "Gabriela",
         1245
        ],
        [
         1,
         "Hildegarde",
         1055
        ],
        [
         1,
         "Vicki",
         723
        ],
        [
         1,
         "Diana",
         978
        ],
        [
         1,
         "Myrtle",
         1180
        ],
        [
         1,
         "Daisy",
         426
        ],
        [
         1,
         "Cassandra",
         452
        ],
        [
         1,
         "Lanora",
         1373
        ],
        [
         1,
         "Josie",
         449
        ],
        [
         1,
         "Nevada",
         1398
        ],
        [
         1,
         "Charlesetta",
         1177
        ],
        [
         1,
         "Myron",
         472
        ],
        [
         1,
         "Jenniffer",
         182
        ],
        [
         1,
         "Lara",
         856
        ],
        [
         1,
         "Tara",
         1239
        ],
        [
         1,
         "Ophelia",
         1413
        ],
        [
         1,
         "Alanna",
         1061
        ],
        [
         1,
         "Basilia",
         559
        ],
        [
         1,
         "Collen",
         466
        ],
        [
         1,
         "Hye",
         1022
        ],
        [
         1,
         "Dewayne",
         1397
        ],
        [
         1,
         "Cira",
         759
        ],
        [
         1,
         "Tina",
         823
        ],
        [
         1,
         "Sheryl",
         1391
        ],
        [
         1,
         "Charleen",
         698
        ],
        [
         1,
         "Siobhan",
         948
        ],
        [
         1,
         "Cassondra",
         342
        ],
        [
         1,
         "Margit",
         965
        ],
        [
         1,
         "Deloris",
         627
        ],
        [
         1,
         "Sebrina",
         1011
        ],
        [
         1,
         "Christiana",
         1362
        ],
        [
         1,
         "Laverna",
         396
        ],
        [
         1,
         "Olympia",
         861
        ],
        [
         1,
         "Angelika",
         1399
        ],
        [
         1,
         "Dollie",
         1423
        ],
        [
         1,
         "Lucilla",
         889
        ],
        [
         1,
         "Alishia",
         916
        ],
        [
         1,
         "Gilberto",
         1129
        ],
        [
         1,
         "Dane",
         1046
        ],
        [
         1,
         "Lorraine",
         1020
        ],
        [
         1,
         "Rudolf",
         519
        ],
        [
         1,
         "Alfredo",
         400
        ],
        [
         1,
         "Hope",
         305
        ],
        [
         1,
         "Wai",
         216
        ],
        [
         1,
         "Joaquin",
         488
        ],
        [
         1,
         "Brigida",
         991
        ],
        [
         1,
         "Latosha",
         459
        ],
        [
         1,
         "Ara",
         1153
        ],
        [
         1,
         "Chauncey",
         1242
        ],
        [
         1,
         "Virgen",
         394
        ],
        [
         1,
         "Alline",
         1295
        ],
        [
         1,
         "Casimira",
         990
        ],
        [
         1,
         "Shanda",
         1411
        ],
        [
         1,
         "Joshua",
         1234
        ],
        [
         1,
         "Dung",
         1133
        ],
        [
         1,
         "Felica",
         844
        ],
        [
         1,
         "Diane",
         1043
        ],
        [
         1,
         "Octavia",
         411
        ],
        [
         1,
         "Herminia",
         1151
        ],
        [
         1,
         "Barton",
         977
        ],
        [
         1,
         "Laure",
         651
        ],
        [
         1,
         "Elanor",
         376
        ],
        [
         1,
         "Daphine",
         1025
        ],
        [
         1,
         "Berna",
         325
        ],
        [
         1,
         "Lucio",
         220
        ],
        [
         1,
         "Ira",
         1090
        ],
        [
         1,
         "Erma",
         256
        ],
        [
         1,
         "Rochell",
         726
        ],
        [
         1,
         "Ernest",
         1440
        ],
        [
         1,
         "Adelaida",
         1261
        ],
        [
         1,
         "Ashleigh",
         1334
        ],
        [
         1,
         "Tayna",
         1430
        ],
        [
         1,
         "Charlene",
         1159
        ],
        [
         1,
         "Ashely",
         200
        ],
        [
         1,
         "Janella",
         448
        ],
        [
         1,
         "Glady",
         1317
        ],
        [
         1,
         "Katherina",
         152
        ],
        [
         1,
         "Kandace",
         1147
        ],
        [
         1,
         "Kandis",
         785
        ],
        [
         1,
         "Lory",
         155
        ],
        [
         1,
         "Lewis",
         645
        ],
        [
         1,
         "Tonda",
         354
        ],
        [
         1,
         "Patsy",
         1064
        ],
        [
         1,
         "Jamika",
         539
        ],
        [
         1,
         "Lynda",
         1107
        ],
        [
         1,
         "Yolando",
         773
        ],
        [
         1,
         "Margaretta",
         973
        ],
        [
         1,
         "Carson",
         1081
        ],
        [
         1,
         "Elma",
         672
        ],
        [
         1,
         "Margorie",
         351
        ],
        [
         1,
         "Tena",
         547
        ],
        [
         1,
         "James",
         920
        ],
        [
         1,
         "Tora",
         1119
        ],
        [
         1,
         "Maximina",
         939
        ],
        [
         1,
         "Nathanael",
         446
        ],
        [
         1,
         "Sherilyn",
         936
        ],
        [
         1,
         "Parthenia",
         1053
        ],
        [
         1,
         "Ester",
         1445
        ],
        [
         1,
         "Louise",
         1101
        ],
        [
         1,
         "Cathey",
         797
        ],
        [
         1,
         "Euna",
         587
        ],
        [
         1,
         "Steve",
         951
        ],
        [
         1,
         "Petronila",
         790
        ],
        [
         1,
         "Cami",
         1002
        ],
        [
         1,
         "Stefany",
         146
        ],
        [
         1,
         "Diana",
         703
        ],
        [
         1,
         "Elenore",
         910
        ],
        [
         1,
         "Valentin",
         644
        ],
        [
         1,
         "Kerrie",
         402
        ],
        [
         1,
         "Trinity",
         268
        ],
        [
         1,
         "Giselle",
         842
        ],
        [
         1,
         "Winfred",
         234
        ],
        [
         1,
         "Piedad",
         1277
        ],
        [
         1,
         "Laureen",
         437
        ],
        [
         1,
         "Iva",
         961
        ],
        [
         1,
         "Miranda",
         1416
        ],
        [
         1,
         "Jeannette",
         1033
        ],
        [
         1,
         "Nubia",
         1256
        ],
        [
         1,
         "Brenda",
         280
        ],
        [
         1,
         "Veronique",
         1368
        ],
        [
         1,
         "Conception",
         410
        ],
        [
         1,
         "Shawnna",
         1210
        ],
        [
         1,
         "Mikel",
         1427
        ],
        [
         1,
         "Frederica",
         595
        ],
        [
         1,
         "Leanna",
         815
        ],
        [
         1,
         "Lea",
         924
        ],
        [
         1,
         "Caleb",
         1125
        ],
        [
         1,
         "Deane",
         179
        ],
        [
         1,
         "Juliane",
         1374
        ],
        [
         1,
         "Carissa",
         177
        ],
        [
         1,
         "Lashunda",
         1424
        ],
        [
         1,
         "Ilona",
         713
        ],
        [
         1,
         "Ashanti",
         1037
        ],
        [
         1,
         "Jamaal",
         1441
        ],
        [
         1,
         "Rayford",
         300
        ],
        [
         1,
         "Kiara",
         633
        ],
        [
         1,
         "Phylicia",
         1387
        ],
        [
         1,
         "Venessa",
         949
        ],
        [
         1,
         "Kenton",
         1385
        ],
        [
         1,
         "Jonna",
         968
        ],
        [
         1,
         "Wilda",
         505
        ],
        [
         1,
         "Yuk",
         112
        ],
        [
         1,
         "Ferne",
         261
        ],
        [
         1,
         "Doreatha",
         733
        ],
        [
         1,
         "Kam",
         162
        ],
        [
         1,
         "Jenine",
         1026
        ],
        [
         1,
         "Emanuel",
         1310
        ],
        [
         1,
         "Gabriel",
         612
        ],
        [
         1,
         "Ira",
         674
        ],
        [
         1,
         "Genoveva",
         1390
        ],
        [
         1,
         "Cristobal",
         254
        ],
        [
         1,
         "Latoya",
         999
        ],
        [
         1,
         "Jackeline",
         1280
        ],
        [
         1,
         "Tomika",
         164
        ],
        [
         1,
         "Micki",
         469
        ],
        [
         1,
         "Jenine",
         551
        ],
        [
         1,
         "Lucas",
         569
        ],
        [
         1,
         "Marisol",
         102
        ],
        [
         1,
         "Vito",
         1158
        ],
        [
         1,
         "Soledad",
         582
        ],
        [
         1,
         "Minerva",
         203
        ],
        [
         1,
         "Erik",
         906
        ],
        [
         1,
         "Ramiro",
         141
        ],
        [
         1,
         "Sally",
         1293
        ],
        [
         1,
         "Douglas",
         804
        ],
        [
         1,
         "Elaina",
         895
        ],
        [
         1,
         "Joy",
         1221
        ],
        [
         1,
         "Valeri",
         486
        ],
        [
         1,
         "Vivian",
         1393
        ],
        [
         1,
         "Latonya",
         427
        ],
        [
         1,
         "Sheba",
         330
        ],
        [
         1,
         "Jeromy",
         235
        ],
        [
         1,
         "Augustus",
         404
        ],
        [
         1,
         "Darcie",
         219
        ],
        [
         1,
         "Oliva",
         748
        ],
        [
         1,
         "Verona",
         236
        ],
        [
         1,
         "Bee",
         1039
        ],
        [
         1,
         "Adam",
         1085
        ],
        [
         1,
         "Yan",
         375
        ],
        [
         1,
         "Terra",
         509
        ],
        [
         1,
         "Kasha",
         727
        ],
        [
         1,
         "Tomeka",
         638
        ],
        [
         1,
         "Birdie",
         465
        ],
        [
         1,
         "Toshia",
         614
        ],
        [
         1,
         "Carina",
         1229
        ],
        [
         1,
         "Dortha",
         263
        ],
        [
         1,
         "Marry",
         555
        ],
        [
         1,
         "Hubert",
         1138
        ],
        [
         1,
         "Kandace",
         358
        ],
        [
         1,
         "Dorine",
         1379
        ],
        [
         1,
         "Inger",
         1356
        ],
        [
         1,
         "Ouida",
         780
        ],
        [
         1,
         "Shauna",
         1299
        ],
        [
         1,
         "Sheila",
         1189
        ],
        [
         1,
         "Verda",
         1302
        ],
        [
         1,
         "Chasidy",
         585
        ],
        [
         1,
         "Herlinda",
         125
        ],
        [
         1,
         "Renna",
         1372
        ],
        [
         1,
         "Kate",
         1347
        ],
        [
         1,
         "Karole",
         1120
        ],
        [
         1,
         "Jenell",
         1207
        ],
        [
         1,
         "Inge",
         535
        ],
        [
         1,
         "Charlyn",
         156
        ],
        [
         1,
         "Enoch",
         1378
        ],
        [
         1,
         "Melani",
         313
        ],
        [
         1,
         "Danny",
         295
        ],
        [
         1,
         "Jennell",
         969
        ],
        [
         1,
         "Junita",
         1166
        ],
        [
         1,
         "Rey",
         115
        ],
        [
         1,
         "Ashton",
         636
        ],
        [
         1,
         "Edda",
         498
        ],
        [
         1,
         "Tonja",
         944
        ],
        [
         1,
         "Lurlene",
         1410
        ],
        [
         1,
         "Romelia",
         460
        ],
        [
         1,
         "Marylyn",
         655
        ],
        [
         1,
         "Bea",
         1128
        ],
        [
         1,
         "Violet",
         98
        ],
        [
         1,
         "Ryan",
         1167
        ],
        [
         1,
         "Gabriel",
         622
        ],
        [
         1,
         "Bart",
         399
        ],
        [
         1,
         "Kaila",
         387
        ],
        [
         1,
         "Deirdre",
         689
        ],
        [
         1,
         "Erna",
         838
        ],
        [
         1,
         "Amparo",
         683
        ],
        [
         1,
         "Annabelle",
         1184
        ],
        [
         1,
         "Raphael",
         1123
        ],
        [
         1,
         "Shanelle",
         1289
        ],
        [
         1,
         "Graig",
         756
        ],
        [
         1,
         "Augustus",
         664
        ],
        [
         1,
         "Ivonne",
         250
        ],
        [
         1,
         "Joe",
         1336
        ],
        [
         1,
         "Khalilah",
         1104
        ],
        [
         1,
         "Marissa",
         570
        ],
        [
         1,
         "Vashti",
         356
        ],
        [
         1,
         "Emmett",
         429
        ],
        [
         1,
         "Eloisa",
         1344
        ],
        [
         1,
         "Jerlene",
         463
        ],
        [
         1,
         "Dorothea",
         692
        ],
        [
         1,
         "Adriene",
         574
        ],
        [
         1,
         "Lanie",
         694
        ],
        [
         1,
         "Marcene",
         1188
        ],
        [
         1,
         "Senaida",
         714
        ],
        [
         1,
         "Omer",
         160
        ],
        [
         1,
         "Hermila",
         751
        ],
        [
         1,
         "Sindy",
         1175
        ],
        [
         1,
         "Corine",
         1185
        ],
        [
         1,
         "Lavette",
         276
        ],
        [
         1,
         "Yvette",
         632
        ],
        [
         1,
         "Matilda",
         579
        ],
        [
         1,
         "Bonita",
         1265
        ],
        [
         1,
         "Donnetta",
         625
        ],
        [
         1,
         "Kermit",
         775
        ],
        [
         1,
         "Edmund",
         830
        ],
        [
         1,
         "Chloe",
         881
        ],
        [
         1,
         "Claudio",
         270
        ],
        [
         1,
         "Everett",
         458
        ],
        [
         1,
         "Deandrea",
         1209
        ],
        [
         1,
         "Brenton",
         1211
        ],
        [
         1,
         "Leila",
         1208
        ],
        [
         1,
         "Aide",
         735
        ],
        [
         1,
         "Kiana",
         226
        ],
        [
         1,
         "Danille",
         577
        ],
        [
         1,
         "Afton",
         527
        ],
        [
         1,
         "Dale",
         1246
        ],
        [
         1,
         "Macie",
         1436
        ],
        [
         1,
         "Kermit",
         675
        ],
        [
         1,
         "Natosha",
         243
        ],
        [
         1,
         "Lorrie",
         390
        ],
        [
         1,
         "Josef",
         352
        ],
        [
         1,
         "Courtney",
         453
        ],
        [
         1,
         "Lloyd",
         752
        ],
        [
         1,
         "Lavonne",
         366
        ],
        [
         1,
         "Ashlee",
         383
        ],
        [
         1,
         "Novella",
         966
        ],
        [
         1,
         "Eli",
         649
        ],
        [
         1,
         "Salena",
         578
        ],
        [
         1,
         "Mable",
         349
        ],
        [
         1,
         "Eliana",
         609
        ],
        [
         1,
         "Shona",
         1276
        ],
        [
         1,
         "Dannette",
         407
        ],
        [
         1,
         "Phuong",
         1260
        ],
        [
         1,
         "Wynona",
         1382
        ],
        [
         1,
         "Willow",
         1087
        ],
        [
         1,
         "Vonda",
         581
        ],
        [
         1,
         "Skye",
         618
        ],
        [
         1,
         "Hortencia",
         914
        ],
        [
         1,
         "Allie",
         1288
        ],
        [
         1,
         "Carlie",
         1217
        ],
        [
         1,
         "Rory",
         553
        ],
        [
         1,
         "Ivette",
         984
        ],
        [
         1,
         "Giovanna",
         993
        ],
        [
         1,
         "Bernardina",
         803
        ],
        [
         1,
         "Cayla",
         623
        ],
        [
         1,
         "Serafina",
         996
        ],
        [
         1,
         "Daina",
         907
        ],
        [
         1,
         "Pearlie",
         688
        ],
        [
         1,
         "Gertha",
         479
        ],
        [
         1,
         "Sherita",
         455
        ],
        [
         1,
         "Arline",
         960
        ],
        [
         1,
         "Jonell",
         599
        ],
        [
         1,
         "Faustino",
         510
        ],
        [
         1,
         "Justina",
         1425
        ],
        [
         1,
         "Carlena",
         1375
        ],
        [
         1,
         "Antonetta",
         659
        ],
        [
         1,
         "Jewel",
         1144
        ],
        [
         1,
         "Terese",
         707
        ],
        [
         1,
         "Angella",
         946
        ],
        [
         1,
         "Lamar",
         1409
        ],
        [
         1,
         "Josh",
         274
        ],
        [
         1,
         "Jennie",
         298
        ],
        [
         1,
         "Dorothea",
         1352
        ],
        [
         1,
         "Catherine",
         485
        ],
        [
         1,
         "Cheree",
         1273
        ],
        [
         1,
         "Kara",
         637
        ],
        [
         1,
         "Cameron",
         312
        ],
        [
         1,
         "Keitha",
         1094
        ],
        [
         1,
         "Rosamaria",
         1257
        ],
        [
         1,
         "Mirella",
         1080
        ],
        [
         1,
         "Tricia",
         560
        ],
        [
         1,
         "Wm",
         572
        ],
        [
         1,
         "Lillia",
         1067
        ],
        [
         1,
         "Danielle",
         227
        ],
        [
         1,
         "Bella",
         1240
        ],
        [
         1,
         "Bronwyn",
         1223
        ],
        [
         1,
         "Boyd",
         132
        ],
        [
         1,
         "Genoveva",
         178
        ],
        [
         1,
         "Selene",
         530
        ],
        [
         1,
         "Obdulia",
         1320
        ],
        [
         1,
         "Cassie",
         1442
        ],
        [
         1,
         "Rodolfo",
         1069
        ],
        [
         1,
         "Vernell",
         556
        ],
        [
         1,
         "Sophia",
         296
        ],
        [
         1,
         "Mark",
         277
        ],
        [
         1,
         "Clarita",
         514
        ],
        [
         1,
         "Deja",
         272
        ],
        [
         1,
         "Yanira",
         340
        ],
        [
         1,
         "Tonja",
         1031
        ],
        [
         1,
         "Candis",
         201
        ],
        [
         1,
         "Laurette",
         967
        ],
        [
         1,
         "Vikki",
         306
        ],
        [
         1,
         "Delbert",
         133
        ],
        [
         1,
         "Garth",
         1285
        ],
        [
         1,
         "Shu",
         496
        ],
        [
         1,
         "Eric",
         620
        ],
        [
         1,
         "Omega",
         1333
        ],
        [
         1,
         "Zoraida",
         417
        ],
        [
         1,
         "Martha",
         812
        ],
        [
         1,
         "Earl",
         257
        ],
        [
         1,
         "Cher",
         1083
        ],
        [
         1,
         "Johnathan",
         259
        ],
        [
         1,
         "Arla",
         1324
        ],
        [
         1,
         "Cheryll",
         1198
        ],
        [
         1,
         "Wes",
         130
        ],
        [
         1,
         "Jasmin",
         543
        ],
        [
         1,
         "Stephanie",
         850
        ],
        [
         1,
         "Rita",
         650
        ],
        [
         1,
         "Edra",
         408
        ],
        [
         1,
         "Lekisha",
         1342
        ],
        [
         1,
         "Yvone",
         1348
        ],
        [
         1,
         "Kimbery",
         1259
        ],
        [
         1,
         "Divina",
         1331
        ],
        [
         1,
         "Mercedez",
         1381
        ],
        [
         1,
         "Irving",
         506
        ],
        [
         1,
         "Toya",
         190
        ],
        [
         1,
         "Angelique",
         776
        ],
        [
         1,
         "Edgar",
         1238
        ],
        [
         1,
         "Rosa",
         516
        ],
        [
         1,
         "Yevette",
         690
        ],
        [
         1,
         "Clementine",
         221
        ],
        [
         1,
         "Crysta",
         898
        ],
        [
         1,
         "Cori",
         1086
        ],
        [
         1,
         "Aleta",
         388
        ],
        [
         1,
         "Stephaine",
         206
        ],
        [
         1,
         "Tona",
         1340
        ],
        [
         1,
         "Jayson",
         481
        ],
        [
         1,
         "Klara",
         377
        ],
        [
         1,
         "Alexis",
         1282
        ],
        [
         1,
         "Tisha",
         1318
        ],
        [
         1,
         "Milagros",
         985
        ],
        [
         1,
         "Lenore",
         1148
        ],
        [
         1,
         "Loraine",
         662
        ],
        [
         1,
         "Heather",
         998
        ],
        [
         1,
         "Maira",
         903
        ],
        [
         1,
         "Delfina",
         955
        ],
        [
         1,
         "Silas",
         872
        ],
        [
         1,
         "Cindi",
         1079
        ],
        [
         1,
         "Kristel",
         825
        ],
        [
         1,
         "Kandace",
         561
        ],
        [
         1,
         "Rudolph",
         1236
        ],
        [
         1,
         "Carita",
         1018
        ],
        [
         1,
         "Nelle",
         386
        ],
        [
         1,
         "Beryl",
         915
        ],
        [
         1,
         "Norine",
         696
        ],
        [
         1,
         "Jenna",
         617
        ],
        [
         1,
         "Virgil",
         286
        ],
        [
         1,
         "Thurman",
         929
        ],
        [
         1,
         "Jeniffer",
         183
        ],
        [
         1,
         "Deangelo",
         1009
        ],
        [
         1,
         "Alina",
         734
        ],
        [
         1,
         "Loni",
         860
        ],
        [
         1,
         "Rutha",
         242
        ],
        [
         1,
         "Loreta",
         167
        ],
        [
         1,
         "Cecilia",
         687
        ],
        [
         1,
         "Vernetta",
         1179
        ],
        [
         1,
         "Shayla",
         1400
        ],
        [
         1,
         "Zulema",
         1228
        ],
        [
         1,
         "Bao",
         1108
        ],
        [
         1,
         "Loreen",
         989
        ],
        [
         1,
         "Neida",
         1339
        ],
        [
         1,
         "Philip",
         1017
        ],
        [
         1,
         "Marget",
         105
        ],
        [
         1,
         "Ulysses",
         586
        ],
        [
         1,
         "Zelda",
         817
        ],
        [
         1,
         "Shasta",
         1121
        ],
        [
         1,
         "Shiloh",
         1000
        ],
        [
         1,
         "Mica",
         1283
        ],
        [
         1,
         "Brigid",
         1214
        ],
        [
         1,
         "Shantel",
         1321
        ],
        [
         1,
         "Rubye",
         573
        ],
        [
         1,
         "Arcelia",
         568
        ],
        [
         1,
         "Vanda",
         988
        ],
        [
         1,
         "Agatha",
         1353
        ],
        [
         1,
         "Johna",
         423
        ],
        [
         1,
         "Lise",
         1233
        ],
        [
         1,
         "Douglass",
         1114
        ],
        [
         1,
         "Laurel",
         744
        ],
        [
         1,
         "Manie",
         841
        ],
        [
         1,
         "Magda",
         249
        ],
        [
         1,
         "Chere",
         992
        ],
        [
         1,
         "Carola",
         725
        ],
        [
         1,
         "Raul",
         106
        ],
        [
         1,
         "Krissy",
         945
        ],
        [
         1,
         "Yang",
         1213
        ],
        [
         1,
         "Buford",
         517
        ],
        [
         1,
         "Marni",
         202
        ],
        [
         1,
         "Bobbi",
         739
        ],
        [
         1,
         "Adam",
         673
        ],
        [
         1,
         "Larraine",
         524
        ],
        [
         1,
         "Shea",
         1308
        ],
        [
         1,
         "Kylee",
         604
        ],
        [
         1,
         "Katheleen",
         271
        ],
        [
         1,
         "Kanesha",
         347
        ],
        [
         1,
         "Armando",
         1105
        ],
        [
         1,
         "Sheree",
         507
        ],
        [
         1,
         "Marlen",
         1281
        ],
        [
         1,
         "Sherril",
         1134
        ],
        [
         1,
         "Pinkie",
         275
        ],
        [
         1,
         "Emmett",
         478
        ],
        [
         1,
         "Kristel",
         918
        ],
        [
         1,
         "Lilliam",
         788
        ],
        [
         1,
         "Genevie",
         935
        ],
        [
         1,
         "Annett",
         1350
        ],
        [
         1,
         "Shila",
         111
        ],
        [
         1,
         "Ulrike",
         1389
        ],
        [
         1,
         "Cesar",
         1386
        ],
        [
         1,
         "Laurence",
         575
        ],
        [
         1,
         "Sandee",
         1402
        ],
        [
         1,
         "Inga",
         857
        ],
        [
         1,
         "Ellsworth",
         450
        ],
        [
         1,
         "Reena",
         332
        ],
        [
         1,
         "Ruthanne",
         919
        ],
        [
         1,
         "Tania",
         743
        ],
        [
         1,
         "Carman",
         1351
        ],
        [
         1,
         "Rozanne",
         1341
        ],
        [
         1,
         "Marcel",
         986
        ],
        [
         1,
         "Houston",
         1272
        ],
        [
         1,
         "Ardelia",
         1103
        ],
        [
         1,
         "India",
         799
        ],
        [
         1,
         "Oralia",
         749
        ],
        [
         1,
         "Leeanne",
         1073
        ],
        [
         1,
         "Le",
         118
        ],
        [
         1,
         "Lolita",
         706
        ],
        [
         1,
         "Jane",
         1088
        ],
        [
         1,
         "Georgeanna",
         418
        ],
        [
         1,
         "Carolann",
         839
        ],
        [
         1,
         "Rayna",
         281
        ],
        [
         1,
         "Nathaniel",
         894
        ],
        [
         1,
         "Kendra",
         1113
        ],
        [
         1,
         "Verdell",
         1155
        ],
        [
         1,
         "Lakenya",
         1292
        ],
        [
         1,
         "Mellie",
         862
        ],
        [
         1,
         "Jimmy",
         1007
        ],
        [
         1,
         "Corene",
         1095
        ],
        [
         1,
         "Desire",
         1383
        ],
        [
         1,
         "Shery",
         616
        ],
        [
         1,
         "Lean",
         855
        ],
        [
         1,
         "Tamela",
         339
        ],
        [
         1,
         "Celestine",
         783
        ],
        [
         1,
         "Bettye",
         1041
        ],
        [
         1,
         "Mariela",
         264
        ],
        [
         1,
         "Sharie",
         327
        ],
        [
         1,
         "Christiane",
         536
        ],
        [
         1,
         "Javier",
         314
        ],
        [
         1,
         "Lezlie",
         852
        ],
        [
         1,
         "Yvonne",
         932
        ],
        [
         1,
         "Taylor",
         634
        ],
        [
         1,
         "Ebony",
         1323
        ],
        [
         1,
         "Marlo",
         503
        ],
        [
         1,
         "Tessie",
         843
        ],
        [
         1,
         "Agustina",
         1181
        ],
        [
         1,
         "Drucilla",
         1149
        ],
        [
         1,
         "Joann",
         928
        ],
        [
         1,
         "Rodrick",
         260
        ],
        [
         1,
         "Ashleigh",
         611
        ],
        [
         1,
         "Lise",
         493
        ],
        [
         1,
         "Ingeborg",
         979
        ],
        [
         1,
         "Johana",
         1377
        ],
        [
         1,
         "Carolyne",
         745
        ],
        [
         1,
         "Roy",
         1271
        ],
        [
         1,
         "Marcy",
         829
        ],
        [
         1,
         "Myrl",
         1266
        ],
        [
         1,
         "Zora",
         1052
        ],
        [
         1,
         "Sandy",
         820
        ],
        [
         1,
         "Jeanett",
         468
        ],
        [
         1,
         "Clementina",
         294
        ],
        [
         1,
         "Sheree",
         1176
        ],
        [
         1,
         "Orval",
         982
        ],
        [
         1,
         "Desmond",
         1131
        ],
        [
         1,
         "Arlena",
         851
        ],
        [
         1,
         "Adriene",
         1252
        ],
        [
         1,
         "Anisha",
         963
        ],
        [
         1,
         "Rosalie",
         796
        ],
        [
         1,
         "Loyce",
         1404
        ],
        [
         1,
         "Miriam",
         171
        ],
        [
         1,
         "Barry",
         290
        ],
        [
         1,
         "Barbera",
         225
        ],
        [
         1,
         "Tammy",
         1063
        ],
        [
         1,
         "Shenna",
         1016
        ],
        [
         1,
         "Laureen",
         324
        ],
        [
         1,
         "Pasquale",
         1045
        ],
        [
         1,
         "Camille",
         705
        ],
        [
         1,
         "Floretta",
         96
        ],
        [
         1,
         "Latricia",
         772
        ],
        [
         1,
         "Claris",
         1319
        ],
        [
         1,
         "Crystle",
         161
        ],
        [
         1,
         "Gustavo",
         1269
        ],
        [
         1,
         "Tempie",
         1422
        ],
        [
         1,
         "Rodney",
         563
        ],
        [
         1,
         "Andy",
         197
        ],
        [
         1,
         "Ann",
         646
        ],
        [
         1,
         "Nestor",
         1363
        ],
        [
         1,
         "Georgeann",
         1203
        ],
        [
         1,
         "Ivelisse",
         810
        ],
        [
         1,
         "Jina",
         370
        ],
        [
         1,
         "Trena",
         1366
        ],
        [
         1,
         "Ginette",
         413
        ],
        [
         1,
         "Majorie",
         337
        ],
        [
         1,
         "Manie",
         241
        ],
        [
         1,
         "Leigh",
         626
        ],
        [
         1,
         "Coleman",
         1024
        ],
        [
         1,
         "Jeffry",
         589
        ],
        [
         1,
         "Benito",
         598
        ],
        [
         1,
         "Lecia",
         766
        ],
        [
         1,
         "Angele",
         528
        ],
        [
         1,
         "Dante",
         1313
        ],
        [
         1,
         "Aisha",
         1058
        ],
        [
         1,
         "Anderson",
         309
        ],
        [
         1,
         "Nichelle",
         1015
        ],
        [
         1,
         "Doris",
         1068
        ],
        [
         1,
         "Adena",
         1023
        ],
        [
         1,
         "Jacalyn",
         346
        ],
        [
         1,
         "Eleanor",
         1408
        ],
        [
         1,
         "Hayden",
         302
        ],
        [
         1,
         "Josephine",
         1012
        ],
        [
         1,
         "Derrick",
         641
        ],
        [
         1,
         "Delana",
         341
        ],
        [
         1,
         "Marquerite",
         173
        ],
        [
         1,
         "Kerrie",
         406
        ],
        [
         1,
         "Efren",
         1160
        ],
        [
         1,
         "Kristen",
         381
        ],
        [
         1,
         "Joeann",
         1314
        ],
        [
         1,
         "Shemeka",
         1071
        ],
        [
         1,
         "Jama",
         1343
        ],
        [
         1,
         "Samual",
         971
        ],
        [
         1,
         "Dori",
         548
        ],
        [
         1,
         "Caroline",
         1111
        ],
        [
         1,
         "Chanel",
         1173
        ],
        [
         1,
         "Kasie",
         251
        ],
        [
         1,
         "Destiny",
         1361
        ],
        [
         1,
         "Jamika",
         615
        ],
        [
         1,
         "Phyllis",
         849
        ],
        [
         1,
         "Saran",
         1030
        ],
        [
         1,
         "Lizette",
         847
        ],
        [
         1,
         "Ross",
         214
        ],
        [
         1,
         "Lamar",
         757
        ],
        [
         1,
         "Kim",
         1183
        ],
        [
         1,
         "Molly",
         229
        ],
        [
         1,
         "Cinthia",
         566
        ],
        [
         1,
         "Gwenn",
         740
        ],
        [
         1,
         "Janie",
         1019
        ],
        [
         1,
         "Alysha",
         368
        ],
        [
         1,
         "Hans",
         144
        ],
        [
         1,
         "Lois",
         724
        ],
        [
         1,
         "Leslie",
         1204
        ],
        [
         1,
         "Brain",
         834
        ],
        [
         1,
         "Maryalice",
         1072
        ],
        [
         1,
         "Bettie",
         564
        ],
        [
         1,
         "Tama",
         1304
        ],
        [
         1,
         "Jutta",
         209
        ],
        [
         1,
         "Justina",
         279
        ],
        [
         1,
         "Charise",
         311
        ],
        [
         1,
         "Yevette",
         440
        ],
        [
         1,
         "Whitney",
         228
        ],
        [
         1,
         "Rochelle",
         385
        ],
        [
         1,
         "Christia",
         317
        ],
        [
         1,
         "Alexandria",
         1354
        ],
        [
         1,
         "Harris",
         205
        ],
        [
         1,
         "Garland",
         480
        ],
        [
         1,
         "Alec",
         475
        ],
        [
         1,
         "Blanca",
         367
        ],
        [
         1,
         "Karl",
         1215
        ],
        [
         1,
         "Veronika",
         824
        ],
        [
         1,
         "Elmo",
         1384
        ],
        [
         1,
         "Karey",
         180
        ],
        [
         1,
         "Melba",
         643
        ],
        [
         1,
         "Lashawna",
         473
        ],
        [
         1,
         "Tajuana",
         545
        ],
        [
         1,
         "Lashandra",
         583
        ],
        [
         1,
         "Fransisca",
         307
        ],
        [
         1,
         "Clorinda",
         1300
        ],
        [
         1,
         "Shirely",
         576
        ],
        [
         1,
         "Garry",
         1038
        ],
        [
         1,
         "Agnes",
         771
        ],
        [
         1,
         "Joshua",
         523
        ],
        [
         1,
         "Whitney",
         513
        ],
        [
         1,
         "Kimberely",
         531
        ],
        [
         1,
         "Ken",
         186
        ],
        [
         1,
         "Lavern",
         474
        ],
        [
         1,
         "Alane",
         442
        ],
        [
         1,
         "Alissa",
         892
        ],
        [
         1,
         "Collen",
         1097
        ],
        [
         1,
         "Mellisa",
         1225
        ],
        [
         1,
         "Devin",
         720
        ],
        [
         1,
         "Leola",
         285
        ],
        [
         1,
         "Kellie",
         100
        ],
        [
         1,
         "Beatris",
         1169
        ],
        [
         1,
         "Florrie",
         1439
        ],
        [
         1,
         "Alma",
         1013
        ],
        [
         1,
         "Julianne",
         859
        ],
        [
         1,
         "Leonore",
         610
        ],
        [
         1,
         "Marisa",
         760
        ],
        [
         1,
         "Raymonde",
         758
        ],
        [
         1,
         "Shanna",
         1028
        ],
        [
         1,
         "Herta",
         344
        ],
        [
         1,
         "Nicki",
         658
        ],
        [
         1,
         "Luis",
         198
        ],
        [
         1,
         "Efren",
         462
        ],
        [
         1,
         "Treasa",
         1098
        ],
        [
         1,
         "Santa",
         1161
        ],
        [
         1,
         "Twana",
         767
        ],
        [
         1,
         "Launa",
         677
        ],
        [
         1,
         "Christoper",
         350
        ],
        [
         1,
         "Meredith",
         149
        ],
        [
         1,
         "Morton",
         704
        ],
        [
         1,
         "Sherie",
         538
        ],
        [
         1,
         "Nakisha",
         1197
        ],
        [
         1,
         "Porter",
         931
        ],
        [
         1,
         "Queenie",
         273
        ],
        [
         1,
         "Laverne",
         685
        ],
        [
         1,
         "Terrell",
         764
        ],
        [
         1,
         "Omega",
         1315
        ],
        [
         1,
         "Lezlie",
         1443
        ],
        [
         1,
         "Lenita",
         1275
        ],
        [
         1,
         "Moira",
         500
        ],
        [
         1,
         "Freddie",
         232
        ],
        [
         1,
         "Julius",
         432
        ],
        [
         1,
         "Renita",
         605
        ],
        [
         1,
         "Olimpia",
         1070
        ],
        [
         1,
         "Anton",
         1157
        ],
        [
         1,
         "Evelina",
         629
        ],
        [
         1,
         "Debbra",
         784
        ],
        [
         1,
         "Tisa",
         353
        ],
        [
         1,
         "Anya",
         222
        ],
        [
         1,
         "Merideth",
         322
        ],
        [
         1,
         "Cyndi",
         392
        ],
        [
         1,
         "Dann",
         1075
        ],
        [
         1,
         "Katina",
         926
        ],
        [
         1,
         "Laci",
         741
        ],
        [
         1,
         "Chantell",
         1195
        ],
        [
         1,
         "Arvilla",
         355
        ],
        [
         1,
         "Marshall",
         816
        ],
        [
         1,
         "Elana",
         1434
        ],
        [
         1,
         "Ophelia",
         801
        ],
        [
         1,
         "Cecil",
         107
        ],
        [
         1,
         "Heide",
         1243
        ],
        [
         1,
         "Shonta",
         863
        ],
        [
         1,
         "Arminda",
         477
        ],
        [
         1,
         "Tajuana",
         781
        ],
        [
         1,
         "Julienne",
         511
        ],
        [
         1,
         "Terrance",
         128
        ],
        [
         1,
         "Wanita",
         139
        ],
        [
         1,
         "Raven",
         1301
        ],
        [
         1,
         "Vernia",
         917
        ],
        [
         1,
         "Dwain",
         870
        ],
        [
         1,
         "Corinna",
         836
        ],
        [
         1,
         "Jule",
         900
        ],
        [
         1,
         "Gilbert",
         840
        ],
        [
         1,
         "Ruth",
         970
        ],
        [
         1,
         "Berneice",
         1008
        ],
        [
         1,
         "Gena",
         1192
        ],
        [
         1,
         "Dione",
         1286
        ],
        [
         1,
         "Shawnda",
         670
        ],
        [
         1,
         "Bernetta",
         147
        ],
        [
         1,
         "Susann",
         284
        ],
        [
         1,
         "Tangela",
         1035
        ],
        [
         1,
         "Jamaal",
         1047
        ],
        [
         1,
         "Luke",
         416
        ],
        [
         1,
         "Hee",
         512
        ],
        [
         1,
         "Hilde",
         554
        ],
        [
         1,
         "Majorie",
         708
        ],
        [
         1,
         "Verna",
         950
        ],
        [
         1,
         "Darren",
         348
        ],
        [
         1,
         "Viva",
         728
        ],
        [
         1,
         "Shery",
         540
        ],
        [
         1,
         "Tonda",
         1096
        ],
        [
         1,
         "Loise",
         470
        ],
        [
         1,
         "Alesia",
         380
        ],
        [
         1,
         "Lavinia",
         1092
        ],
        [
         1,
         "Corrinne",
         778
        ],
        [
         1,
         "Dalia",
         1305
        ],
        [
         1,
         "Catrice",
         648
        ],
        [
         1,
         "Marcelino",
         1049
        ],
        [
         1,
         "Christoper",
         695
        ],
        [
         1,
         "Elease",
         902
        ],
        [
         1,
         "Sharie",
         702
        ],
        [
         1,
         "Starr",
         1369
        ],
        [
         1,
         "Weldon",
         150
        ],
        [
         1,
         "Benny",
         1130
        ],
        [
         1,
         "Larissa",
         1042
        ],
        [
         1,
         "Ghislaine",
         814
        ],
        [
         1,
         "Michel",
         207
        ],
        [
         1,
         "Luciano",
         431
        ],
        [
         1,
         "Lucile",
         1367
        ],
        [
         1,
         "Randee",
         923
        ],
        [
         1,
         "Romaine",
         414
        ],
        [
         1,
         "Ethelyn",
         879
        ],
        [
         1,
         "Tanesha",
         131
        ],
        [
         1,
         "Sommer",
         1143
        ],
        [
         1,
         "Shena",
         122
        ],
        [
         1,
         "Homer",
         518
        ],
        [
         1,
         "Neoma",
         1250
        ],
        [
         1,
         "Cris",
         800
        ],
        [
         1,
         "Rudolf",
         597
        ],
        [
         1,
         "Gilberte",
         883
        ],
        [
         1,
         "Jerri",
         1106
        ],
        [
         1,
         "Willetta",
         1401
        ],
        [
         1,
         "Augustina",
         425
        ],
        [
         1,
         "Keturah",
         288
        ],
        [
         1,
         "Magdalena",
         1325
        ],
        [
         1,
         "Maple",
         962
        ],
        [
         1,
         "Travis",
         495
        ],
        [
         1,
         "Inocencia",
         912
        ],
        [
         1,
         "Greta",
         405
        ],
        [
         1,
         "Calandra",
         668
        ],
        [
         1,
         "Eliseo",
         1395
        ],
        [
         1,
         "Jeffrey",
         1117
        ],
        [
         1,
         "Tammera",
         522
        ],
        [
         1,
         "Alejandrina",
         1093
        ],
        [
         1,
         "Ciera",
         958
        ],
        [
         1,
         "Ehtel",
         628
        ],
        [
         1,
         "Tressa",
         631
        ],
        [
         1,
         "Mellisa",
         265
        ],
        [
         1,
         "Alane",
         158
        ],
        [
         1,
         "Edgar",
         792
        ],
        [
         1,
         "Van",
         360
        ],
        [
         1,
         "Ashlie",
         891
        ],
        [
         1,
         "Thad",
         1355
        ],
        [
         1,
         "Grace",
         487
        ],
        [
         1,
         "Quyen",
         762
        ],
        [
         1,
         "Shara",
         660
        ],
        [
         1,
         "Collene",
         700
        ],
        [
         1,
         "Marilyn",
         329
        ],
        [
         1,
         "Basil",
         621
        ],
        [
         1,
         "Shiela",
         326
        ],
        [
         1,
         "Adrien",
         1412
        ],
        [
         1,
         "Ruthanne",
         1005
        ],
        [
         1,
         "Jovita",
         711
        ],
        [
         1,
         "Kathyrn",
         845
        ],
        [
         1,
         "Jenise",
         154
        ],
        [
         1,
         "Hugh",
         1407
        ],
        [
         1,
         "Stan",
         1279
        ],
        [
         1,
         "Magali",
         1227
        ],
        [
         1,
         "Karren",
         1357
        ],
        [
         1,
         "Christel",
         981
        ],
        [
         1,
         "Krystin",
         419
        ],
        [
         1,
         "Dexter",
         412
        ],
        [
         1,
         "Eliz",
         318
        ],
        [
         1,
         "Tony",
         501
        ],
        [
         1,
         "Lena",
         166
        ],
        [
         1,
         "Cecelia",
         248
        ],
        [
         1,
         "Lina",
         1115
        ],
        [
         1,
         "Ami",
         333
        ],
        [
         1,
         "Jewell",
         1099
        ],
        [
         1,
         "Hubert",
         1124
        ],
        [
         1,
         "Latashia",
         1360
        ],
        [
         1,
         "Arnita",
         682
        ],
        [
         1,
         "Rebbecca",
         1056
        ],
        [
         1,
         "Collin",
         382
        ],
        [
         1,
         "Brittni",
         666
        ],
        [
         1,
         "Whitley",
         1311
        ],
        [
         1,
         "Desiree",
         1065
        ],
        [
         1,
         "Carter",
         980
        ],
        [
         1,
         "Shae",
         108
        ],
        [
         1,
         "Kimberley",
         1376
        ],
        [
         1,
         "Rosalba",
         378
        ],
        [
         1,
         "Barbra",
         1249
        ],
        [
         1,
         "Shonta",
         137
        ],
        [
         1,
         "Gussie",
         1109
        ],
        [
         1,
         "Mariette",
         373
        ],
        [
         1,
         "Shanti",
         811
        ],
        [
         1,
         "Rona",
         1370
        ],
        [
         1,
         "Margret",
         747
        ],
        [
         1,
         "Tad",
         789
        ],
        [
         1,
         "Nanette",
         1388
        ],
        [
         1,
         "Emory",
         938
        ],
        [
         1,
         "Loni",
         371
        ],
        [
         1,
         "Almeta",
         1168
        ],
        [
         1,
         "Christia",
         297
        ],
        [
         1,
         "Ayanna",
         976
        ],
        [
         1,
         "Joni",
         592
        ],
        [
         1,
         "Trudy",
         1298
        ],
        [
         1,
         "Cherelle",
         588
        ],
        [
         1,
         "Muriel",
         247
        ],
        [
         1,
         "Jeniffer",
         323
        ],
        [
         1,
         "Ai",
         1322
        ],
        [
         1,
         "Lurline",
         933
        ],
        [
         1,
         "Edris",
         1421
        ],
        [
         1,
         "Tam",
         1191
        ],
        [
         1,
         "Letty",
         893
        ],
        [
         1,
         "Hue",
         754
        ],
        [
         1,
         "Wallace",
         786
        ],
        [
         1,
         "Brianna",
         134
        ],
        [
         1,
         "Lanelle",
         1074
        ],
        [
         1,
         "Justa",
         492
        ],
        [
         1,
         "George",
         827
        ],
        [
         1,
         "Nicki",
         719
        ],
        [
         1,
         "Terese",
         454
        ],
        [
         1,
         "Carmela",
         1163
        ],
        [
         1,
         "Tereasa",
         1312
        ],
        [
         1,
         "Vernita",
         391
        ],
        [
         1,
         "Shiloh",
         1291
        ],
        [
         1,
         "Alissa",
         663
        ],
        [
         1,
         "Andria",
         730
        ],
        [
         1,
         "Ja",
         1118
        ],
        [
         1,
         "Miquel",
         145
        ],
        [
         1,
         "Dagny",
         565
        ],
        [
         1,
         "Hassan",
         954
        ],
        [
         1,
         "Guillermo",
         927
        ],
        [
         1,
         "Mia",
         532
        ],
        [
         1,
         "Willian",
         884
        ],
        [
         1,
         "Dottie",
         1137
        ],
        [
         1,
         "Genny",
         1394
        ],
        [
         1,
         "Shay",
         826
        ],
        [
         1,
         "Sylvester",
         846
        ],
        [
         1,
         "Kimberli",
         1309
        ],
        [
         1,
         "Ben",
         1255
        ],
        [
         1,
         "Kaci",
         363
        ],
        [
         1,
         "Olevia",
         362
        ],
        [
         1,
         "Jesica",
         343
        ],
        [
         1,
         "Geraldine",
         1222
        ],
        [
         1,
         "Heather",
         1077
        ],
        [
         1,
         "Ricki",
         782
        ],
        [
         1,
         "Raeann",
         1066
        ],
        [
         1,
         "Tammie",
         1247
        ],
        [
         1,
         "Barrett",
         802
        ],
        [
         1,
         "Han",
         1156
        ],
        [
         1,
         "Carmina",
         1202
        ],
        [
         1,
         "Eun",
         654
        ],
        [
         1,
         "Myron",
         678
        ],
        [
         1,
         "Phillis",
         805
        ],
        [
         1,
         "Season",
         1059
        ],
        [
         1,
         "Morton",
         185
        ],
        [
         1,
         "Sam",
         657
        ],
        [
         1,
         "Carie",
         99
        ],
        [
         1,
         "Aleta",
         331
        ],
        [
         1,
         "Scarlet",
         335
        ],
        [
         1,
         "Leif",
         389
        ],
        [
         1,
         "Bev",
         364
        ],
        [
         1,
         "Selene",
         1231
        ],
        [
         1,
         "Eleni",
         252
        ],
        [
         1,
         "Etsuko",
         667
        ],
        [
         1,
         "America",
         1306
        ],
        [
         1,
         "Georgina",
         1235
        ],
        [
         1,
         "Maurice",
         253
        ],
        [
         1,
         "Leland",
         601
        ],
        [
         1,
         "Inez",
         1338
        ],
        [
         1,
         "Randolph",
         282
        ],
        [
         1,
         "Thad",
         546
        ],
        [
         1,
         "Iola",
         421
        ],
        [
         1,
         "Davis",
         942
        ],
        [
         1,
         "Sarah",
         606
        ],
        [
         1,
         "Phebe",
         880
        ],
        [
         1,
         "Fannie",
         738
        ],
        [
         1,
         "Regina",
         159
        ],
        [
         1,
         "Carola",
         1428
        ],
        [
         1,
         "Onita",
         876
        ],
        [
         1,
         "Christel",
         959
        ],
        [
         1,
         "Ling",
         1014
        ],
        [
         1,
         "Cicely",
         1122
        ],
        [
         1,
         "Jaqueline",
         1212
        ],
        [
         1,
         "Luke",
         1237
        ],
        [
         1,
         "Alane",
         697
        ],
        [
         1,
         "Justina",
         315
        ],
        [
         1,
         "Mina",
         379
        ],
        [
         1,
         "Malinda",
         502
        ],
        [
         1,
         "Mireille",
         287
        ],
        [
         1,
         "Neville",
         813
        ],
        [
         1,
         "Alpha",
         204
        ],
        [
         1,
         "Divina",
         1082
        ],
        [
         1,
         "Nikita",
         911
        ],
        [
         1,
         "Kallie",
         1136
        ],
        [
         1,
         "Garret",
         533
        ],
        [
         1,
         "Rod",
         761
        ],
        [
         2,
         "Olevia",
         181
        ],
        [
         2,
         "Tomasa",
         70
        ],
        [
         2,
         "Marvin",
         91
        ],
        [
         2,
         "Joesph",
         151
        ],
        [
         2,
         "Tangela",
         42
        ],
        [
         2,
         "Jenee",
         231
        ],
        [
         2,
         "Graciela",
         191
        ],
        [
         2,
         "Marjorie",
         90
        ],
        [
         2,
         "Lizzie",
         82
        ],
        [
         2,
         "Nova",
         175
        ],
        [
         2,
         "Georgeann",
         74
        ],
        [
         2,
         "Bernita",
         36
        ],
        [
         2,
         "Alica",
         62
        ],
        [
         2,
         "Jeromy",
         165
        ],
        [
         2,
         "Mariana",
         233
        ],
        [
         2,
         "Syreeta",
         29
        ],
        [
         2,
         "Katharina",
         104
        ],
        [
         2,
         "Carley",
         176
        ],
        [
         2,
         "Titus",
         88
        ],
        [
         2,
         "Jeanice",
         28
        ],
        [
         2,
         "Sarai",
         80
        ],
        [
         2,
         "Jeanie",
         172
        ],
        [
         2,
         "Tiesha",
         83
        ],
        [
         2,
         "Zelma",
         38
        ],
        [
         2,
         "Pamala",
         57
        ],
        [
         2,
         "Bennett",
         45
        ],
        [
         2,
         "Melia",
         37
        ],
        [
         2,
         "Dorthey",
         135
        ],
        [
         2,
         "Chi",
         78
        ],
        [
         2,
         "Carola",
         157
        ],
        [
         2,
         "Parker",
         76
        ],
        [
         2,
         "Neil",
         60
        ],
        [
         2,
         "Corrina",
         93
        ],
        [
         2,
         "Sharyn",
         94
        ],
        [
         2,
         "Louanne",
         97
        ],
        [
         2,
         "Abby",
         75
        ],
        [
         2,
         "Elvera",
         237
        ],
        [
         2,
         "Santos",
         27
        ],
        [
         2,
         "Kathie",
         41
        ],
        [
         2,
         "Carline",
         217
        ],
        [
         2,
         "Takako",
         71
        ],
        [
         2,
         "Karla",
         169
        ],
        [
         2,
         "Monica",
         109
        ],
        [
         2,
         "Brittney",
         34
        ],
        [
         2,
         "Sarita",
         136
        ],
        [
         2,
         "Caroll",
         49
        ],
        [
         2,
         "Zina",
         81
        ],
        [
         2,
         "Teofila",
         85
        ],
        [
         2,
         "Le",
         240
        ],
        [
         2,
         "Laraine",
         153
        ],
        [
         2,
         "Tu",
         52
        ],
        [
         2,
         "Ashanti",
         79
        ],
        [
         2,
         "Latasha",
         59
        ],
        [
         2,
         "Tena",
         92
        ],
        [
         2,
         "Theo",
         26
        ],
        [
         2,
         "Diana",
         55
        ],
        [
         2,
         "Armand",
         84
        ],
        [
         2,
         "Onita",
         44
        ],
        [
         2,
         "Felice",
         239
        ],
        [
         2,
         "Kanesha",
         65
        ],
        [
         2,
         "Dorine",
         194
        ],
        [
         2,
         "Regine",
         170
        ],
        [
         2,
         "Damien",
         58
        ],
        [
         2,
         "Melanie",
         73
        ],
        [
         2,
         "Moses",
         224
        ],
        [
         2,
         "Bong",
         192
        ],
        [
         2,
         "Robena",
         123
        ],
        [
         2,
         "Kaylee",
         23
        ],
        [
         2,
         "Arvilla",
         89
        ],
        [
         2,
         "Yan",
         87
        ],
        [
         2,
         "Gertrud",
         51
        ],
        [
         2,
         "Thalia",
         119
        ],
        [
         2,
         "Fran",
         54
        ],
        [
         2,
         "Janetta",
         39
        ],
        [
         2,
         "Regenia",
         25
        ],
        [
         2,
         "Lissa",
         86
        ],
        [
         2,
         "Lucy",
         121
        ],
        [
         2,
         "Luz",
         120
        ],
        [
         2,
         "Katelin",
         69
        ],
        [
         2,
         "Dacia",
         117
        ],
        [
         2,
         "Jone",
         138
        ],
        [
         2,
         "Guillermina",
         35
        ],
        [
         2,
         "Jeni",
         124
        ],
        [
         2,
         "Ollie",
         110
        ],
        [
         2,
         "Hedwig",
         187
        ],
        [
         2,
         "Tommie",
         67
        ],
        [
         2,
         "Tenisha",
         63
        ],
        [
         2,
         "Cesar",
         48
        ],
        [
         2,
         "Denis",
         208
        ],
        [
         2,
         "Adelle",
         22
        ],
        [
         2,
         "Petronila",
         72
        ],
        [
         2,
         "Sharla",
         188
        ],
        [
         3,
         "Aleta",
         20
        ],
        [
         3,
         "Kasha",
         2
        ],
        [
         3,
         "Charolette",
         5
        ],
        [
         3,
         "Lyndsey",
         6
        ],
        [
         3,
         "Lolita",
         56
        ],
        [
         3,
         "Caren",
         17
        ],
        [
         3,
         "Latasha",
         7
        ],
        [
         3,
         "Robby",
         12
        ],
        [
         3,
         "Debra",
         1
        ],
        [
         3,
         "Keri",
         77
        ],
        [
         3,
         "Jacquline",
         8
        ],
        [
         3,
         "Corene",
         24
        ],
        [
         3,
         "Lizzette",
         19
        ],
        [
         3,
         "Pamelia",
         10
        ],
        [
         3,
         "Bridgette",
         47
        ],
        [
         3,
         "Cleotilde",
         50
        ],
        [
         3,
         "Deshawn",
         11
        ],
        [
         3,
         "Bobbie",
         64
        ],
        [
         3,
         "Linnie",
         15
        ],
        [
         3,
         "Araceli",
         32
        ],
        [
         3,
         "Williemae",
         31
        ],
        [
         3,
         "Emmitt",
         16
        ],
        [
         3,
         "Lorrie",
         66
        ],
        [
         3,
         "Monika",
         46
        ],
        [
         3,
         "Saturnina",
         53
        ],
        [
         3,
         "Georgetta",
         18
        ],
        [
         3,
         "Genoveva",
         9
        ],
        [
         3,
         "Elinore",
         61
        ],
        [
         3,
         "Daryl",
         4
        ],
        [
         3,
         "Deloris",
         33
        ],
        [
         3,
         "Tobie",
         21
        ],
        [
         3,
         "Merlene",
         116
        ],
        [
         3,
         "Jayne",
         68
        ],
        [
         3,
         "Garry",
         14
        ],
        [
         3,
         "Jamaal",
         30
        ],
        [
         3,
         "Lashawn",
         13
        ],
        [
         3,
         "Ronna",
         40
        ],
        [
         3,
         "Mozelle",
         43
        ],
        [
         3,
         "Tameka",
         3
        ]
       ],
       "datasetInfos": [],
       "dbfsResultPath": null,
       "isJsonSchema": true,
       "metadata": {},
       "overflow": false,
       "plotOptions": {
        "customPlotOptions": {},
        "displayType": "table",
        "pivotAggregation": null,
        "pivotColumns": null,
        "xColumns": null,
        "yColumns": null
       },
       "removedWidgets": [],
       "schema": [
        {
         "metadata": "{}",
         "name": "quantidade_pedidos",
         "type": "\"long\""
        },
        {
         "metadata": "{}",
         "name": "first_name",
         "type": "\"string\""
        },
        {
         "metadata": "{}",
         "name": "customer_id",
         "type": "\"integer\""
        }
       ],
       "type": "table"
      }
     },
     "output_type": "display_data"
    }
   ],
   "source": [
    "%sql\n",
    "-- verificar quantidade de pedidos por cliente\n",
    "SELECT count(orders.order_id) as quantidade_pedidos, customers.first_name, customers.customer_id\n",
    "FROM customers\n",
    "INNER JOIN orders ON customers.customer_id = orders.customer_id\n",
    "GROUP BY customers.customer_id, customers.first_name\n",
    "ORDER BY COUNT(orders.order_id) \n",
    "\n"
   ]
  },
  {
   "cell_type": "code",
   "execution_count": 0,
   "metadata": {
    "application/vnd.databricks.v1+cell": {
     "cellMetadata": {
      "byteLimit": 2048000,
      "rowLimit": 10000
     },
     "inputWidgets": {},
     "nuid": "fbc676fc-bf81-4ad7-b56e-dbec204edc39",
     "showTitle": false,
     "title": ""
    }
   },
   "outputs": [
    {
     "output_type": "display_data",
     "data": {
      "text/html": [
       "<style scoped>\n",
       "  .table-result-container {\n",
       "    max-height: 300px;\n",
       "    overflow: auto;\n",
       "  }\n",
       "  table, th, td {\n",
       "    border: 1px solid black;\n",
       "    border-collapse: collapse;\n",
       "  }\n",
       "  th, td {\n",
       "    padding: 5px;\n",
       "  }\n",
       "  th {\n",
       "    text-align: left;\n",
       "  }\n",
       "</style><div class='table-result-container'><table class='table-result'><thead style='background-color: white'><tr><th>Quantidade</th><th>city</th></tr></thead><tbody><tr><td>3</td><td>Holbrook</td></tr><tr><td>3</td><td>Los Angeles</td></tr><tr><td>3</td><td>Oakland Gardens</td></tr><tr><td>3</td><td>Albany</td></tr><tr><td>3</td><td>Mcallen</td></tr><tr><td>3</td><td>Fresh Meadows</td></tr><tr><td>3</td><td>Copperas Cove</td></tr><tr><td>2</td><td>San Antonio</td></tr><tr><td>2</td><td>Springfield Gardens</td></tr><tr><td>2</td><td>Far Rockaway</td></tr><tr><td>2</td><td>Mountain View</td></tr><tr><td>1</td><td>Yuba City</td></tr><tr><td>1</td><td>Westbury</td></tr><tr><td>1</td><td>Middle Village</td></tr><tr><td>1</td><td>Tonawanda</td></tr></tbody></table></div>"
      ]
     },
     "metadata": {
      "application/vnd.databricks.v1+output": {
       "addedWidgets": {},
       "aggData": [],
       "aggError": "",
       "aggOverflow": false,
       "aggSchema": [],
       "aggSeriesLimitReached": false,
       "aggType": "",
       "arguments": {},
       "columnCustomDisplayInfos": {},
       "data": [
        [
         3,
         "Holbrook"
        ],
        [
         3,
         "Los Angeles"
        ],
        [
         3,
         "Oakland Gardens"
        ],
        [
         3,
         "Albany"
        ],
        [
         3,
         "Mcallen"
        ],
        [
         3,
         "Fresh Meadows"
        ],
        [
         3,
         "Copperas Cove"
        ],
        [
         2,
         "San Antonio"
        ],
        [
         2,
         "Springfield Gardens"
        ],
        [
         2,
         "Far Rockaway"
        ],
        [
         2,
         "Mountain View"
        ],
        [
         1,
         "Yuba City"
        ],
        [
         1,
         "Westbury"
        ],
        [
         1,
         "Middle Village"
        ],
        [
         1,
         "Tonawanda"
        ]
       ],
       "datasetInfos": [],
       "dbfsResultPath": null,
       "isJsonSchema": true,
       "metadata": {
        "isDbfsCommandResult": false
       },
       "overflow": false,
       "plotOptions": {
        "customPlotOptions": {},
        "displayType": "table",
        "pivotAggregation": null,
        "pivotColumns": null,
        "xColumns": null,
        "yColumns": null
       },
       "removedWidgets": [],
       "schema": [
        {
         "metadata": "{}",
         "name": "Quantidade",
         "type": "\"long\""
        },
        {
         "metadata": "{}",
         "name": "city",
         "type": "\"string\""
        }
       ],
       "type": "table"
      }
     },
     "output_type": "display_data"
    }
   ],
   "source": [
    "%sql\n",
    "-- Quantos Clientes Por Cidade com menos de 4 clientes (Quais cidades precisamos expandir)\n",
    "SELECT COUNT(customer_id) AS Quantidade, city \n",
    "FROM customers\n",
    "GROUP BY city\n",
    "HAVING COUNT(customer_id) < 4\n",
    "ORDER BY Quantidade DESC;\n"
   ]
  },
  {
   "cell_type": "code",
   "execution_count": 0,
   "metadata": {
    "application/vnd.databricks.v1+cell": {
     "cellMetadata": {
      "byteLimit": 2048000,
      "rowLimit": 10000
     },
     "inputWidgets": {},
     "nuid": "03c0a0bc-05ab-486c-89b2-258ffc7c4787",
     "showTitle": false,
     "title": ""
    }
   },
   "outputs": [
    {
     "output_type": "display_data",
     "data": {
      "text/html": [
       "<style scoped>\n",
       "  .table-result-container {\n",
       "    max-height: 300px;\n",
       "    overflow: auto;\n",
       "  }\n",
       "  table, th, td {\n",
       "    border: 1px solid black;\n",
       "    border-collapse: collapse;\n",
       "  }\n",
       "  th, td {\n",
       "    padding: 5px;\n",
       "  }\n",
       "  th {\n",
       "    text-align: left;\n",
       "  }\n",
       "</style><div class='table-result-container'><table class='table-result'><thead style='background-color: white'><tr><th>store_id</th><th>store_name</th><th>phone</th><th>email</th><th>street</th><th>city</th><th>state</th><th>zip_code</th></tr></thead><tbody><tr><td>1</td><td>Santa Cruz Bikes</td><td>(831) 476-4321</td><td>santacruz@bikes.shop</td><td>3700 Portola Drive</td><td>Santa Cruz</td><td>CA</td><td>95060</td></tr><tr><td>2</td><td>Baldwin Bikes</td><td>(516) 379-8888</td><td>baldwin@bikes.shop</td><td>4200 Chestnut Lane</td><td>Baldwin</td><td>NY</td><td>11432</td></tr><tr><td>3</td><td>Rowlett Bikes</td><td>(972) 530-5555</td><td>rowlett@bikes.shop</td><td>8000 Fairway Avenue</td><td>Rowlett</td><td>TX</td><td>75088</td></tr></tbody></table></div>"
      ]
     },
     "metadata": {
      "application/vnd.databricks.v1+output": {
       "addedWidgets": {},
       "aggData": [],
       "aggError": "",
       "aggOverflow": false,
       "aggSchema": [],
       "aggSeriesLimitReached": false,
       "aggType": "",
       "arguments": {},
       "columnCustomDisplayInfos": {},
       "data": [
        [
         1,
         "Santa Cruz Bikes",
         "(831) 476-4321",
         "santacruz@bikes.shop",
         "3700 Portola Drive",
         "Santa Cruz",
         "CA",
         95060
        ],
        [
         2,
         "Baldwin Bikes",
         "(516) 379-8888",
         "baldwin@bikes.shop",
         "4200 Chestnut Lane",
         "Baldwin",
         "NY",
         11432
        ],
        [
         3,
         "Rowlett Bikes",
         "(972) 530-5555",
         "rowlett@bikes.shop",
         "8000 Fairway Avenue",
         "Rowlett",
         "TX",
         75088
        ]
       ],
       "datasetInfos": [],
       "dbfsResultPath": null,
       "isJsonSchema": true,
       "metadata": {
        "isDbfsCommandResult": false
       },
       "overflow": false,
       "plotOptions": {
        "customPlotOptions": {},
        "displayType": "table",
        "pivotAggregation": null,
        "pivotColumns": null,
        "xColumns": null,
        "yColumns": null
       },
       "removedWidgets": [],
       "schema": [
        {
         "metadata": "{}",
         "name": "store_id",
         "type": "\"integer\""
        },
        {
         "metadata": "{}",
         "name": "store_name",
         "type": "\"string\""
        },
        {
         "metadata": "{}",
         "name": "phone",
         "type": "\"string\""
        },
        {
         "metadata": "{}",
         "name": "email",
         "type": "\"string\""
        },
        {
         "metadata": "{}",
         "name": "street",
         "type": "\"string\""
        },
        {
         "metadata": "{}",
         "name": "city",
         "type": "\"string\""
        },
        {
         "metadata": "{}",
         "name": "state",
         "type": "\"string\""
        },
        {
         "metadata": "{}",
         "name": "zip_code",
         "type": "\"integer\""
        }
       ],
       "type": "table"
      }
     },
     "output_type": "display_data"
    }
   ],
   "source": [
    "%sql\n",
    "SELECT * FROM stores"
   ]
  },
  {
   "cell_type": "code",
   "execution_count": 0,
   "metadata": {
    "application/vnd.databricks.v1+cell": {
     "cellMetadata": {
      "byteLimit": 2048000,
      "rowLimit": 10000
     },
     "inputWidgets": {},
     "nuid": "7601dff2-05af-47c3-bea1-ec93ffb29bec",
     "showTitle": false,
     "title": ""
    }
   },
   "outputs": [
    {
     "output_type": "display_data",
     "data": {
      "text/html": [
       "<style scoped>\n",
       "  .table-result-container {\n",
       "    max-height: 300px;\n",
       "    overflow: auto;\n",
       "  }\n",
       "  table, th, td {\n",
       "    border: 1px solid black;\n",
       "    border-collapse: collapse;\n",
       "  }\n",
       "  th, td {\n",
       "    padding: 5px;\n",
       "  }\n",
       "  th {\n",
       "    text-align: left;\n",
       "  }\n",
       "</style><div class='table-result-container'><table class='table-result'><thead style='background-color: white'><tr><th>nome_cliente</th><th>order_id</th><th>customer_id</th><th>order_status</th><th>nome_atendente</th><th>nome_loja</th><th>product_name</th></tr></thead><tbody><tr><td>Edgar</td><td>31</td><td>1238</td><td>4</td><td>Kali</td><td>Rowlett Bikes</td><td>Trek Conduit+ - 2016</td></tr><tr><td>Edgar</td><td>31</td><td>1238</td><td>4</td><td>Kali</td><td>Rowlett Bikes</td><td>Surly Straggler 650b - 2016</td></tr><tr><td>Silas</td><td>50</td><td>872</td><td>4</td><td>Kali</td><td>Rowlett Bikes</td><td>Electra Cruiser 1 (24-Inch) - 2016</td></tr><tr><td>Silas</td><td>50</td><td>872</td><td>4</td><td>Kali</td><td>Rowlett Bikes</td><td>Electra Townie Original 7D EQ - 2016</td></tr><tr><td>Silas</td><td>50</td><td>872</td><td>4</td><td>Kali</td><td>Rowlett Bikes</td><td>Surly Wednesday Frameset - 2016</td></tr><tr><td>Lazaro</td><td>67</td><td>526</td><td>4</td><td>Kali</td><td>Rowlett Bikes</td><td>Pure Cycles William 3-Speed - 2016</td></tr><tr><td>Lazaro</td><td>67</td><td>526</td><td>4</td><td>Kali</td><td>Rowlett Bikes</td><td>Heller Shagamaw Frame - 2016</td></tr><tr><td>Lazaro</td><td>67</td><td>526</td><td>4</td><td>Kali</td><td>Rowlett Bikes</td><td>Electra Cruiser 1 (24-Inch) - 2016</td></tr><tr><td>Lazaro</td><td>67</td><td>526</td><td>4</td><td>Kali</td><td>Rowlett Bikes</td><td>Electra Townie Original 21D - 2016</td></tr><tr><td>Lazaro</td><td>67</td><td>526</td><td>4</td><td>Kali</td><td>Rowlett Bikes</td><td>Electra Girl's Hawaii 1 (20-inch) - 2015/2016</td></tr><tr><td>Cleotilde</td><td>70</td><td>50</td><td>3</td><td>Layla</td><td>Rowlett Bikes</td><td>Electra Townie Original 7D EQ - Women's - 2016</td></tr><tr><td>Cleotilde</td><td>70</td><td>50</td><td>3</td><td>Layla</td><td>Rowlett Bikes</td><td>Pure Cycles Western 3-Speed - Women's - 2015/2016</td></tr><tr><td>Cleotilde</td><td>70</td><td>50</td><td>3</td><td>Layla</td><td>Rowlett Bikes</td><td>Surly Wednesday Frameset - 2016</td></tr><tr><td>Calandra</td><td>89</td><td>668</td><td>4</td><td>Kali</td><td>Rowlett Bikes</td><td>Surly Ice Cream Truck Frameset - 2016</td></tr><tr><td>Calandra</td><td>89</td><td>668</td><td>4</td><td>Kali</td><td>Rowlett Bikes</td><td>Heller Shagamaw Frame - 2016</td></tr><tr><td>Rikki</td><td>99</td><td>1165</td><td>4</td><td>Layla</td><td>Rowlett Bikes</td><td>Electra Girl's Hawaii 1 (20-inch) - 2015/2016</td></tr><tr><td>Rikki</td><td>99</td><td>1165</td><td>4</td><td>Layla</td><td>Rowlett Bikes</td><td>Trek Slash 8 27.5 - 2016</td></tr><tr><td>Rikki</td><td>99</td><td>1165</td><td>4</td><td>Layla</td><td>Rowlett Bikes</td><td>Electra Townie Original 7D - 2015/2016</td></tr><tr><td>Rikki</td><td>99</td><td>1165</td><td>4</td><td>Layla</td><td>Rowlett Bikes</td><td>Electra Cruiser 1 (24-Inch) - 2016</td></tr><tr><td>Rikki</td><td>99</td><td>1165</td><td>4</td><td>Layla</td><td>Rowlett Bikes</td><td>Electra Cruiser 1 (24-Inch) - 2016</td></tr><tr><td>Katheleen</td><td>101</td><td>271</td><td>4</td><td>Kali</td><td>Rowlett Bikes</td><td>Electra Townie Original 21D - 2016</td></tr><tr><td>Valery</td><td>106</td><td>422</td><td>4</td><td>Layla</td><td>Rowlett Bikes</td><td>Electra Cruiser 1 (24-Inch) - 2016</td></tr><tr><td>Valery</td><td>106</td><td>422</td><td>4</td><td>Layla</td><td>Rowlett Bikes</td><td>Pure Cycles Vine 8-Speed - 2016</td></tr><tr><td>Launa</td><td>110</td><td>677</td><td>4</td><td>Layla</td><td>Rowlett Bikes</td><td>Electra Girl's Hawaii 1 (16-inch) - 2015/2016</td></tr><tr><td>Chelsey</td><td>127</td><td>484</td><td>4</td><td>Kali</td><td>Rowlett Bikes</td><td>Trek Fuel EX 8 29 - 2016</td></tr><tr><td>Chelsey</td><td>127</td><td>484</td><td>4</td><td>Kali</td><td>Rowlett Bikes</td><td>Electra Townie Original 7D EQ - Women's - 2016</td></tr><tr><td>Chelsey</td><td>127</td><td>484</td><td>4</td><td>Kali</td><td>Rowlett Bikes</td><td>Pure Cycles Vine 8-Speed - 2016</td></tr><tr><td>Hortencia</td><td>131</td><td>316</td><td>4</td><td>Kali</td><td>Rowlett Bikes</td><td>Electra Townie Original 21D - 2016</td></tr><tr><td>Hortencia</td><td>131</td><td>316</td><td>4</td><td>Kali</td><td>Rowlett Bikes</td><td>Trek Fuel EX 8 29 - 2016</td></tr><tr><td>Hortencia</td><td>131</td><td>316</td><td>4</td><td>Kali</td><td>Rowlett Bikes</td><td>Electra Girl's Hawaii 1 (16-inch) - 2015/2016</td></tr><tr><td>Gena</td><td>136</td><td>1192</td><td>4</td><td>Kali</td><td>Rowlett Bikes</td><td>Surly Wednesday Frameset - 2016</td></tr><tr><td>Gena</td><td>136</td><td>1192</td><td>4</td><td>Kali</td><td>Rowlett Bikes</td><td>Trek Slash 8 27.5 - 2016</td></tr><tr><td>Mozelle</td><td>157</td><td>43</td><td>4</td><td>Kali</td><td>Rowlett Bikes</td><td>Trek Slash 8 27.5 - 2016</td></tr><tr><td>Mozelle</td><td>157</td><td>43</td><td>4</td><td>Kali</td><td>Rowlett Bikes</td><td>Trek Fuel EX 8 29 - 2016</td></tr><tr><td>Dacia</td><td>158</td><td>117</td><td>3</td><td>Layla</td><td>Rowlett Bikes</td><td>Electra Townie Original 21D - 2016</td></tr><tr><td>Dacia</td><td>173</td><td>117</td><td>4</td><td>Kali</td><td>Rowlett Bikes</td><td>Electra Townie Original 7D EQ - Women's - 2016</td></tr><tr><td>Dacia</td><td>173</td><td>117</td><td>4</td><td>Kali</td><td>Rowlett Bikes</td><td>Electra Townie Original 7D EQ - 2016</td></tr><tr><td>Dacia</td><td>173</td><td>117</td><td>4</td><td>Kali</td><td>Rowlett Bikes</td><td>Electra Girl's Hawaii 1 (16-inch) - 2015/2016</td></tr><tr><td>Brenda</td><td>201</td><td>280</td><td>4</td><td>Layla</td><td>Rowlett Bikes</td><td>Pure Cycles Vine 8-Speed - 2016</td></tr><tr><td>Brenda</td><td>201</td><td>280</td><td>4</td><td>Layla</td><td>Rowlett Bikes</td><td>Electra Girl's Hawaii 1 (16-inch) - 2015/2016</td></tr><tr><td>Brenda</td><td>201</td><td>280</td><td>4</td><td>Layla</td><td>Rowlett Bikes</td><td>Trek Slash 8 27.5 - 2016</td></tr><tr><td>Brenda</td><td>201</td><td>280</td><td>4</td><td>Layla</td><td>Rowlett Bikes</td><td>Electra Townie Original 21D - 2016</td></tr><tr><td>Henrietta</td><td>203</td><td>1102</td><td>4</td><td>Layla</td><td>Rowlett Bikes</td><td>Pure Cycles William 3-Speed - 2016</td></tr><tr><td>Henrietta</td><td>203</td><td>1102</td><td>4</td><td>Layla</td><td>Rowlett Bikes</td><td>Pure Cycles Vine 8-Speed - 2016</td></tr><tr><td>Henrietta</td><td>203</td><td>1102</td><td>4</td><td>Layla</td><td>Rowlett Bikes</td><td>Surly Wednesday Frameset - 2016</td></tr><tr><td>Henrietta</td><td>203</td><td>1102</td><td>4</td><td>Layla</td><td>Rowlett Bikes</td><td>Electra Townie Original 7D EQ - 2016</td></tr><tr><td>Tania</td><td>206</td><td>743</td><td>4</td><td>Layla</td><td>Rowlett Bikes</td><td>Electra Townie Original 7D EQ - Women's - 2016</td></tr><tr><td>Tania</td><td>206</td><td>743</td><td>4</td><td>Layla</td><td>Rowlett Bikes</td><td>Electra Townie Original 7D - 2015/2016</td></tr><tr><td>Lilliam</td><td>213</td><td>788</td><td>4</td><td>Kali</td><td>Rowlett Bikes</td><td>Electra Cruiser 1 (24-Inch) - 2016</td></tr><tr><td>Lashawn</td><td>239</td><td>13</td><td>3</td><td>Layla</td><td>Rowlett Bikes</td><td>Trek Fuel EX 8 29 - 2016</td></tr><tr><td>Lashawn</td><td>239</td><td>13</td><td>3</td><td>Layla</td><td>Rowlett Bikes</td><td>Pure Cycles Western 3-Speed - Women's - 2015/2016</td></tr><tr><td>Lashawn</td><td>239</td><td>13</td><td>3</td><td>Layla</td><td>Rowlett Bikes</td><td>Electra Cruiser 1 (24-Inch) - 2016</td></tr><tr><td>Lashawn</td><td>239</td><td>13</td><td>3</td><td>Layla</td><td>Rowlett Bikes</td><td>Electra Townie Original 7D EQ - 2016</td></tr><tr><td>Barrett</td><td>243</td><td>802</td><td>4</td><td>Kali</td><td>Rowlett Bikes</td><td>Trek Slash 8 27.5 - 2016</td></tr><tr><td>Barrett</td><td>243</td><td>802</td><td>4</td><td>Kali</td><td>Rowlett Bikes</td><td>Pure Cycles William 3-Speed - 2016</td></tr><tr><td>Barrett</td><td>243</td><td>802</td><td>4</td><td>Kali</td><td>Rowlett Bikes</td><td>Electra Townie Original 7D - 2015/2016</td></tr><tr><td>Lorrie</td><td>252</td><td>66</td><td>4</td><td>Kali</td><td>Rowlett Bikes</td><td>Pure Cycles William 3-Speed - 2016</td></tr><tr><td>Lorrie</td><td>252</td><td>66</td><td>4</td><td>Kali</td><td>Rowlett Bikes</td><td>Trek Fuel EX 8 29 - 2016</td></tr><tr><td>Lorrie</td><td>252</td><td>66</td><td>4</td><td>Kali</td><td>Rowlett Bikes</td><td>Surly Straggler 650b - 2016</td></tr><tr><td>Matilda</td><td>262</td><td>579</td><td>4</td><td>Layla</td><td>Rowlett Bikes</td><td>Trek Conduit+ - 2016</td></tr><tr><td>Matilda</td><td>262</td><td>579</td><td>4</td><td>Layla</td><td>Rowlett Bikes</td><td>Ritchey Timberwolf Frameset - 2016</td></tr><tr><td>Regina</td><td>282</td><td>159</td><td>4</td><td>Layla</td><td>Rowlett Bikes</td><td>Electra Townie Original 7D EQ - 2016</td></tr><tr><td>Regina</td><td>282</td><td>159</td><td>4</td><td>Layla</td><td>Rowlett Bikes</td><td>Surly Wednesday Frameset - 2016</td></tr><tr><td>Regina</td><td>282</td><td>159</td><td>4</td><td>Layla</td><td>Rowlett Bikes</td><td>Trek Slash 8 27.5 - 2016</td></tr><tr><td>Regina</td><td>282</td><td>159</td><td>4</td><td>Layla</td><td>Rowlett Bikes</td><td>Electra Townie Original 7D EQ - Women's - 2016</td></tr><tr><td>Van</td><td>292</td><td>360</td><td>4</td><td>Layla</td><td>Rowlett Bikes</td><td>Surly Straggler - 2016</td></tr><tr><td>Van</td><td>292</td><td>360</td><td>4</td><td>Layla</td><td>Rowlett Bikes</td><td>Trek Fuel EX 8 29 - 2016</td></tr><tr><td>Van</td><td>292</td><td>360</td><td>4</td><td>Layla</td><td>Rowlett Bikes</td><td>Pure Cycles Western 3-Speed - Women's - 2015/2016</td></tr><tr><td>Janna</td><td>298</td><td>885</td><td>4</td><td>Layla</td><td>Rowlett Bikes</td><td>Electra Girl's Hawaii 1 (16-inch) - 2015/2016</td></tr><tr><td>Janna</td><td>298</td><td>885</td><td>4</td><td>Layla</td><td>Rowlett Bikes</td><td>Trek Conduit+ - 2016</td></tr><tr><td>Janna</td><td>298</td><td>885</td><td>4</td><td>Layla</td><td>Rowlett Bikes</td><td>Electra Girl's Hawaii 1 (16-inch) - 2015/2016</td></tr><tr><td>Janna</td><td>298</td><td>885</td><td>4</td><td>Layla</td><td>Rowlett Bikes</td><td>Surly Ice Cream Truck Frameset - 2016</td></tr><tr><td>Janna</td><td>298</td><td>885</td><td>4</td><td>Layla</td><td>Rowlett Bikes</td><td>Electra Girl's Hawaii 1 (20-inch) - 2015/2016</td></tr><tr><td>Dagny</td><td>313</td><td>565</td><td>4</td><td>Layla</td><td>Rowlett Bikes</td><td>Surly Straggler - 2016</td></tr><tr><td>Dagny</td><td>313</td><td>565</td><td>4</td><td>Layla</td><td>Rowlett Bikes</td><td>Trek Fuel EX 8 29 - 2016</td></tr><tr><td>Bernetta</td><td>326</td><td>1337</td><td>4</td><td>Layla</td><td>Rowlett Bikes</td><td>Electra Girl's Hawaii 1 (20-inch) - 2015/2016</td></tr><tr><td>Bernetta</td><td>326</td><td>1337</td><td>4</td><td>Layla</td><td>Rowlett Bikes</td><td>Electra Townie Original 21D - 2016</td></tr><tr><td>Lynne</td><td>346</td><td>584</td><td>4</td><td>Layla</td><td>Rowlett Bikes</td><td>Pure Cycles Western 3-Speed - Women's - 2015/2016</td></tr><tr><td>Lynne</td><td>346</td><td>584</td><td>4</td><td>Layla</td><td>Rowlett Bikes</td><td>Electra Moto 1 - 2016</td></tr><tr><td>Lynne</td><td>346</td><td>584</td><td>4</td><td>Layla</td><td>Rowlett Bikes</td><td>Electra Cruiser 1 (24-Inch) - 2016</td></tr><tr><td>Lynne</td><td>346</td><td>584</td><td>4</td><td>Layla</td><td>Rowlett Bikes</td><td>Electra Girl's Hawaii 1 (20-inch) - 2015/2016</td></tr><tr><td>Lynne</td><td>346</td><td>584</td><td>4</td><td>Layla</td><td>Rowlett Bikes</td><td>Electra Cruiser 1 (24-Inch) - 2016</td></tr><tr><td>Daina</td><td>348</td><td>907</td><td>4</td><td>Layla</td><td>Rowlett Bikes</td><td>Electra Moto 1 - 2016</td></tr><tr><td>Daina</td><td>348</td><td>907</td><td>4</td><td>Layla</td><td>Rowlett Bikes</td><td>Heller Shagamaw Frame - 2016</td></tr><tr><td>Jenine</td><td>354</td><td>551</td><td>4</td><td>Kali</td><td>Rowlett Bikes</td><td>Pure Cycles William 3-Speed - 2016</td></tr><tr><td>Jenine</td><td>354</td><td>551</td><td>4</td><td>Kali</td><td>Rowlett Bikes</td><td>Electra Cruiser 1 (24-Inch) - 2016</td></tr><tr><td>Sebrina</td><td>355</td><td>1011</td><td>4</td><td>Kali</td><td>Rowlett Bikes</td><td>Electra Girl's Hawaii 1 (16-inch) - 2015/2016</td></tr><tr><td>Sebrina</td><td>355</td><td>1011</td><td>4</td><td>Kali</td><td>Rowlett Bikes</td><td>Electra Townie Original 7D EQ - 2016</td></tr><tr><td>Garry</td><td>357</td><td>14</td><td>3</td><td>Kali</td><td>Rowlett Bikes</td><td>Trek Conduit+ - 2016</td></tr><tr><td>Garry</td><td>357</td><td>14</td><td>3</td><td>Kali</td><td>Rowlett Bikes</td><td>Electra Townie Original 21D - 2016</td></tr><tr><td>Garry</td><td>357</td><td>14</td><td>3</td><td>Kali</td><td>Rowlett Bikes</td><td>Electra Cruiser 1 (24-Inch) - 2016</td></tr><tr><td>Garry</td><td>357</td><td>14</td><td>3</td><td>Kali</td><td>Rowlett Bikes</td><td>Pure Cycles Vine 8-Speed - 2016</td></tr><tr><td>Brain</td><td>363</td><td>834</td><td>4</td><td>Kali</td><td>Rowlett Bikes</td><td>Electra Townie Original 7D EQ - Women's - 2016</td></tr><tr><td>Brain</td><td>363</td><td>834</td><td>4</td><td>Kali</td><td>Rowlett Bikes</td><td>Electra Moto 1 - 2016</td></tr><tr><td>Brain</td><td>363</td><td>834</td><td>4</td><td>Kali</td><td>Rowlett Bikes</td><td>Electra Girl's Hawaii 1 (16-inch) - 2015/2016</td></tr><tr><td>Brain</td><td>363</td><td>834</td><td>4</td><td>Kali</td><td>Rowlett Bikes</td><td>Electra Cruiser 1 (24-Inch) - 2016</td></tr><tr><td>Arielle</td><td>366</td><td>1054</td><td>4</td><td>Layla</td><td>Rowlett Bikes</td><td>Electra Townie Original 7D EQ - 2016</td></tr><tr><td>Arielle</td><td>366</td><td>1054</td><td>4</td><td>Layla</td><td>Rowlett Bikes</td><td>Trek Fuel EX 8 29 - 2016</td></tr><tr><td>Arielle</td><td>366</td><td>1054</td><td>4</td><td>Layla</td><td>Rowlett Bikes</td><td>Electra Cruiser 1 (24-Inch) - 2016</td></tr><tr><td>Alec</td><td>378</td><td>475</td><td>4</td><td>Layla</td><td>Rowlett Bikes</td><td>Electra Townie Original 7D EQ - 2016</td></tr><tr><td>Jennette</td><td>387</td><td>451</td><td>4</td><td>Kali</td><td>Rowlett Bikes</td><td>Pure Cycles Western 3-Speed - Women's - 2015/2016</td></tr><tr><td>Mirella</td><td>388</td><td>1080</td><td>4</td><td>Kali</td><td>Rowlett Bikes</td><td>Surly Straggler 650b - 2016</td></tr><tr><td>Mirella</td><td>388</td><td>1080</td><td>4</td><td>Kali</td><td>Rowlett Bikes</td><td>Ritchey Timberwolf Frameset - 2016</td></tr><tr><td>Mirella</td><td>388</td><td>1080</td><td>4</td><td>Kali</td><td>Rowlett Bikes</td><td>Electra Cruiser 1 (24-Inch) - 2016</td></tr><tr><td>Mirella</td><td>388</td><td>1080</td><td>4</td><td>Kali</td><td>Rowlett Bikes</td><td>Pure Cycles William 3-Speed - 2016</td></tr><tr><td>Shirely</td><td>390</td><td>576</td><td>4</td><td>Layla</td><td>Rowlett Bikes</td><td>Trek Conduit+ - 2016</td></tr><tr><td>Shirely</td><td>390</td><td>576</td><td>4</td><td>Layla</td><td>Rowlett Bikes</td><td>Trek Slash 8 27.5 - 2016</td></tr><tr><td>Shirely</td><td>390</td><td>576</td><td>4</td><td>Layla</td><td>Rowlett Bikes</td><td>Electra Girl's Hawaii 1 (20-inch) - 2015/2016</td></tr><tr><td>Elinore</td><td>391</td><td>61</td><td>3</td><td>Layla</td><td>Rowlett Bikes</td><td>Electra Townie Original 21D - 2016</td></tr><tr><td>Elinore</td><td>391</td><td>61</td><td>3</td><td>Layla</td><td>Rowlett Bikes</td><td>Heller Shagamaw Frame - 2016</td></tr><tr><td>Elinore</td><td>391</td><td>61</td><td>3</td><td>Layla</td><td>Rowlett Bikes</td><td>Trek Remedy 29 Carbon Frameset - 2016</td></tr><tr><td>Keri</td><td>407</td><td>77</td><td>3</td><td>Kali</td><td>Rowlett Bikes</td><td>Heller Shagamaw Frame - 2016</td></tr><tr><td>Keri</td><td>407</td><td>77</td><td>3</td><td>Kali</td><td>Rowlett Bikes</td><td>Electra Townie Original 7D EQ - Women's - 2016</td></tr><tr><td>Garry</td><td>419</td><td>14</td><td>4</td><td>Kali</td><td>Rowlett Bikes</td><td>Trek Conduit+ - 2016</td></tr><tr><td>Laraine</td><td>429</td><td>153</td><td>4</td><td>Kali</td><td>Rowlett Bikes</td><td>Ritchey Timberwolf Frameset - 2016</td></tr><tr><td>Laraine</td><td>429</td><td>153</td><td>4</td><td>Kali</td><td>Rowlett Bikes</td><td>Surly Ice Cream Truck Frameset - 2016</td></tr><tr><td>Laraine</td><td>429</td><td>153</td><td>4</td><td>Kali</td><td>Rowlett Bikes</td><td>Heller Shagamaw Frame - 2016</td></tr><tr><td>Laraine</td><td>429</td><td>153</td><td>4</td><td>Kali</td><td>Rowlett Bikes</td><td>Trek Fuel EX 8 29 - 2016</td></tr><tr><td>Laraine</td><td>429</td><td>153</td><td>4</td><td>Kali</td><td>Rowlett Bikes</td><td>Surly Straggler 650b - 2016</td></tr><tr><td>Keri</td><td>435</td><td>77</td><td>4</td><td>Layla</td><td>Rowlett Bikes</td><td>Pure Cycles Western 3-Speed - Women's - 2015/2016</td></tr><tr><td>Keri</td><td>435</td><td>77</td><td>4</td><td>Layla</td><td>Rowlett Bikes</td><td>Trek Conduit+ - 2016</td></tr><tr><td>Keri</td><td>435</td><td>77</td><td>4</td><td>Layla</td><td>Rowlett Bikes</td><td>Electra Girl's Hawaii 1 (16-inch) - 2015/2016</td></tr><tr><td>Javier</td><td>438</td><td>314</td><td>4</td><td>Kali</td><td>Rowlett Bikes</td><td>Electra Cruiser 1 (24-Inch) - 2016</td></tr><tr><td>Javier</td><td>438</td><td>314</td><td>4</td><td>Kali</td><td>Rowlett Bikes</td><td>Trek Remedy 29 Carbon Frameset - 2016</td></tr><tr><td>Javier</td><td>438</td><td>314</td><td>4</td><td>Kali</td><td>Rowlett Bikes</td><td>Electra Girl's Hawaii 1 (16-inch) - 2015/2016</td></tr><tr><td>Javier</td><td>438</td><td>314</td><td>4</td><td>Kali</td><td>Rowlett Bikes</td><td>Trek Fuel EX 8 29 - 2016</td></tr><tr><td>Vallie</td><td>447</td><td>808</td><td>4</td><td>Kali</td><td>Rowlett Bikes</td><td>Trek Remedy 29 Carbon Frameset - 2016</td></tr><tr><td>Vallie</td><td>447</td><td>808</td><td>4</td><td>Kali</td><td>Rowlett Bikes</td><td>Surly Wednesday Frameset - 2016</td></tr><tr><td>Vallie</td><td>447</td><td>808</td><td>4</td><td>Kali</td><td>Rowlett Bikes</td><td>Trek Fuel EX 8 29 - 2016</td></tr><tr><td>Alanna</td><td>456</td><td>1061</td><td>4</td><td>Layla</td><td>Rowlett Bikes</td><td>Electra Girl's Hawaii 1 (20-inch) - 2015/2016</td></tr><tr><td>Alanna</td><td>456</td><td>1061</td><td>4</td><td>Layla</td><td>Rowlett Bikes</td><td>Pure Cycles Vine 8-Speed - 2016</td></tr><tr><td>Ladawn</td><td>460</td><td>691</td><td>4</td><td>Kali</td><td>Rowlett Bikes</td><td>Electra Girl's Hawaii 1 (16-inch) - 2015/2016</td></tr><tr><td>Ladawn</td><td>460</td><td>691</td><td>4</td><td>Kali</td><td>Rowlett Bikes</td><td>Trek Fuel EX 8 29 - 2016</td></tr><tr><td>Ladawn</td><td>460</td><td>691</td><td>4</td><td>Kali</td><td>Rowlett Bikes</td><td>Pure Cycles Western 3-Speed - Women's - 2015/2016</td></tr><tr><td>Ladawn</td><td>460</td><td>691</td><td>4</td><td>Kali</td><td>Rowlett Bikes</td><td>Pure Cycles William 3-Speed - 2016</td></tr><tr><td>Brent</td><td>463</td><td>964</td><td>4</td><td>Kali</td><td>Rowlett Bikes</td><td>Electra Cruiser 1 (24-Inch) - 2016</td></tr><tr><td>Marry</td><td>467</td><td>555</td><td>4</td><td>Kali</td><td>Rowlett Bikes</td><td>Surly Straggler 650b - 2016</td></tr><tr><td>Marry</td><td>467</td><td>555</td><td>4</td><td>Kali</td><td>Rowlett Bikes</td><td>Pure Cycles Vine 8-Speed - 2016</td></tr><tr><td>Marry</td><td>467</td><td>555</td><td>4</td><td>Kali</td><td>Rowlett Bikes</td><td>Electra Girl's Hawaii 1 (16-inch) - 2015/2016</td></tr><tr><td>Marry</td><td>467</td><td>555</td><td>4</td><td>Kali</td><td>Rowlett Bikes</td><td>Surly Straggler - 2016</td></tr><tr><td>Marry</td><td>467</td><td>555</td><td>4</td><td>Kali</td><td>Rowlett Bikes</td><td>Pure Cycles William 3-Speed - 2016</td></tr><tr><td>Jayson</td><td>481</td><td>481</td><td>4</td><td>Layla</td><td>Rowlett Bikes</td><td>Trek Conduit+ - 2016</td></tr><tr><td>Jayson</td><td>481</td><td>481</td><td>4</td><td>Layla</td><td>Rowlett Bikes</td><td>Electra Townie Original 7D EQ - 2016</td></tr><tr><td>Jayson</td><td>481</td><td>481</td><td>4</td><td>Layla</td><td>Rowlett Bikes</td><td>Electra Cruiser 1 (24-Inch) - 2016</td></tr><tr><td>Carisa</td><td>489</td><td>899</td><td>4</td><td>Kali</td><td>Rowlett Bikes</td><td>Trek Remedy 29 Carbon Frameset - 2016</td></tr><tr><td>Shaunda</td><td>502</td><td>401</td><td>4</td><td>Layla</td><td>Rowlett Bikes</td><td>Electra Cruiser 1 (24-Inch) - 2016</td></tr><tr><td>Merlene</td><td>531</td><td>116</td><td>4</td><td>Kali</td><td>Rowlett Bikes</td><td>Electra Townie Original 7D - 2015/2016</td></tr><tr><td>Merlene</td><td>531</td><td>116</td><td>4</td><td>Kali</td><td>Rowlett Bikes</td><td>Electra Townie Original 21D - 2016</td></tr><tr><td>Merlene</td><td>531</td><td>116</td><td>4</td><td>Kali</td><td>Rowlett Bikes</td><td>Surly Ice Cream Truck Frameset - 2016</td></tr><tr><td>Roseanne</td><td>535</td><td>835</td><td>4</td><td>Layla</td><td>Rowlett Bikes</td><td>Electra Girl's Hawaii 1 (16-inch) - 2015/2016</td></tr><tr><td>Roseanne</td><td>535</td><td>835</td><td>4</td><td>Layla</td><td>Rowlett Bikes</td><td>Electra Moto 1 - 2016</td></tr><tr><td>Roseanne</td><td>535</td><td>835</td><td>4</td><td>Layla</td><td>Rowlett Bikes</td><td>Electra Townie Original 21D - 2016</td></tr><tr><td>Bao</td><td>545</td><td>1108</td><td>4</td><td>Layla</td><td>Rowlett Bikes</td><td>Electra Townie Original 7D EQ - Women's - 2016</td></tr><tr><td>Bao</td><td>545</td><td>1108</td><td>4</td><td>Layla</td><td>Rowlett Bikes</td><td>Electra Townie Original 21D - 2016</td></tr><tr><td>Bao</td><td>545</td><td>1108</td><td>4</td><td>Layla</td><td>Rowlett Bikes</td><td>Surly Ice Cream Truck Frameset - 2016</td></tr><tr><td>Bao</td><td>545</td><td>1108</td><td>4</td><td>Layla</td><td>Rowlett Bikes</td><td>Electra Townie Original 7D - 2015/2016</td></tr><tr><td>Aleta</td><td>547</td><td>20</td><td>4</td><td>Kali</td><td>Rowlett Bikes</td><td>Heller Shagamaw Frame - 2016</td></tr><tr><td>Aleta</td><td>547</td><td>20</td><td>4</td><td>Kali</td><td>Rowlett Bikes</td><td>Trek Conduit+ - 2016</td></tr><tr><td>Aleta</td><td>547</td><td>20</td><td>4</td><td>Kali</td><td>Rowlett Bikes</td><td>Surly Straggler 650b - 2016</td></tr><tr><td>Bobbie</td><td>549</td><td>64</td><td>3</td><td>Layla</td><td>Rowlett Bikes</td><td>Electra Cruiser 1 (24-Inch) - 2016</td></tr><tr><td>Bobbie</td><td>549</td><td>64</td><td>3</td><td>Layla</td><td>Rowlett Bikes</td><td>Trek Slash 8 27.5 - 2016</td></tr><tr><td>Bobbie</td><td>549</td><td>64</td><td>3</td><td>Layla</td><td>Rowlett Bikes</td><td>Surly Wednesday Frameset - 2016</td></tr><tr><td>Bobbie</td><td>549</td><td>64</td><td>3</td><td>Layla</td><td>Rowlett Bikes</td><td>Electra Townie Original 7D EQ - 2016</td></tr><tr><td>Bobbie</td><td>549</td><td>64</td><td>3</td><td>Layla</td><td>Rowlett Bikes</td><td>Electra Moto 1 - 2016</td></tr><tr><td>Liliana</td><td>553</td><td>913</td><td>4</td><td>Layla</td><td>Rowlett Bikes</td><td>Electra Townie Original 21D - 2016</td></tr><tr><td>Liliana</td><td>553</td><td>913</td><td>4</td><td>Layla</td><td>Rowlett Bikes</td><td>Pure Cycles Western 3-Speed - Women's - 2015/2016</td></tr><tr><td>Liliana</td><td>553</td><td>913</td><td>4</td><td>Layla</td><td>Rowlett Bikes</td><td>Electra Townie Original 21D - 2016</td></tr><tr><td>Elinore</td><td>556</td><td>61</td><td>4</td><td>Layla</td><td>Rowlett Bikes</td><td>Trek Fuel EX 8 29 - 2016</td></tr><tr><td>Elinore</td><td>556</td><td>61</td><td>4</td><td>Layla</td><td>Rowlett Bikes</td><td>Electra Townie Original 7D EQ - 2016</td></tr><tr><td>Omer</td><td>579</td><td>160</td><td>4</td><td>Kali</td><td>Rowlett Bikes</td><td>Surly Ice Cream Truck Frameset - 2016</td></tr><tr><td>Omer</td><td>579</td><td>160</td><td>4</td><td>Kali</td><td>Rowlett Bikes</td><td>Trek Slash 8 27.5 - 2016</td></tr><tr><td>Cleotilde</td><td>593</td><td>50</td><td>4</td><td>Kali</td><td>Rowlett Bikes</td><td>Electra Townie Original 7D - 2015/2016</td></tr><tr><td>Cleotilde</td><td>593</td><td>50</td><td>4</td><td>Kali</td><td>Rowlett Bikes</td><td>Surly Wednesday Frameset - 2016</td></tr><tr><td>Tisha</td><td>594</td><td>1318</td><td>4</td><td>Kali</td><td>Rowlett Bikes</td><td>Electra Cruiser 1 (24-Inch) - 2016</td></tr><tr><td>Tisha</td><td>594</td><td>1318</td><td>4</td><td>Kali</td><td>Rowlett Bikes</td><td>Electra Townie Original 7D EQ - 2016</td></tr><tr><td>Tricia</td><td>615</td><td>560</td><td>4</td><td>Layla</td><td>Rowlett Bikes</td><td>Pure Cycles William 3-Speed - 2016</td></tr><tr><td>Tricia</td><td>615</td><td>560</td><td>4</td><td>Layla</td><td>Rowlett Bikes</td><td>Surly Ice Cream Truck Frameset - 2016</td></tr><tr><td>Tricia</td><td>615</td><td>560</td><td>4</td><td>Layla</td><td>Rowlett Bikes</td><td>Electra Girl's Hawaii 1 (20-inch) - 2015/2016</td></tr><tr><td>Tricia</td><td>615</td><td>560</td><td>4</td><td>Layla</td><td>Rowlett Bikes</td><td>Surly Straggler 650b - 2016</td></tr><tr><td>Shantae</td><td>633</td><td>1040</td><td>4</td><td>Kali</td><td>Rowlett Bikes</td><td>Surly Straggler - 2016</td></tr><tr><td>Shantae</td><td>633</td><td>1040</td><td>4</td><td>Kali</td><td>Rowlett Bikes</td><td>Heller Shagamaw Frame - 2016</td></tr><tr><td>Shantae</td><td>633</td><td>1040</td><td>4</td><td>Kali</td><td>Rowlett Bikes</td><td>Electra Cruiser 1 (24-Inch) - 2016</td></tr><tr><td>Shantae</td><td>633</td><td>1040</td><td>4</td><td>Kali</td><td>Rowlett Bikes</td><td>Electra Townie Original 21D - 2016</td></tr><tr><td>Milagros</td><td>652</td><td>985</td><td>4</td><td>Layla</td><td>Rowlett Bikes</td><td>Electra Cruiser Lux 1 - 2017</td></tr><tr><td>Milagros</td><td>652</td><td>985</td><td>4</td><td>Layla</td><td>Rowlett Bikes</td><td>Electra Girl's Hawaii 1 (20-inch) - 2015/2016</td></tr><tr><td>Milagros</td><td>652</td><td>985</td><td>4</td><td>Layla</td><td>Rowlett Bikes</td><td>Sun Bicycles Revolutions 24 - Girl's - 2017</td></tr><tr><td>Milagros</td><td>652</td><td>985</td><td>4</td><td>Layla</td><td>Rowlett Bikes</td><td>Trek Boone 7 - 2017</td></tr><tr><td>Milagros</td><td>652</td><td>985</td><td>4</td><td>Layla</td><td>Rowlett Bikes</td><td>Electra Townie Original 7D - 2017</td></tr><tr><td>Christia</td><td>668</td><td>297</td><td>4</td><td>Kali</td><td>Rowlett Bikes</td><td>Pure Cycles William 3-Speed - 2016</td></tr><tr><td>Christia</td><td>668</td><td>297</td><td>4</td><td>Kali</td><td>Rowlett Bikes</td><td>Trek Emonda S 4 - 2017</td></tr><tr><td>Bobbie</td><td>673</td><td>64</td><td>4</td><td>Layla</td><td>Rowlett Bikes</td><td>Electra Cruiser 1 (24-Inch) - 2016</td></tr><tr><td>Bobbie</td><td>673</td><td>64</td><td>4</td><td>Layla</td><td>Rowlett Bikes</td><td>Heller Shagamaw Frame - 2016</td></tr><tr><td>Bobbie</td><td>673</td><td>64</td><td>4</td><td>Layla</td><td>Rowlett Bikes</td><td>Haro Flightline Two 26 Plus - 2017</td></tr><tr><td>Bobbie</td><td>673</td><td>64</td><td>4</td><td>Layla</td><td>Rowlett Bikes</td><td>Sun Bicycles Revolutions 24 - 2017</td></tr><tr><td>Ivonne</td><td>678</td><td>250</td><td>4</td><td>Layla</td><td>Rowlett Bikes</td><td>Haro Flightline One ST - 2017</td></tr><tr><td>Ivonne</td><td>678</td><td>250</td><td>4</td><td>Layla</td><td>Rowlett Bikes</td><td>Surly Steamroller - 2017</td></tr><tr><td>Jasmin</td><td>698</td><td>543</td><td>4</td><td>Kali</td><td>Rowlett Bikes</td><td>Trek Fuel EX 9.8 29 - 2017</td></tr><tr><td>Jasmin</td><td>698</td><td>543</td><td>4</td><td>Kali</td><td>Rowlett Bikes</td><td>Electra Townie Original 21D - 2016</td></tr><tr><td>Jasmin</td><td>698</td><td>543</td><td>4</td><td>Kali</td><td>Rowlett Bikes</td><td>Electra Moto 3i (20-inch) - Boy's - 2017</td></tr><tr><td>Ciera</td><td>699</td><td>958</td><td>4</td><td>Layla</td><td>Rowlett Bikes</td><td>Electra Amsterdam Original 3i Ladies' - 2017</td></tr><tr><td>Ciera</td><td>699</td><td>958</td><td>4</td><td>Layla</td><td>Rowlett Bikes</td><td>Electra Townie Original 21D - 2016</td></tr><tr><td>Ciera</td><td>699</td><td>958</td><td>4</td><td>Layla</td><td>Rowlett Bikes</td><td>Surly Wednesday - 2017</td></tr><tr><td>Ciera</td><td>699</td><td>958</td><td>4</td><td>Layla</td><td>Rowlett Bikes</td><td>Trek Emonda S 4 - 2017</td></tr><tr><td>Ciera</td><td>699</td><td>958</td><td>4</td><td>Layla</td><td>Rowlett Bikes</td><td>Sun Bicycles Cruz 3 - 2017</td></tr><tr><td>Stephanie</td><td>701</td><td>850</td><td>4</td><td>Layla</td><td>Rowlett Bikes</td><td>Sun Bicycles Lil Kitt'n - 2017</td></tr><tr><td>Marquerite</td><td>712</td><td>173</td><td>4</td><td>Layla</td><td>Rowlett Bikes</td><td>Trek Fuel EX 8 29 - 2016</td></tr><tr><td>Marquerite</td><td>712</td><td>173</td><td>4</td><td>Layla</td><td>Rowlett Bikes</td><td>\"Electra Girl's Hawaii 1 16\"\" - 2017\"</td></tr><tr><td>Marquerite</td><td>712</td><td>173</td><td>4</td><td>Layla</td><td>Rowlett Bikes</td><td>Sun Bicycles Spider 3i - 2017</td></tr><tr><td>Marquerite</td><td>712</td><td>173</td><td>4</td><td>Layla</td><td>Rowlett Bikes</td><td>Electra Cruiser Lux 1 - 2017</td></tr><tr><td>Marquerite</td><td>712</td><td>173</td><td>4</td><td>Layla</td><td>Rowlett Bikes</td><td>Haro SR 1.1 - 2017</td></tr><tr><td>Michel</td><td>713</td><td>207</td><td>4</td><td>Kali</td><td>Rowlett Bikes</td><td>Sun Bicycles Cruz 3 - Women's - 2017</td></tr><tr><td>Michel</td><td>713</td><td>207</td><td>4</td><td>Kali</td><td>Rowlett Bikes</td><td>Surly Ogre Frameset - 2017</td></tr><tr><td>Michel</td><td>713</td><td>207</td><td>4</td><td>Kali</td><td>Rowlett Bikes</td><td>Electra Savannah 3i (20-inch) - Girl's - 2017</td></tr><tr><td>Michel</td><td>713</td><td>207</td><td>4</td><td>Kali</td><td>Rowlett Bikes</td><td>Haro Shredder 20 Girls - 2017</td></tr><tr><td>Maple</td><td>727</td><td>962</td><td>4</td><td>Layla</td><td>Rowlett Bikes</td><td>Electra Amsterdam Original 3i Ladies' - 2017</td></tr><tr><td>Maple</td><td>727</td><td>962</td><td>4</td><td>Layla</td><td>Rowlett Bikes</td><td>Sun Bicycles Biscayne Tandem CB - 2017</td></tr><tr><td>Elenore</td><td>731</td><td>910</td><td>4</td><td>Layla</td><td>Rowlett Bikes</td><td>Trek X-Caliber 8 - 2017</td></tr><tr><td>Elenore</td><td>731</td><td>910</td><td>4</td><td>Layla</td><td>Rowlett Bikes</td><td>Sun Bicycles Revolutions 24 - Girl's - 2017</td></tr><tr><td>Elenore</td><td>731</td><td>910</td><td>4</td><td>Layla</td><td>Rowlett Bikes</td><td>Trek Domane SL 6 - 2017</td></tr><tr><td>Elenore</td><td>731</td><td>910</td><td>4</td><td>Layla</td><td>Rowlett Bikes</td><td>Trek Precaliber 24 (21-Speed) - Girls - 2017</td></tr><tr><td>Maximina</td><td>734</td><td>939</td><td>4</td><td>Layla</td><td>Rowlett Bikes</td><td>Sun Bicycles Lil Bolt Type-R - 2017</td></tr><tr><td>Maximina</td><td>734</td><td>939</td><td>4</td><td>Layla</td><td>Rowlett Bikes</td><td>Sun Bicycles Lil Kitt'n - 2017</td></tr><tr><td>Maximina</td><td>734</td><td>939</td><td>4</td><td>Layla</td><td>Rowlett Bikes</td><td>Surly Wednesday Frameset - 2016</td></tr><tr><td>Maximina</td><td>734</td><td>939</td><td>4</td><td>Layla</td><td>Rowlett Bikes</td><td>Electra Townie Original 7D EQ - 2016</td></tr><tr><td>Aleta</td><td>735</td><td>20</td><td>3</td><td>Layla</td><td>Rowlett Bikes</td><td>Surly Straggler - 2016</td></tr><tr><td>Aleta</td><td>735</td><td>20</td><td>3</td><td>Layla</td><td>Rowlett Bikes</td><td>Sun Bicycles Atlas X-Type - 2017</td></tr><tr><td>Thalia</td><td>741</td><td>119</td><td>4</td><td>Kali</td><td>Rowlett Bikes</td><td>Trek Domane SLR 6 Disc - 2017</td></tr><tr><td>Thalia</td><td>741</td><td>119</td><td>4</td><td>Kali</td><td>Rowlett Bikes</td><td>Electra Cruiser 1 (24-Inch) - 2016</td></tr><tr><td>Thalia</td><td>741</td><td>119</td><td>4</td><td>Kali</td><td>Rowlett Bikes</td><td>\"Electra Girl's Hawaii 1 16\"\" - 2017\"</td></tr><tr><td>Thalia</td><td>741</td><td>119</td><td>4</td><td>Kali</td><td>Rowlett Bikes</td><td>Trek Madone 9.2 - 2017</td></tr><tr><td>Holly</td><td>742</td><td>433</td><td>4</td><td>Layla</td><td>Rowlett Bikes</td><td>Haro SR 1.2 - 2017</td></tr><tr><td>Holly</td><td>742</td><td>433</td><td>4</td><td>Layla</td><td>Rowlett Bikes</td><td>Sun Bicycles Cruz 7 - 2017</td></tr><tr><td>Maryalice</td><td>748</td><td>1072</td><td>4</td><td>Kali</td><td>Rowlett Bikes</td><td>Sun Bicycles Spider 3i - 2017</td></tr><tr><td>Maryalice</td><td>748</td><td>1072</td><td>4</td><td>Kali</td><td>Rowlett Bikes</td><td>Haro Shift R3 - 2017</td></tr><tr><td>Maryalice</td><td>748</td><td>1072</td><td>4</td><td>Kali</td><td>Rowlett Bikes</td><td>Trek Boy's Kickster - 2015/2017</td></tr><tr><td>Maryalice</td><td>748</td><td>1072</td><td>4</td><td>Kali</td><td>Rowlett Bikes</td><td>Electra Townie Original 7D EQ - 2016</td></tr><tr><td>Freddie</td><td>750</td><td>232</td><td>4</td><td>Kali</td><td>Rowlett Bikes</td><td>Sun Bicycles Biscayne Tandem CB - 2017</td></tr><tr><td>Freddie</td><td>750</td><td>232</td><td>4</td><td>Kali</td><td>Rowlett Bikes</td><td>Sun Bicycles Biscayne Tandem 7 - 2017</td></tr><tr><td>Kattie</td><td>758</td><td>953</td><td>4</td><td>Layla</td><td>Rowlett Bikes</td><td>Sun Bicycles Cruz 7 - Women's - 2017</td></tr><tr><td>Kattie</td><td>758</td><td>953</td><td>4</td><td>Layla</td><td>Rowlett Bikes</td><td>Sun Bicycles Lil Bolt Type-R - 2017</td></tr><tr><td>Kattie</td><td>758</td><td>953</td><td>4</td><td>Layla</td><td>Rowlett Bikes</td><td>Surly Big Dummy Frameset - 2017</td></tr><tr><td>Kattie</td><td>758</td><td>953</td><td>4</td><td>Layla</td><td>Rowlett Bikes</td><td>Electra Sugar Skulls 1 (20-inch) - Girl's - 2017</td></tr><tr><td>Kattie</td><td>758</td><td>953</td><td>4</td><td>Layla</td><td>Rowlett Bikes</td><td>Electra Girl's Hawaii 1 (16-inch) - 2015/2016</td></tr><tr><td>Giselle</td><td>763</td><td>842</td><td>4</td><td>Layla</td><td>Rowlett Bikes</td><td>Sun Bicycles Streamway 3 - 2017</td></tr><tr><td>Giselle</td><td>763</td><td>842</td><td>4</td><td>Layla</td><td>Rowlett Bikes</td><td>Trek Precaliber 16 Girls - 2017</td></tr><tr><td>Dorthey</td><td>770</td><td>135</td><td>4</td><td>Layla</td><td>Rowlett Bikes</td><td>Surly Straggler 650b - 2016</td></tr><tr><td>Dorthey</td><td>770</td><td>135</td><td>4</td><td>Layla</td><td>Rowlett Bikes</td><td>Sun Bicycles Streamway 3 - 2017</td></tr><tr><td>Dorthey</td><td>770</td><td>135</td><td>4</td><td>Layla</td><td>Rowlett Bikes</td><td>Trek Fuel EX 5 27.5 Plus - 2017</td></tr><tr><td>Dorthey</td><td>770</td><td>135</td><td>4</td><td>Layla</td><td>Rowlett Bikes</td><td>Sun Bicycles Drifter 7 - 2017</td></tr><tr><td>Lolita</td><td>778</td><td>56</td><td>3</td><td>Layla</td><td>Rowlett Bikes</td><td>Haro Downtown 16 - 2017</td></tr><tr><td>Lolita</td><td>778</td><td>56</td><td>3</td><td>Layla</td><td>Rowlett Bikes</td><td>Electra Townie Original 7D - 2017</td></tr><tr><td>Collene</td><td>787</td><td>700</td><td>4</td><td>Layla</td><td>Rowlett Bikes</td><td>Sun Bicycles Revolutions 24 - 2017</td></tr><tr><td>Collene</td><td>787</td><td>700</td><td>4</td><td>Layla</td><td>Rowlett Bikes</td><td>Trek Silque SLR 8 Women's - 2017</td></tr><tr><td>Nestor</td><td>788</td><td>1363</td><td>4</td><td>Layla</td><td>Rowlett Bikes</td><td>Electra Cruiser 1 (24-Inch) - 2016</td></tr><tr><td>Nestor</td><td>788</td><td>1363</td><td>4</td><td>Layla</td><td>Rowlett Bikes</td><td>Pure Cycles William 3-Speed - 2016</td></tr><tr><td>Nestor</td><td>788</td><td>1363</td><td>4</td><td>Layla</td><td>Rowlett Bikes</td><td>Trek Emonda S 4 - 2017</td></tr><tr><td>Jenise</td><td>796</td><td>154</td><td>4</td><td>Layla</td><td>Rowlett Bikes</td><td>Surly Ice Cream Truck Frameset - 2016</td></tr><tr><td>Armando</td><td>803</td><td>1105</td><td>4</td><td>Kali</td><td>Rowlett Bikes</td><td>Trek Boy's Kickster - 2015/2017</td></tr><tr><td>Armando</td><td>803</td><td>1105</td><td>4</td><td>Kali</td><td>Rowlett Bikes</td><td>Electra Townie Original 7D - 2017</td></tr><tr><td>Armando</td><td>803</td><td>1105</td><td>4</td><td>Kali</td><td>Rowlett Bikes</td><td>Surly Steamroller - 2017</td></tr><tr><td>Armando</td><td>803</td><td>1105</td><td>4</td><td>Kali</td><td>Rowlett Bikes</td><td>Sun Bicycles Drifter 7 - Women's - 2017</td></tr><tr><td>Laraine</td><td>810</td><td>153</td><td>3</td><td>Kali</td><td>Rowlett Bikes</td><td>Electra Girl's Hawaii 1 (16-inch) - 2015/2016</td></tr><tr><td>Laraine</td><td>810</td><td>153</td><td>3</td><td>Kali</td><td>Rowlett Bikes</td><td>Trek Domane SLR 6 Disc - 2017</td></tr><tr><td>Laraine</td><td>810</td><td>153</td><td>3</td><td>Kali</td><td>Rowlett Bikes</td><td>Electra Townie 3i EQ (20-inch) - Boys' - 2017</td></tr><tr><td>Laraine</td><td>810</td><td>153</td><td>3</td><td>Kali</td><td>Rowlett Bikes</td><td>Sun Bicycles Streamway 3 - 2017</td></tr><tr><td>Georgeann</td><td>813</td><td>1203</td><td>4</td><td>Layla</td><td>Rowlett Bikes</td><td>Sun Bicycles Atlas X-Type - 2017</td></tr><tr><td>Georgeann</td><td>813</td><td>1203</td><td>4</td><td>Layla</td><td>Rowlett Bikes</td><td>Electra Townie Original 7D EQ - 2016</td></tr><tr><td>Georgeann</td><td>813</td><td>1203</td><td>4</td><td>Layla</td><td>Rowlett Bikes</td><td>Surly Wednesday Frameset - 2017</td></tr><tr><td>Georgeann</td><td>813</td><td>1203</td><td>4</td><td>Layla</td><td>Rowlett Bikes</td><td>Haro Downtown 16 - 2017</td></tr><tr><td>Georgeann</td><td>813</td><td>1203</td><td>4</td><td>Layla</td><td>Rowlett Bikes</td><td>Electra Moto 3i (20-inch) - Boy's - 2017</td></tr><tr><td>Clementine</td><td>819</td><td>221</td><td>4</td><td>Layla</td><td>Rowlett Bikes</td><td>Haro Shredder Pro 20 - 2017</td></tr><tr><td>Gwendolyn</td><td>823</td><td>415</td><td>4</td><td>Kali</td><td>Rowlett Bikes</td><td>Electra Amsterdam Fashion 7i Ladies' - 2017</td></tr><tr><td>Gwendolyn</td><td>823</td><td>415</td><td>4</td><td>Kali</td><td>Rowlett Bikes</td><td>Trek Girl's Kickster - 2017</td></tr><tr><td>Gwendolyn</td><td>823</td><td>415</td><td>4</td><td>Kali</td><td>Rowlett Bikes</td><td>Trek Domane SLR 6 Disc - 2017</td></tr><tr><td>Lashawn</td><td>852</td><td>13</td><td>4</td><td>Layla</td><td>Rowlett Bikes</td><td>Haro SR 1.3 - 2017</td></tr><tr><td>Gilberte</td><td>853</td><td>883</td><td>4</td><td>Kali</td><td>Rowlett Bikes</td><td>Surly Ice Cream Truck Frameset - 2016</td></tr><tr><td>Gilberte</td><td>853</td><td>883</td><td>4</td><td>Kali</td><td>Rowlett Bikes</td><td>Haro SR 1.2 - 2017</td></tr><tr><td>Gilberte</td><td>853</td><td>883</td><td>4</td><td>Kali</td><td>Rowlett Bikes</td><td>Trek Fuel EX 5 27.5 Plus - 2017</td></tr><tr><td>Gilberte</td><td>853</td><td>883</td><td>4</td><td>Kali</td><td>Rowlett Bikes</td><td>Trek Madone 9.2 - 2017</td></tr><tr><td>Gilberte</td><td>853</td><td>883</td><td>4</td><td>Kali</td><td>Rowlett Bikes</td><td>Electra Sugar Skulls 1 (20-inch) - Girl's - 2017</td></tr><tr><td>Jesus</td><td>862</td><td>1230</td><td>4</td><td>Kali</td><td>Rowlett Bikes</td><td>Trek Domane SL 6 - 2017</td></tr><tr><td>Jesus</td><td>862</td><td>1230</td><td>4</td><td>Kali</td><td>Rowlett Bikes</td><td>Electra Sugar Skulls 1 (20-inch) - Girl's - 2017</td></tr><tr><td>Jesus</td><td>862</td><td>1230</td><td>4</td><td>Kali</td><td>Rowlett Bikes</td><td>Haro Downtown 16 - 2017</td></tr><tr><td>Coleman</td><td>881</td><td>1024</td><td>4</td><td>Layla</td><td>Rowlett Bikes</td><td>Sun Bicycles Revolutions 24 - Girl's - 2017</td></tr><tr><td>Coleman</td><td>881</td><td>1024</td><td>4</td><td>Layla</td><td>Rowlett Bikes</td><td>Electra Townie Original 7D - 2017</td></tr><tr><td>Coleman</td><td>881</td><td>1024</td><td>4</td><td>Layla</td><td>Rowlett Bikes</td><td>Trek Silque SLR 7 Women's - 2017</td></tr><tr><td>Coleman</td><td>881</td><td>1024</td><td>4</td><td>Layla</td><td>Rowlett Bikes</td><td>Electra Straight 8 3i (20-inch) - Boy's - 2017</td></tr><tr><td>Lorrie</td><td>885</td><td>66</td><td>3</td><td>Kali</td><td>Rowlett Bikes</td><td>Trek Fuel EX 9.8 27.5 Plus - 2017</td></tr><tr><td>Lorrie</td><td>885</td><td>66</td><td>3</td><td>Kali</td><td>Rowlett Bikes</td><td>Sun Bicycles Cruz 3 - 2017</td></tr><tr><td>Edmund</td><td>889</td><td>830</td><td>4</td><td>Kali</td><td>Rowlett Bikes</td><td>Electra Townie Original 21D - 2016</td></tr><tr><td>Elanor</td><td>896</td><td>376</td><td>4</td><td>Layla</td><td>Rowlett Bikes</td><td>Surly Straggler - 2016</td></tr><tr><td>Elanor</td><td>896</td><td>376</td><td>4</td><td>Layla</td><td>Rowlett Bikes</td><td>Trek Precaliber 24 (21-Speed) - Girls - 2017</td></tr><tr><td>Jayne</td><td>924</td><td>68</td><td>3</td><td>Kali</td><td>Rowlett Bikes</td><td>Surly Troll Frameset - 2017</td></tr><tr><td>Jayne</td><td>924</td><td>68</td><td>3</td><td>Kali</td><td>Rowlett Bikes</td><td>Electra Savannah 3i (20-inch) - Girl's - 2017</td></tr><tr><td>Abram</td><td>930</td><td>1224</td><td>4</td><td>Layla</td><td>Rowlett Bikes</td><td>Trek Silque SLR 8 Women's - 2017</td></tr><tr><td>Abram</td><td>930</td><td>1224</td><td>4</td><td>Layla</td><td>Rowlett Bikes</td><td>Sun Bicycles Lil Bolt Type-R - 2017</td></tr><tr><td>Abram</td><td>930</td><td>1224</td><td>4</td><td>Layla</td><td>Rowlett Bikes</td><td>Sun Bicycles ElectroLite - 2017</td></tr><tr><td>Abram</td><td>930</td><td>1224</td><td>4</td><td>Layla</td><td>Rowlett Bikes</td><td>Electra Amsterdam Original 3i Ladies' - 2017</td></tr><tr><td>Abram</td><td>930</td><td>1224</td><td>4</td><td>Layla</td><td>Rowlett Bikes</td><td>Trek Domane SLR 6 Disc - 2017</td></tr><tr><td>Mozelle</td><td>935</td><td>43</td><td>3</td><td>Kali</td><td>Rowlett Bikes</td><td>Haro Flightline Two 26 Plus - 2017</td></tr><tr><td>Mozelle</td><td>935</td><td>43</td><td>3</td><td>Kali</td><td>Rowlett Bikes</td><td>Surly Ice Cream Truck Frameset - 2016</td></tr><tr><td>Mozelle</td><td>935</td><td>43</td><td>3</td><td>Kali</td><td>Rowlett Bikes</td><td>\"Electra Girl's Hawaii 1 16\"\" - 2017\"</td></tr><tr><td>Mozelle</td><td>935</td><td>43</td><td>3</td><td>Kali</td><td>Rowlett Bikes</td><td>Sun Bicycles Lil Bolt Type-R - 2017</td></tr><tr><td>Camila</td><td>957</td><td>722</td><td>4</td><td>Layla</td><td>Rowlett Bikes</td><td>Sun Bicycles Drifter 7 - Women's - 2017</td></tr><tr><td>Camila</td><td>957</td><td>722</td><td>4</td><td>Layla</td><td>Rowlett Bikes</td><td>Sun Bicycles Revolutions 24 - 2017</td></tr><tr><td>Camila</td><td>957</td><td>722</td><td>4</td><td>Layla</td><td>Rowlett Bikes</td><td>Electra Amsterdam Original 3i - 2015/2017</td></tr><tr><td>Camila</td><td>957</td><td>722</td><td>4</td><td>Layla</td><td>Rowlett Bikes</td><td>Electra Girl's Hawaii 1 (16-inch) - 2015/2016</td></tr><tr><td>Camila</td><td>957</td><td>722</td><td>4</td><td>Layla</td><td>Rowlett Bikes</td><td>Sun Bicycles Cruz 3 - Women's - 2017</td></tr><tr><td>Leif</td><td>966</td><td>389</td><td>4</td><td>Kali</td><td>Rowlett Bikes</td><td>Sun Bicycles Brickell Tandem 7 - 2017</td></tr><tr><td>Leif</td><td>966</td><td>389</td><td>4</td><td>Kali</td><td>Rowlett Bikes</td><td>Trek Precaliber 12 Girls - 2017</td></tr><tr><td>Cecelia</td><td>969</td><td>248</td><td>4</td><td>Layla</td><td>Rowlett Bikes</td><td>Surly Troll Frameset - 2017</td></tr><tr><td>Cecelia</td><td>969</td><td>248</td><td>4</td><td>Layla</td><td>Rowlett Bikes</td><td>Electra Cruiser Lux 1 - 2017</td></tr><tr><td>Londa</td><td>971</td><td>1426</td><td>4</td><td>Kali</td><td>Rowlett Bikes</td><td>Haro Flightline Two 26 Plus - 2017</td></tr><tr><td>Londa</td><td>971</td><td>1426</td><td>4</td><td>Kali</td><td>Rowlett Bikes</td><td>Electra Townie Original 21D - 2016</td></tr><tr><td>Londa</td><td>971</td><td>1426</td><td>4</td><td>Kali</td><td>Rowlett Bikes</td><td>Trek Remedy 29 Carbon Frameset - 2016</td></tr><tr><td>Londa</td><td>971</td><td>1426</td><td>4</td><td>Kali</td><td>Rowlett Bikes</td><td>Sun Bicycles Lil Bolt Type-R - 2017</td></tr><tr><td>Londa</td><td>971</td><td>1426</td><td>4</td><td>Kali</td><td>Rowlett Bikes</td><td>Electra Amsterdam Original 3i - 2015/2017</td></tr><tr><td>Julienne</td><td>974</td><td>511</td><td>4</td><td>Kali</td><td>Rowlett Bikes</td><td>Electra Girl's Hawaii 1 (16-inch) - 2015/2016</td></tr><tr><td>Julienne</td><td>974</td><td>511</td><td>4</td><td>Kali</td><td>Rowlett Bikes</td><td>Surly Wednesday Frameset - 2017</td></tr><tr><td>Myrl</td><td>976</td><td>1266</td><td>4</td><td>Layla</td><td>Rowlett Bikes</td><td>Trek Stache 5 - 2017</td></tr><tr><td>Myrl</td><td>976</td><td>1266</td><td>4</td><td>Layla</td><td>Rowlett Bikes</td><td>Electra Townie Original 7D EQ - 2016</td></tr><tr><td>Bettie</td><td>980</td><td>328</td><td>4</td><td>Layla</td><td>Rowlett Bikes</td><td>Electra Townie Original 7D - 2017</td></tr><tr><td>Bettie</td><td>980</td><td>328</td><td>4</td><td>Layla</td><td>Rowlett Bikes</td><td>Trek Conduit+ - 2016</td></tr><tr><td>Bettie</td><td>980</td><td>328</td><td>4</td><td>Layla</td><td>Rowlett Bikes</td><td>Trek Domane SL 6 - 2017</td></tr><tr><td>Cecilia</td><td>981</td><td>687</td><td>4</td><td>Kali</td><td>Rowlett Bikes</td><td>Trek Powerfly 8 FS Plus - 2017</td></tr><tr><td>Cecilia</td><td>981</td><td>687</td><td>4</td><td>Kali</td><td>Rowlett Bikes</td><td>Surly Troll Frameset - 2017</td></tr><tr><td>Cecilia</td><td>981</td><td>687</td><td>4</td><td>Kali</td><td>Rowlett Bikes</td><td>Electra Cruiser 1 (24-Inch) - 2016</td></tr><tr><td>Cecilia</td><td>981</td><td>687</td><td>4</td><td>Kali</td><td>Rowlett Bikes</td><td>\"Electra Girl's Hawaii 1 16\"\" - 2017\"</td></tr><tr><td>Cecilia</td><td>981</td><td>687</td><td>4</td><td>Kali</td><td>Rowlett Bikes</td><td>Sun Bicycles Spider 3i - 2017</td></tr><tr><td>Dollie</td><td>982</td><td>1423</td><td>4</td><td>Layla</td><td>Rowlett Bikes</td><td>Trek Fuel EX 9.8 29 - 2017</td></tr><tr><td>Dollie</td><td>982</td><td>1423</td><td>4</td><td>Layla</td><td>Rowlett Bikes</td><td>Surly Steamroller - 2017</td></tr><tr><td>Dollie</td><td>982</td><td>1423</td><td>4</td><td>Layla</td><td>Rowlett Bikes</td><td>Sun Bicycles Drifter 7 - 2017</td></tr><tr><td>Dollie</td><td>982</td><td>1423</td><td>4</td><td>Layla</td><td>Rowlett Bikes</td><td>Electra Girl's Hawaii 1 (16-inch) - 2015/2016</td></tr><tr><td>Patsy</td><td>1009</td><td>1064</td><td>4</td><td>Kali</td><td>Rowlett Bikes</td><td>Haro SR 1.1 - 2017</td></tr><tr><td>Patsy</td><td>1009</td><td>1064</td><td>4</td><td>Kali</td><td>Rowlett Bikes</td><td>\"Electra Girl's Hawaii 1 16\"\" - 2017\"</td></tr><tr><td>Jasper</td><td>1016</td><td>1417</td><td>4</td><td>Layla</td><td>Rowlett Bikes</td><td>\"Electra Girl's Hawaii 1 16\"\" - 2017\"</td></tr><tr><td>Morton</td><td>1045</td><td>185</td><td>4</td><td>Layla</td><td>Rowlett Bikes</td><td>Sun Bicycles Streamway - 2017</td></tr><tr><td>Morton</td><td>1045</td><td>185</td><td>4</td><td>Layla</td><td>Rowlett Bikes</td><td>Surly Karate Monkey 27.5+ Frameset - 2017</td></tr><tr><td>Sherril</td><td>1046</td><td>1134</td><td>4</td><td>Kali</td><td>Rowlett Bikes</td><td>Pure Cycles Vine 8-Speed - 2016</td></tr><tr><td>Sherril</td><td>1046</td><td>1134</td><td>4</td><td>Kali</td><td>Rowlett Bikes</td><td>Haro Shift R3 - 2017</td></tr><tr><td>Sherril</td><td>1046</td><td>1134</td><td>4</td><td>Kali</td><td>Rowlett Bikes</td><td>Trek Farley Alloy Frameset - 2017</td></tr><tr><td>Sherril</td><td>1046</td><td>1134</td><td>4</td><td>Kali</td><td>Rowlett Bikes</td><td>Sun Bicycles Boardwalk (24-inch Wheels) - 2017</td></tr><tr><td>Sherril</td><td>1046</td><td>1134</td><td>4</td><td>Kali</td><td>Rowlett Bikes</td><td>Sun Bicycles ElectroLite - 2017</td></tr><tr><td>Merlene</td><td>1047</td><td>116</td><td>3</td><td>Kali</td><td>Rowlett Bikes</td><td>Trek Domane SL 6 - 2017</td></tr><tr><td>Merlene</td><td>1047</td><td>116</td><td>3</td><td>Kali</td><td>Rowlett Bikes</td><td>Sun Bicycles Spider 3i - 2017</td></tr><tr><td>Merlene</td><td>1047</td><td>116</td><td>3</td><td>Kali</td><td>Rowlett Bikes</td><td>Sun Bicycles Biscayne Tandem CB - 2017</td></tr><tr><td>Merlene</td><td>1047</td><td>116</td><td>3</td><td>Kali</td><td>Rowlett Bikes</td><td>Surly Karate Monkey 27.5+ Frameset - 2017</td></tr><tr><td>Luis</td><td>1063</td><td>198</td><td>4</td><td>Kali</td><td>Rowlett Bikes</td><td>Sun Bicycles Biscayne Tandem 7 - 2017</td></tr><tr><td>Luis</td><td>1063</td><td>198</td><td>4</td><td>Kali</td><td>Rowlett Bikes</td><td>Electra Townie 3i EQ (20-inch) - Boys' - 2017</td></tr><tr><td>Luis</td><td>1063</td><td>198</td><td>4</td><td>Kali</td><td>Rowlett Bikes</td><td>Surly Wednesday Frameset - 2017</td></tr><tr><td>Crysta</td><td>1064</td><td>898</td><td>4</td><td>Layla</td><td>Rowlett Bikes</td><td>Trek Domane SL 6 - 2017</td></tr><tr><td>Crysta</td><td>1064</td><td>898</td><td>4</td><td>Layla</td><td>Rowlett Bikes</td><td>Pure Cycles Western 3-Speed - Women's - 2015/2016</td></tr><tr><td>Delaine</td><td>1071</td><td>602</td><td>4</td><td>Kali</td><td>Rowlett Bikes</td><td>Electra Townie Original 7D - 2015/2016</td></tr><tr><td>Kermit</td><td>1087</td><td>675</td><td>4</td><td>Kali</td><td>Rowlett Bikes</td><td>Sun Bicycles Cruz 7 - Women's - 2017</td></tr><tr><td>Kermit</td><td>1087</td><td>675</td><td>4</td><td>Kali</td><td>Rowlett Bikes</td><td>Electra Cruiser 1 (24-Inch) - 2016</td></tr><tr><td>Kermit</td><td>1087</td><td>675</td><td>4</td><td>Kali</td><td>Rowlett Bikes</td><td>Trek Domane S 5 Disc - 2017</td></tr><tr><td>Kermit</td><td>1087</td><td>675</td><td>4</td><td>Kali</td><td>Rowlett Bikes</td><td>Electra Townie Original 7D - 2017</td></tr><tr><td>Kermit</td><td>1087</td><td>675</td><td>4</td><td>Kali</td><td>Rowlett Bikes</td><td>Electra Moto 1 - 2016</td></tr><tr><td>Efren</td><td>1088</td><td>1160</td><td>4</td><td>Kali</td><td>Rowlett Bikes</td><td>Surly Troll Frameset - 2017</td></tr><tr><td>Efren</td><td>1088</td><td>1160</td><td>4</td><td>Kali</td><td>Rowlett Bikes</td><td>Surly Wednesday Frameset - 2017</td></tr><tr><td>Efren</td><td>1088</td><td>1160</td><td>4</td><td>Kali</td><td>Rowlett Bikes</td><td>Surly Ice Cream Truck Frameset - 2017</td></tr><tr><td>Efren</td><td>1088</td><td>1160</td><td>4</td><td>Kali</td><td>Rowlett Bikes</td><td>Electra Townie Original 7D - 2017</td></tr><tr><td>Wynona</td><td>1095</td><td>1382</td><td>4</td><td>Layla</td><td>Rowlett Bikes</td><td>Trek Silque SLR 7 Women's - 2017</td></tr><tr><td>Wynona</td><td>1095</td><td>1382</td><td>4</td><td>Layla</td><td>Rowlett Bikes</td><td>Surly Wednesday - 2017</td></tr><tr><td>Wynona</td><td>1095</td><td>1382</td><td>4</td><td>Layla</td><td>Rowlett Bikes</td><td>Electra Moto 1 - 2016</td></tr><tr><td>Wynona</td><td>1095</td><td>1382</td><td>4</td><td>Layla</td><td>Rowlett Bikes</td><td>Surly Wednesday Frameset - 2016</td></tr><tr><td>Wynona</td><td>1095</td><td>1382</td><td>4</td><td>Layla</td><td>Rowlett Bikes</td><td>Sun Bicycles Biscayne Tandem CB - 2017</td></tr><tr><td>Margret</td><td>1105</td><td>747</td><td>4</td><td>Kali</td><td>Rowlett Bikes</td><td>Sun Bicycles Spider 3i - 2017</td></tr><tr><td>Margret</td><td>1105</td><td>747</td><td>4</td><td>Kali</td><td>Rowlett Bikes</td><td>Trek Domane SLR 6 Disc - 2017</td></tr><tr><td>Margret</td><td>1105</td><td>747</td><td>4</td><td>Kali</td><td>Rowlett Bikes</td><td>Sun Bicycles ElectroLite - 2017</td></tr><tr><td>Pinkie</td><td>1124</td><td>275</td><td>4</td><td>Layla</td><td>Rowlett Bikes</td><td>Ritchey Timberwolf Frameset - 2016</td></tr><tr><td>Pinkie</td><td>1124</td><td>275</td><td>4</td><td>Layla</td><td>Rowlett Bikes</td><td>Haro SR 1.2 - 2017</td></tr><tr><td>Pinkie</td><td>1124</td><td>275</td><td>4</td><td>Layla</td><td>Rowlett Bikes</td><td>Sun Bicycles Cruz 7 - Women's - 2017</td></tr><tr><td>Pinkie</td><td>1124</td><td>275</td><td>4</td><td>Layla</td><td>Rowlett Bikes</td><td>Surly Ice Cream Truck Frameset - 2016</td></tr><tr><td>Pinkie</td><td>1124</td><td>275</td><td>4</td><td>Layla</td><td>Rowlett Bikes</td><td>Trek Slash 8 27.5 - 2016</td></tr><tr><td>Yang</td><td>1126</td><td>1213</td><td>4</td><td>Kali</td><td>Rowlett Bikes</td><td>Trek Precaliber 16 Boys - 2017</td></tr><tr><td>Yang</td><td>1126</td><td>1213</td><td>4</td><td>Kali</td><td>Rowlett Bikes</td><td>Trek Madone 9.2 - 2017</td></tr><tr><td>Yang</td><td>1126</td><td>1213</td><td>4</td><td>Kali</td><td>Rowlett Bikes</td><td>Surly Wednesday Frameset - 2017</td></tr><tr><td>Ivelisse</td><td>1137</td><td>810</td><td>4</td><td>Kali</td><td>Rowlett Bikes</td><td>Sun Bicycles Cruz 7 - 2017</td></tr><tr><td>Ivelisse</td><td>1137</td><td>810</td><td>4</td><td>Kali</td><td>Rowlett Bikes</td><td>Sun Bicycles Lil Kitt'n - 2017</td></tr><tr><td>Ivelisse</td><td>1137</td><td>810</td><td>4</td><td>Kali</td><td>Rowlett Bikes</td><td>Trek Madone 9.2 - 2017</td></tr><tr><td>Ivelisse</td><td>1137</td><td>810</td><td>4</td><td>Kali</td><td>Rowlett Bikes</td><td>Surly Karate Monkey 27.5+ Frameset - 2017</td></tr><tr><td>Tammy</td><td>1140</td><td>1063</td><td>4</td><td>Kali</td><td>Rowlett Bikes</td><td>Trek Fuel EX 9.8 29 - 2017</td></tr><tr><td>Tammy</td><td>1140</td><td>1063</td><td>4</td><td>Kali</td><td>Rowlett Bikes</td><td>Haro Flightline Two 26 Plus - 2017</td></tr><tr><td>Tammy</td><td>1140</td><td>1063</td><td>4</td><td>Kali</td><td>Rowlett Bikes</td><td>Sun Bicycles Atlas X-Type - 2017</td></tr><tr><td>Tammy</td><td>1140</td><td>1063</td><td>4</td><td>Kali</td><td>Rowlett Bikes</td><td>Trek Stache 5 - 2017</td></tr><tr><td>Caroline</td><td>1176</td><td>1111</td><td>4</td><td>Layla</td><td>Rowlett Bikes</td><td>Trek Precaliber 12 Boys - 2017</td></tr><tr><td>Tobie</td><td>1177</td><td>21</td><td>3</td><td>Layla</td><td>Rowlett Bikes</td><td>Electra Cruiser Lux 1 - 2017</td></tr><tr><td>Tobie</td><td>1177</td><td>21</td><td>3</td><td>Layla</td><td>Rowlett Bikes</td><td>Trek Boone 7 - 2017</td></tr><tr><td>Keturah</td><td>1179</td><td>1150</td><td>4</td><td>Layla</td><td>Rowlett Bikes</td><td>Trek Silque SLR 7 Women's - 2017</td></tr><tr><td>Keturah</td><td>1179</td><td>1150</td><td>4</td><td>Layla</td><td>Rowlett Bikes</td><td>Surly Wednesday Frameset - 2017</td></tr><tr><td>Keturah</td><td>1179</td><td>1150</td><td>4</td><td>Layla</td><td>Rowlett Bikes</td><td>Trek Precaliber 12 Girls - 2017</td></tr><tr><td>Keturah</td><td>1179</td><td>1150</td><td>4</td><td>Layla</td><td>Rowlett Bikes</td><td>Haro Shredder 20 Girls - 2017</td></tr><tr><td>Andria</td><td>1210</td><td>730</td><td>4</td><td>Kali</td><td>Rowlett Bikes</td><td>Sun Bicycles Spider 3i - 2017</td></tr><tr><td>Andria</td><td>1210</td><td>730</td><td>4</td><td>Kali</td><td>Rowlett Bikes</td><td>Sun Bicycles Lil Kitt'n - 2017</td></tr><tr><td>Andria</td><td>1210</td><td>730</td><td>4</td><td>Kali</td><td>Rowlett Bikes</td><td>Sun Bicycles Biscayne Tandem CB - 2017</td></tr><tr><td>Andria</td><td>1210</td><td>730</td><td>4</td><td>Kali</td><td>Rowlett Bikes</td><td>Surly Ice Cream Truck Frameset - 2016</td></tr><tr><td>Andria</td><td>1210</td><td>730</td><td>4</td><td>Kali</td><td>Rowlett Bikes</td><td>Electra Townie Original 7D EQ - 2016</td></tr><tr><td>Willis</td><td>1213</td><td>669</td><td>4</td><td>Layla</td><td>Rowlett Bikes</td><td>Electra Moto 1 - 2016</td></tr><tr><td>Willis</td><td>1213</td><td>669</td><td>4</td><td>Layla</td><td>Rowlett Bikes</td><td>Electra Townie Original 7D - 2017</td></tr><tr><td>Willis</td><td>1213</td><td>669</td><td>4</td><td>Layla</td><td>Rowlett Bikes</td><td>Sun Bicycles Biscayne Tandem CB - 2017</td></tr><tr><td>Willis</td><td>1213</td><td>669</td><td>4</td><td>Layla</td><td>Rowlett Bikes</td><td>Electra Townie Original 7D - 2017</td></tr><tr><td>Narcisa</td><td>1222</td><td>482</td><td>4</td><td>Layla</td><td>Rowlett Bikes</td><td>Electra Savannah 3i (20-inch) - Girl's - 2017</td></tr><tr><td>Charmain</td><td>1251</td><td>289</td><td>4</td><td>Layla</td><td>Rowlett Bikes</td><td>Trek Slash 8 27.5 - 2016</td></tr><tr><td>Charmain</td><td>1251</td><td>289</td><td>4</td><td>Layla</td><td>Rowlett Bikes</td><td>Trek Domane SLR 6 Disc - 2017</td></tr><tr><td>Charmain</td><td>1251</td><td>289</td><td>4</td><td>Layla</td><td>Rowlett Bikes</td><td>Trek Fuel EX 9.8 29 - 2017</td></tr><tr><td>Robena</td><td>1280</td><td>123</td><td>4</td><td>Layla</td><td>Rowlett Bikes</td><td>Trek Boone Race Shop Limited - 2017</td></tr><tr><td>Robena</td><td>1280</td><td>123</td><td>4</td><td>Layla</td><td>Rowlett Bikes</td><td>Surly Steamroller - 2017</td></tr><tr><td>Robena</td><td>1280</td><td>123</td><td>4</td><td>Layla</td><td>Rowlett Bikes</td><td>Electra Cruiser Lux 1 - 2017</td></tr><tr><td>Robena</td><td>1280</td><td>123</td><td>4</td><td>Layla</td><td>Rowlett Bikes</td><td>Sun Bicycles Biscayne Tandem 7 - 2017</td></tr><tr><td>Corrinne</td><td>1288</td><td>778</td><td>4</td><td>Layla</td><td>Rowlett Bikes</td><td>Pure Cycles Vine 8-Speed - 2016</td></tr><tr><td>Corrinne</td><td>1288</td><td>778</td><td>4</td><td>Layla</td><td>Rowlett Bikes</td><td>Trek Boone 7 - 2017</td></tr><tr><td>Corrinne</td><td>1288</td><td>778</td><td>4</td><td>Layla</td><td>Rowlett Bikes</td><td>Electra Townie Original 7D - 2017</td></tr><tr><td>Corrinne</td><td>1288</td><td>778</td><td>4</td><td>Layla</td><td>Rowlett Bikes</td><td>Sun Bicycles Brickell Tandem 7 - 2017</td></tr><tr><td>Garret</td><td>1298</td><td>533</td><td>4</td><td>Layla</td><td>Rowlett Bikes</td><td>Sun Bicycles Drifter 7 - 2017</td></tr><tr><td>Garret</td><td>1298</td><td>533</td><td>4</td><td>Layla</td><td>Rowlett Bikes</td><td>Trek Domane S 5 Disc - 2017</td></tr><tr><td>Porter</td><td>1315</td><td>931</td><td>4</td><td>Layla</td><td>Rowlett Bikes</td><td>Electra Townie Original 7D EQ - 2016</td></tr><tr><td>Porter</td><td>1315</td><td>931</td><td>4</td><td>Layla</td><td>Rowlett Bikes</td><td>Electra Townie Original 7D EQ - 2016</td></tr><tr><td>Porter</td><td>1315</td><td>931</td><td>4</td><td>Layla</td><td>Rowlett Bikes</td><td>Electra Townie Original 21D - 2016</td></tr><tr><td>Porter</td><td>1315</td><td>931</td><td>4</td><td>Layla</td><td>Rowlett Bikes</td><td>Haro Shift R3 - 2017</td></tr><tr><td>Porter</td><td>1315</td><td>931</td><td>4</td><td>Layla</td><td>Rowlett Bikes</td><td>Sun Bicycles Streamway - 2017</td></tr><tr><td>Jayne</td><td>1325</td><td>68</td><td>4</td><td>Kali</td><td>Rowlett Bikes</td><td>Surly Karate Monkey 27.5+ Frameset - 2017</td></tr><tr><td>Jayne</td><td>1325</td><td>68</td><td>4</td><td>Kali</td><td>Rowlett Bikes</td><td>Trek Crockett 7 Disc - 2018</td></tr><tr><td>Jayne</td><td>1325</td><td>68</td><td>4</td><td>Kali</td><td>Rowlett Bikes</td><td>Electra Amsterdam Fashion 3i Ladies' - 2017/2018</td></tr><tr><td>Jayne</td><td>1325</td><td>68</td><td>4</td><td>Kali</td><td>Rowlett Bikes</td><td>Trek Remedy 7 27.5 - 2018</td></tr><tr><td>Sheila</td><td>1326</td><td>567</td><td>4</td><td>Layla</td><td>Rowlett Bikes</td><td>Trek Precaliber 12 Boy's - 2018</td></tr><tr><td>Sheila</td><td>1326</td><td>567</td><td>4</td><td>Layla</td><td>Rowlett Bikes</td><td>Trek Dual Sport+ - 2018</td></tr><tr><td>Minerva</td><td>1333</td><td>203</td><td>4</td><td>Kali</td><td>Rowlett Bikes</td><td>Sun Bicycles Biscayne Tandem CB - 2017</td></tr><tr><td>Minerva</td><td>1333</td><td>203</td><td>4</td><td>Kali</td><td>Rowlett Bikes</td><td>Electra Townie Original 21D - 2016</td></tr><tr><td>Minerva</td><td>1333</td><td>203</td><td>4</td><td>Kali</td><td>Rowlett Bikes</td><td>Electra Sugar Skulls 1 (20-inch) - Girl's - 2017</td></tr><tr><td>Minerva</td><td>1333</td><td>203</td><td>4</td><td>Kali</td><td>Rowlett Bikes</td><td>Electra Townie Original 21D EQ - 2017/2018</td></tr><tr><td>Minerva</td><td>1333</td><td>203</td><td>4</td><td>Kali</td><td>Rowlett Bikes</td><td>Trek Super Commuter+ 8S - 2018</td></tr><tr><td>Sarita</td><td>1346</td><td>136</td><td>4</td><td>Kali</td><td>Rowlett Bikes</td><td>Strider Classic 12 Balance Bike - 2018</td></tr><tr><td>Sarita</td><td>1346</td><td>136</td><td>4</td><td>Kali</td><td>Rowlett Bikes</td><td>Electra White Water 3i - 2018</td></tr><tr><td>Sarita</td><td>1346</td><td>136</td><td>4</td><td>Kali</td><td>Rowlett Bikes</td><td>Pure Cycles Western 3-Speed - Women's - 2015/2016</td></tr><tr><td>Sarita</td><td>1346</td><td>136</td><td>4</td><td>Kali</td><td>Rowlett Bikes</td><td>Trek Emonda SL 7 - 2018</td></tr><tr><td>Sarita</td><td>1346</td><td>136</td><td>4</td><td>Kali</td><td>Rowlett Bikes</td><td>Trek Remedy 27.5 C Frameset - 2018</td></tr><tr><td>Berneice</td><td>1359</td><td>1008</td><td>4</td><td>Layla</td><td>Rowlett Bikes</td><td>Electra Amsterdam Original 3i Ladies' - 2017</td></tr><tr><td>Berneice</td><td>1359</td><td>1008</td><td>4</td><td>Layla</td><td>Rowlett Bikes</td><td>Electra Cyclosaurus 1 (16-inch) - Boy's - 2018</td></tr><tr><td>Latonya</td><td>1373</td><td>427</td><td>4</td><td>Layla</td><td>Rowlett Bikes</td><td>Trek Boone Race Shop Limited - 2017</td></tr><tr><td>Cameron</td><td>1375</td><td>312</td><td>4</td><td>Kali</td><td>Rowlett Bikes</td><td>Trek Domane SL 5 Disc - 2018</td></tr><tr><td>Cameron</td><td>1375</td><td>312</td><td>4</td><td>Kali</td><td>Rowlett Bikes</td><td>Trek Domane ALR 5 Gravel - 2018</td></tr><tr><td>Lynwood</td><td>1385</td><td>866</td><td>4</td><td>Layla</td><td>Rowlett Bikes</td><td>Trek X-Caliber Frameset - 2018</td></tr><tr><td>Lynwood</td><td>1385</td><td>866</td><td>4</td><td>Layla</td><td>Rowlett Bikes</td><td>Trek Stache 5 - 2017</td></tr><tr><td>Lynwood</td><td>1385</td><td>866</td><td>4</td><td>Layla</td><td>Rowlett Bikes</td><td>Trek Domane ALR 5 Disc - 2018</td></tr><tr><td>Lynwood</td><td>1385</td><td>866</td><td>4</td><td>Layla</td><td>Rowlett Bikes</td><td>Electra Townie Original 21D - 2016</td></tr><tr><td>Erik</td><td>1394</td><td>906</td><td>4</td><td>Kali</td><td>Rowlett Bikes</td><td>Trek 1120 - 2018</td></tr><tr><td>Tobie</td><td>1409</td><td>21</td><td>4</td><td>Kali</td><td>Rowlett Bikes</td><td>Electra Cruiser 1 Tall - 2016/2018</td></tr><tr><td>Tobie</td><td>1409</td><td>21</td><td>4</td><td>Kali</td><td>Rowlett Bikes</td><td>Strider Strider 20 Sport - 2018</td></tr><tr><td>Tobie</td><td>1409</td><td>21</td><td>4</td><td>Kali</td><td>Rowlett Bikes</td><td>Trek Domane SL 6 - 2018</td></tr><tr><td>Tobie</td><td>1409</td><td>21</td><td>4</td><td>Kali</td><td>Rowlett Bikes</td><td>Trek CrossRip 2 - 2018</td></tr><tr><td>Tobie</td><td>1409</td><td>21</td><td>4</td><td>Kali</td><td>Rowlett Bikes</td><td>Electra Townie Balloon 7i EQ - 2018</td></tr><tr><td>Lolita</td><td>1413</td><td>56</td><td>4</td><td>Kali</td><td>Rowlett Bikes</td><td>\"Electra Under-The-Sea 1 16\"\" - 2018\"</td></tr><tr><td>Cinthia</td><td>1416</td><td>566</td><td>4</td><td>Kali</td><td>Rowlett Bikes</td><td>Haro Shredder 20 - 2017</td></tr><tr><td>Cinthia</td><td>1416</td><td>566</td><td>4</td><td>Kali</td><td>Rowlett Bikes</td><td>Electra Townie Commute 8D Ladies' - 2018</td></tr><tr><td>Cinthia</td><td>1416</td><td>566</td><td>4</td><td>Kali</td><td>Rowlett Bikes</td><td>Trek XM700+ - 2018</td></tr><tr><td>Jonell</td><td>1422</td><td>599</td><td>4</td><td>Kali</td><td>Rowlett Bikes</td><td>Electra Townie Original 21D EQ Ladies' - 2018</td></tr><tr><td>Jonell</td><td>1422</td><td>599</td><td>4</td><td>Kali</td><td>Rowlett Bikes</td><td>Trek Domane AL 3 Women's - 2018</td></tr><tr><td>Jonell</td><td>1422</td><td>599</td><td>4</td><td>Kali</td><td>Rowlett Bikes</td><td>Sun Bicycles Brickell Tandem CB - 2017</td></tr><tr><td>Julianne</td><td>1440</td><td>859</td><td>4</td><td>Kali</td><td>Rowlett Bikes</td><td>Sun Bicycles Revolutions 24 - Girl's - 2017</td></tr><tr><td>Julianne</td><td>1440</td><td>859</td><td>4</td><td>Kali</td><td>Rowlett Bikes</td><td>Trek Domane AL 2 - 2018</td></tr><tr><td>Julianne</td><td>1440</td><td>859</td><td>4</td><td>Kali</td><td>Rowlett Bikes</td><td>Trek CrossRip+ - 2018</td></tr><tr><td>Julianne</td><td>1440</td><td>859</td><td>4</td><td>Kali</td><td>Rowlett Bikes</td><td>Sun Bicycles Cruz 7 - Women's - 2017</td></tr><tr><td>Julianne</td><td>1440</td><td>859</td><td>4</td><td>Kali</td><td>Rowlett Bikes</td><td>Trek Marlin 7 - 2017/2018</td></tr><tr><td>Orval</td><td>1441</td><td>982</td><td>4</td><td>Kali</td><td>Rowlett Bikes</td><td>Haro SR 1.3 - 2017</td></tr><tr><td>Orval</td><td>1441</td><td>982</td><td>4</td><td>Kali</td><td>Rowlett Bikes</td><td>Electra Townie Commute 8D Ladies' - 2018</td></tr><tr><td>Orval</td><td>1441</td><td>982</td><td>4</td><td>Kali</td><td>Rowlett Bikes</td><td>Surly Ice Cream Truck Frameset - 2016</td></tr><tr><td>Ping</td><td>1458</td><td>1029</td><td>4</td><td>Kali</td><td>Rowlett Bikes</td><td>Sun Bicycles Biscayne Tandem CB - 2017</td></tr><tr><td>Ping</td><td>1458</td><td>1029</td><td>4</td><td>Kali</td><td>Rowlett Bikes</td><td>Electra Townie Original 21D - 2016</td></tr><tr><td>Ping</td><td>1458</td><td>1029</td><td>4</td><td>Kali</td><td>Rowlett Bikes</td><td>Sun Bicycles Streamway 7 - 2017</td></tr><tr><td>Ping</td><td>1458</td><td>1029</td><td>4</td><td>Kali</td><td>Rowlett Bikes</td><td>\"Electra Treasure 1 20\"\" - 2018\"</td></tr><tr><td>Alisia</td><td>1469</td><td>1135</td><td>4</td><td>Kali</td><td>Rowlett Bikes</td><td>Electra Townie 3i EQ (20-inch) - Boys' - 2017</td></tr><tr><td>Alisia</td><td>1469</td><td>1135</td><td>4</td><td>Kali</td><td>Rowlett Bikes</td><td>Trek Domane SL 5 Disc - 2018</td></tr><tr><td>Alisia</td><td>1469</td><td>1135</td><td>4</td><td>Kali</td><td>Rowlett Bikes</td><td>Electra Relic 3i - 2018</td></tr><tr><td>Alisia</td><td>1469</td><td>1135</td><td>4</td><td>Kali</td><td>Rowlett Bikes</td><td>Electra Glam Punk 3i Ladies' - 2017</td></tr><tr><td>Bobbie</td><td>1493</td><td>64</td><td>2</td><td>Kali</td><td>Rowlett Bikes</td><td>Electra Cruiser Lux 1 Ladies' - 2018</td></tr><tr><td>Jayne</td><td>1512</td><td>68</td><td>1</td><td>Layla</td><td>Rowlett Bikes</td><td>Electra Straight 8 3i - 2018</td></tr><tr><td>Elinore</td><td>1515</td><td>61</td><td>1</td><td>Layla</td><td>Rowlett Bikes</td><td>Trek CrossRip 1 - 2018</td></tr><tr><td>Elinore</td><td>1515</td><td>61</td><td>1</td><td>Layla</td><td>Rowlett Bikes</td><td>Trek Fuel EX 9.8 29 - 2017</td></tr><tr><td>Elinore</td><td>1515</td><td>61</td><td>1</td><td>Layla</td><td>Rowlett Bikes</td><td>Electra Townie Commute 27D Ladies - 2018</td></tr><tr><td>Elinore</td><td>1515</td><td>61</td><td>1</td><td>Layla</td><td>Rowlett Bikes</td><td>Trek Powerfly 5 Women's - 2018</td></tr><tr><td>Elinore</td><td>1515</td><td>61</td><td>1</td><td>Layla</td><td>Rowlett Bikes</td><td>Surly Big Dummy Frameset - 2017</td></tr><tr><td>Lorrie</td><td>1520</td><td>66</td><td>2</td><td>Kali</td><td>Rowlett Bikes</td><td>Strider Classic 12 Balance Bike - 2018</td></tr><tr><td>Lorrie</td><td>1520</td><td>66</td><td>2</td><td>Kali</td><td>Rowlett Bikes</td><td>Electra Townie Commute 27D Ladies - 2018</td></tr><tr><td>Lorrie</td><td>1520</td><td>66</td><td>2</td><td>Kali</td><td>Rowlett Bikes</td><td>Trek XM700+ Lowstep - 2018</td></tr><tr><td>Lorrie</td><td>1520</td><td>66</td><td>2</td><td>Kali</td><td>Rowlett Bikes</td><td>Trek CrossRip+ - 2018</td></tr><tr><td>Lashawn</td><td>1527</td><td>13</td><td>2</td><td>Layla</td><td>Rowlett Bikes</td><td>Trek Emonda S 5 - 2017</td></tr><tr><td>Lashawn</td><td>1527</td><td>13</td><td>2</td><td>Layla</td><td>Rowlett Bikes</td><td>Sun Bicycles Streamway 3 - 2017</td></tr><tr><td>Lashawn</td><td>1527</td><td>13</td><td>2</td><td>Layla</td><td>Rowlett Bikes</td><td>Surly Wednesday Frameset - 2017</td></tr><tr><td>Aleta</td><td>1528</td><td>20</td><td>1</td><td>Kali</td><td>Rowlett Bikes</td><td>Electra Cruiser Lux 1 - 2016/2018</td></tr><tr><td>Cleotilde</td><td>1529</td><td>50</td><td>1</td><td>Kali</td><td>Rowlett Bikes</td><td>Trek Silque SLR 7 Women's - 2017</td></tr><tr><td>Cleotilde</td><td>1529</td><td>50</td><td>1</td><td>Kali</td><td>Rowlett Bikes</td><td>Electra Girl's Hawaii 1 (20-inch) - 2015/2016</td></tr><tr><td>Merlene</td><td>1539</td><td>116</td><td>1</td><td>Layla</td><td>Rowlett Bikes</td><td>Electra Townie Original 21D - 2016</td></tr><tr><td>Merlene</td><td>1539</td><td>116</td><td>1</td><td>Layla</td><td>Rowlett Bikes</td><td>Surly Ice Cream Truck Frameset - 2016</td></tr><tr><td>Keri</td><td>1563</td><td>77</td><td>2</td><td>Layla</td><td>Rowlett Bikes</td><td>Trek XM700+ Lowstep - 2018</td></tr><tr><td>Garry</td><td>1572</td><td>14</td><td>1</td><td>Layla</td><td>Rowlett Bikes</td><td>Electra Townie Original 21D EQ - 2017/2018</td></tr><tr><td>Garry</td><td>1572</td><td>14</td><td>1</td><td>Layla</td><td>Rowlett Bikes</td><td>Trek Fuel EX 8 29 - 2018</td></tr><tr><td>Garry</td><td>1572</td><td>14</td><td>1</td><td>Layla</td><td>Rowlett Bikes</td><td>Electra Townie Commute Go! - 2018</td></tr><tr><td>Garry</td><td>1572</td><td>14</td><td>1</td><td>Layla</td><td>Rowlett Bikes</td><td>Electra Super Moto 8i - 2018</td></tr><tr><td>Tobie</td><td>1596</td><td>21</td><td>2</td><td>Kali</td><td>Rowlett Bikes</td><td>Pure Cycles Western 3-Speed - Women's - 2015/2016</td></tr><tr><td>Tobie</td><td>1596</td><td>21</td><td>2</td><td>Kali</td><td>Rowlett Bikes</td><td>Trek Precaliber 24 (21-Speed) - Girls - 2017</td></tr><tr><td>Lolita</td><td>1597</td><td>56</td><td>1</td><td>Layla</td><td>Rowlett Bikes</td><td>Trek Domane S 5 Disc - 2017</td></tr><tr><td>Lolita</td><td>1597</td><td>56</td><td>1</td><td>Layla</td><td>Rowlett Bikes</td><td>Trek Madone 9 Frameset - 2018</td></tr><tr><td>Mozelle</td><td>1601</td><td>43</td><td>1</td><td>Kali</td><td>Rowlett Bikes</td><td>Trek Domane AL 3 Women's - 2018</td></tr><tr><td>Mozelle</td><td>1601</td><td>43</td><td>1</td><td>Kali</td><td>Rowlett Bikes</td><td>Trek Slash 8 27.5 - 2016</td></tr><tr><td>Mozelle</td><td>1601</td><td>43</td><td>1</td><td>Kali</td><td>Rowlett Bikes</td><td>Electra Cruiser 1 Ladies' - 2018</td></tr><tr><td>Mozelle</td><td>1601</td><td>43</td><td>1</td><td>Kali</td><td>Rowlett Bikes</td><td>Surly Straggler - 2016</td></tr><tr><td>Mozelle</td><td>1601</td><td>43</td><td>1</td><td>Kali</td><td>Rowlett Bikes</td><td>Trek Marlin 6 - 2018</td></tr><tr><td>Robena</td><td>1605</td><td>123</td><td>3</td><td>Kali</td><td>Rowlett Bikes</td><td>Trek X-Caliber 8 - 2017</td></tr><tr><td>Robena</td><td>1605</td><td>123</td><td>3</td><td>Kali</td><td>Rowlett Bikes</td><td>Electra Townie Balloon 7i EQ - 2018</td></tr><tr><td>Robena</td><td>1605</td><td>123</td><td>3</td><td>Kali</td><td>Rowlett Bikes</td><td>Trek Procal AL Frameset - 2018</td></tr><tr><td>Robena</td><td>1605</td><td>123</td><td>3</td><td>Kali</td><td>Rowlett Bikes</td><td>Trek CrossRip+ - 2018</td></tr><tr><td>Robena</td><td>1605</td><td>123</td><td>3</td><td>Kali</td><td>Rowlett Bikes</td><td>Sun Bicycles Biscayne Tandem 7 - 2017</td></tr><tr><td>Thalia</td><td>1606</td><td>119</td><td>3</td><td>Kali</td><td>Rowlett Bikes</td><td>Trek Precaliber 16 Girl's - 2018</td></tr><tr><td>Thalia</td><td>1606</td><td>119</td><td>3</td><td>Kali</td><td>Rowlett Bikes</td><td>Electra Townie Original 3i EQ - 2017/2018</td></tr><tr><td>Dorthey</td><td>1614</td><td>135</td><td>3</td><td>Kali</td><td>Rowlett Bikes</td><td>Electra Cruiser 1 - 2016/2017/2018</td></tr><tr><td>Dorthey</td><td>1614</td><td>135</td><td>3</td><td>Kali</td><td>Rowlett Bikes</td><td>Trek Emonda ALR 6 - 2018</td></tr><tr><td>Dorthey</td><td>1614</td><td>135</td><td>3</td><td>Kali</td><td>Rowlett Bikes</td><td>Surly Krampus - 2018</td></tr><tr><td>Sarita</td><td>1615</td><td>136</td><td>3</td><td>Kali</td><td>Rowlett Bikes</td><td>Trek Domane SL 5 Disc - 2018</td></tr><tr><td>Sarita</td><td>1615</td><td>136</td><td>3</td><td>Kali</td><td>Rowlett Bikes</td><td>Electra Tiger Shark 3i - 2018</td></tr><tr><td>Sarita</td><td>1615</td><td>136</td><td>3</td><td>Kali</td><td>Rowlett Bikes</td><td>Trek Verve+ Lowstep - 2018</td></tr></tbody></table></div>"
      ]
     },
     "metadata": {
      "application/vnd.databricks.v1+output": {
       "addedWidgets": {},
       "aggData": [],
       "aggError": "",
       "aggOverflow": false,
       "aggSchema": [],
       "aggSeriesLimitReached": false,
       "aggType": "",
       "arguments": {},
       "columnCustomDisplayInfos": {},
       "data": [
        [
         "Edgar",
         31,
         1238,
         4,
         "Kali",
         "Rowlett Bikes",
         "Trek Conduit+ - 2016"
        ],
        [
         "Edgar",
         31,
         1238,
         4,
         "Kali",
         "Rowlett Bikes",
         "Surly Straggler 650b - 2016"
        ],
        [
         "Silas",
         50,
         872,
         4,
         "Kali",
         "Rowlett Bikes",
         "Electra Cruiser 1 (24-Inch) - 2016"
        ],
        [
         "Silas",
         50,
         872,
         4,
         "Kali",
         "Rowlett Bikes",
         "Electra Townie Original 7D EQ - 2016"
        ],
        [
         "Silas",
         50,
         872,
         4,
         "Kali",
         "Rowlett Bikes",
         "Surly Wednesday Frameset - 2016"
        ],
        [
         "Lazaro",
         67,
         526,
         4,
         "Kali",
         "Rowlett Bikes",
         "Pure Cycles William 3-Speed - 2016"
        ],
        [
         "Lazaro",
         67,
         526,
         4,
         "Kali",
         "Rowlett Bikes",
         "Heller Shagamaw Frame - 2016"
        ],
        [
         "Lazaro",
         67,
         526,
         4,
         "Kali",
         "Rowlett Bikes",
         "Electra Cruiser 1 (24-Inch) - 2016"
        ],
        [
         "Lazaro",
         67,
         526,
         4,
         "Kali",
         "Rowlett Bikes",
         "Electra Townie Original 21D - 2016"
        ],
        [
         "Lazaro",
         67,
         526,
         4,
         "Kali",
         "Rowlett Bikes",
         "Electra Girl's Hawaii 1 (20-inch) - 2015/2016"
        ],
        [
         "Cleotilde",
         70,
         50,
         3,
         "Layla",
         "Rowlett Bikes",
         "Electra Townie Original 7D EQ - Women's - 2016"
        ],
        [
         "Cleotilde",
         70,
         50,
         3,
         "Layla",
         "Rowlett Bikes",
         "Pure Cycles Western 3-Speed - Women's - 2015/2016"
        ],
        [
         "Cleotilde",
         70,
         50,
         3,
         "Layla",
         "Rowlett Bikes",
         "Surly Wednesday Frameset - 2016"
        ],
        [
         "Calandra",
         89,
         668,
         4,
         "Kali",
         "Rowlett Bikes",
         "Surly Ice Cream Truck Frameset - 2016"
        ],
        [
         "Calandra",
         89,
         668,
         4,
         "Kali",
         "Rowlett Bikes",
         "Heller Shagamaw Frame - 2016"
        ],
        [
         "Rikki",
         99,
         1165,
         4,
         "Layla",
         "Rowlett Bikes",
         "Electra Girl's Hawaii 1 (20-inch) - 2015/2016"
        ],
        [
         "Rikki",
         99,
         1165,
         4,
         "Layla",
         "Rowlett Bikes",
         "Trek Slash 8 27.5 - 2016"
        ],
        [
         "Rikki",
         99,
         1165,
         4,
         "Layla",
         "Rowlett Bikes",
         "Electra Townie Original 7D - 2015/2016"
        ],
        [
         "Rikki",
         99,
         1165,
         4,
         "Layla",
         "Rowlett Bikes",
         "Electra Cruiser 1 (24-Inch) - 2016"
        ],
        [
         "Rikki",
         99,
         1165,
         4,
         "Layla",
         "Rowlett Bikes",
         "Electra Cruiser 1 (24-Inch) - 2016"
        ],
        [
         "Katheleen",
         101,
         271,
         4,
         "Kali",
         "Rowlett Bikes",
         "Electra Townie Original 21D - 2016"
        ],
        [
         "Valery",
         106,
         422,
         4,
         "Layla",
         "Rowlett Bikes",
         "Electra Cruiser 1 (24-Inch) - 2016"
        ],
        [
         "Valery",
         106,
         422,
         4,
         "Layla",
         "Rowlett Bikes",
         "Pure Cycles Vine 8-Speed - 2016"
        ],
        [
         "Launa",
         110,
         677,
         4,
         "Layla",
         "Rowlett Bikes",
         "Electra Girl's Hawaii 1 (16-inch) - 2015/2016"
        ],
        [
         "Chelsey",
         127,
         484,
         4,
         "Kali",
         "Rowlett Bikes",
         "Trek Fuel EX 8 29 - 2016"
        ],
        [
         "Chelsey",
         127,
         484,
         4,
         "Kali",
         "Rowlett Bikes",
         "Electra Townie Original 7D EQ - Women's - 2016"
        ],
        [
         "Chelsey",
         127,
         484,
         4,
         "Kali",
         "Rowlett Bikes",
         "Pure Cycles Vine 8-Speed - 2016"
        ],
        [
         "Hortencia",
         131,
         316,
         4,
         "Kali",
         "Rowlett Bikes",
         "Electra Townie Original 21D - 2016"
        ],
        [
         "Hortencia",
         131,
         316,
         4,
         "Kali",
         "Rowlett Bikes",
         "Trek Fuel EX 8 29 - 2016"
        ],
        [
         "Hortencia",
         131,
         316,
         4,
         "Kali",
         "Rowlett Bikes",
         "Electra Girl's Hawaii 1 (16-inch) - 2015/2016"
        ],
        [
         "Gena",
         136,
         1192,
         4,
         "Kali",
         "Rowlett Bikes",
         "Surly Wednesday Frameset - 2016"
        ],
        [
         "Gena",
         136,
         1192,
         4,
         "Kali",
         "Rowlett Bikes",
         "Trek Slash 8 27.5 - 2016"
        ],
        [
         "Mozelle",
         157,
         43,
         4,
         "Kali",
         "Rowlett Bikes",
         "Trek Slash 8 27.5 - 2016"
        ],
        [
         "Mozelle",
         157,
         43,
         4,
         "Kali",
         "Rowlett Bikes",
         "Trek Fuel EX 8 29 - 2016"
        ],
        [
         "Dacia",
         158,
         117,
         3,
         "Layla",
         "Rowlett Bikes",
         "Electra Townie Original 21D - 2016"
        ],
        [
         "Dacia",
         173,
         117,
         4,
         "Kali",
         "Rowlett Bikes",
         "Electra Townie Original 7D EQ - Women's - 2016"
        ],
        [
         "Dacia",
         173,
         117,
         4,
         "Kali",
         "Rowlett Bikes",
         "Electra Townie Original 7D EQ - 2016"
        ],
        [
         "Dacia",
         173,
         117,
         4,
         "Kali",
         "Rowlett Bikes",
         "Electra Girl's Hawaii 1 (16-inch) - 2015/2016"
        ],
        [
         "Brenda",
         201,
         280,
         4,
         "Layla",
         "Rowlett Bikes",
         "Pure Cycles Vine 8-Speed - 2016"
        ],
        [
         "Brenda",
         201,
         280,
         4,
         "Layla",
         "Rowlett Bikes",
         "Electra Girl's Hawaii 1 (16-inch) - 2015/2016"
        ],
        [
         "Brenda",
         201,
         280,
         4,
         "Layla",
         "Rowlett Bikes",
         "Trek Slash 8 27.5 - 2016"
        ],
        [
         "Brenda",
         201,
         280,
         4,
         "Layla",
         "Rowlett Bikes",
         "Electra Townie Original 21D - 2016"
        ],
        [
         "Henrietta",
         203,
         1102,
         4,
         "Layla",
         "Rowlett Bikes",
         "Pure Cycles William 3-Speed - 2016"
        ],
        [
         "Henrietta",
         203,
         1102,
         4,
         "Layla",
         "Rowlett Bikes",
         "Pure Cycles Vine 8-Speed - 2016"
        ],
        [
         "Henrietta",
         203,
         1102,
         4,
         "Layla",
         "Rowlett Bikes",
         "Surly Wednesday Frameset - 2016"
        ],
        [
         "Henrietta",
         203,
         1102,
         4,
         "Layla",
         "Rowlett Bikes",
         "Electra Townie Original 7D EQ - 2016"
        ],
        [
         "Tania",
         206,
         743,
         4,
         "Layla",
         "Rowlett Bikes",
         "Electra Townie Original 7D EQ - Women's - 2016"
        ],
        [
         "Tania",
         206,
         743,
         4,
         "Layla",
         "Rowlett Bikes",
         "Electra Townie Original 7D - 2015/2016"
        ],
        [
         "Lilliam",
         213,
         788,
         4,
         "Kali",
         "Rowlett Bikes",
         "Electra Cruiser 1 (24-Inch) - 2016"
        ],
        [
         "Lashawn",
         239,
         13,
         3,
         "Layla",
         "Rowlett Bikes",
         "Trek Fuel EX 8 29 - 2016"
        ],
        [
         "Lashawn",
         239,
         13,
         3,
         "Layla",
         "Rowlett Bikes",
         "Pure Cycles Western 3-Speed - Women's - 2015/2016"
        ],
        [
         "Lashawn",
         239,
         13,
         3,
         "Layla",
         "Rowlett Bikes",
         "Electra Cruiser 1 (24-Inch) - 2016"
        ],
        [
         "Lashawn",
         239,
         13,
         3,
         "Layla",
         "Rowlett Bikes",
         "Electra Townie Original 7D EQ - 2016"
        ],
        [
         "Barrett",
         243,
         802,
         4,
         "Kali",
         "Rowlett Bikes",
         "Trek Slash 8 27.5 - 2016"
        ],
        [
         "Barrett",
         243,
         802,
         4,
         "Kali",
         "Rowlett Bikes",
         "Pure Cycles William 3-Speed - 2016"
        ],
        [
         "Barrett",
         243,
         802,
         4,
         "Kali",
         "Rowlett Bikes",
         "Electra Townie Original 7D - 2015/2016"
        ],
        [
         "Lorrie",
         252,
         66,
         4,
         "Kali",
         "Rowlett Bikes",
         "Pure Cycles William 3-Speed - 2016"
        ],
        [
         "Lorrie",
         252,
         66,
         4,
         "Kali",
         "Rowlett Bikes",
         "Trek Fuel EX 8 29 - 2016"
        ],
        [
         "Lorrie",
         252,
         66,
         4,
         "Kali",
         "Rowlett Bikes",
         "Surly Straggler 650b - 2016"
        ],
        [
         "Matilda",
         262,
         579,
         4,
         "Layla",
         "Rowlett Bikes",
         "Trek Conduit+ - 2016"
        ],
        [
         "Matilda",
         262,
         579,
         4,
         "Layla",
         "Rowlett Bikes",
         "Ritchey Timberwolf Frameset - 2016"
        ],
        [
         "Regina",
         282,
         159,
         4,
         "Layla",
         "Rowlett Bikes",
         "Electra Townie Original 7D EQ - 2016"
        ],
        [
         "Regina",
         282,
         159,
         4,
         "Layla",
         "Rowlett Bikes",
         "Surly Wednesday Frameset - 2016"
        ],
        [
         "Regina",
         282,
         159,
         4,
         "Layla",
         "Rowlett Bikes",
         "Trek Slash 8 27.5 - 2016"
        ],
        [
         "Regina",
         282,
         159,
         4,
         "Layla",
         "Rowlett Bikes",
         "Electra Townie Original 7D EQ - Women's - 2016"
        ],
        [
         "Van",
         292,
         360,
         4,
         "Layla",
         "Rowlett Bikes",
         "Surly Straggler - 2016"
        ],
        [
         "Van",
         292,
         360,
         4,
         "Layla",
         "Rowlett Bikes",
         "Trek Fuel EX 8 29 - 2016"
        ],
        [
         "Van",
         292,
         360,
         4,
         "Layla",
         "Rowlett Bikes",
         "Pure Cycles Western 3-Speed - Women's - 2015/2016"
        ],
        [
         "Janna",
         298,
         885,
         4,
         "Layla",
         "Rowlett Bikes",
         "Electra Girl's Hawaii 1 (16-inch) - 2015/2016"
        ],
        [
         "Janna",
         298,
         885,
         4,
         "Layla",
         "Rowlett Bikes",
         "Trek Conduit+ - 2016"
        ],
        [
         "Janna",
         298,
         885,
         4,
         "Layla",
         "Rowlett Bikes",
         "Electra Girl's Hawaii 1 (16-inch) - 2015/2016"
        ],
        [
         "Janna",
         298,
         885,
         4,
         "Layla",
         "Rowlett Bikes",
         "Surly Ice Cream Truck Frameset - 2016"
        ],
        [
         "Janna",
         298,
         885,
         4,
         "Layla",
         "Rowlett Bikes",
         "Electra Girl's Hawaii 1 (20-inch) - 2015/2016"
        ],
        [
         "Dagny",
         313,
         565,
         4,
         "Layla",
         "Rowlett Bikes",
         "Surly Straggler - 2016"
        ],
        [
         "Dagny",
         313,
         565,
         4,
         "Layla",
         "Rowlett Bikes",
         "Trek Fuel EX 8 29 - 2016"
        ],
        [
         "Bernetta",
         326,
         1337,
         4,
         "Layla",
         "Rowlett Bikes",
         "Electra Girl's Hawaii 1 (20-inch) - 2015/2016"
        ],
        [
         "Bernetta",
         326,
         1337,
         4,
         "Layla",
         "Rowlett Bikes",
         "Electra Townie Original 21D - 2016"
        ],
        [
         "Lynne",
         346,
         584,
         4,
         "Layla",
         "Rowlett Bikes",
         "Pure Cycles Western 3-Speed - Women's - 2015/2016"
        ],
        [
         "Lynne",
         346,
         584,
         4,
         "Layla",
         "Rowlett Bikes",
         "Electra Moto 1 - 2016"
        ],
        [
         "Lynne",
         346,
         584,
         4,
         "Layla",
         "Rowlett Bikes",
         "Electra Cruiser 1 (24-Inch) - 2016"
        ],
        [
         "Lynne",
         346,
         584,
         4,
         "Layla",
         "Rowlett Bikes",
         "Electra Girl's Hawaii 1 (20-inch) - 2015/2016"
        ],
        [
         "Lynne",
         346,
         584,
         4,
         "Layla",
         "Rowlett Bikes",
         "Electra Cruiser 1 (24-Inch) - 2016"
        ],
        [
         "Daina",
         348,
         907,
         4,
         "Layla",
         "Rowlett Bikes",
         "Electra Moto 1 - 2016"
        ],
        [
         "Daina",
         348,
         907,
         4,
         "Layla",
         "Rowlett Bikes",
         "Heller Shagamaw Frame - 2016"
        ],
        [
         "Jenine",
         354,
         551,
         4,
         "Kali",
         "Rowlett Bikes",
         "Pure Cycles William 3-Speed - 2016"
        ],
        [
         "Jenine",
         354,
         551,
         4,
         "Kali",
         "Rowlett Bikes",
         "Electra Cruiser 1 (24-Inch) - 2016"
        ],
        [
         "Sebrina",
         355,
         1011,
         4,
         "Kali",
         "Rowlett Bikes",
         "Electra Girl's Hawaii 1 (16-inch) - 2015/2016"
        ],
        [
         "Sebrina",
         355,
         1011,
         4,
         "Kali",
         "Rowlett Bikes",
         "Electra Townie Original 7D EQ - 2016"
        ],
        [
         "Garry",
         357,
         14,
         3,
         "Kali",
         "Rowlett Bikes",
         "Trek Conduit+ - 2016"
        ],
        [
         "Garry",
         357,
         14,
         3,
         "Kali",
         "Rowlett Bikes",
         "Electra Townie Original 21D - 2016"
        ],
        [
         "Garry",
         357,
         14,
         3,
         "Kali",
         "Rowlett Bikes",
         "Electra Cruiser 1 (24-Inch) - 2016"
        ],
        [
         "Garry",
         357,
         14,
         3,
         "Kali",
         "Rowlett Bikes",
         "Pure Cycles Vine 8-Speed - 2016"
        ],
        [
         "Brain",
         363,
         834,
         4,
         "Kali",
         "Rowlett Bikes",
         "Electra Townie Original 7D EQ - Women's - 2016"
        ],
        [
         "Brain",
         363,
         834,
         4,
         "Kali",
         "Rowlett Bikes",
         "Electra Moto 1 - 2016"
        ],
        [
         "Brain",
         363,
         834,
         4,
         "Kali",
         "Rowlett Bikes",
         "Electra Girl's Hawaii 1 (16-inch) - 2015/2016"
        ],
        [
         "Brain",
         363,
         834,
         4,
         "Kali",
         "Rowlett Bikes",
         "Electra Cruiser 1 (24-Inch) - 2016"
        ],
        [
         "Arielle",
         366,
         1054,
         4,
         "Layla",
         "Rowlett Bikes",
         "Electra Townie Original 7D EQ - 2016"
        ],
        [
         "Arielle",
         366,
         1054,
         4,
         "Layla",
         "Rowlett Bikes",
         "Trek Fuel EX 8 29 - 2016"
        ],
        [
         "Arielle",
         366,
         1054,
         4,
         "Layla",
         "Rowlett Bikes",
         "Electra Cruiser 1 (24-Inch) - 2016"
        ],
        [
         "Alec",
         378,
         475,
         4,
         "Layla",
         "Rowlett Bikes",
         "Electra Townie Original 7D EQ - 2016"
        ],
        [
         "Jennette",
         387,
         451,
         4,
         "Kali",
         "Rowlett Bikes",
         "Pure Cycles Western 3-Speed - Women's - 2015/2016"
        ],
        [
         "Mirella",
         388,
         1080,
         4,
         "Kali",
         "Rowlett Bikes",
         "Surly Straggler 650b - 2016"
        ],
        [
         "Mirella",
         388,
         1080,
         4,
         "Kali",
         "Rowlett Bikes",
         "Ritchey Timberwolf Frameset - 2016"
        ],
        [
         "Mirella",
         388,
         1080,
         4,
         "Kali",
         "Rowlett Bikes",
         "Electra Cruiser 1 (24-Inch) - 2016"
        ],
        [
         "Mirella",
         388,
         1080,
         4,
         "Kali",
         "Rowlett Bikes",
         "Pure Cycles William 3-Speed - 2016"
        ],
        [
         "Shirely",
         390,
         576,
         4,
         "Layla",
         "Rowlett Bikes",
         "Trek Conduit+ - 2016"
        ],
        [
         "Shirely",
         390,
         576,
         4,
         "Layla",
         "Rowlett Bikes",
         "Trek Slash 8 27.5 - 2016"
        ],
        [
         "Shirely",
         390,
         576,
         4,
         "Layla",
         "Rowlett Bikes",
         "Electra Girl's Hawaii 1 (20-inch) - 2015/2016"
        ],
        [
         "Elinore",
         391,
         61,
         3,
         "Layla",
         "Rowlett Bikes",
         "Electra Townie Original 21D - 2016"
        ],
        [
         "Elinore",
         391,
         61,
         3,
         "Layla",
         "Rowlett Bikes",
         "Heller Shagamaw Frame - 2016"
        ],
        [
         "Elinore",
         391,
         61,
         3,
         "Layla",
         "Rowlett Bikes",
         "Trek Remedy 29 Carbon Frameset - 2016"
        ],
        [
         "Keri",
         407,
         77,
         3,
         "Kali",
         "Rowlett Bikes",
         "Heller Shagamaw Frame - 2016"
        ],
        [
         "Keri",
         407,
         77,
         3,
         "Kali",
         "Rowlett Bikes",
         "Electra Townie Original 7D EQ - Women's - 2016"
        ],
        [
         "Garry",
         419,
         14,
         4,
         "Kali",
         "Rowlett Bikes",
         "Trek Conduit+ - 2016"
        ],
        [
         "Laraine",
         429,
         153,
         4,
         "Kali",
         "Rowlett Bikes",
         "Ritchey Timberwolf Frameset - 2016"
        ],
        [
         "Laraine",
         429,
         153,
         4,
         "Kali",
         "Rowlett Bikes",
         "Surly Ice Cream Truck Frameset - 2016"
        ],
        [
         "Laraine",
         429,
         153,
         4,
         "Kali",
         "Rowlett Bikes",
         "Heller Shagamaw Frame - 2016"
        ],
        [
         "Laraine",
         429,
         153,
         4,
         "Kali",
         "Rowlett Bikes",
         "Trek Fuel EX 8 29 - 2016"
        ],
        [
         "Laraine",
         429,
         153,
         4,
         "Kali",
         "Rowlett Bikes",
         "Surly Straggler 650b - 2016"
        ],
        [
         "Keri",
         435,
         77,
         4,
         "Layla",
         "Rowlett Bikes",
         "Pure Cycles Western 3-Speed - Women's - 2015/2016"
        ],
        [
         "Keri",
         435,
         77,
         4,
         "Layla",
         "Rowlett Bikes",
         "Trek Conduit+ - 2016"
        ],
        [
         "Keri",
         435,
         77,
         4,
         "Layla",
         "Rowlett Bikes",
         "Electra Girl's Hawaii 1 (16-inch) - 2015/2016"
        ],
        [
         "Javier",
         438,
         314,
         4,
         "Kali",
         "Rowlett Bikes",
         "Electra Cruiser 1 (24-Inch) - 2016"
        ],
        [
         "Javier",
         438,
         314,
         4,
         "Kali",
         "Rowlett Bikes",
         "Trek Remedy 29 Carbon Frameset - 2016"
        ],
        [
         "Javier",
         438,
         314,
         4,
         "Kali",
         "Rowlett Bikes",
         "Electra Girl's Hawaii 1 (16-inch) - 2015/2016"
        ],
        [
         "Javier",
         438,
         314,
         4,
         "Kali",
         "Rowlett Bikes",
         "Trek Fuel EX 8 29 - 2016"
        ],
        [
         "Vallie",
         447,
         808,
         4,
         "Kali",
         "Rowlett Bikes",
         "Trek Remedy 29 Carbon Frameset - 2016"
        ],
        [
         "Vallie",
         447,
         808,
         4,
         "Kali",
         "Rowlett Bikes",
         "Surly Wednesday Frameset - 2016"
        ],
        [
         "Vallie",
         447,
         808,
         4,
         "Kali",
         "Rowlett Bikes",
         "Trek Fuel EX 8 29 - 2016"
        ],
        [
         "Alanna",
         456,
         1061,
         4,
         "Layla",
         "Rowlett Bikes",
         "Electra Girl's Hawaii 1 (20-inch) - 2015/2016"
        ],
        [
         "Alanna",
         456,
         1061,
         4,
         "Layla",
         "Rowlett Bikes",
         "Pure Cycles Vine 8-Speed - 2016"
        ],
        [
         "Ladawn",
         460,
         691,
         4,
         "Kali",
         "Rowlett Bikes",
         "Electra Girl's Hawaii 1 (16-inch) - 2015/2016"
        ],
        [
         "Ladawn",
         460,
         691,
         4,
         "Kali",
         "Rowlett Bikes",
         "Trek Fuel EX 8 29 - 2016"
        ],
        [
         "Ladawn",
         460,
         691,
         4,
         "Kali",
         "Rowlett Bikes",
         "Pure Cycles Western 3-Speed - Women's - 2015/2016"
        ],
        [
         "Ladawn",
         460,
         691,
         4,
         "Kali",
         "Rowlett Bikes",
         "Pure Cycles William 3-Speed - 2016"
        ],
        [
         "Brent",
         463,
         964,
         4,
         "Kali",
         "Rowlett Bikes",
         "Electra Cruiser 1 (24-Inch) - 2016"
        ],
        [
         "Marry",
         467,
         555,
         4,
         "Kali",
         "Rowlett Bikes",
         "Surly Straggler 650b - 2016"
        ],
        [
         "Marry",
         467,
         555,
         4,
         "Kali",
         "Rowlett Bikes",
         "Pure Cycles Vine 8-Speed - 2016"
        ],
        [
         "Marry",
         467,
         555,
         4,
         "Kali",
         "Rowlett Bikes",
         "Electra Girl's Hawaii 1 (16-inch) - 2015/2016"
        ],
        [
         "Marry",
         467,
         555,
         4,
         "Kali",
         "Rowlett Bikes",
         "Surly Straggler - 2016"
        ],
        [
         "Marry",
         467,
         555,
         4,
         "Kali",
         "Rowlett Bikes",
         "Pure Cycles William 3-Speed - 2016"
        ],
        [
         "Jayson",
         481,
         481,
         4,
         "Layla",
         "Rowlett Bikes",
         "Trek Conduit+ - 2016"
        ],
        [
         "Jayson",
         481,
         481,
         4,
         "Layla",
         "Rowlett Bikes",
         "Electra Townie Original 7D EQ - 2016"
        ],
        [
         "Jayson",
         481,
         481,
         4,
         "Layla",
         "Rowlett Bikes",
         "Electra Cruiser 1 (24-Inch) - 2016"
        ],
        [
         "Carisa",
         489,
         899,
         4,
         "Kali",
         "Rowlett Bikes",
         "Trek Remedy 29 Carbon Frameset - 2016"
        ],
        [
         "Shaunda",
         502,
         401,
         4,
         "Layla",
         "Rowlett Bikes",
         "Electra Cruiser 1 (24-Inch) - 2016"
        ],
        [
         "Merlene",
         531,
         116,
         4,
         "Kali",
         "Rowlett Bikes",
         "Electra Townie Original 7D - 2015/2016"
        ],
        [
         "Merlene",
         531,
         116,
         4,
         "Kali",
         "Rowlett Bikes",
         "Electra Townie Original 21D - 2016"
        ],
        [
         "Merlene",
         531,
         116,
         4,
         "Kali",
         "Rowlett Bikes",
         "Surly Ice Cream Truck Frameset - 2016"
        ],
        [
         "Roseanne",
         535,
         835,
         4,
         "Layla",
         "Rowlett Bikes",
         "Electra Girl's Hawaii 1 (16-inch) - 2015/2016"
        ],
        [
         "Roseanne",
         535,
         835,
         4,
         "Layla",
         "Rowlett Bikes",
         "Electra Moto 1 - 2016"
        ],
        [
         "Roseanne",
         535,
         835,
         4,
         "Layla",
         "Rowlett Bikes",
         "Electra Townie Original 21D - 2016"
        ],
        [
         "Bao",
         545,
         1108,
         4,
         "Layla",
         "Rowlett Bikes",
         "Electra Townie Original 7D EQ - Women's - 2016"
        ],
        [
         "Bao",
         545,
         1108,
         4,
         "Layla",
         "Rowlett Bikes",
         "Electra Townie Original 21D - 2016"
        ],
        [
         "Bao",
         545,
         1108,
         4,
         "Layla",
         "Rowlett Bikes",
         "Surly Ice Cream Truck Frameset - 2016"
        ],
        [
         "Bao",
         545,
         1108,
         4,
         "Layla",
         "Rowlett Bikes",
         "Electra Townie Original 7D - 2015/2016"
        ],
        [
         "Aleta",
         547,
         20,
         4,
         "Kali",
         "Rowlett Bikes",
         "Heller Shagamaw Frame - 2016"
        ],
        [
         "Aleta",
         547,
         20,
         4,
         "Kali",
         "Rowlett Bikes",
         "Trek Conduit+ - 2016"
        ],
        [
         "Aleta",
         547,
         20,
         4,
         "Kali",
         "Rowlett Bikes",
         "Surly Straggler 650b - 2016"
        ],
        [
         "Bobbie",
         549,
         64,
         3,
         "Layla",
         "Rowlett Bikes",
         "Electra Cruiser 1 (24-Inch) - 2016"
        ],
        [
         "Bobbie",
         549,
         64,
         3,
         "Layla",
         "Rowlett Bikes",
         "Trek Slash 8 27.5 - 2016"
        ],
        [
         "Bobbie",
         549,
         64,
         3,
         "Layla",
         "Rowlett Bikes",
         "Surly Wednesday Frameset - 2016"
        ],
        [
         "Bobbie",
         549,
         64,
         3,
         "Layla",
         "Rowlett Bikes",
         "Electra Townie Original 7D EQ - 2016"
        ],
        [
         "Bobbie",
         549,
         64,
         3,
         "Layla",
         "Rowlett Bikes",
         "Electra Moto 1 - 2016"
        ],
        [
         "Liliana",
         553,
         913,
         4,
         "Layla",
         "Rowlett Bikes",
         "Electra Townie Original 21D - 2016"
        ],
        [
         "Liliana",
         553,
         913,
         4,
         "Layla",
         "Rowlett Bikes",
         "Pure Cycles Western 3-Speed - Women's - 2015/2016"
        ],
        [
         "Liliana",
         553,
         913,
         4,
         "Layla",
         "Rowlett Bikes",
         "Electra Townie Original 21D - 2016"
        ],
        [
         "Elinore",
         556,
         61,
         4,
         "Layla",
         "Rowlett Bikes",
         "Trek Fuel EX 8 29 - 2016"
        ],
        [
         "Elinore",
         556,
         61,
         4,
         "Layla",
         "Rowlett Bikes",
         "Electra Townie Original 7D EQ - 2016"
        ],
        [
         "Omer",
         579,
         160,
         4,
         "Kali",
         "Rowlett Bikes",
         "Surly Ice Cream Truck Frameset - 2016"
        ],
        [
         "Omer",
         579,
         160,
         4,
         "Kali",
         "Rowlett Bikes",
         "Trek Slash 8 27.5 - 2016"
        ],
        [
         "Cleotilde",
         593,
         50,
         4,
         "Kali",
         "Rowlett Bikes",
         "Electra Townie Original 7D - 2015/2016"
        ],
        [
         "Cleotilde",
         593,
         50,
         4,
         "Kali",
         "Rowlett Bikes",
         "Surly Wednesday Frameset - 2016"
        ],
        [
         "Tisha",
         594,
         1318,
         4,
         "Kali",
         "Rowlett Bikes",
         "Electra Cruiser 1 (24-Inch) - 2016"
        ],
        [
         "Tisha",
         594,
         1318,
         4,
         "Kali",
         "Rowlett Bikes",
         "Electra Townie Original 7D EQ - 2016"
        ],
        [
         "Tricia",
         615,
         560,
         4,
         "Layla",
         "Rowlett Bikes",
         "Pure Cycles William 3-Speed - 2016"
        ],
        [
         "Tricia",
         615,
         560,
         4,
         "Layla",
         "Rowlett Bikes",
         "Surly Ice Cream Truck Frameset - 2016"
        ],
        [
         "Tricia",
         615,
         560,
         4,
         "Layla",
         "Rowlett Bikes",
         "Electra Girl's Hawaii 1 (20-inch) - 2015/2016"
        ],
        [
         "Tricia",
         615,
         560,
         4,
         "Layla",
         "Rowlett Bikes",
         "Surly Straggler 650b - 2016"
        ],
        [
         "Shantae",
         633,
         1040,
         4,
         "Kali",
         "Rowlett Bikes",
         "Surly Straggler - 2016"
        ],
        [
         "Shantae",
         633,
         1040,
         4,
         "Kali",
         "Rowlett Bikes",
         "Heller Shagamaw Frame - 2016"
        ],
        [
         "Shantae",
         633,
         1040,
         4,
         "Kali",
         "Rowlett Bikes",
         "Electra Cruiser 1 (24-Inch) - 2016"
        ],
        [
         "Shantae",
         633,
         1040,
         4,
         "Kali",
         "Rowlett Bikes",
         "Electra Townie Original 21D - 2016"
        ],
        [
         "Milagros",
         652,
         985,
         4,
         "Layla",
         "Rowlett Bikes",
         "Electra Cruiser Lux 1 - 2017"
        ],
        [
         "Milagros",
         652,
         985,
         4,
         "Layla",
         "Rowlett Bikes",
         "Electra Girl's Hawaii 1 (20-inch) - 2015/2016"
        ],
        [
         "Milagros",
         652,
         985,
         4,
         "Layla",
         "Rowlett Bikes",
         "Sun Bicycles Revolutions 24 - Girl's - 2017"
        ],
        [
         "Milagros",
         652,
         985,
         4,
         "Layla",
         "Rowlett Bikes",
         "Trek Boone 7 - 2017"
        ],
        [
         "Milagros",
         652,
         985,
         4,
         "Layla",
         "Rowlett Bikes",
         "Electra Townie Original 7D - 2017"
        ],
        [
         "Christia",
         668,
         297,
         4,
         "Kali",
         "Rowlett Bikes",
         "Pure Cycles William 3-Speed - 2016"
        ],
        [
         "Christia",
         668,
         297,
         4,
         "Kali",
         "Rowlett Bikes",
         "Trek Emonda S 4 - 2017"
        ],
        [
         "Bobbie",
         673,
         64,
         4,
         "Layla",
         "Rowlett Bikes",
         "Electra Cruiser 1 (24-Inch) - 2016"
        ],
        [
         "Bobbie",
         673,
         64,
         4,
         "Layla",
         "Rowlett Bikes",
         "Heller Shagamaw Frame - 2016"
        ],
        [
         "Bobbie",
         673,
         64,
         4,
         "Layla",
         "Rowlett Bikes",
         "Haro Flightline Two 26 Plus - 2017"
        ],
        [
         "Bobbie",
         673,
         64,
         4,
         "Layla",
         "Rowlett Bikes",
         "Sun Bicycles Revolutions 24 - 2017"
        ],
        [
         "Ivonne",
         678,
         250,
         4,
         "Layla",
         "Rowlett Bikes",
         "Haro Flightline One ST - 2017"
        ],
        [
         "Ivonne",
         678,
         250,
         4,
         "Layla",
         "Rowlett Bikes",
         "Surly Steamroller - 2017"
        ],
        [
         "Jasmin",
         698,
         543,
         4,
         "Kali",
         "Rowlett Bikes",
         "Trek Fuel EX 9.8 29 - 2017"
        ],
        [
         "Jasmin",
         698,
         543,
         4,
         "Kali",
         "Rowlett Bikes",
         "Electra Townie Original 21D - 2016"
        ],
        [
         "Jasmin",
         698,
         543,
         4,
         "Kali",
         "Rowlett Bikes",
         "Electra Moto 3i (20-inch) - Boy's - 2017"
        ],
        [
         "Ciera",
         699,
         958,
         4,
         "Layla",
         "Rowlett Bikes",
         "Electra Amsterdam Original 3i Ladies' - 2017"
        ],
        [
         "Ciera",
         699,
         958,
         4,
         "Layla",
         "Rowlett Bikes",
         "Electra Townie Original 21D - 2016"
        ],
        [
         "Ciera",
         699,
         958,
         4,
         "Layla",
         "Rowlett Bikes",
         "Surly Wednesday - 2017"
        ],
        [
         "Ciera",
         699,
         958,
         4,
         "Layla",
         "Rowlett Bikes",
         "Trek Emonda S 4 - 2017"
        ],
        [
         "Ciera",
         699,
         958,
         4,
         "Layla",
         "Rowlett Bikes",
         "Sun Bicycles Cruz 3 - 2017"
        ],
        [
         "Stephanie",
         701,
         850,
         4,
         "Layla",
         "Rowlett Bikes",
         "Sun Bicycles Lil Kitt'n - 2017"
        ],
        [
         "Marquerite",
         712,
         173,
         4,
         "Layla",
         "Rowlett Bikes",
         "Trek Fuel EX 8 29 - 2016"
        ],
        [
         "Marquerite",
         712,
         173,
         4,
         "Layla",
         "Rowlett Bikes",
         "\"Electra Girl's Hawaii 1 16\"\" - 2017\""
        ],
        [
         "Marquerite",
         712,
         173,
         4,
         "Layla",
         "Rowlett Bikes",
         "Sun Bicycles Spider 3i - 2017"
        ],
        [
         "Marquerite",
         712,
         173,
         4,
         "Layla",
         "Rowlett Bikes",
         "Electra Cruiser Lux 1 - 2017"
        ],
        [
         "Marquerite",
         712,
         173,
         4,
         "Layla",
         "Rowlett Bikes",
         "Haro SR 1.1 - 2017"
        ],
        [
         "Michel",
         713,
         207,
         4,
         "Kali",
         "Rowlett Bikes",
         "Sun Bicycles Cruz 3 - Women's - 2017"
        ],
        [
         "Michel",
         713,
         207,
         4,
         "Kali",
         "Rowlett Bikes",
         "Surly Ogre Frameset - 2017"
        ],
        [
         "Michel",
         713,
         207,
         4,
         "Kali",
         "Rowlett Bikes",
         "Electra Savannah 3i (20-inch) - Girl's - 2017"
        ],
        [
         "Michel",
         713,
         207,
         4,
         "Kali",
         "Rowlett Bikes",
         "Haro Shredder 20 Girls - 2017"
        ],
        [
         "Maple",
         727,
         962,
         4,
         "Layla",
         "Rowlett Bikes",
         "Electra Amsterdam Original 3i Ladies' - 2017"
        ],
        [
         "Maple",
         727,
         962,
         4,
         "Layla",
         "Rowlett Bikes",
         "Sun Bicycles Biscayne Tandem CB - 2017"
        ],
        [
         "Elenore",
         731,
         910,
         4,
         "Layla",
         "Rowlett Bikes",
         "Trek X-Caliber 8 - 2017"
        ],
        [
         "Elenore",
         731,
         910,
         4,
         "Layla",
         "Rowlett Bikes",
         "Sun Bicycles Revolutions 24 - Girl's - 2017"
        ],
        [
         "Elenore",
         731,
         910,
         4,
         "Layla",
         "Rowlett Bikes",
         "Trek Domane SL 6 - 2017"
        ],
        [
         "Elenore",
         731,
         910,
         4,
         "Layla",
         "Rowlett Bikes",
         "Trek Precaliber 24 (21-Speed) - Girls - 2017"
        ],
        [
         "Maximina",
         734,
         939,
         4,
         "Layla",
         "Rowlett Bikes",
         "Sun Bicycles Lil Bolt Type-R - 2017"
        ],
        [
         "Maximina",
         734,
         939,
         4,
         "Layla",
         "Rowlett Bikes",
         "Sun Bicycles Lil Kitt'n - 2017"
        ],
        [
         "Maximina",
         734,
         939,
         4,
         "Layla",
         "Rowlett Bikes",
         "Surly Wednesday Frameset - 2016"
        ],
        [
         "Maximina",
         734,
         939,
         4,
         "Layla",
         "Rowlett Bikes",
         "Electra Townie Original 7D EQ - 2016"
        ],
        [
         "Aleta",
         735,
         20,
         3,
         "Layla",
         "Rowlett Bikes",
         "Surly Straggler - 2016"
        ],
        [
         "Aleta",
         735,
         20,
         3,
         "Layla",
         "Rowlett Bikes",
         "Sun Bicycles Atlas X-Type - 2017"
        ],
        [
         "Thalia",
         741,
         119,
         4,
         "Kali",
         "Rowlett Bikes",
         "Trek Domane SLR 6 Disc - 2017"
        ],
        [
         "Thalia",
         741,
         119,
         4,
         "Kali",
         "Rowlett Bikes",
         "Electra Cruiser 1 (24-Inch) - 2016"
        ],
        [
         "Thalia",
         741,
         119,
         4,
         "Kali",
         "Rowlett Bikes",
         "\"Electra Girl's Hawaii 1 16\"\" - 2017\""
        ],
        [
         "Thalia",
         741,
         119,
         4,
         "Kali",
         "Rowlett Bikes",
         "Trek Madone 9.2 - 2017"
        ],
        [
         "Holly",
         742,
         433,
         4,
         "Layla",
         "Rowlett Bikes",
         "Haro SR 1.2 - 2017"
        ],
        [
         "Holly",
         742,
         433,
         4,
         "Layla",
         "Rowlett Bikes",
         "Sun Bicycles Cruz 7 - 2017"
        ],
        [
         "Maryalice",
         748,
         1072,
         4,
         "Kali",
         "Rowlett Bikes",
         "Sun Bicycles Spider 3i - 2017"
        ],
        [
         "Maryalice",
         748,
         1072,
         4,
         "Kali",
         "Rowlett Bikes",
         "Haro Shift R3 - 2017"
        ],
        [
         "Maryalice",
         748,
         1072,
         4,
         "Kali",
         "Rowlett Bikes",
         "Trek Boy's Kickster - 2015/2017"
        ],
        [
         "Maryalice",
         748,
         1072,
         4,
         "Kali",
         "Rowlett Bikes",
         "Electra Townie Original 7D EQ - 2016"
        ],
        [
         "Freddie",
         750,
         232,
         4,
         "Kali",
         "Rowlett Bikes",
         "Sun Bicycles Biscayne Tandem CB - 2017"
        ],
        [
         "Freddie",
         750,
         232,
         4,
         "Kali",
         "Rowlett Bikes",
         "Sun Bicycles Biscayne Tandem 7 - 2017"
        ],
        [
         "Kattie",
         758,
         953,
         4,
         "Layla",
         "Rowlett Bikes",
         "Sun Bicycles Cruz 7 - Women's - 2017"
        ],
        [
         "Kattie",
         758,
         953,
         4,
         "Layla",
         "Rowlett Bikes",
         "Sun Bicycles Lil Bolt Type-R - 2017"
        ],
        [
         "Kattie",
         758,
         953,
         4,
         "Layla",
         "Rowlett Bikes",
         "Surly Big Dummy Frameset - 2017"
        ],
        [
         "Kattie",
         758,
         953,
         4,
         "Layla",
         "Rowlett Bikes",
         "Electra Sugar Skulls 1 (20-inch) - Girl's - 2017"
        ],
        [
         "Kattie",
         758,
         953,
         4,
         "Layla",
         "Rowlett Bikes",
         "Electra Girl's Hawaii 1 (16-inch) - 2015/2016"
        ],
        [
         "Giselle",
         763,
         842,
         4,
         "Layla",
         "Rowlett Bikes",
         "Sun Bicycles Streamway 3 - 2017"
        ],
        [
         "Giselle",
         763,
         842,
         4,
         "Layla",
         "Rowlett Bikes",
         "Trek Precaliber 16 Girls - 2017"
        ],
        [
         "Dorthey",
         770,
         135,
         4,
         "Layla",
         "Rowlett Bikes",
         "Surly Straggler 650b - 2016"
        ],
        [
         "Dorthey",
         770,
         135,
         4,
         "Layla",
         "Rowlett Bikes",
         "Sun Bicycles Streamway 3 - 2017"
        ],
        [
         "Dorthey",
         770,
         135,
         4,
         "Layla",
         "Rowlett Bikes",
         "Trek Fuel EX 5 27.5 Plus - 2017"
        ],
        [
         "Dorthey",
         770,
         135,
         4,
         "Layla",
         "Rowlett Bikes",
         "Sun Bicycles Drifter 7 - 2017"
        ],
        [
         "Lolita",
         778,
         56,
         3,
         "Layla",
         "Rowlett Bikes",
         "Haro Downtown 16 - 2017"
        ],
        [
         "Lolita",
         778,
         56,
         3,
         "Layla",
         "Rowlett Bikes",
         "Electra Townie Original 7D - 2017"
        ],
        [
         "Collene",
         787,
         700,
         4,
         "Layla",
         "Rowlett Bikes",
         "Sun Bicycles Revolutions 24 - 2017"
        ],
        [
         "Collene",
         787,
         700,
         4,
         "Layla",
         "Rowlett Bikes",
         "Trek Silque SLR 8 Women's - 2017"
        ],
        [
         "Nestor",
         788,
         1363,
         4,
         "Layla",
         "Rowlett Bikes",
         "Electra Cruiser 1 (24-Inch) - 2016"
        ],
        [
         "Nestor",
         788,
         1363,
         4,
         "Layla",
         "Rowlett Bikes",
         "Pure Cycles William 3-Speed - 2016"
        ],
        [
         "Nestor",
         788,
         1363,
         4,
         "Layla",
         "Rowlett Bikes",
         "Trek Emonda S 4 - 2017"
        ],
        [
         "Jenise",
         796,
         154,
         4,
         "Layla",
         "Rowlett Bikes",
         "Surly Ice Cream Truck Frameset - 2016"
        ],
        [
         "Armando",
         803,
         1105,
         4,
         "Kali",
         "Rowlett Bikes",
         "Trek Boy's Kickster - 2015/2017"
        ],
        [
         "Armando",
         803,
         1105,
         4,
         "Kali",
         "Rowlett Bikes",
         "Electra Townie Original 7D - 2017"
        ],
        [
         "Armando",
         803,
         1105,
         4,
         "Kali",
         "Rowlett Bikes",
         "Surly Steamroller - 2017"
        ],
        [
         "Armando",
         803,
         1105,
         4,
         "Kali",
         "Rowlett Bikes",
         "Sun Bicycles Drifter 7 - Women's - 2017"
        ],
        [
         "Laraine",
         810,
         153,
         3,
         "Kali",
         "Rowlett Bikes",
         "Electra Girl's Hawaii 1 (16-inch) - 2015/2016"
        ],
        [
         "Laraine",
         810,
         153,
         3,
         "Kali",
         "Rowlett Bikes",
         "Trek Domane SLR 6 Disc - 2017"
        ],
        [
         "Laraine",
         810,
         153,
         3,
         "Kali",
         "Rowlett Bikes",
         "Electra Townie 3i EQ (20-inch) - Boys' - 2017"
        ],
        [
         "Laraine",
         810,
         153,
         3,
         "Kali",
         "Rowlett Bikes",
         "Sun Bicycles Streamway 3 - 2017"
        ],
        [
         "Georgeann",
         813,
         1203,
         4,
         "Layla",
         "Rowlett Bikes",
         "Sun Bicycles Atlas X-Type - 2017"
        ],
        [
         "Georgeann",
         813,
         1203,
         4,
         "Layla",
         "Rowlett Bikes",
         "Electra Townie Original 7D EQ - 2016"
        ],
        [
         "Georgeann",
         813,
         1203,
         4,
         "Layla",
         "Rowlett Bikes",
         "Surly Wednesday Frameset - 2017"
        ],
        [
         "Georgeann",
         813,
         1203,
         4,
         "Layla",
         "Rowlett Bikes",
         "Haro Downtown 16 - 2017"
        ],
        [
         "Georgeann",
         813,
         1203,
         4,
         "Layla",
         "Rowlett Bikes",
         "Electra Moto 3i (20-inch) - Boy's - 2017"
        ],
        [
         "Clementine",
         819,
         221,
         4,
         "Layla",
         "Rowlett Bikes",
         "Haro Shredder Pro 20 - 2017"
        ],
        [
         "Gwendolyn",
         823,
         415,
         4,
         "Kali",
         "Rowlett Bikes",
         "Electra Amsterdam Fashion 7i Ladies' - 2017"
        ],
        [
         "Gwendolyn",
         823,
         415,
         4,
         "Kali",
         "Rowlett Bikes",
         "Trek Girl's Kickster - 2017"
        ],
        [
         "Gwendolyn",
         823,
         415,
         4,
         "Kali",
         "Rowlett Bikes",
         "Trek Domane SLR 6 Disc - 2017"
        ],
        [
         "Lashawn",
         852,
         13,
         4,
         "Layla",
         "Rowlett Bikes",
         "Haro SR 1.3 - 2017"
        ],
        [
         "Gilberte",
         853,
         883,
         4,
         "Kali",
         "Rowlett Bikes",
         "Surly Ice Cream Truck Frameset - 2016"
        ],
        [
         "Gilberte",
         853,
         883,
         4,
         "Kali",
         "Rowlett Bikes",
         "Haro SR 1.2 - 2017"
        ],
        [
         "Gilberte",
         853,
         883,
         4,
         "Kali",
         "Rowlett Bikes",
         "Trek Fuel EX 5 27.5 Plus - 2017"
        ],
        [
         "Gilberte",
         853,
         883,
         4,
         "Kali",
         "Rowlett Bikes",
         "Trek Madone 9.2 - 2017"
        ],
        [
         "Gilberte",
         853,
         883,
         4,
         "Kali",
         "Rowlett Bikes",
         "Electra Sugar Skulls 1 (20-inch) - Girl's - 2017"
        ],
        [
         "Jesus",
         862,
         1230,
         4,
         "Kali",
         "Rowlett Bikes",
         "Trek Domane SL 6 - 2017"
        ],
        [
         "Jesus",
         862,
         1230,
         4,
         "Kali",
         "Rowlett Bikes",
         "Electra Sugar Skulls 1 (20-inch) - Girl's - 2017"
        ],
        [
         "Jesus",
         862,
         1230,
         4,
         "Kali",
         "Rowlett Bikes",
         "Haro Downtown 16 - 2017"
        ],
        [
         "Coleman",
         881,
         1024,
         4,
         "Layla",
         "Rowlett Bikes",
         "Sun Bicycles Revolutions 24 - Girl's - 2017"
        ],
        [
         "Coleman",
         881,
         1024,
         4,
         "Layla",
         "Rowlett Bikes",
         "Electra Townie Original 7D - 2017"
        ],
        [
         "Coleman",
         881,
         1024,
         4,
         "Layla",
         "Rowlett Bikes",
         "Trek Silque SLR 7 Women's - 2017"
        ],
        [
         "Coleman",
         881,
         1024,
         4,
         "Layla",
         "Rowlett Bikes",
         "Electra Straight 8 3i (20-inch) - Boy's - 2017"
        ],
        [
         "Lorrie",
         885,
         66,
         3,
         "Kali",
         "Rowlett Bikes",
         "Trek Fuel EX 9.8 27.5 Plus - 2017"
        ],
        [
         "Lorrie",
         885,
         66,
         3,
         "Kali",
         "Rowlett Bikes",
         "Sun Bicycles Cruz 3 - 2017"
        ],
        [
         "Edmund",
         889,
         830,
         4,
         "Kali",
         "Rowlett Bikes",
         "Electra Townie Original 21D - 2016"
        ],
        [
         "Elanor",
         896,
         376,
         4,
         "Layla",
         "Rowlett Bikes",
         "Surly Straggler - 2016"
        ],
        [
         "Elanor",
         896,
         376,
         4,
         "Layla",
         "Rowlett Bikes",
         "Trek Precaliber 24 (21-Speed) - Girls - 2017"
        ],
        [
         "Jayne",
         924,
         68,
         3,
         "Kali",
         "Rowlett Bikes",
         "Surly Troll Frameset - 2017"
        ],
        [
         "Jayne",
         924,
         68,
         3,
         "Kali",
         "Rowlett Bikes",
         "Electra Savannah 3i (20-inch) - Girl's - 2017"
        ],
        [
         "Abram",
         930,
         1224,
         4,
         "Layla",
         "Rowlett Bikes",
         "Trek Silque SLR 8 Women's - 2017"
        ],
        [
         "Abram",
         930,
         1224,
         4,
         "Layla",
         "Rowlett Bikes",
         "Sun Bicycles Lil Bolt Type-R - 2017"
        ],
        [
         "Abram",
         930,
         1224,
         4,
         "Layla",
         "Rowlett Bikes",
         "Sun Bicycles ElectroLite - 2017"
        ],
        [
         "Abram",
         930,
         1224,
         4,
         "Layla",
         "Rowlett Bikes",
         "Electra Amsterdam Original 3i Ladies' - 2017"
        ],
        [
         "Abram",
         930,
         1224,
         4,
         "Layla",
         "Rowlett Bikes",
         "Trek Domane SLR 6 Disc - 2017"
        ],
        [
         "Mozelle",
         935,
         43,
         3,
         "Kali",
         "Rowlett Bikes",
         "Haro Flightline Two 26 Plus - 2017"
        ],
        [
         "Mozelle",
         935,
         43,
         3,
         "Kali",
         "Rowlett Bikes",
         "Surly Ice Cream Truck Frameset - 2016"
        ],
        [
         "Mozelle",
         935,
         43,
         3,
         "Kali",
         "Rowlett Bikes",
         "\"Electra Girl's Hawaii 1 16\"\" - 2017\""
        ],
        [
         "Mozelle",
         935,
         43,
         3,
         "Kali",
         "Rowlett Bikes",
         "Sun Bicycles Lil Bolt Type-R - 2017"
        ],
        [
         "Camila",
         957,
         722,
         4,
         "Layla",
         "Rowlett Bikes",
         "Sun Bicycles Drifter 7 - Women's - 2017"
        ],
        [
         "Camila",
         957,
         722,
         4,
         "Layla",
         "Rowlett Bikes",
         "Sun Bicycles Revolutions 24 - 2017"
        ],
        [
         "Camila",
         957,
         722,
         4,
         "Layla",
         "Rowlett Bikes",
         "Electra Amsterdam Original 3i - 2015/2017"
        ],
        [
         "Camila",
         957,
         722,
         4,
         "Layla",
         "Rowlett Bikes",
         "Electra Girl's Hawaii 1 (16-inch) - 2015/2016"
        ],
        [
         "Camila",
         957,
         722,
         4,
         "Layla",
         "Rowlett Bikes",
         "Sun Bicycles Cruz 3 - Women's - 2017"
        ],
        [
         "Leif",
         966,
         389,
         4,
         "Kali",
         "Rowlett Bikes",
         "Sun Bicycles Brickell Tandem 7 - 2017"
        ],
        [
         "Leif",
         966,
         389,
         4,
         "Kali",
         "Rowlett Bikes",
         "Trek Precaliber 12 Girls - 2017"
        ],
        [
         "Cecelia",
         969,
         248,
         4,
         "Layla",
         "Rowlett Bikes",
         "Surly Troll Frameset - 2017"
        ],
        [
         "Cecelia",
         969,
         248,
         4,
         "Layla",
         "Rowlett Bikes",
         "Electra Cruiser Lux 1 - 2017"
        ],
        [
         "Londa",
         971,
         1426,
         4,
         "Kali",
         "Rowlett Bikes",
         "Haro Flightline Two 26 Plus - 2017"
        ],
        [
         "Londa",
         971,
         1426,
         4,
         "Kali",
         "Rowlett Bikes",
         "Electra Townie Original 21D - 2016"
        ],
        [
         "Londa",
         971,
         1426,
         4,
         "Kali",
         "Rowlett Bikes",
         "Trek Remedy 29 Carbon Frameset - 2016"
        ],
        [
         "Londa",
         971,
         1426,
         4,
         "Kali",
         "Rowlett Bikes",
         "Sun Bicycles Lil Bolt Type-R - 2017"
        ],
        [
         "Londa",
         971,
         1426,
         4,
         "Kali",
         "Rowlett Bikes",
         "Electra Amsterdam Original 3i - 2015/2017"
        ],
        [
         "Julienne",
         974,
         511,
         4,
         "Kali",
         "Rowlett Bikes",
         "Electra Girl's Hawaii 1 (16-inch) - 2015/2016"
        ],
        [
         "Julienne",
         974,
         511,
         4,
         "Kali",
         "Rowlett Bikes",
         "Surly Wednesday Frameset - 2017"
        ],
        [
         "Myrl",
         976,
         1266,
         4,
         "Layla",
         "Rowlett Bikes",
         "Trek Stache 5 - 2017"
        ],
        [
         "Myrl",
         976,
         1266,
         4,
         "Layla",
         "Rowlett Bikes",
         "Electra Townie Original 7D EQ - 2016"
        ],
        [
         "Bettie",
         980,
         328,
         4,
         "Layla",
         "Rowlett Bikes",
         "Electra Townie Original 7D - 2017"
        ],
        [
         "Bettie",
         980,
         328,
         4,
         "Layla",
         "Rowlett Bikes",
         "Trek Conduit+ - 2016"
        ],
        [
         "Bettie",
         980,
         328,
         4,
         "Layla",
         "Rowlett Bikes",
         "Trek Domane SL 6 - 2017"
        ],
        [
         "Cecilia",
         981,
         687,
         4,
         "Kali",
         "Rowlett Bikes",
         "Trek Powerfly 8 FS Plus - 2017"
        ],
        [
         "Cecilia",
         981,
         687,
         4,
         "Kali",
         "Rowlett Bikes",
         "Surly Troll Frameset - 2017"
        ],
        [
         "Cecilia",
         981,
         687,
         4,
         "Kali",
         "Rowlett Bikes",
         "Electra Cruiser 1 (24-Inch) - 2016"
        ],
        [
         "Cecilia",
         981,
         687,
         4,
         "Kali",
         "Rowlett Bikes",
         "\"Electra Girl's Hawaii 1 16\"\" - 2017\""
        ],
        [
         "Cecilia",
         981,
         687,
         4,
         "Kali",
         "Rowlett Bikes",
         "Sun Bicycles Spider 3i - 2017"
        ],
        [
         "Dollie",
         982,
         1423,
         4,
         "Layla",
         "Rowlett Bikes",
         "Trek Fuel EX 9.8 29 - 2017"
        ],
        [
         "Dollie",
         982,
         1423,
         4,
         "Layla",
         "Rowlett Bikes",
         "Surly Steamroller - 2017"
        ],
        [
         "Dollie",
         982,
         1423,
         4,
         "Layla",
         "Rowlett Bikes",
         "Sun Bicycles Drifter 7 - 2017"
        ],
        [
         "Dollie",
         982,
         1423,
         4,
         "Layla",
         "Rowlett Bikes",
         "Electra Girl's Hawaii 1 (16-inch) - 2015/2016"
        ],
        [
         "Patsy",
         1009,
         1064,
         4,
         "Kali",
         "Rowlett Bikes",
         "Haro SR 1.1 - 2017"
        ],
        [
         "Patsy",
         1009,
         1064,
         4,
         "Kali",
         "Rowlett Bikes",
         "\"Electra Girl's Hawaii 1 16\"\" - 2017\""
        ],
        [
         "Jasper",
         1016,
         1417,
         4,
         "Layla",
         "Rowlett Bikes",
         "\"Electra Girl's Hawaii 1 16\"\" - 2017\""
        ],
        [
         "Morton",
         1045,
         185,
         4,
         "Layla",
         "Rowlett Bikes",
         "Sun Bicycles Streamway - 2017"
        ],
        [
         "Morton",
         1045,
         185,
         4,
         "Layla",
         "Rowlett Bikes",
         "Surly Karate Monkey 27.5+ Frameset - 2017"
        ],
        [
         "Sherril",
         1046,
         1134,
         4,
         "Kali",
         "Rowlett Bikes",
         "Pure Cycles Vine 8-Speed - 2016"
        ],
        [
         "Sherril",
         1046,
         1134,
         4,
         "Kali",
         "Rowlett Bikes",
         "Haro Shift R3 - 2017"
        ],
        [
         "Sherril",
         1046,
         1134,
         4,
         "Kali",
         "Rowlett Bikes",
         "Trek Farley Alloy Frameset - 2017"
        ],
        [
         "Sherril",
         1046,
         1134,
         4,
         "Kali",
         "Rowlett Bikes",
         "Sun Bicycles Boardwalk (24-inch Wheels) - 2017"
        ],
        [
         "Sherril",
         1046,
         1134,
         4,
         "Kali",
         "Rowlett Bikes",
         "Sun Bicycles ElectroLite - 2017"
        ],
        [
         "Merlene",
         1047,
         116,
         3,
         "Kali",
         "Rowlett Bikes",
         "Trek Domane SL 6 - 2017"
        ],
        [
         "Merlene",
         1047,
         116,
         3,
         "Kali",
         "Rowlett Bikes",
         "Sun Bicycles Spider 3i - 2017"
        ],
        [
         "Merlene",
         1047,
         116,
         3,
         "Kali",
         "Rowlett Bikes",
         "Sun Bicycles Biscayne Tandem CB - 2017"
        ],
        [
         "Merlene",
         1047,
         116,
         3,
         "Kali",
         "Rowlett Bikes",
         "Surly Karate Monkey 27.5+ Frameset - 2017"
        ],
        [
         "Luis",
         1063,
         198,
         4,
         "Kali",
         "Rowlett Bikes",
         "Sun Bicycles Biscayne Tandem 7 - 2017"
        ],
        [
         "Luis",
         1063,
         198,
         4,
         "Kali",
         "Rowlett Bikes",
         "Electra Townie 3i EQ (20-inch) - Boys' - 2017"
        ],
        [
         "Luis",
         1063,
         198,
         4,
         "Kali",
         "Rowlett Bikes",
         "Surly Wednesday Frameset - 2017"
        ],
        [
         "Crysta",
         1064,
         898,
         4,
         "Layla",
         "Rowlett Bikes",
         "Trek Domane SL 6 - 2017"
        ],
        [
         "Crysta",
         1064,
         898,
         4,
         "Layla",
         "Rowlett Bikes",
         "Pure Cycles Western 3-Speed - Women's - 2015/2016"
        ],
        [
         "Delaine",
         1071,
         602,
         4,
         "Kali",
         "Rowlett Bikes",
         "Electra Townie Original 7D - 2015/2016"
        ],
        [
         "Kermit",
         1087,
         675,
         4,
         "Kali",
         "Rowlett Bikes",
         "Sun Bicycles Cruz 7 - Women's - 2017"
        ],
        [
         "Kermit",
         1087,
         675,
         4,
         "Kali",
         "Rowlett Bikes",
         "Electra Cruiser 1 (24-Inch) - 2016"
        ],
        [
         "Kermit",
         1087,
         675,
         4,
         "Kali",
         "Rowlett Bikes",
         "Trek Domane S 5 Disc - 2017"
        ],
        [
         "Kermit",
         1087,
         675,
         4,
         "Kali",
         "Rowlett Bikes",
         "Electra Townie Original 7D - 2017"
        ],
        [
         "Kermit",
         1087,
         675,
         4,
         "Kali",
         "Rowlett Bikes",
         "Electra Moto 1 - 2016"
        ],
        [
         "Efren",
         1088,
         1160,
         4,
         "Kali",
         "Rowlett Bikes",
         "Surly Troll Frameset - 2017"
        ],
        [
         "Efren",
         1088,
         1160,
         4,
         "Kali",
         "Rowlett Bikes",
         "Surly Wednesday Frameset - 2017"
        ],
        [
         "Efren",
         1088,
         1160,
         4,
         "Kali",
         "Rowlett Bikes",
         "Surly Ice Cream Truck Frameset - 2017"
        ],
        [
         "Efren",
         1088,
         1160,
         4,
         "Kali",
         "Rowlett Bikes",
         "Electra Townie Original 7D - 2017"
        ],
        [
         "Wynona",
         1095,
         1382,
         4,
         "Layla",
         "Rowlett Bikes",
         "Trek Silque SLR 7 Women's - 2017"
        ],
        [
         "Wynona",
         1095,
         1382,
         4,
         "Layla",
         "Rowlett Bikes",
         "Surly Wednesday - 2017"
        ],
        [
         "Wynona",
         1095,
         1382,
         4,
         "Layla",
         "Rowlett Bikes",
         "Electra Moto 1 - 2016"
        ],
        [
         "Wynona",
         1095,
         1382,
         4,
         "Layla",
         "Rowlett Bikes",
         "Surly Wednesday Frameset - 2016"
        ],
        [
         "Wynona",
         1095,
         1382,
         4,
         "Layla",
         "Rowlett Bikes",
         "Sun Bicycles Biscayne Tandem CB - 2017"
        ],
        [
         "Margret",
         1105,
         747,
         4,
         "Kali",
         "Rowlett Bikes",
         "Sun Bicycles Spider 3i - 2017"
        ],
        [
         "Margret",
         1105,
         747,
         4,
         "Kali",
         "Rowlett Bikes",
         "Trek Domane SLR 6 Disc - 2017"
        ],
        [
         "Margret",
         1105,
         747,
         4,
         "Kali",
         "Rowlett Bikes",
         "Sun Bicycles ElectroLite - 2017"
        ],
        [
         "Pinkie",
         1124,
         275,
         4,
         "Layla",
         "Rowlett Bikes",
         "Ritchey Timberwolf Frameset - 2016"
        ],
        [
         "Pinkie",
         1124,
         275,
         4,
         "Layla",
         "Rowlett Bikes",
         "Haro SR 1.2 - 2017"
        ],
        [
         "Pinkie",
         1124,
         275,
         4,
         "Layla",
         "Rowlett Bikes",
         "Sun Bicycles Cruz 7 - Women's - 2017"
        ],
        [
         "Pinkie",
         1124,
         275,
         4,
         "Layla",
         "Rowlett Bikes",
         "Surly Ice Cream Truck Frameset - 2016"
        ],
        [
         "Pinkie",
         1124,
         275,
         4,
         "Layla",
         "Rowlett Bikes",
         "Trek Slash 8 27.5 - 2016"
        ],
        [
         "Yang",
         1126,
         1213,
         4,
         "Kali",
         "Rowlett Bikes",
         "Trek Precaliber 16 Boys - 2017"
        ],
        [
         "Yang",
         1126,
         1213,
         4,
         "Kali",
         "Rowlett Bikes",
         "Trek Madone 9.2 - 2017"
        ],
        [
         "Yang",
         1126,
         1213,
         4,
         "Kali",
         "Rowlett Bikes",
         "Surly Wednesday Frameset - 2017"
        ],
        [
         "Ivelisse",
         1137,
         810,
         4,
         "Kali",
         "Rowlett Bikes",
         "Sun Bicycles Cruz 7 - 2017"
        ],
        [
         "Ivelisse",
         1137,
         810,
         4,
         "Kali",
         "Rowlett Bikes",
         "Sun Bicycles Lil Kitt'n - 2017"
        ],
        [
         "Ivelisse",
         1137,
         810,
         4,
         "Kali",
         "Rowlett Bikes",
         "Trek Madone 9.2 - 2017"
        ],
        [
         "Ivelisse",
         1137,
         810,
         4,
         "Kali",
         "Rowlett Bikes",
         "Surly Karate Monkey 27.5+ Frameset - 2017"
        ],
        [
         "Tammy",
         1140,
         1063,
         4,
         "Kali",
         "Rowlett Bikes",
         "Trek Fuel EX 9.8 29 - 2017"
        ],
        [
         "Tammy",
         1140,
         1063,
         4,
         "Kali",
         "Rowlett Bikes",
         "Haro Flightline Two 26 Plus - 2017"
        ],
        [
         "Tammy",
         1140,
         1063,
         4,
         "Kali",
         "Rowlett Bikes",
         "Sun Bicycles Atlas X-Type - 2017"
        ],
        [
         "Tammy",
         1140,
         1063,
         4,
         "Kali",
         "Rowlett Bikes",
         "Trek Stache 5 - 2017"
        ],
        [
         "Caroline",
         1176,
         1111,
         4,
         "Layla",
         "Rowlett Bikes",
         "Trek Precaliber 12 Boys - 2017"
        ],
        [
         "Tobie",
         1177,
         21,
         3,
         "Layla",
         "Rowlett Bikes",
         "Electra Cruiser Lux 1 - 2017"
        ],
        [
         "Tobie",
         1177,
         21,
         3,
         "Layla",
         "Rowlett Bikes",
         "Trek Boone 7 - 2017"
        ],
        [
         "Keturah",
         1179,
         1150,
         4,
         "Layla",
         "Rowlett Bikes",
         "Trek Silque SLR 7 Women's - 2017"
        ],
        [
         "Keturah",
         1179,
         1150,
         4,
         "Layla",
         "Rowlett Bikes",
         "Surly Wednesday Frameset - 2017"
        ],
        [
         "Keturah",
         1179,
         1150,
         4,
         "Layla",
         "Rowlett Bikes",
         "Trek Precaliber 12 Girls - 2017"
        ],
        [
         "Keturah",
         1179,
         1150,
         4,
         "Layla",
         "Rowlett Bikes",
         "Haro Shredder 20 Girls - 2017"
        ],
        [
         "Andria",
         1210,
         730,
         4,
         "Kali",
         "Rowlett Bikes",
         "Sun Bicycles Spider 3i - 2017"
        ],
        [
         "Andria",
         1210,
         730,
         4,
         "Kali",
         "Rowlett Bikes",
         "Sun Bicycles Lil Kitt'n - 2017"
        ],
        [
         "Andria",
         1210,
         730,
         4,
         "Kali",
         "Rowlett Bikes",
         "Sun Bicycles Biscayne Tandem CB - 2017"
        ],
        [
         "Andria",
         1210,
         730,
         4,
         "Kali",
         "Rowlett Bikes",
         "Surly Ice Cream Truck Frameset - 2016"
        ],
        [
         "Andria",
         1210,
         730,
         4,
         "Kali",
         "Rowlett Bikes",
         "Electra Townie Original 7D EQ - 2016"
        ],
        [
         "Willis",
         1213,
         669,
         4,
         "Layla",
         "Rowlett Bikes",
         "Electra Moto 1 - 2016"
        ],
        [
         "Willis",
         1213,
         669,
         4,
         "Layla",
         "Rowlett Bikes",
         "Electra Townie Original 7D - 2017"
        ],
        [
         "Willis",
         1213,
         669,
         4,
         "Layla",
         "Rowlett Bikes",
         "Sun Bicycles Biscayne Tandem CB - 2017"
        ],
        [
         "Willis",
         1213,
         669,
         4,
         "Layla",
         "Rowlett Bikes",
         "Electra Townie Original 7D - 2017"
        ],
        [
         "Narcisa",
         1222,
         482,
         4,
         "Layla",
         "Rowlett Bikes",
         "Electra Savannah 3i (20-inch) - Girl's - 2017"
        ],
        [
         "Charmain",
         1251,
         289,
         4,
         "Layla",
         "Rowlett Bikes",
         "Trek Slash 8 27.5 - 2016"
        ],
        [
         "Charmain",
         1251,
         289,
         4,
         "Layla",
         "Rowlett Bikes",
         "Trek Domane SLR 6 Disc - 2017"
        ],
        [
         "Charmain",
         1251,
         289,
         4,
         "Layla",
         "Rowlett Bikes",
         "Trek Fuel EX 9.8 29 - 2017"
        ],
        [
         "Robena",
         1280,
         123,
         4,
         "Layla",
         "Rowlett Bikes",
         "Trek Boone Race Shop Limited - 2017"
        ],
        [
         "Robena",
         1280,
         123,
         4,
         "Layla",
         "Rowlett Bikes",
         "Surly Steamroller - 2017"
        ],
        [
         "Robena",
         1280,
         123,
         4,
         "Layla",
         "Rowlett Bikes",
         "Electra Cruiser Lux 1 - 2017"
        ],
        [
         "Robena",
         1280,
         123,
         4,
         "Layla",
         "Rowlett Bikes",
         "Sun Bicycles Biscayne Tandem 7 - 2017"
        ],
        [
         "Corrinne",
         1288,
         778,
         4,
         "Layla",
         "Rowlett Bikes",
         "Pure Cycles Vine 8-Speed - 2016"
        ],
        [
         "Corrinne",
         1288,
         778,
         4,
         "Layla",
         "Rowlett Bikes",
         "Trek Boone 7 - 2017"
        ],
        [
         "Corrinne",
         1288,
         778,
         4,
         "Layla",
         "Rowlett Bikes",
         "Electra Townie Original 7D - 2017"
        ],
        [
         "Corrinne",
         1288,
         778,
         4,
         "Layla",
         "Rowlett Bikes",
         "Sun Bicycles Brickell Tandem 7 - 2017"
        ],
        [
         "Garret",
         1298,
         533,
         4,
         "Layla",
         "Rowlett Bikes",
         "Sun Bicycles Drifter 7 - 2017"
        ],
        [
         "Garret",
         1298,
         533,
         4,
         "Layla",
         "Rowlett Bikes",
         "Trek Domane S 5 Disc - 2017"
        ],
        [
         "Porter",
         1315,
         931,
         4,
         "Layla",
         "Rowlett Bikes",
         "Electra Townie Original 7D EQ - 2016"
        ],
        [
         "Porter",
         1315,
         931,
         4,
         "Layla",
         "Rowlett Bikes",
         "Electra Townie Original 7D EQ - 2016"
        ],
        [
         "Porter",
         1315,
         931,
         4,
         "Layla",
         "Rowlett Bikes",
         "Electra Townie Original 21D - 2016"
        ],
        [
         "Porter",
         1315,
         931,
         4,
         "Layla",
         "Rowlett Bikes",
         "Haro Shift R3 - 2017"
        ],
        [
         "Porter",
         1315,
         931,
         4,
         "Layla",
         "Rowlett Bikes",
         "Sun Bicycles Streamway - 2017"
        ],
        [
         "Jayne",
         1325,
         68,
         4,
         "Kali",
         "Rowlett Bikes",
         "Surly Karate Monkey 27.5+ Frameset - 2017"
        ],
        [
         "Jayne",
         1325,
         68,
         4,
         "Kali",
         "Rowlett Bikes",
         "Trek Crockett 7 Disc - 2018"
        ],
        [
         "Jayne",
         1325,
         68,
         4,
         "Kali",
         "Rowlett Bikes",
         "Electra Amsterdam Fashion 3i Ladies' - 2017/2018"
        ],
        [
         "Jayne",
         1325,
         68,
         4,
         "Kali",
         "Rowlett Bikes",
         "Trek Remedy 7 27.5 - 2018"
        ],
        [
         "Sheila",
         1326,
         567,
         4,
         "Layla",
         "Rowlett Bikes",
         "Trek Precaliber 12 Boy's - 2018"
        ],
        [
         "Sheila",
         1326,
         567,
         4,
         "Layla",
         "Rowlett Bikes",
         "Trek Dual Sport+ - 2018"
        ],
        [
         "Minerva",
         1333,
         203,
         4,
         "Kali",
         "Rowlett Bikes",
         "Sun Bicycles Biscayne Tandem CB - 2017"
        ],
        [
         "Minerva",
         1333,
         203,
         4,
         "Kali",
         "Rowlett Bikes",
         "Electra Townie Original 21D - 2016"
        ],
        [
         "Minerva",
         1333,
         203,
         4,
         "Kali",
         "Rowlett Bikes",
         "Electra Sugar Skulls 1 (20-inch) - Girl's - 2017"
        ],
        [
         "Minerva",
         1333,
         203,
         4,
         "Kali",
         "Rowlett Bikes",
         "Electra Townie Original 21D EQ - 2017/2018"
        ],
        [
         "Minerva",
         1333,
         203,
         4,
         "Kali",
         "Rowlett Bikes",
         "Trek Super Commuter+ 8S - 2018"
        ],
        [
         "Sarita",
         1346,
         136,
         4,
         "Kali",
         "Rowlett Bikes",
         "Strider Classic 12 Balance Bike - 2018"
        ],
        [
         "Sarita",
         1346,
         136,
         4,
         "Kali",
         "Rowlett Bikes",
         "Electra White Water 3i - 2018"
        ],
        [
         "Sarita",
         1346,
         136,
         4,
         "Kali",
         "Rowlett Bikes",
         "Pure Cycles Western 3-Speed - Women's - 2015/2016"
        ],
        [
         "Sarita",
         1346,
         136,
         4,
         "Kali",
         "Rowlett Bikes",
         "Trek Emonda SL 7 - 2018"
        ],
        [
         "Sarita",
         1346,
         136,
         4,
         "Kali",
         "Rowlett Bikes",
         "Trek Remedy 27.5 C Frameset - 2018"
        ],
        [
         "Berneice",
         1359,
         1008,
         4,
         "Layla",
         "Rowlett Bikes",
         "Electra Amsterdam Original 3i Ladies' - 2017"
        ],
        [
         "Berneice",
         1359,
         1008,
         4,
         "Layla",
         "Rowlett Bikes",
         "Electra Cyclosaurus 1 (16-inch) - Boy's - 2018"
        ],
        [
         "Latonya",
         1373,
         427,
         4,
         "Layla",
         "Rowlett Bikes",
         "Trek Boone Race Shop Limited - 2017"
        ],
        [
         "Cameron",
         1375,
         312,
         4,
         "Kali",
         "Rowlett Bikes",
         "Trek Domane SL 5 Disc - 2018"
        ],
        [
         "Cameron",
         1375,
         312,
         4,
         "Kali",
         "Rowlett Bikes",
         "Trek Domane ALR 5 Gravel - 2018"
        ],
        [
         "Lynwood",
         1385,
         866,
         4,
         "Layla",
         "Rowlett Bikes",
         "Trek X-Caliber Frameset - 2018"
        ],
        [
         "Lynwood",
         1385,
         866,
         4,
         "Layla",
         "Rowlett Bikes",
         "Trek Stache 5 - 2017"
        ],
        [
         "Lynwood",
         1385,
         866,
         4,
         "Layla",
         "Rowlett Bikes",
         "Trek Domane ALR 5 Disc - 2018"
        ],
        [
         "Lynwood",
         1385,
         866,
         4,
         "Layla",
         "Rowlett Bikes",
         "Electra Townie Original 21D - 2016"
        ],
        [
         "Erik",
         1394,
         906,
         4,
         "Kali",
         "Rowlett Bikes",
         "Trek 1120 - 2018"
        ],
        [
         "Tobie",
         1409,
         21,
         4,
         "Kali",
         "Rowlett Bikes",
         "Electra Cruiser 1 Tall - 2016/2018"
        ],
        [
         "Tobie",
         1409,
         21,
         4,
         "Kali",
         "Rowlett Bikes",
         "Strider Strider 20 Sport - 2018"
        ],
        [
         "Tobie",
         1409,
         21,
         4,
         "Kali",
         "Rowlett Bikes",
         "Trek Domane SL 6 - 2018"
        ],
        [
         "Tobie",
         1409,
         21,
         4,
         "Kali",
         "Rowlett Bikes",
         "Trek CrossRip 2 - 2018"
        ],
        [
         "Tobie",
         1409,
         21,
         4,
         "Kali",
         "Rowlett Bikes",
         "Electra Townie Balloon 7i EQ - 2018"
        ],
        [
         "Lolita",
         1413,
         56,
         4,
         "Kali",
         "Rowlett Bikes",
         "\"Electra Under-The-Sea 1 16\"\" - 2018\""
        ],
        [
         "Cinthia",
         1416,
         566,
         4,
         "Kali",
         "Rowlett Bikes",
         "Haro Shredder 20 - 2017"
        ],
        [
         "Cinthia",
         1416,
         566,
         4,
         "Kali",
         "Rowlett Bikes",
         "Electra Townie Commute 8D Ladies' - 2018"
        ],
        [
         "Cinthia",
         1416,
         566,
         4,
         "Kali",
         "Rowlett Bikes",
         "Trek XM700+ - 2018"
        ],
        [
         "Jonell",
         1422,
         599,
         4,
         "Kali",
         "Rowlett Bikes",
         "Electra Townie Original 21D EQ Ladies' - 2018"
        ],
        [
         "Jonell",
         1422,
         599,
         4,
         "Kali",
         "Rowlett Bikes",
         "Trek Domane AL 3 Women's - 2018"
        ],
        [
         "Jonell",
         1422,
         599,
         4,
         "Kali",
         "Rowlett Bikes",
         "Sun Bicycles Brickell Tandem CB - 2017"
        ],
        [
         "Julianne",
         1440,
         859,
         4,
         "Kali",
         "Rowlett Bikes",
         "Sun Bicycles Revolutions 24 - Girl's - 2017"
        ],
        [
         "Julianne",
         1440,
         859,
         4,
         "Kali",
         "Rowlett Bikes",
         "Trek Domane AL 2 - 2018"
        ],
        [
         "Julianne",
         1440,
         859,
         4,
         "Kali",
         "Rowlett Bikes",
         "Trek CrossRip+ - 2018"
        ],
        [
         "Julianne",
         1440,
         859,
         4,
         "Kali",
         "Rowlett Bikes",
         "Sun Bicycles Cruz 7 - Women's - 2017"
        ],
        [
         "Julianne",
         1440,
         859,
         4,
         "Kali",
         "Rowlett Bikes",
         "Trek Marlin 7 - 2017/2018"
        ],
        [
         "Orval",
         1441,
         982,
         4,
         "Kali",
         "Rowlett Bikes",
         "Haro SR 1.3 - 2017"
        ],
        [
         "Orval",
         1441,
         982,
         4,
         "Kali",
         "Rowlett Bikes",
         "Electra Townie Commute 8D Ladies' - 2018"
        ],
        [
         "Orval",
         1441,
         982,
         4,
         "Kali",
         "Rowlett Bikes",
         "Surly Ice Cream Truck Frameset - 2016"
        ],
        [
         "Ping",
         1458,
         1029,
         4,
         "Kali",
         "Rowlett Bikes",
         "Sun Bicycles Biscayne Tandem CB - 2017"
        ],
        [
         "Ping",
         1458,
         1029,
         4,
         "Kali",
         "Rowlett Bikes",
         "Electra Townie Original 21D - 2016"
        ],
        [
         "Ping",
         1458,
         1029,
         4,
         "Kali",
         "Rowlett Bikes",
         "Sun Bicycles Streamway 7 - 2017"
        ],
        [
         "Ping",
         1458,
         1029,
         4,
         "Kali",
         "Rowlett Bikes",
         "\"Electra Treasure 1 20\"\" - 2018\""
        ],
        [
         "Alisia",
         1469,
         1135,
         4,
         "Kali",
         "Rowlett Bikes",
         "Electra Townie 3i EQ (20-inch) - Boys' - 2017"
        ],
        [
         "Alisia",
         1469,
         1135,
         4,
         "Kali",
         "Rowlett Bikes",
         "Trek Domane SL 5 Disc - 2018"
        ],
        [
         "Alisia",
         1469,
         1135,
         4,
         "Kali",
         "Rowlett Bikes",
         "Electra Relic 3i - 2018"
        ],
        [
         "Alisia",
         1469,
         1135,
         4,
         "Kali",
         "Rowlett Bikes",
         "Electra Glam Punk 3i Ladies' - 2017"
        ],
        [
         "Bobbie",
         1493,
         64,
         2,
         "Kali",
         "Rowlett Bikes",
         "Electra Cruiser Lux 1 Ladies' - 2018"
        ],
        [
         "Jayne",
         1512,
         68,
         1,
         "Layla",
         "Rowlett Bikes",
         "Electra Straight 8 3i - 2018"
        ],
        [
         "Elinore",
         1515,
         61,
         1,
         "Layla",
         "Rowlett Bikes",
         "Trek CrossRip 1 - 2018"
        ],
        [
         "Elinore",
         1515,
         61,
         1,
         "Layla",
         "Rowlett Bikes",
         "Trek Fuel EX 9.8 29 - 2017"
        ],
        [
         "Elinore",
         1515,
         61,
         1,
         "Layla",
         "Rowlett Bikes",
         "Electra Townie Commute 27D Ladies - 2018"
        ],
        [
         "Elinore",
         1515,
         61,
         1,
         "Layla",
         "Rowlett Bikes",
         "Trek Powerfly 5 Women's - 2018"
        ],
        [
         "Elinore",
         1515,
         61,
         1,
         "Layla",
         "Rowlett Bikes",
         "Surly Big Dummy Frameset - 2017"
        ],
        [
         "Lorrie",
         1520,
         66,
         2,
         "Kali",
         "Rowlett Bikes",
         "Strider Classic 12 Balance Bike - 2018"
        ],
        [
         "Lorrie",
         1520,
         66,
         2,
         "Kali",
         "Rowlett Bikes",
         "Electra Townie Commute 27D Ladies - 2018"
        ],
        [
         "Lorrie",
         1520,
         66,
         2,
         "Kali",
         "Rowlett Bikes",
         "Trek XM700+ Lowstep - 2018"
        ],
        [
         "Lorrie",
         1520,
         66,
         2,
         "Kali",
         "Rowlett Bikes",
         "Trek CrossRip+ - 2018"
        ],
        [
         "Lashawn",
         1527,
         13,
         2,
         "Layla",
         "Rowlett Bikes",
         "Trek Emonda S 5 - 2017"
        ],
        [
         "Lashawn",
         1527,
         13,
         2,
         "Layla",
         "Rowlett Bikes",
         "Sun Bicycles Streamway 3 - 2017"
        ],
        [
         "Lashawn",
         1527,
         13,
         2,
         "Layla",
         "Rowlett Bikes",
         "Surly Wednesday Frameset - 2017"
        ],
        [
         "Aleta",
         1528,
         20,
         1,
         "Kali",
         "Rowlett Bikes",
         "Electra Cruiser Lux 1 - 2016/2018"
        ],
        [
         "Cleotilde",
         1529,
         50,
         1,
         "Kali",
         "Rowlett Bikes",
         "Trek Silque SLR 7 Women's - 2017"
        ],
        [
         "Cleotilde",
         1529,
         50,
         1,
         "Kali",
         "Rowlett Bikes",
         "Electra Girl's Hawaii 1 (20-inch) - 2015/2016"
        ],
        [
         "Merlene",
         1539,
         116,
         1,
         "Layla",
         "Rowlett Bikes",
         "Electra Townie Original 21D - 2016"
        ],
        [
         "Merlene",
         1539,
         116,
         1,
         "Layla",
         "Rowlett Bikes",
         "Surly Ice Cream Truck Frameset - 2016"
        ],
        [
         "Keri",
         1563,
         77,
         2,
         "Layla",
         "Rowlett Bikes",
         "Trek XM700+ Lowstep - 2018"
        ],
        [
         "Garry",
         1572,
         14,
         1,
         "Layla",
         "Rowlett Bikes",
         "Electra Townie Original 21D EQ - 2017/2018"
        ],
        [
         "Garry",
         1572,
         14,
         1,
         "Layla",
         "Rowlett Bikes",
         "Trek Fuel EX 8 29 - 2018"
        ],
        [
         "Garry",
         1572,
         14,
         1,
         "Layla",
         "Rowlett Bikes",
         "Electra Townie Commute Go! - 2018"
        ],
        [
         "Garry",
         1572,
         14,
         1,
         "Layla",
         "Rowlett Bikes",
         "Electra Super Moto 8i - 2018"
        ],
        [
         "Tobie",
         1596,
         21,
         2,
         "Kali",
         "Rowlett Bikes",
         "Pure Cycles Western 3-Speed - Women's - 2015/2016"
        ],
        [
         "Tobie",
         1596,
         21,
         2,
         "Kali",
         "Rowlett Bikes",
         "Trek Precaliber 24 (21-Speed) - Girls - 2017"
        ],
        [
         "Lolita",
         1597,
         56,
         1,
         "Layla",
         "Rowlett Bikes",
         "Trek Domane S 5 Disc - 2017"
        ],
        [
         "Lolita",
         1597,
         56,
         1,
         "Layla",
         "Rowlett Bikes",
         "Trek Madone 9 Frameset - 2018"
        ],
        [
         "Mozelle",
         1601,
         43,
         1,
         "Kali",
         "Rowlett Bikes",
         "Trek Domane AL 3 Women's - 2018"
        ],
        [
         "Mozelle",
         1601,
         43,
         1,
         "Kali",
         "Rowlett Bikes",
         "Trek Slash 8 27.5 - 2016"
        ],
        [
         "Mozelle",
         1601,
         43,
         1,
         "Kali",
         "Rowlett Bikes",
         "Electra Cruiser 1 Ladies' - 2018"
        ],
        [
         "Mozelle",
         1601,
         43,
         1,
         "Kali",
         "Rowlett Bikes",
         "Surly Straggler - 2016"
        ],
        [
         "Mozelle",
         1601,
         43,
         1,
         "Kali",
         "Rowlett Bikes",
         "Trek Marlin 6 - 2018"
        ],
        [
         "Robena",
         1605,
         123,
         3,
         "Kali",
         "Rowlett Bikes",
         "Trek X-Caliber 8 - 2017"
        ],
        [
         "Robena",
         1605,
         123,
         3,
         "Kali",
         "Rowlett Bikes",
         "Electra Townie Balloon 7i EQ - 2018"
        ],
        [
         "Robena",
         1605,
         123,
         3,
         "Kali",
         "Rowlett Bikes",
         "Trek Procal AL Frameset - 2018"
        ],
        [
         "Robena",
         1605,
         123,
         3,
         "Kali",
         "Rowlett Bikes",
         "Trek CrossRip+ - 2018"
        ],
        [
         "Robena",
         1605,
         123,
         3,
         "Kali",
         "Rowlett Bikes",
         "Sun Bicycles Biscayne Tandem 7 - 2017"
        ],
        [
         "Thalia",
         1606,
         119,
         3,
         "Kali",
         "Rowlett Bikes",
         "Trek Precaliber 16 Girl's - 2018"
        ],
        [
         "Thalia",
         1606,
         119,
         3,
         "Kali",
         "Rowlett Bikes",
         "Electra Townie Original 3i EQ - 2017/2018"
        ],
        [
         "Dorthey",
         1614,
         135,
         3,
         "Kali",
         "Rowlett Bikes",
         "Electra Cruiser 1 - 2016/2017/2018"
        ],
        [
         "Dorthey",
         1614,
         135,
         3,
         "Kali",
         "Rowlett Bikes",
         "Trek Emonda ALR 6 - 2018"
        ],
        [
         "Dorthey",
         1614,
         135,
         3,
         "Kali",
         "Rowlett Bikes",
         "Surly Krampus - 2018"
        ],
        [
         "Sarita",
         1615,
         136,
         3,
         "Kali",
         "Rowlett Bikes",
         "Trek Domane SL 5 Disc - 2018"
        ],
        [
         "Sarita",
         1615,
         136,
         3,
         "Kali",
         "Rowlett Bikes",
         "Electra Tiger Shark 3i - 2018"
        ],
        [
         "Sarita",
         1615,
         136,
         3,
         "Kali",
         "Rowlett Bikes",
         "Trek Verve+ Lowstep - 2018"
        ]
       ],
       "datasetInfos": [],
       "dbfsResultPath": null,
       "isJsonSchema": true,
       "metadata": {},
       "overflow": false,
       "plotOptions": {
        "customPlotOptions": {},
        "displayType": "table",
        "pivotAggregation": null,
        "pivotColumns": null,
        "xColumns": null,
        "yColumns": null
       },
       "removedWidgets": [],
       "schema": [
        {
         "metadata": "{}",
         "name": "nome_cliente",
         "type": "\"string\""
        },
        {
         "metadata": "{}",
         "name": "order_id",
         "type": "\"integer\""
        },
        {
         "metadata": "{}",
         "name": "customer_id",
         "type": "\"integer\""
        },
        {
         "metadata": "{}",
         "name": "order_status",
         "type": "\"integer\""
        },
        {
         "metadata": "{}",
         "name": "nome_atendente",
         "type": "\"string\""
        },
        {
         "metadata": "{}",
         "name": "nome_loja",
         "type": "\"string\""
        },
        {
         "metadata": "{}",
         "name": "product_name",
         "type": "\"string\""
        }
       ],
       "type": "table"
      }
     },
     "output_type": "display_data"
    }
   ],
   "source": [
    "%sql\n",
    "-- verificar quais produtos, quem foi o atentende e qual foi a loja houve a compra para o estado do texas\n",
    "SELECT customers.first_name as nome_cliente, orders.order_id, orders.customer_id, orders.order_status, staffs.first_name as nome_atendente, stores.store_name as nome_loja, products.product_name\n",
    "FROM customers\n",
    "INNER JOIN orders ON customers.customer_id = orders.customer_id\n",
    "INNER JOIN staffs ON  staffs.staff_id = orders.staff_id\n",
    "INNER JOIN stores ON  stores.store_id = orders.store_id\n",
    "INNER JOIN order_items ON  order_items.order_id = orders.order_id\n",
    "INNER JOIN products ON  products.product_id = order_items.product_id\n",
    "WHERE stores.store_id IN (SELECT store_id FROM stores WHERE stores.state LIKE 'TX');"
   ]
  }
 ],
 "metadata": {
  "application/vnd.databricks.v1+notebook": {
   "dashboards": [],
   "environmentMetadata": null,
   "language": "python",
   "notebookMetadata": {
    "mostRecentlyExecutedCommandWithImplicitDF": {
     "commandId": -1,
     "dataframes": [
      "_sqldf"
     ]
    },
    "pythonIndentUnit": 4
   },
   "notebookName": "MVP-notebook",
   "widgets": {}
  }
 },
 "nbformat": 4,
 "nbformat_minor": 0
}
